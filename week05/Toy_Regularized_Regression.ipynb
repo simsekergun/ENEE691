{
  "cells": [
    {
      "cell_type": "markdown",
      "metadata": {
        "id": "view-in-github",
        "colab_type": "text"
      },
      "source": [
        "<a href=\"https://colab.research.google.com/github/simsekergun/ENEE691/blob/main/week05/Toy_Regularized_Regression.ipynb\" target=\"_parent\"><img src=\"https://colab.research.google.com/assets/colab-badge.svg\" alt=\"Open In Colab\"/></a>"
      ]
    },
    {
      "cell_type": "markdown",
      "metadata": {
        "id": "3tzntv5hEI-u"
      },
      "source": [
        "# $\\color{ForestGreen}{\\text{A Toy Model for Regularized Regression}}$\n",
        "\n",
        "As our first example, we construct a toy dataset. This dataset has only one feature $x$, and one target variable $y$. In the next step, we apply polynomial regression (without regularization) to this dataset to predict the target $y$. Finally, we add Ridge and Lasso regularizations to the regression analysis and compare the results. \n",
        "\n",
        "The toy dataset is generated based on the model $\\boxed{y=x\\,\\cos x}$ for $0\\leq x\\leq4$. \n",
        "\n",
        "**Note:** Since this example is a toy example and is solely used for educational purposes, we do not split the data into train and test, and simply apply regression to the whole dataset.  "
      ]
    },
    {
      "cell_type": "code",
      "execution_count": 1,
      "metadata": {
        "colab": {
          "base_uri": "https://localhost:8080/",
          "height": 206
        },
        "id": "qnaGdejZEI-w",
        "outputId": "bb0e8dc4-cf02-42b2-8ee3-c78a0a5ff3a9"
      },
      "outputs": [
        {
          "output_type": "execute_result",
          "data": {
            "text/plain": [
              "          x         y\n",
              "0  0.000000  0.536589\n",
              "1  0.087266  0.217887\n",
              "2  0.174533  0.200831\n",
              "3  0.261799 -0.306169\n",
              "4  0.349066  0.244798"
            ],
            "text/html": [
              "\n",
              "  <div id=\"df-1b1a1522-2ece-4039-a1a6-d57fae88ce27\">\n",
              "    <div class=\"colab-df-container\">\n",
              "      <div>\n",
              "<style scoped>\n",
              "    .dataframe tbody tr th:only-of-type {\n",
              "        vertical-align: middle;\n",
              "    }\n",
              "\n",
              "    .dataframe tbody tr th {\n",
              "        vertical-align: top;\n",
              "    }\n",
              "\n",
              "    .dataframe thead th {\n",
              "        text-align: right;\n",
              "    }\n",
              "</style>\n",
              "<table border=\"1\" class=\"dataframe\">\n",
              "  <thead>\n",
              "    <tr style=\"text-align: right;\">\n",
              "      <th></th>\n",
              "      <th>x</th>\n",
              "      <th>y</th>\n",
              "    </tr>\n",
              "  </thead>\n",
              "  <tbody>\n",
              "    <tr>\n",
              "      <th>0</th>\n",
              "      <td>0.000000</td>\n",
              "      <td>0.536589</td>\n",
              "    </tr>\n",
              "    <tr>\n",
              "      <th>1</th>\n",
              "      <td>0.087266</td>\n",
              "      <td>0.217887</td>\n",
              "    </tr>\n",
              "    <tr>\n",
              "      <th>2</th>\n",
              "      <td>0.174533</td>\n",
              "      <td>0.200831</td>\n",
              "    </tr>\n",
              "    <tr>\n",
              "      <th>3</th>\n",
              "      <td>0.261799</td>\n",
              "      <td>-0.306169</td>\n",
              "    </tr>\n",
              "    <tr>\n",
              "      <th>4</th>\n",
              "      <td>0.349066</td>\n",
              "      <td>0.244798</td>\n",
              "    </tr>\n",
              "  </tbody>\n",
              "</table>\n",
              "</div>\n",
              "      <button class=\"colab-df-convert\" onclick=\"convertToInteractive('df-1b1a1522-2ece-4039-a1a6-d57fae88ce27')\"\n",
              "              title=\"Convert this dataframe to an interactive table.\"\n",
              "              style=\"display:none;\">\n",
              "        \n",
              "  <svg xmlns=\"http://www.w3.org/2000/svg\" height=\"24px\"viewBox=\"0 0 24 24\"\n",
              "       width=\"24px\">\n",
              "    <path d=\"M0 0h24v24H0V0z\" fill=\"none\"/>\n",
              "    <path d=\"M18.56 5.44l.94 2.06.94-2.06 2.06-.94-2.06-.94-.94-2.06-.94 2.06-2.06.94zm-11 1L8.5 8.5l.94-2.06 2.06-.94-2.06-.94L8.5 2.5l-.94 2.06-2.06.94zm10 10l.94 2.06.94-2.06 2.06-.94-2.06-.94-.94-2.06-.94 2.06-2.06.94z\"/><path d=\"M17.41 7.96l-1.37-1.37c-.4-.4-.92-.59-1.43-.59-.52 0-1.04.2-1.43.59L10.3 9.45l-7.72 7.72c-.78.78-.78 2.05 0 2.83L4 21.41c.39.39.9.59 1.41.59.51 0 1.02-.2 1.41-.59l7.78-7.78 2.81-2.81c.8-.78.8-2.07 0-2.86zM5.41 20L4 18.59l7.72-7.72 1.47 1.35L5.41 20z\"/>\n",
              "  </svg>\n",
              "      </button>\n",
              "      \n",
              "  <style>\n",
              "    .colab-df-container {\n",
              "      display:flex;\n",
              "      flex-wrap:wrap;\n",
              "      gap: 12px;\n",
              "    }\n",
              "\n",
              "    .colab-df-convert {\n",
              "      background-color: #E8F0FE;\n",
              "      border: none;\n",
              "      border-radius: 50%;\n",
              "      cursor: pointer;\n",
              "      display: none;\n",
              "      fill: #1967D2;\n",
              "      height: 32px;\n",
              "      padding: 0 0 0 0;\n",
              "      width: 32px;\n",
              "    }\n",
              "\n",
              "    .colab-df-convert:hover {\n",
              "      background-color: #E2EBFA;\n",
              "      box-shadow: 0px 1px 2px rgba(60, 64, 67, 0.3), 0px 1px 3px 1px rgba(60, 64, 67, 0.15);\n",
              "      fill: #174EA6;\n",
              "    }\n",
              "\n",
              "    [theme=dark] .colab-df-convert {\n",
              "      background-color: #3B4455;\n",
              "      fill: #D2E3FC;\n",
              "    }\n",
              "\n",
              "    [theme=dark] .colab-df-convert:hover {\n",
              "      background-color: #434B5C;\n",
              "      box-shadow: 0px 1px 3px 1px rgba(0, 0, 0, 0.15);\n",
              "      filter: drop-shadow(0px 1px 2px rgba(0, 0, 0, 0.3));\n",
              "      fill: #FFFFFF;\n",
              "    }\n",
              "  </style>\n",
              "\n",
              "      <script>\n",
              "        const buttonEl =\n",
              "          document.querySelector('#df-1b1a1522-2ece-4039-a1a6-d57fae88ce27 button.colab-df-convert');\n",
              "        buttonEl.style.display =\n",
              "          google.colab.kernel.accessAllowed ? 'block' : 'none';\n",
              "\n",
              "        async function convertToInteractive(key) {\n",
              "          const element = document.querySelector('#df-1b1a1522-2ece-4039-a1a6-d57fae88ce27');\n",
              "          const dataTable =\n",
              "            await google.colab.kernel.invokeFunction('convertToInteractive',\n",
              "                                                     [key], {});\n",
              "          if (!dataTable) return;\n",
              "\n",
              "          const docLinkHtml = 'Like what you see? Visit the ' +\n",
              "            '<a target=\"_blank\" href=https://colab.research.google.com/notebooks/data_table.ipynb>data table notebook</a>'\n",
              "            + ' to learn more about interactive tables.';\n",
              "          element.innerHTML = '';\n",
              "          dataTable['output_type'] = 'display_data';\n",
              "          await google.colab.output.renderOutput(dataTable, element);\n",
              "          const docLink = document.createElement('div');\n",
              "          docLink.innerHTML = docLinkHtml;\n",
              "          element.appendChild(docLink);\n",
              "        }\n",
              "      </script>\n",
              "    </div>\n",
              "  </div>\n",
              "  "
            ]
          },
          "metadata": {},
          "execution_count": 1
        }
      ],
      "source": [
        "import numpy as np     # Import numpy\n",
        "import pandas as pd    # Import pandas\n",
        "\n",
        "np.random.seed(3)      # Fix a seed for reproducibility purposes\n",
        "\n",
        "x = np.array([j*np.pi/180 for j in range(0, 230, 5)])   # Create a numpy array as the feature 'x'\n",
        "\n",
        "# Create the target 'y' and add some noise chosen from a normal distribution with mean 0 and std 0.3\n",
        "y = x*np.cos(x) + np.random.normal(0, 0.3, x.shape[0])  \n",
        "\n",
        "# Construct a dataframe with two columns 'x' and 'y'\n",
        "df = pd.DataFrame(np.column_stack([x, y]), columns=['x', 'y'])\n",
        "\n",
        "df.head()              # Display the first few rows of 'df'"
      ]
    },
    {
      "cell_type": "code",
      "execution_count": 2,
      "metadata": {
        "colab": {
          "base_uri": "https://localhost:8080/",
          "height": 334
        },
        "id": "3UUOwQ4CEI-x",
        "outputId": "e507e6a3-7cc1-4880-9cc1-820117d31388"
      },
      "outputs": [
        {
          "output_type": "display_data",
          "data": {
            "text/plain": [
              "<Figure size 504x360 with 1 Axes>"
            ],
            "image/png": "[encoded data removed]"
          },
          "metadata": {
            "needs_background": "light"
          }
        }
      ],
      "source": [
        "import matplotlib.pyplot as plt    # Import matplotlib \n",
        " \n",
        "df.plot.scatter(x='x', y='y', color='crimson', figsize=(7,5))   # Scatter plot of '(x, y)'\n",
        "plt.show()"
      ]
    },
    {
      "cell_type": "code",
      "execution_count": 3,
      "metadata": {
        "colab": {
          "base_uri": "https://localhost:8080/"
        },
        "id": "b86mIl3rEI-x",
        "outputId": "e6c0ca6c-7e8b-449e-947d-4c0d4a1e8225"
      },
      "outputs": [
        {
          "output_type": "stream",
          "name": "stdout",
          "text": [
            "['x^2', 'x^3', 'x^4', 'x^5', 'x^6', 'x^7', 'x^8', 'x^9', 'x^10']\n"
          ]
        }
      ],
      "source": [
        "# We now need to construct powers of 'x' to be able to perform polynomial regression\n",
        "\n",
        "power_col = ['x^%d' %(i) for i in range(2, 11)]    # Create name for the power columns\n",
        "print(power_col)"
      ]
    },
    {
      "cell_type": "code",
      "source": [
        "for col in power_col:\n",
        "    power = int(col.split('^')[1])   # Extract 'power'\n",
        "    df[col] = df['x']**power         # Construct the column 'x^power' \n",
        "    \n",
        "df = df[['x'] + power_col + ['y']]   # Change the order of columns (put 'y' at the end)"
      ],
      "metadata": {
        "id": "bjFzKp1uEnkt"
      },
      "execution_count": 4,
      "outputs": []
    },
    {
      "cell_type": "code",
      "source": [
        "df.head()     # Display dataframe"
      ],
      "metadata": {
        "colab": {
          "base_uri": "https://localhost:8080/",
          "height": 206
        },
        "id": "m45zsUcPEkiD",
        "outputId": "b39a12d5-30b9-406b-8777-de11c459a490"
      },
      "execution_count": 5,
      "outputs": [
        {
          "output_type": "execute_result",
          "data": {
            "text/plain": [
              "          x       x^2       x^3       x^4       x^5           x^6  \\\n",
              "0  0.000000  0.000000  0.000000  0.000000  0.000000  0.000000e+00   \n",
              "1  0.087266  0.007615  0.000665  0.000058  0.000005  4.416561e-07   \n",
              "2  0.174533  0.030462  0.005317  0.000928  0.000162  2.826599e-05   \n",
              "3  0.261799  0.068539  0.017943  0.004698  0.001230  3.219673e-04   \n",
              "4  0.349066  0.121847  0.042533  0.014847  0.005182  1.809023e-03   \n",
              "\n",
              "            x^7           x^8           x^9          x^10         y  \n",
              "0  0.000000e+00  0.000000e+00  0.000000e+00  0.000000e+00  0.536589  \n",
              "1  3.854177e-08  3.363404e-09  2.935123e-10  2.561378e-11  0.217887  \n",
              "2  4.933346e-06  8.610313e-07  1.502783e-07  2.622851e-08  0.200831  \n",
              "3  8.429084e-05  2.206729e-05  5.777203e-06  1.512468e-06 -0.306169  \n",
              "4  6.314683e-04  2.204240e-04  7.694250e-05  2.685800e-05  0.244798  "
            ],
            "text/html": [
              "\n",
              "  <div id=\"df-76c9bf2d-72bc-494b-8dc1-e2eab9f2fe55\">\n",
              "    <div class=\"colab-df-container\">\n",
              "      <div>\n",
              "<style scoped>\n",
              "    .dataframe tbody tr th:only-of-type {\n",
              "        vertical-align: middle;\n",
              "    }\n",
              "\n",
              "    .dataframe tbody tr th {\n",
              "        vertical-align: top;\n",
              "    }\n",
              "\n",
              "    .dataframe thead th {\n",
              "        text-align: right;\n",
              "    }\n",
              "</style>\n",
              "<table border=\"1\" class=\"dataframe\">\n",
              "  <thead>\n",
              "    <tr style=\"text-align: right;\">\n",
              "      <th></th>\n",
              "      <th>x</th>\n",
              "      <th>x^2</th>\n",
              "      <th>x^3</th>\n",
              "      <th>x^4</th>\n",
              "      <th>x^5</th>\n",
              "      <th>x^6</th>\n",
              "      <th>x^7</th>\n",
              "      <th>x^8</th>\n",
              "      <th>x^9</th>\n",
              "      <th>x^10</th>\n",
              "      <th>y</th>\n",
              "    </tr>\n",
              "  </thead>\n",
              "  <tbody>\n",
              "    <tr>\n",
              "      <th>0</th>\n",
              "      <td>0.000000</td>\n",
              "      <td>0.000000</td>\n",
              "      <td>0.000000</td>\n",
              "      <td>0.000000</td>\n",
              "      <td>0.000000</td>\n",
              "      <td>0.000000e+00</td>\n",
              "      <td>0.000000e+00</td>\n",
              "      <td>0.000000e+00</td>\n",
              "      <td>0.000000e+00</td>\n",
              "      <td>0.000000e+00</td>\n",
              "      <td>0.536589</td>\n",
              "    </tr>\n",
              "    <tr>\n",
              "      <th>1</th>\n",
              "      <td>0.087266</td>\n",
              "      <td>0.007615</td>\n",
              "      <td>0.000665</td>\n",
              "      <td>0.000058</td>\n",
              "      <td>0.000005</td>\n",
              "      <td>4.416561e-07</td>\n",
              "      <td>3.854177e-08</td>\n",
              "      <td>3.363404e-09</td>\n",
              "      <td>2.935123e-10</td>\n",
              "      <td>2.561378e-11</td>\n",
              "      <td>0.217887</td>\n",
              "    </tr>\n",
              "    <tr>\n",
              "      <th>2</th>\n",
              "      <td>0.174533</td>\n",
              "      <td>0.030462</td>\n",
              "      <td>0.005317</td>\n",
              "      <td>0.000928</td>\n",
              "      <td>0.000162</td>\n",
              "      <td>2.826599e-05</td>\n",
              "      <td>4.933346e-06</td>\n",
              "      <td>8.610313e-07</td>\n",
              "      <td>1.502783e-07</td>\n",
              "      <td>2.622851e-08</td>\n",
              "      <td>0.200831</td>\n",
              "    </tr>\n",
              "    <tr>\n",
              "      <th>3</th>\n",
              "      <td>0.261799</td>\n",
              "      <td>0.068539</td>\n",
              "      <td>0.017943</td>\n",
              "      <td>0.004698</td>\n",
              "      <td>0.001230</td>\n",
              "      <td>3.219673e-04</td>\n",
              "      <td>8.429084e-05</td>\n",
              "      <td>2.206729e-05</td>\n",
              "      <td>5.777203e-06</td>\n",
              "      <td>1.512468e-06</td>\n",
              "      <td>-0.306169</td>\n",
              "    </tr>\n",
              "    <tr>\n",
              "      <th>4</th>\n",
              "      <td>0.349066</td>\n",
              "      <td>0.121847</td>\n",
              "      <td>0.042533</td>\n",
              "      <td>0.014847</td>\n",
              "      <td>0.005182</td>\n",
              "      <td>1.809023e-03</td>\n",
              "      <td>6.314683e-04</td>\n",
              "      <td>2.204240e-04</td>\n",
              "      <td>7.694250e-05</td>\n",
              "      <td>2.685800e-05</td>\n",
              "      <td>0.244798</td>\n",
              "    </tr>\n",
              "  </tbody>\n",
              "</table>\n",
              "</div>\n",
              "      <button class=\"colab-df-convert\" onclick=\"convertToInteractive('df-76c9bf2d-72bc-494b-8dc1-e2eab9f2fe55')\"\n",
              "              title=\"Convert this dataframe to an interactive table.\"\n",
              "              style=\"display:none;\">\n",
              "        \n",
              "  <svg xmlns=\"http://www.w3.org/2000/svg\" height=\"24px\"viewBox=\"0 0 24 24\"\n",
              "       width=\"24px\">\n",
              "    <path d=\"M0 0h24v24H0V0z\" fill=\"none\"/>\n",
              "    <path d=\"M18.56 5.44l.94 2.06.94-2.06 2.06-.94-2.06-.94-.94-2.06-.94 2.06-2.06.94zm-11 1L8.5 8.5l.94-2.06 2.06-.94-2.06-.94L8.5 2.5l-.94 2.06-2.06.94zm10 10l.94 2.06.94-2.06 2.06-.94-2.06-.94-.94-2.06-.94 2.06-2.06.94z\"/><path d=\"M17.41 7.96l-1.37-1.37c-.4-.4-.92-.59-1.43-.59-.52 0-1.04.2-1.43.59L10.3 9.45l-7.72 7.72c-.78.78-.78 2.05 0 2.83L4 21.41c.39.39.9.59 1.41.59.51 0 1.02-.2 1.41-.59l7.78-7.78 2.81-2.81c.8-.78.8-2.07 0-2.86zM5.41 20L4 18.59l7.72-7.72 1.47 1.35L5.41 20z\"/>\n",
              "  </svg>\n",
              "      </button>\n",
              "      \n",
              "  <style>\n",
              "    .colab-df-container {\n",
              "      display:flex;\n",
              "      flex-wrap:wrap;\n",
              "      gap: 12px;\n",
              "    }\n",
              "\n",
              "    .colab-df-convert {\n",
              "      background-color: #E8F0FE;\n",
              "      border: none;\n",
              "      border-radius: 50%;\n",
              "      cursor: pointer;\n",
              "      display: none;\n",
              "      fill: #1967D2;\n",
              "      height: 32px;\n",
              "      padding: 0 0 0 0;\n",
              "      width: 32px;\n",
              "    }\n",
              "\n",
              "    .colab-df-convert:hover {\n",
              "      background-color: #E2EBFA;\n",
              "      box-shadow: 0px 1px 2px rgba(60, 64, 67, 0.3), 0px 1px 3px 1px rgba(60, 64, 67, 0.15);\n",
              "      fill: #174EA6;\n",
              "    }\n",
              "\n",
              "    [theme=dark] .colab-df-convert {\n",
              "      background-color: #3B4455;\n",
              "      fill: #D2E3FC;\n",
              "    }\n",
              "\n",
              "    [theme=dark] .colab-df-convert:hover {\n",
              "      background-color: #434B5C;\n",
              "      box-shadow: 0px 1px 3px 1px rgba(0, 0, 0, 0.15);\n",
              "      filter: drop-shadow(0px 1px 2px rgba(0, 0, 0, 0.3));\n",
              "      fill: #FFFFFF;\n",
              "    }\n",
              "  </style>\n",
              "\n",
              "      <script>\n",
              "        const buttonEl =\n",
              "          document.querySelector('#df-76c9bf2d-72bc-494b-8dc1-e2eab9f2fe55 button.colab-df-convert');\n",
              "        buttonEl.style.display =\n",
              "          google.colab.kernel.accessAllowed ? 'block' : 'none';\n",
              "\n",
              "        async function convertToInteractive(key) {\n",
              "          const element = document.querySelector('#df-76c9bf2d-72bc-494b-8dc1-e2eab9f2fe55');\n",
              "          const dataTable =\n",
              "            await google.colab.kernel.invokeFunction('convertToInteractive',\n",
              "                                                     [key], {});\n",
              "          if (!dataTable) return;\n",
              "\n",
              "          const docLinkHtml = 'Like what you see? Visit the ' +\n",
              "            '<a target=\"_blank\" href=https://colab.research.google.com/notebooks/data_table.ipynb>data table notebook</a>'\n",
              "            + ' to learn more about interactive tables.';\n",
              "          element.innerHTML = '';\n",
              "          dataTable['output_type'] = 'display_data';\n",
              "          await google.colab.output.renderOutput(dataTable, element);\n",
              "          const docLink = document.createElement('div');\n",
              "          docLink.innerHTML = docLinkHtml;\n",
              "          element.appendChild(docLink);\n",
              "        }\n",
              "      </script>\n",
              "    </div>\n",
              "  </div>\n",
              "  "
            ]
          },
          "metadata": {},
          "execution_count": 5
        }
      ]
    },
    {
      "cell_type": "markdown",
      "metadata": {
        "id": "beYAl03JEI-y"
      },
      "source": [
        "## $\\color{ForestGreen}{\\text{Linear Regression without Regularization}}$\n",
        "\n",
        "We define a function $\\textsf{do_linear_reg}$ that performs regression of above dataset $\\textsf{df}$ at a specified degree $\\textsf{power}$. "
      ]
    },
    {
      "cell_type": "code",
      "source": [
        "from sklearn.linear_model import LinearRegression  # Import 'LinearRegression' from sklearn"
      ],
      "metadata": {
        "id": "c4OpSS7UFN9e"
      },
      "execution_count": 6,
      "outputs": []
    },
    {
      "cell_type": "code",
      "execution_count": 7,
      "metadata": {
        "id": "d42eHRnBEI-y"
      },
      "outputs": [],
      "source": [
        "def do_linear_reg(df, power):     # Defining a function to do polynomial regression on 'df'\n",
        "    cols = ['x']\n",
        "    if power > 1:\n",
        "        cols += ['x^%d' %(j) for j in range(2, power+1)]  # Considering colmuns up to 'power'+1\n",
        "    \n",
        "    X = df[cols].values     # Features of regression\n",
        "    y = df['y'].values      # Target of regression\n",
        "    \n",
        "    lin_reg = LinearRegression()  # Instantiate 'LinearRegression'\n",
        "    lin_reg.fit(X, y)             # Fit the data\n",
        "    \n",
        "    r2_score = lin_reg.score(X, y)   # Calculate R^2 score\n",
        "    coefs = lin_reg.coef_            # Calculate the coefficients/weights of regression\n",
        "    intercept = lin_reg.intercept_   # Calculate the intercept/bias term\n",
        "    \n",
        "    y_pred = lin_reg.predict(X)      # Predict the target\n",
        "    df['yhat'] = y_pred              # Add prediction to 'df'\n",
        "    plt.plot(df['x'], df['yhat'], color='green')       # Plot the prediction\n",
        "    plt.plot(df['x'], df['y'], '.', color='crimson')   # Plot the truth target\n",
        "    plt.gcf().set_size_inches(8, 5)\n",
        "    plt.show()\n",
        "    \n",
        "    return r2_score, coefs, intercept    # Spit out R^2-score, weights, bias term"
      ]
    },
    {
      "cell_type": "code",
      "execution_count": 8,
      "metadata": {
        "colab": {
          "base_uri": "https://localhost:8080/",
          "height": 407
        },
        "id": "AZ0v4o5bEI-y",
        "outputId": "c6c988ce-79d4-45f8-c734-368432c0fecc"
      },
      "outputs": [
        {
          "output_type": "display_data",
          "data": {
            "text/plain": [
              "<Figure size 576x360 with 1 Axes>"
            ],
            "image/png": "[encoded data removed]"
          },
          "metadata": {
            "needs_background": "light"
          }
        },
        {
          "output_type": "execute_result",
          "data": {
            "text/plain": [
              "(0.9730499031904771,\n",
              " array([-6.29571185e+00,  2.89348931e+01, -6.71520801e+01,  1.01133427e+02,\n",
              "        -9.94047993e+01,  6.19916573e+01, -2.40840194e+01,  5.62586282e+00,\n",
              "        -7.21606449e-01,  3.90059952e-02]),\n",
              " 0.5551844911345172)"
            ]
          },
          "metadata": {},
          "execution_count": 8
        }
      ],
      "source": [
        "do_linear_reg(df, 10)  # Perform regression up to power 11"
      ]
    },
    {
      "cell_type": "markdown",
      "metadata": {
        "id": "-1w906MzEI-y"
      },
      "source": [
        "## $\\color{ForestGreen}{\\text{Ridge Regression}}$\n",
        "\n",
        "We define a function $\\textsf{do_ridge_reg}$ that performs Ridge regression of above dataset $\\textsf{df}$ at a specified degree $\\textsf{power}$. "
      ]
    },
    {
      "cell_type": "code",
      "source": [
        "from sklearn.linear_model import Ridge   # Import 'Ridge' from sklearn"
      ],
      "metadata": {
        "id": "k2c1pIHKFatJ"
      },
      "execution_count": 9,
      "outputs": []
    },
    {
      "cell_type": "code",
      "execution_count": 10,
      "metadata": {
        "id": "3nP0uJQ7EI-z"
      },
      "outputs": [],
      "source": [
        "# Defining a function to do Ridge polynomial regression on 'df' with penalty factor 'a'\n",
        "def do_ridge_reg(df, power, a):   \n",
        "    cols = ['x']\n",
        "    if power > 1:\n",
        "        cols += ['x^%d' %(j) for j in range(2, power+1)]  # Considering colmuns up to 'power'+1\n",
        "    \n",
        "    X = df[cols].values    # Features of regression\n",
        "    y = df['y'].values     # Target of regression\n",
        "    \n",
        "    ridge = Ridge(alpha=a, max_iter=10000)  # Instantiate Ridge regression with penalty strength 'a'\n",
        "    ridge.fit(X, y)                        # Fit the data\n",
        "    \n",
        "    r2_score = ridge.score(X, y)           # Calculate R^2 score\n",
        "    coefs = ridge.coef_                    # Calculate the coefficients/weights of regression\n",
        "    intercept = ridge.intercept_           # Calculate the intercept/bias term\n",
        "    \n",
        "    y_pred = ridge.predict(X)              # Predict the target\n",
        "    df['yhat'] = y_pred                    # Add prediction to 'df'\n",
        "    plt.plot(df['x'], df['yhat'], color='green')      # Plot the prediction\n",
        "    plt.plot(df['x'], df['y'], '.', color='crimson')  # Plot the truth target\n",
        "    plt.gcf().set_size_inches(8, 5)\n",
        "    plt.show()\n",
        "    \n",
        "    return r2_score, coefs, intercept      # Spit out R^2-score, weights, bias term"
      ]
    },
    {
      "cell_type": "code",
      "execution_count": 11,
      "metadata": {
        "colab": {
          "base_uri": "https://localhost:8080/",
          "height": 389
        },
        "id": "xBszgREIEI-0",
        "outputId": "1d3aa51c-c1dc-44b7-9f3c-9acb8949e99f"
      },
      "outputs": [
        {
          "output_type": "display_data",
          "data": {
            "text/plain": [
              "<Figure size 576x360 with 1 Axes>"
            ],
            "image/png": "[encoded data removed]"
          },
          "metadata": {
            "needs_background": "light"
          }
        },
        {
          "output_type": "execute_result",
          "data": {
            "text/plain": [
              "(0.9608158063932598,\n",
              " array([-0.00055512, -0.00217727, -0.0049782 , -0.0089425 , -0.01309923,\n",
              "        -0.01415432, -0.00644623,  0.00890727, -0.00214406,  0.00014723]),\n",
              " 0.3272150689160278)"
            ]
          },
          "metadata": {},
          "execution_count": 11
        }
      ],
      "source": [
        "# Perform Ridge regression up to power 11 with penalty 100\n",
        "\n",
        "do_ridge_reg(df, 10, 10e2)  "
      ]
    },
    {
      "cell_type": "markdown",
      "metadata": {
        "id": "rKXRURnPEI-0"
      },
      "source": [
        "## $\\color{ForestGreen}{\\text{Lasso Regression}}$\n",
        "\n",
        "We define a function $\\textsf{do_lasso_reg}$ that performs Lasso regression of above dataset $\\textsf{df}$ at a specified degree $\\textsf{power}$."
      ]
    },
    {
      "cell_type": "code",
      "source": [
        "from sklearn.linear_model import Lasso    # Import 'Lasso' from sklearn"
      ],
      "metadata": {
        "id": "7otRqhdFF1TG"
      },
      "execution_count": 12,
      "outputs": []
    },
    {
      "cell_type": "code",
      "execution_count": 13,
      "metadata": {
        "id": "MbJINZxJEI-0"
      },
      "outputs": [],
      "source": [
        "# Defining a function to do Lasso polynomial regression on 'df' with penalty factor 'a'\n",
        "def do_lasso_reg(df, power, a):\n",
        "    cols = ['x']\n",
        "    if power > 1:\n",
        "        cols += ['x^%d' %(j) for j in range(2, power+1)]   # Considering colmuns up to 'power'+1\n",
        "    \n",
        "    X = df[cols].values       # Features of regression\n",
        "    y = df['y'].values        # Target of regression\n",
        "    \n",
        "    # Instantiate Lasso regression with penalty strength 'a'\n",
        "    lasso = Lasso(alpha=a, max_iter=10000)\n",
        "    lasso.fit(X, y)                  # Fit the data\n",
        "    \n",
        "    r2_score = lasso.score(X, y)     # Calculate R^2 score\n",
        "    coefs = lasso.coef_              # Calculate the coefficients/weights of regression\n",
        "    intercept = lasso.intercept_     # Calculate the intercept/bias term\n",
        "    \n",
        "    y_pred = lasso.predict(X)        # Predict the target\n",
        "    df['yhat'] = y_pred              # Add prediction to 'df'\n",
        "    plt.plot(df['x'], df['yhat'], color='green')         # Plot the prediction\n",
        "    plt.plot(df['x'], df['y'], '.', color='crimson')     # Plot the truth target\n",
        "    plt.gcf().set_size_inches(8, 5)\n",
        "    plt.show()\n",
        "    \n",
        "    return r2_score, coefs, intercept     # Spit out R^2-score, weights, bias term"
      ]
    },
    {
      "cell_type": "code",
      "execution_count": 14,
      "metadata": {
        "colab": {
          "base_uri": "https://localhost:8080/",
          "height": 462
        },
        "id": "XdsyLQcWEI-0",
        "outputId": "b0093194-1083-4021-e1b0-d06f161c0a6c"
      },
      "outputs": [
        {
          "output_type": "stream",
          "name": "stderr",
          "text": [
            "/usr/local/lib/python3.8/dist-packages/sklearn/linear_model/_coordinate_descent.py:631: ConvergenceWarning: Objective did not converge. You might want to increase the number of iterations, check the scale of the features or consider increasing regularisation. Duality gap: 1.953e+00, tolerance: 1.137e-02\n",
            "  model = cd_fast.enet_coordinate_descent(\n"
          ]
        },
        {
          "output_type": "display_data",
          "data": {
            "text/plain": [
              "<Figure size 576x360 with 1 Axes>"
            ],
            "image/png": "[encoded data removed]"
          },
          "metadata": {
            "needs_background": "light"
          }
        },
        {
          "output_type": "execute_result",
          "data": {
            "text/plain": [
              "(0.9663103510308396,\n",
              " array([ 6.38670727e-01,  4.72492743e-02, -3.67961331e-01,  3.45373177e-03,\n",
              "         9.64487673e-03,  1.98312411e-03,  2.88229435e-04,  1.69150934e-05,\n",
              "        -8.70935570e-06, -5.02165428e-06]),\n",
              " 0.12006575464332947)"
            ]
          },
          "metadata": {},
          "execution_count": 14
        }
      ],
      "source": [
        "# Perform Lasso regression up to power 11 with penalty 0.001\n",
        "\n",
        "do_lasso_reg(df, 10, 0.001)  "
      ]
    },
    {
      "cell_type": "markdown",
      "metadata": {
        "id": "2gJskvLIEI-0"
      },
      "source": [
        "Note that many of the weights (regression coefficients) are **exactly 0** (when we enforce normalization)! So, Lasso regression can be employed as a **feature selection tool**."
      ]
    },
    {
      "cell_type": "markdown",
      "metadata": {
        "id": "DG88162OEI-0"
      },
      "source": [
        "## $\\color{ForestGreen}{\\text{Elastic Net Regression}}$\n",
        "\n",
        "We define a function $\\textsf{do_elastic_reg}$ that performs Elastic Net regression of above dataset $\\textsf{df}$ at a specified degree $\\textsf{power}$. "
      ]
    },
    {
      "cell_type": "code",
      "source": [
        "from sklearn.linear_model import ElasticNet    # Import 'ElasticNet' from sklearn"
      ],
      "metadata": {
        "id": "9YrY24l1GI8T"
      },
      "execution_count": 15,
      "outputs": []
    },
    {
      "cell_type": "code",
      "execution_count": 16,
      "metadata": {
        "id": "EGONrZU4EI-0"
      },
      "outputs": [],
      "source": [
        "# Defining a function to do elastic net polynomial regression on 'df' with penalty factor 'a' and l1_ratio 'b'\n",
        "def do_elastic_reg(df, power, a, b):\n",
        "    cols = ['x']\n",
        "    if power > 1:\n",
        "        cols += ['x^%d' %(j) for j in range(2, power+1)]   # Considering colmuns up to 'power'+1\n",
        "    \n",
        "    X = df[cols].values       # Features of regression\n",
        "    y = df['y'].values        # Target of regression\n",
        "    \n",
        "    # Instantiate Elastic Net regression with penalty strength 'a' and 'l1_ratio=b' \n",
        "    elastic = ElasticNet(alpha=a, l1_ratio=b)\n",
        "    elastic.fit(X, y)                  # Fit the data\n",
        "    \n",
        "    r2_score = elastic.score(X, y)     # Calculate R^2 score\n",
        "    coefs = elastic.coef_              # Calculate the coefficients/weights of regression\n",
        "    intercept = elastic.intercept_     # Calculate the intercept/bias term\n",
        "    \n",
        "    y_pred = elastic.predict(X)        # Predict the target\n",
        "    df['yhat'] = y_pred                # Add prediction to 'df'\n",
        "    plt.plot(df['x'], df['yhat'], color='green')         # Plot the prediction\n",
        "    plt.plot(df['x'], df['y'], '.', color='crimson')     # Plot the truth target\n",
        "    plt.gcf().set_size_inches(8, 5)\n",
        "    plt.show()\n",
        "    \n",
        "    return r2_score, coefs, intercept     # Spit out R^2-score, weights, bias term"
      ]
    },
    {
      "cell_type": "code",
      "execution_count": 17,
      "metadata": {
        "colab": {
          "base_uri": "https://localhost:8080/",
          "height": 462
        },
        "id": "nyoR2dN9EI-1",
        "outputId": "53be796f-d2b2-496a-b41d-97fc66a6128c"
      },
      "outputs": [
        {
          "output_type": "stream",
          "name": "stderr",
          "text": [
            "/usr/local/lib/python3.8/dist-packages/sklearn/linear_model/_coordinate_descent.py:631: ConvergenceWarning: Objective did not converge. You might want to increase the number of iterations, check the scale of the features or consider increasing regularisation. Duality gap: 2.111e+00, tolerance: 1.137e-02\n",
            "  model = cd_fast.enet_coordinate_descent(\n"
          ]
        },
        {
          "output_type": "display_data",
          "data": {
            "text/plain": [
              "<Figure size 576x360 with 1 Axes>"
            ],
            "image/png": "[encoded data removed]"
          },
          "metadata": {
            "needs_background": "light"
          }
        },
        {
          "output_type": "execute_result",
          "data": {
            "text/plain": [
              "(0.964530915523386,\n",
              " array([ 1.42588415e+00, -8.53025656e-01, -8.15638936e-02,  8.81174200e-03,\n",
              "         4.03001733e-03,  8.61105022e-04,  1.34348143e-04,  1.12953249e-05,\n",
              "        -2.37970223e-06, -1.71985185e-06]),\n",
              " -0.01638949770903486)"
            ]
          },
          "metadata": {},
          "execution_count": 17
        }
      ],
      "source": [
        "# Perform Lasso regression up to power 11 with penalty 0.001 and l1_ratio 0.7\n",
        "\n",
        "do_elastic_reg(df, 10, 0.001, 0.7) "
      ]
    },
    {
      "cell_type": "markdown",
      "metadata": {
        "id": "iL-1kI1iEI-1"
      },
      "source": [
        "As observed above, fewer number of weights are exactly zero when compared with Lasso case. The general sentiment is that the Elastic Net regression is in between of Ridge and Lasso regressions."
      ]
    }
  ],
  "metadata": {
    "kernelspec": {
      "display_name": "Python 3",
      "language": "python",
      "name": "python3"
    },
    "language_info": {
      "codemirror_mode": {
        "name": "ipython",
        "version": 3
      },
      "file_extension": ".py",
      "mimetype": "text/x-python",
      "name": "python",
      "nbconvert_exporter": "python",
      "pygments_lexer": "ipython3",
      "version": "3.9.1"
    },
    "colab": {
      "provenance": [],
      "include_colab_link": true
    }
  },
  "nbformat": 4,
  "nbformat_minor": 0
}