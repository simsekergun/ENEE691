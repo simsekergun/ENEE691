{
  "cells": [
    {
      "cell_type": "code",
      "execution_count": 1,
      "metadata": {
        "id": "umm25ZdrMzgP"
      },
      "outputs": [],
      "source": [
        "import numpy as np\n",
        "import matplotlib.pyplot as plt\n",
        "import pandas as pd\n",
        "\n",
        "# Importing basic tensorflow modules \n",
        "from tensorflow.keras.layers import Dense, Activation \n",
        "from tensorflow.keras.models import Model, Sequential \n",
        "from tensorflow.keras.optimizers import Adam\n",
        "from tensorflow.keras.utils import plot_model   "
      ]
    },
    {
      "cell_type": "code",
      "source": [
        "# True values. We'll use these to calculate our accuracy\n",
        "n_eff_true = [1.38489, 1.39268, 1.40035, 1.40784, 1.41511, 1.42213, 1.428834, 1.43519, 1.44116, 1.4467]\n",
        "A_eff_true = [3.04184, 2.90433, 2.78024, 2.66742, 2.56412, 2.46894, 2.38074, 2.29861, 2.22181, 2.14976]\n",
        "dispersion_true = [42.96, 66.7628, 86.4249, 102.097, 114.007, 122.422 ,127.624 ,129.864 ,129.341 ,126.183]"
      ],
      "metadata": {
        "id": "bDRCAdBK3CZx"
      },
      "execution_count": 2,
      "outputs": []
    },
    {
      "cell_type": "code",
      "execution_count": 3,
      "metadata": {
        "colab": {
          "base_uri": "https://localhost:8080/"
        },
        "id": "2DWBwn53SobV",
        "outputId": "2be50285-2059-4190-ca29-bf6833219b5f"
      },
      "outputs": [
        {
          "output_type": "execute_result",
          "data": {
            "text/plain": [
              "((978, 4), (978,), (10, 4))"
            ]
          },
          "metadata": {},
          "execution_count": 3
        }
      ],
      "source": [
        "X_train = pd.read_csv('https://raw.githubusercontent.com/simsekergun/ENEE691/main/homework2/fiber_training_data_X.csv')\n",
        "y_trains = pd.read_csv('https://raw.githubusercontent.com/simsekergun/ENEE691/main/homework2/fiber_training_data_Y.csv')\n",
        "X_test = pd.read_csv('https://raw.githubusercontent.com/simsekergun/ENEE691/main/homework2/fiber_testing_data_X.csv')\n",
        "y_train = y_trains.iloc[:,0]\n",
        "X_train.shape, y_train.shape, X_test.shape"
      ]
    },
    {
      "cell_type": "code",
      "source": [
        "# Let us some functions to normalize, de-normalize, and to calculate errors\n",
        "def normx(x):\n",
        "  return (x - train_statsX['mean']) / train_statsX['std']\n",
        "def norm(y):\n",
        "  return (y - train_statsY['mean']) / train_statsY['std']\n",
        "def denorm(y):\n",
        "  return (y* train_statsY['std'] + train_statsY['mean'])  \n",
        "def mean_aep(u1,u2):  \n",
        "  return (round(100*(100*sum(abs((u2-u1)/u1))/len(u1)))/100)\n",
        "def max_aep(u1,u2):  \n",
        "  return (round(100*(100*max(abs((u2-u1)/u1))))/100)  "
      ],
      "metadata": {
        "id": "qZTUwHgy-SKy"
      },
      "execution_count": 4,
      "outputs": []
    },
    {
      "cell_type": "code",
      "source": [
        "train_statsY = y_train.describe().transpose()\n",
        "train_statsX = X_train.describe().transpose()\n",
        "XX = normx(X_train)\n",
        "YY = norm(y_train)\n",
        "xx = normx(X_test)"
      ],
      "metadata": {
        "id": "trWnajkP-SyN"
      },
      "execution_count": 5,
      "outputs": []
    },
    {
      "cell_type": "code",
      "source": [],
      "metadata": {
        "id": "_oy8k4Hz-S1z"
      },
      "execution_count": 5,
      "outputs": []
    },
    {
      "cell_type": "markdown",
      "metadata": {
        "id": "kHDV7aE3Urz7"
      },
      "source": [
        "### TASK 1: predict n_eff"
      ]
    },
    {
      "cell_type": "code",
      "source": [
        "YY"
      ],
      "metadata": {
        "colab": {
          "base_uri": "https://localhost:8080/"
        },
        "id": "I-LZLIYq1oHM",
        "outputId": "c235a5aa-fd79-475c-c4a1-98d45825129b"
      },
      "execution_count": 6,
      "outputs": [
        {
          "output_type": "execute_result",
          "data": {
            "text/plain": [
              "0     -3.527949\n",
              "1     -3.094157\n",
              "2     -2.654356\n",
              "3     -2.238347\n",
              "4     -1.863675\n",
              "         ...   \n",
              "973    0.924374\n",
              "974    0.936871\n",
              "975    0.948166\n",
              "976    0.958260\n",
              "977    0.967152\n",
              "Name: neff, Length: 978, dtype: float64"
            ]
          },
          "metadata": {},
          "execution_count": 6
        }
      ]
    },
    {
      "cell_type": "code",
      "source": [
        "# Creating a simple function that builds a fully connected neural network  \n",
        "def create_model_for1(n_neurons, desired_learning_rate): \n",
        "    model = Sequential() \n",
        "    model.add(Dense(n_neurons, input_dim=XX.shape[1], activation='sigmoid')) # Layer 1 + activation\n",
        "    model.add(Dense(n_neurons, activation='relu'))                             # Layer 2 + activation\n",
        "    model.add(Dense(n_neurons, activation='relu'))                             # Layer 3 + activation\n",
        "    model.add(Dense(n_neurons, activation='relu'))                             # Layer 4 + activation\n",
        "    model.add(Dense(1))                                                         # Output layer\n",
        "    adam = Adam(learning_rate=desired_learning_rate)                              # Choice of optimizer\n",
        "    # Compiling the model by specifying the choice of loss function ('mse'), and performance metrics\n",
        "    model.compile(loss='mse', optimizer=adam, metrics=['mse']) \n",
        "    return model"
      ],
      "metadata": {
        "id": "SePO_hzt1cf3"
      },
      "execution_count": 7,
      "outputs": []
    },
    {
      "cell_type": "code",
      "source": [
        "# Creating a model with 128 neurons and learning rate 0.001\n",
        "#del model\n",
        "model_n = create_model_for1(n_neurons=32, desired_learning_rate=0.001)"
      ],
      "metadata": {
        "id": "XIlPTliZ1tiQ"
      },
      "execution_count": 8,
      "outputs": []
    },
    {
      "cell_type": "code",
      "source": [
        "# Training the model for \"number_of_epochs\" epochs\n",
        "number_of_epochs = 200\n",
        "model_history = model_n.fit(XX, YY, epochs=number_of_epochs, verbose=0)"
      ],
      "metadata": {
        "id": "9br-4ruM1tq0"
      },
      "execution_count": 9,
      "outputs": []
    },
    {
      "cell_type": "code",
      "source": [
        "# Plotting the loss function from model's history\n",
        "plt.figure(figsize=(6,4))\n",
        "plt.plot(model_history.history['mse'], label = 'train mse')\n",
        "plt.title('History of the Loss Function: n_eff')\n",
        "plt.xlabel('Epochs')\n",
        "plt.ylabel('MSE')\n",
        "plt.show()"
      ],
      "metadata": {
        "colab": {
          "base_uri": "https://localhost:8080/",
          "height": 410
        },
        "id": "yxVaoWGZ1tt6",
        "outputId": "696d7dfd-9e37-4508-cc77-23ed3080a3d3"
      },
      "execution_count": 10,
      "outputs": [
        {
          "output_type": "display_data",
          "data": {
            "text/plain": [
              "<Figure size 600x400 with 1 Axes>"
            ],
            "image/png": "[encoded data removed]"
          },
          "metadata": {}
        }
      ]
    },
    {
      "cell_type": "code",
      "source": [
        "# let's make a prediction\n",
        "y_pred = denorm(model_n.predict(xx))\n",
        "y_pred"
      ],
      "metadata": {
        "colab": {
          "base_uri": "https://localhost:8080/"
        },
        "id": "jNmeXBmn1twf",
        "outputId": "b425c94a-9ed1-43db-e601-288047150a10"
      },
      "execution_count": 11,
      "outputs": [
        {
          "output_type": "stream",
          "name": "stdout",
          "text": [
            "1/1 [==============================] - 0s 88ms/step\n"
          ]
        },
        {
          "output_type": "execute_result",
          "data": {
            "text/plain": [
              "array([[1.3826191],\n",
              "       [1.3910208],\n",
              "       [1.3998173],\n",
              "       [1.4067283],\n",
              "       [1.4137497],\n",
              "       [1.4209534],\n",
              "       [1.4275306],\n",
              "       [1.4341618],\n",
              "       [1.4408015],\n",
              "       [1.4458236]], dtype=float32)"
            ]
          },
          "metadata": {},
          "execution_count": 11
        }
      ]
    },
    {
      "cell_type": "code",
      "source": [
        "# Calculate the max absolute error in percentile for n_eff\n",
        "n_error_max = 100*max(abs(n_eff_true -y_pred.flatten())/n_eff_true)\n",
        "n_error_max"
      ],
      "metadata": {
        "colab": {
          "base_uri": "https://localhost:8080/"
        },
        "id": "APAh3yPV2Wqz",
        "outputId": "18855f9b-1783-4a9c-d614-d532dbd631ec"
      },
      "execution_count": 12,
      "outputs": [
        {
          "output_type": "execute_result",
          "data": {
            "text/plain": [
              "0.16397385118322189"
            ]
          },
          "metadata": {},
          "execution_count": 12
        }
      ]
    },
    {
      "cell_type": "markdown",
      "source": [
        "With linear regression, the max absolute error was around 8%. Here we achieve a max absolute error less than 1%\n"
      ],
      "metadata": {
        "id": "AryGYlMfP_3g"
      }
    },
    {
      "cell_type": "markdown",
      "source": [
        "### TASK 2: predict A_eff"
      ],
      "metadata": {
        "id": "qIK5mjnr2cnl"
      }
    },
    {
      "cell_type": "code",
      "source": [
        "y_train = y_trains.iloc[:,1]\n",
        "train_statsY = y_train.describe().transpose()\n",
        "YY = norm(y_train)\n",
        "\n",
        "model_A = create_model_for1(n_neurons=32, desired_learning_rate=0.001)\n",
        "# Training the model for \"number_of_epochs\" epochs\n",
        "number_of_epochs = 500\n",
        "model_history2 = model_A.fit(XX, YY, epochs=number_of_epochs, verbose=0)\n",
        "# Plotting the loss function from model's history\n",
        "plt.figure(figsize=(6,4))\n",
        "plt.plot(model_history2.history['mse'], label = 'train mse')\n",
        "plt.title('History of the Loss Function: A_eff')\n",
        "plt.xlabel('Epochs')\n",
        "plt.ylabel('MSE')\n",
        "plt.show()"
      ],
      "metadata": {
        "colab": {
          "base_uri": "https://localhost:8080/",
          "height": 410
        },
        "id": "dCxOAaMr2h2u",
        "outputId": "20850057-b01d-4944-e7a7-37dd201c7dbd"
      },
      "execution_count": 13,
      "outputs": [
        {
          "output_type": "display_data",
          "data": {
            "text/plain": [
              "<Figure size 600x400 with 1 Axes>"
            ],
            "image/png": "[encoded data removed]"
          },
          "metadata": {}
        }
      ]
    },
    {
      "cell_type": "code",
      "source": [
        "# let's make a prediction\n",
        "y_pred2 = denorm(model_A.predict(xx))\n",
        "y_pred2.flatten()"
      ],
      "metadata": {
        "colab": {
          "base_uri": "https://localhost:8080/"
        },
        "id": "5KA6dugz294J",
        "outputId": "2a15343b-5cc5-4f97-9062-0fbccaccf0ef"
      },
      "execution_count": 14,
      "outputs": [
        {
          "output_type": "stream",
          "name": "stdout",
          "text": [
            "1/1 [==============================] - 0s 85ms/step\n"
          ]
        },
        {
          "output_type": "execute_result",
          "data": {
            "text/plain": [
              "array([3.051399 , 2.9192882, 2.7810018, 2.6559997, 2.558154 , 2.4659147,\n",
              "       2.3730283, 2.2784235, 2.1913488, 2.1287653], dtype=float32)"
            ]
          },
          "metadata": {},
          "execution_count": 14
        }
      ]
    },
    {
      "cell_type": "code",
      "source": [
        "# Calculate the max absolute error in percentile for A_eff\n",
        "Aeff_error_max = 100*max(abs(A_eff_true -y_pred2.flatten())/A_eff_true)\n",
        "Aeff_error_max"
      ],
      "metadata": {
        "colab": {
          "base_uri": "https://localhost:8080/"
        },
        "id": "aoDT4hvR2-Iz",
        "outputId": "0186ae6e-373d-4ea8-d270-8b556d92be87"
      },
      "execution_count": 15,
      "outputs": [
        {
          "output_type": "execute_result",
          "data": {
            "text/plain": [
              "1.3710087216082176"
            ]
          },
          "metadata": {},
          "execution_count": 15
        }
      ]
    },
    {
      "cell_type": "markdown",
      "source": [
        "With linear regression, the max absolute error was around 13%. Here we achieve a max absolute error less than 2%\n"
      ],
      "metadata": {
        "id": "44_iQtsSQN1C"
      }
    },
    {
      "cell_type": "code",
      "source": [],
      "metadata": {
        "id": "wGAM-quG2-UB"
      },
      "execution_count": 15,
      "outputs": []
    },
    {
      "cell_type": "markdown",
      "source": [
        "TASK 3: predict dispersion"
      ],
      "metadata": {
        "id": "cFGTvA6P5U1Z"
      }
    },
    {
      "cell_type": "code",
      "source": [
        "y_train = y_trains.iloc[:,2]\n",
        "train_statsY = y_train.describe().transpose()\n",
        "YY = norm(y_train)\n",
        "\n",
        "model_d = create_model_for1(n_neurons=32, desired_learning_rate=0.001)\n",
        "# Training the model for \"number_of_epochs\" epochs\n",
        "number_of_epochs = 1200\n",
        "model_history2 = model_d.fit(XX, YY, epochs=number_of_epochs, verbose=0)\n",
        "# Plotting the loss function from model's history\n",
        "plt.figure(figsize=(6,4))\n",
        "plt.plot(model_history2.history['mse'], label = 'train mse')\n",
        "plt.title('History of the Loss Function: dispersion')\n",
        "plt.xlabel('Epochs')\n",
        "plt.ylabel('MSE')\n",
        "plt.show()"
      ],
      "metadata": {
        "colab": {
          "base_uri": "https://localhost:8080/",
          "height": 410
        },
        "id": "Jl-UmfLt5VoM",
        "outputId": "11848c88-a43b-45fb-a8b2-5f2aa55751b2"
      },
      "execution_count": 16,
      "outputs": [
        {
          "output_type": "display_data",
          "data": {
            "text/plain": [
              "<Figure size 600x400 with 1 Axes>"
            ],
            "image/png": "[encoded data removed]"
          },
          "metadata": {}
        }
      ]
    },
    {
      "cell_type": "code",
      "source": [
        "# let's make a prediction\n",
        "y_pred3 = denorm(model_d.predict(xx))\n",
        "y_pred3.flatten()"
      ],
      "metadata": {
        "colab": {
          "base_uri": "https://localhost:8080/"
        },
        "id": "i2nMjxc_5Y79",
        "outputId": "966bee32-07e8-4aa0-c7d2-d22525b4bd14"
      },
      "execution_count": 17,
      "outputs": [
        {
          "output_type": "stream",
          "name": "stdout",
          "text": [
            "1/1 [==============================] - 0s 61ms/step\n"
          ]
        },
        {
          "output_type": "execute_result",
          "data": {
            "text/plain": [
              "array([ 48.553932,  69.2974  ,  91.69983 , 105.64774 , 117.30295 ,\n",
              "       129.18857 , 131.39415 , 133.74094 , 130.63287 , 126.93982 ],\n",
              "      dtype=float32)"
            ]
          },
          "metadata": {},
          "execution_count": 17
        }
      ]
    },
    {
      "cell_type": "code",
      "source": [
        "# Calculate the max absolute error in percentile for dispersion\n",
        "dispersion_error_max = 100*max(abs(dispersion_true -y_pred3.flatten())/dispersion_true)\n",
        "dispersion_error_max"
      ],
      "metadata": {
        "colab": {
          "base_uri": "https://localhost:8080/"
        },
        "id": "hLrqaRfP5bR8",
        "outputId": "97382291-aa8b-46ab-b3d2-2e60d3dadc8e"
      },
      "execution_count": 18,
      "outputs": [
        {
          "output_type": "execute_result",
          "data": {
            "text/plain": [
              "13.02125742537571"
            ]
          },
          "metadata": {},
          "execution_count": 18
        }
      ]
    },
    {
      "cell_type": "markdown",
      "source": [
        "With linear regression, the max absolute error was around 100%. Here we achieve a max absolute error less than 15%\n",
        "\n",
        "In short, when there is non-linearity, neural networks make a difference!"
      ],
      "metadata": {
        "id": "dX99bQ8IQRuu"
      }
    },
    {
      "cell_type": "code",
      "source": [],
      "metadata": {
        "id": "VMG7J2Q8QQ1s"
      },
      "execution_count": null,
      "outputs": []
    },
    {
      "cell_type": "markdown",
      "source": [
        "### Task 4"
      ],
      "metadata": {
        "id": "1-FUcZjy5ezu"
      }
    },
    {
      "cell_type": "code",
      "execution_count": 19,
      "metadata": {
        "id": "t8hr1MHyNRJJ"
      },
      "outputs": [],
      "source": [
        "# Creating a simple function that builds a fully connected neural network  \n",
        "def create_model(n_neurons, desired_learning_rate): \n",
        "    model = Sequential() \n",
        "    model.add(Dense(n_neurons, input_dim=XX.shape[1], activation='sigmoid')) # Layer 1 + activation\n",
        "    model.add(Dense(n_neurons, activation='relu'))                             # Layer 2 + activation\n",
        "    model.add(Dense(n_neurons, activation='relu'))                             # Layer 3 + activation\n",
        "    model.add(Dense(n_neurons, activation='sigmoid'))                             # Layer 4 + activation\n",
        "    model.add(Dense(YY.shape[1]))                                            # Output layer\n",
        "    adam = Adam(learning_rate=desired_learning_rate)                              # Choice of optimizer\n",
        "    # Compiling the model by specifying the choice of loss function ('mse'), and performance metrics\n",
        "    model.compile(loss='mse', optimizer=adam, metrics=['mse']) \n",
        "    return model"
      ]
    },
    {
      "cell_type": "code",
      "source": [
        "# Creating a model with 128 neurons and learning rate 0.001\n",
        "#del model\n",
        "y_train = y_trains.iloc[:,0:3]\n",
        "train_statsY = y_train.describe().transpose()\n",
        "YY = norm(y_train)\n",
        "\n",
        "model = create_model(n_neurons=128, desired_learning_rate=0.001)"
      ],
      "metadata": {
        "id": "LICxH1BFt04F"
      },
      "execution_count": 20,
      "outputs": []
    },
    {
      "cell_type": "code",
      "source": [
        "# Presenting the summary of the model\n",
        "model.summary()"
      ],
      "metadata": {
        "colab": {
          "base_uri": "https://localhost:8080/"
        },
        "id": "ryeTQxpzt067",
        "outputId": "45b804e1-ec47-4653-871a-91a851fde4d0"
      },
      "execution_count": 21,
      "outputs": [
        {
          "output_type": "stream",
          "name": "stdout",
          "text": [
            "Model: \"sequential_3\"\n",
            "_________________________________________________________________\n",
            " Layer (type)                Output Shape              Param #   \n",
            "=================================================================\n",
            " dense_15 (Dense)            (None, 128)               640       \n",
            "                                                                 \n",
            " dense_16 (Dense)            (None, 128)               16512     \n",
            "                                                                 \n",
            " dense_17 (Dense)            (None, 128)               16512     \n",
            "                                                                 \n",
            " dense_18 (Dense)            (None, 128)               16512     \n",
            "                                                                 \n",
            " dense_19 (Dense)            (None, 3)                 387       \n",
            "                                                                 \n",
            "=================================================================\n",
            "Total params: 50,563\n",
            "Trainable params: 50,563\n",
            "Non-trainable params: 0\n",
            "_________________________________________________________________\n"
          ]
        }
      ]
    },
    {
      "cell_type": "code",
      "source": [
        "# Visualize the model's structure \n",
        "plot_model(model, to_file='model_plot.png', show_shapes=True, show_layer_names=True)"
      ],
      "metadata": {
        "colab": {
          "base_uri": "https://localhost:8080/",
          "height": 644
        },
        "id": "8jrspFLrt09w",
        "outputId": "ca844e81-80d3-4785-b7a6-4547a7ad78da"
      },
      "execution_count": 22,
      "outputs": [
        {
          "output_type": "execute_result",
          "data": {
            "image/png": "[encoded data removed]",
            "text/plain": [
              "<IPython.core.display.Image object>"
            ]
          },
          "metadata": {},
          "execution_count": 22
        }
      ]
    },
    {
      "cell_type": "code",
      "source": [
        "# Training the model for 2000 epochs\n",
        "number_of_epochs = 2000\n",
        "\n",
        "model_history = model.fit(XX, YY, epochs=number_of_epochs, verbose=0)"
      ],
      "metadata": {
        "id": "kqCnDz5Qt1Ba"
      },
      "execution_count": 23,
      "outputs": []
    },
    {
      "cell_type": "code",
      "source": [
        "# Plotting the loss function from model's history\n",
        "plt.figure(figsize=(6,4))\n",
        "plt.plot(model_history.history['mse'], label = 'train mse')\n",
        "plt.title('History of the Loss Function of the Model')\n",
        "plt.xlabel('Epochs')\n",
        "plt.ylabel('MSE')\n",
        "plt.show()"
      ],
      "metadata": {
        "colab": {
          "base_uri": "https://localhost:8080/",
          "height": 410
        },
        "id": "w4Kz7azHt1Ga",
        "outputId": "d532cba8-c35a-4817-e99b-1ad03ef070bb"
      },
      "execution_count": 24,
      "outputs": [
        {
          "output_type": "display_data",
          "data": {
            "text/plain": [
              "<Figure size 600x400 with 1 Axes>"
            ],
            "image/png": "[encoded data removed]"
          },
          "metadata": {}
        }
      ]
    },
    {
      "cell_type": "code",
      "source": [
        "# let's make a prediction\n",
        "y_pred = denorm(pd.DataFrame(model.predict(xx), columns=YY.columns[0:3]))\n",
        "y_pred"
      ],
      "metadata": {
        "colab": {
          "base_uri": "https://localhost:8080/",
          "height": 380
        },
        "id": "B9wdO6j9t8dd",
        "outputId": "240a5cb0-7382-43d1-8092-b5e51f9d4d3c"
      },
      "execution_count": 25,
      "outputs": [
        {
          "output_type": "stream",
          "name": "stdout",
          "text": [
            "1/1 [==============================] - 0s 71ms/step\n"
          ]
        },
        {
          "output_type": "execute_result",
          "data": {
            "text/plain": [
              "       neff  Aeff\\n(um^2)  dispersion\\n(ps/km.nm)\n",
              "0  1.385832      2.983885               50.567925\n",
              "1  1.393633      2.884116               74.619311\n",
              "2  1.400639      2.784138               92.819537\n",
              "3  1.408305      2.674994              107.459996\n",
              "4  1.416164      2.567545              117.999685\n",
              "5  1.422766      2.471359              124.947094\n",
              "6  1.428798      2.379599              130.249433\n",
              "7  1.435340      2.293540              132.872926\n",
              "8  1.440983      2.221027              131.455206\n",
              "9  1.446533      2.157012              126.663377"
            ],
            "text/html": [
              "\n",
              "  <div id=\"df-107a7e3f-5dd1-4375-8d14-6d71c9bb55da\">\n",
              "    <div class=\"colab-df-container\">\n",
              "      <div>\n",
              "<style scoped>\n",
              "    .dataframe tbody tr th:only-of-type {\n",
              "        vertical-align: middle;\n",
              "    }\n",
              "\n",
              "    .dataframe tbody tr th {\n",
              "        vertical-align: top;\n",
              "    }\n",
              "\n",
              "    .dataframe thead th {\n",
              "        text-align: right;\n",
              "    }\n",
              "</style>\n",
              "<table border=\"1\" class=\"dataframe\">\n",
              "  <thead>\n",
              "    <tr style=\"text-align: right;\">\n",
              "      <th></th>\n",
              "      <th>neff</th>\n",
              "      <th>Aeff\\n(um^2)</th>\n",
              "      <th>dispersion\\n(ps/km.nm)</th>\n",
              "    </tr>\n",
              "  </thead>\n",
              "  <tbody>\n",
              "    <tr>\n",
              "      <th>0</th>\n",
              "      <td>1.385832</td>\n",
              "      <td>2.983885</td>\n",
              "      <td>50.567925</td>\n",
              "    </tr>\n",
              "    <tr>\n",
              "      <th>1</th>\n",
              "      <td>1.393633</td>\n",
              "      <td>2.884116</td>\n",
              "      <td>74.619311</td>\n",
              "    </tr>\n",
              "    <tr>\n",
              "      <th>2</th>\n",
              "      <td>1.400639</td>\n",
              "      <td>2.784138</td>\n",
              "      <td>92.819537</td>\n",
              "    </tr>\n",
              "    <tr>\n",
              "      <th>3</th>\n",
              "      <td>1.408305</td>\n",
              "      <td>2.674994</td>\n",
              "      <td>107.459996</td>\n",
              "    </tr>\n",
              "    <tr>\n",
              "      <th>4</th>\n",
              "      <td>1.416164</td>\n",
              "      <td>2.567545</td>\n",
              "      <td>117.999685</td>\n",
              "    </tr>\n",
              "    <tr>\n",
              "      <th>5</th>\n",
              "      <td>1.422766</td>\n",
              "      <td>2.471359</td>\n",
              "      <td>124.947094</td>\n",
              "    </tr>\n",
              "    <tr>\n",
              "      <th>6</th>\n",
              "      <td>1.428798</td>\n",
              "      <td>2.379599</td>\n",
              "      <td>130.249433</td>\n",
              "    </tr>\n",
              "    <tr>\n",
              "      <th>7</th>\n",
              "      <td>1.435340</td>\n",
              "      <td>2.293540</td>\n",
              "      <td>132.872926</td>\n",
              "    </tr>\n",
              "    <tr>\n",
              "      <th>8</th>\n",
              "      <td>1.440983</td>\n",
              "      <td>2.221027</td>\n",
              "      <td>131.455206</td>\n",
              "    </tr>\n",
              "    <tr>\n",
              "      <th>9</th>\n",
              "      <td>1.446533</td>\n",
              "      <td>2.157012</td>\n",
              "      <td>126.663377</td>\n",
              "    </tr>\n",
              "  </tbody>\n",
              "</table>\n",
              "</div>\n",
              "      <button class=\"colab-df-convert\" onclick=\"convertToInteractive('df-107a7e3f-5dd1-4375-8d14-6d71c9bb55da')\"\n",
              "              title=\"Convert this dataframe to an interactive table.\"\n",
              "              style=\"display:none;\">\n",
              "        \n",
              "  <svg xmlns=\"http://www.w3.org/2000/svg\" height=\"24px\"viewBox=\"0 0 24 24\"\n",
              "       width=\"24px\">\n",
              "    <path d=\"M0 0h24v24H0V0z\" fill=\"none\"/>\n",
              "    <path d=\"M18.56 5.44l.94 2.06.94-2.06 2.06-.94-2.06-.94-.94-2.06-.94 2.06-2.06.94zm-11 1L8.5 8.5l.94-2.06 2.06-.94-2.06-.94L8.5 2.5l-.94 2.06-2.06.94zm10 10l.94 2.06.94-2.06 2.06-.94-2.06-.94-.94-2.06-.94 2.06-2.06.94z\"/><path d=\"M17.41 7.96l-1.37-1.37c-.4-.4-.92-.59-1.43-.59-.52 0-1.04.2-1.43.59L10.3 9.45l-7.72 7.72c-.78.78-.78 2.05 0 2.83L4 21.41c.39.39.9.59 1.41.59.51 0 1.02-.2 1.41-.59l7.78-7.78 2.81-2.81c.8-.78.8-2.07 0-2.86zM5.41 20L4 18.59l7.72-7.72 1.47 1.35L5.41 20z\"/>\n",
              "  </svg>\n",
              "      </button>\n",
              "      \n",
              "  <style>\n",
              "    .colab-df-container {\n",
              "      display:flex;\n",
              "      flex-wrap:wrap;\n",
              "      gap: 12px;\n",
              "    }\n",
              "\n",
              "    .colab-df-convert {\n",
              "      background-color: #E8F0FE;\n",
              "      border: none;\n",
              "      border-radius: 50%;\n",
              "      cursor: pointer;\n",
              "      display: none;\n",
              "      fill: #1967D2;\n",
              "      height: 32px;\n",
              "      padding: 0 0 0 0;\n",
              "      width: 32px;\n",
              "    }\n",
              "\n",
              "    .colab-df-convert:hover {\n",
              "      background-color: #E2EBFA;\n",
              "      box-shadow: 0px 1px 2px rgba(60, 64, 67, 0.3), 0px 1px 3px 1px rgba(60, 64, 67, 0.15);\n",
              "      fill: #174EA6;\n",
              "    }\n",
              "\n",
              "    [theme=dark] .colab-df-convert {\n",
              "      background-color: #3B4455;\n",
              "      fill: #D2E3FC;\n",
              "    }\n",
              "\n",
              "    [theme=dark] .colab-df-convert:hover {\n",
              "      background-color: #434B5C;\n",
              "      box-shadow: 0px 1px 3px 1px rgba(0, 0, 0, 0.15);\n",
              "      filter: drop-shadow(0px 1px 2px rgba(0, 0, 0, 0.3));\n",
              "      fill: #FFFFFF;\n",
              "    }\n",
              "  </style>\n",
              "\n",
              "      <script>\n",
              "        const buttonEl =\n",
              "          document.querySelector('#df-107a7e3f-5dd1-4375-8d14-6d71c9bb55da button.colab-df-convert');\n",
              "        buttonEl.style.display =\n",
              "          google.colab.kernel.accessAllowed ? 'block' : 'none';\n",
              "\n",
              "        async function convertToInteractive(key) {\n",
              "          const element = document.querySelector('#df-107a7e3f-5dd1-4375-8d14-6d71c9bb55da');\n",
              "          const dataTable =\n",
              "            await google.colab.kernel.invokeFunction('convertToInteractive',\n",
              "                                                     [key], {});\n",
              "          if (!dataTable) return;\n",
              "\n",
              "          const docLinkHtml = 'Like what you see? Visit the ' +\n",
              "            '<a target=\"_blank\" href=https://colab.research.google.com/notebooks/data_table.ipynb>data table notebook</a>'\n",
              "            + ' to learn more about interactive tables.';\n",
              "          element.innerHTML = '';\n",
              "          dataTable['output_type'] = 'display_data';\n",
              "          await google.colab.output.renderOutput(dataTable, element);\n",
              "          const docLink = document.createElement('div');\n",
              "          docLink.innerHTML = docLinkHtml;\n",
              "          element.appendChild(docLink);\n",
              "        }\n",
              "      </script>\n",
              "    </div>\n",
              "  </div>\n",
              "  "
            ]
          },
          "metadata": {},
          "execution_count": 25
        }
      ]
    },
    {
      "cell_type": "code",
      "source": [
        "# Calculate the max absolute error in percentile for n_eff\n",
        "n_error_max = 100*max(abs(n_eff_true -y_pred.iloc[:,0])/n_eff_true)\n",
        "n_error_max"
      ],
      "metadata": {
        "colab": {
          "base_uri": "https://localhost:8080/"
        },
        "id": "6yUS7bdEt8ir",
        "outputId": "bfadcc22-8c35-4303-b7ad-0603b740f920"
      },
      "execution_count": 26,
      "outputs": [
        {
          "output_type": "execute_result",
          "data": {
            "text/plain": [
              "0.07451172692706226"
            ]
          },
          "metadata": {},
          "execution_count": 26
        }
      ]
    },
    {
      "cell_type": "code",
      "source": [
        "# Calculate the max absolute error in percentile for A_eff\n",
        "Aeff_error_max = 100*max(abs(A_eff_true -y_pred.iloc[:,1])/A_eff_true)\n",
        "Aeff_error_max"
      ],
      "metadata": {
        "colab": {
          "base_uri": "https://localhost:8080/"
        },
        "id": "GfyrB_rot8lR",
        "outputId": "254ddca3-bb2b-4323-f941-2d93aab3c924"
      },
      "execution_count": 27,
      "outputs": [
        {
          "output_type": "execute_result",
          "data": {
            "text/plain": [
              "1.9052650415360683"
            ]
          },
          "metadata": {},
          "execution_count": 27
        }
      ]
    },
    {
      "cell_type": "code",
      "source": [
        "# Calculate the max absolute error in percentile for dispersion\n",
        "dispersion_error_max = 100*max(abs(dispersion_true -y_pred.iloc[:,2])/dispersion_true)\n",
        "dispersion_error_max"
      ],
      "metadata": {
        "colab": {
          "base_uri": "https://localhost:8080/"
        },
        "id": "LILlWpXOy67E",
        "outputId": "9f7e4975-7a94-4fde-f391-7c6be7c059d9"
      },
      "execution_count": 28,
      "outputs": [
        {
          "output_type": "execute_result",
          "data": {
            "text/plain": [
              "17.709323181748992"
            ]
          },
          "metadata": {},
          "execution_count": 28
        }
      ]
    },
    {
      "cell_type": "markdown",
      "source": [
        "If we didn't normalize the datasets properly, we would have much higher errors. But after normalization, we can obtain accurate results even for multi-class regression with neural networks but at the expense of high number of epochs!"
      ],
      "metadata": {
        "id": "WymgzWw4Qbp8"
      }
    }
  ],
  "metadata": {
    "colab": {
      "provenance": []
    },
    "kernelspec": {
      "display_name": "Python 3 (ipykernel)",
      "language": "python",
      "name": "python3"
    },
    "language_info": {
      "codemirror_mode": {
        "name": "ipython",
        "version": 3
      },
      "file_extension": ".py",
      "mimetype": "text/x-python",
      "name": "python",
      "nbconvert_exporter": "python",
      "pygments_lexer": "ipython3",
      "version": "3.9.15"
    },
    "accelerator": "GPU",
    "gpuClass": "standard"
  },
  "nbformat": 4,
  "nbformat_minor": 0
}