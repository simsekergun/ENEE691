{
  "cells": [
    {
      "cell_type": "markdown",
      "metadata": {
        "id": "view-in-github",
        "colab_type": "text"
      },
      "source": [
        "<a href=\"https://colab.research.google.com/github/simsekergun/ENEE691/blob/main/homework4/ENEE691_MLP_hw4.ipynb\" target=\"_parent\"><img src=\"https://colab.research.google.com/assets/colab-badge.svg\" alt=\"Open In Colab\"/></a>"
      ]
    },
    {
      "cell_type": "markdown",
      "source": [
        "##ENEE 691 | Special Topics: Machine Learning and Photonics\n",
        "### Homework Assignment 4\n",
        "#### Due date: 9:30 am, April 18, 2023\n",
        "For this assignment, you will use the same dataset that you used for homework-2.\n",
        "\n",
        "This time you will try to make predictions (regression) using fully connected neural networks.\n",
        "\n",
        "You are free to choose number of neurons, number of layers, activation functions, optimizers, system (Keras or Pytorch), etc.\n",
        "\n",
        "You can use the cells below to get the datasets.\n",
        "\n",
        "<b> Hint: </b> Do not forget to normalize your datasets before training. After making predictions, do not forget to denormalize!\n"
      ],
      "metadata": {
        "id": "ZtGdVK5JL76n"
      }
    },
    {
      "cell_type": "code",
      "execution_count": 1,
      "metadata": {
        "id": "umm25ZdrMzgP"
      },
      "outputs": [],
      "source": [
        "import numpy as np\n",
        "import matplotlib.pyplot as plt\n",
        "import pandas as pd\n",
        "\n",
        "# Importing basic tensorflow modules \n",
        "from tensorflow.keras.layers import Dense, Activation \n",
        "from tensorflow.keras.models import Model, Sequential \n",
        "from tensorflow.keras.optimizers import Adam\n",
        "from tensorflow.keras.utils import plot_model   "
      ]
    },
    {
      "cell_type": "code",
      "source": [
        "# True values. We'll use these to calculate our accuracy\n",
        "n_eff_true = [1.38489, 1.39268, 1.40035, 1.40784, 1.41511, 1.42213, 1.428834, 1.43519, 1.44116, 1.4467]\n",
        "A_eff_true = [3.04184, 2.90433, 2.78024, 2.66742, 2.56412, 2.46894, 2.38074, 2.29861, 2.22181, 2.14976]\n",
        "dispersion_true = [42.96, 66.7628, 86.4249, 102.097, 114.007, 122.422 ,127.624 ,129.864 ,129.341 ,126.183]"
      ],
      "metadata": {
        "id": "bDRCAdBK3CZx"
      },
      "execution_count": 2,
      "outputs": []
    },
    {
      "cell_type": "code",
      "execution_count": 3,
      "metadata": {
        "id": "2DWBwn53SobV"
      },
      "outputs": [],
      "source": [
        "X_train = pd.read_csv('https://raw.githubusercontent.com/simsekergun/ENEE691/main/homework2/fiber_training_data_X.csv')\n",
        "y_trains = pd.read_csv('https://raw.githubusercontent.com/simsekergun/ENEE691/main/homework2/fiber_training_data_Y.csv')\n",
        "X_test = pd.read_csv('https://raw.githubusercontent.com/simsekergun/ENEE691/main/homework2/fiber_testing_data_X.csv')"
      ]
    },
    {
      "cell_type": "code",
      "source": [],
      "metadata": {
        "id": "dpwgEBA50t-h"
      },
      "execution_count": null,
      "outputs": []
    },
    {
      "cell_type": "markdown",
      "source": [
        "### Task-1: \n",
        "Build a neural network to predict (regress) n_eff. <br>\n",
        "Make sure that you plot how loss decreases with epochs. . <br>\n",
        "Make a prediction using 'X_test' and compare your results with the true values given in cell no. 2. <br>\n",
        "Calculate your maximum absolute error in percentile. <br>\n",
        "Compared to the linear regression (homework-2), how much improvement you obtain by using a neural net.\n",
        "![](https://github.com/simsekergun/ENEE691/raw/main/homework4/task1.png)"
      ],
      "metadata": {
        "id": "k_2R1s8WKN4J"
      }
    },
    {
      "cell_type": "code",
      "source": [
        "### Your code goes here"
      ],
      "metadata": {
        "id": "dmS04a_RKOJD"
      },
      "execution_count": 4,
      "outputs": []
    },
    {
      "cell_type": "code",
      "source": [
        "y_train = y_trains.iloc[:,0]"
      ],
      "metadata": {
        "id": "KSGknjNIKhE0"
      },
      "execution_count": 5,
      "outputs": []
    },
    {
      "cell_type": "markdown",
      "source": [
        "### Task-2: \n",
        "Repeat Task-1 to predict (regress) A_eff. <br>\n",
        "![](https://github.com/simsekergun/ENEE691/raw/main/homework4/task2.png)"
      ],
      "metadata": {
        "id": "5ZW02wgVKOSb"
      }
    },
    {
      "cell_type": "code",
      "source": [
        "### Your code goes here"
      ],
      "metadata": {
        "id": "RgjDQHR2KOdm"
      },
      "execution_count": 6,
      "outputs": []
    },
    {
      "cell_type": "code",
      "source": [
        "y_train = y_trains.iloc[:,1]"
      ],
      "metadata": {
        "id": "1i6e9ITJKm8G"
      },
      "execution_count": 7,
      "outputs": []
    },
    {
      "cell_type": "markdown",
      "source": [
        "### Task-3: \n",
        "Repeat Task-1 to predict (regress) dispersion. <br>\n",
        "![](https://github.com/simsekergun/ENEE691/raw/main/homework4/task3.png)"
      ],
      "metadata": {
        "id": "Z5s3UpygKOmO"
      }
    },
    {
      "cell_type": "code",
      "source": [
        "### Your code goes here"
      ],
      "metadata": {
        "id": "rNYTmlOIKOtm"
      },
      "execution_count": 8,
      "outputs": []
    },
    {
      "cell_type": "code",
      "source": [
        "y_train = y_trains.iloc[:,2]"
      ],
      "metadata": {
        "id": "R0E453I_LQSu"
      },
      "execution_count": 9,
      "outputs": []
    },
    {
      "cell_type": "markdown",
      "source": [
        "### Task-4: \n",
        "Build a neural network to predict (regress) n_eff, A_eff, and dispersion all at the same time. <br>\n",
        "Make sure that you plot how loss decreases with epochs.<br>\n",
        "Make a prediction using 'X_test' and compare your results with the true values given in cell no. 2. <br>\n",
        "Calculate your maximum absolute error in percentile for each individual features (n_eff, A_eff, and dispersion). <br>\n",
        "\n",
        "![](https://github.com/simsekergun/ENEE691/raw/main/homework4/task4.png)\n",
        "\n",
        "Please comment on the differences you observe when you try to predict one feature vs. multiple features using the same network. Did you have to use more neurons or layers or number of epocs? \n",
        "\n"
      ],
      "metadata": {
        "id": "aY0QteV7KPUU"
      }
    },
    {
      "cell_type": "code",
      "source": [
        "### Your code goes here\n",
        "y_train = y_trains.iloc[:,0:3]\n",
        "y_train"
      ],
      "metadata": {
        "colab": {
          "base_uri": "https://localhost:8080/",
          "height": 423
        },
        "id": "clmBa-XPKPaC",
        "outputId": "d9fcdf79-cea8-4433-9dbe-304a7e26c577"
      },
      "execution_count": 10,
      "outputs": [
        {
          "output_type": "execute_result",
          "data": {
            "text/plain": [
              "        neff  Aeff\\n(um^2)  dispersion\\n(ps/km.nm)\n",
              "0    1.27828       4.96730                587.0550\n",
              "1    1.29633       2.49561                685.1410\n",
              "2    1.31463       1.68857                576.5430\n",
              "3    1.33194       1.33313                396.4210\n",
              "4    1.34753       1.13895                229.8200\n",
              "..       ...           ...                     ...\n",
              "973  1.46354       4.06947                 59.7801\n",
              "974  1.46406       4.04679                 58.0553\n",
              "975  1.46453       4.02620                 56.4114\n",
              "976  1.46495       4.00741                 54.8488\n",
              "977  1.46532       3.99021                 53.3584\n",
              "\n",
              "[978 rows x 3 columns]"
            ],
            "text/html": [
              "\n",
              "  <div id=\"df-7dd3d542-7a45-41c6-9339-33b2924f1f58\">\n",
              "    <div class=\"colab-df-container\">\n",
              "      <div>\n",
              "<style scoped>\n",
              "    .dataframe tbody tr th:only-of-type {\n",
              "        vertical-align: middle;\n",
              "    }\n",
              "\n",
              "    .dataframe tbody tr th {\n",
              "        vertical-align: top;\n",
              "    }\n",
              "\n",
              "    .dataframe thead th {\n",
              "        text-align: right;\n",
              "    }\n",
              "</style>\n",
              "<table border=\"1\" class=\"dataframe\">\n",
              "  <thead>\n",
              "    <tr style=\"text-align: right;\">\n",
              "      <th></th>\n",
              "      <th>neff</th>\n",
              "      <th>Aeff\\n(um^2)</th>\n",
              "      <th>dispersion\\n(ps/km.nm)</th>\n",
              "    </tr>\n",
              "  </thead>\n",
              "  <tbody>\n",
              "    <tr>\n",
              "      <th>0</th>\n",
              "      <td>1.27828</td>\n",
              "      <td>4.96730</td>\n",
              "      <td>587.0550</td>\n",
              "    </tr>\n",
              "    <tr>\n",
              "      <th>1</th>\n",
              "      <td>1.29633</td>\n",
              "      <td>2.49561</td>\n",
              "      <td>685.1410</td>\n",
              "    </tr>\n",
              "    <tr>\n",
              "      <th>2</th>\n",
              "      <td>1.31463</td>\n",
              "      <td>1.68857</td>\n",
              "      <td>576.5430</td>\n",
              "    </tr>\n",
              "    <tr>\n",
              "      <th>3</th>\n",
              "      <td>1.33194</td>\n",
              "      <td>1.33313</td>\n",
              "      <td>396.4210</td>\n",
              "    </tr>\n",
              "    <tr>\n",
              "      <th>4</th>\n",
              "      <td>1.34753</td>\n",
              "      <td>1.13895</td>\n",
              "      <td>229.8200</td>\n",
              "    </tr>\n",
              "    <tr>\n",
              "      <th>...</th>\n",
              "      <td>...</td>\n",
              "      <td>...</td>\n",
              "      <td>...</td>\n",
              "    </tr>\n",
              "    <tr>\n",
              "      <th>973</th>\n",
              "      <td>1.46354</td>\n",
              "      <td>4.06947</td>\n",
              "      <td>59.7801</td>\n",
              "    </tr>\n",
              "    <tr>\n",
              "      <th>974</th>\n",
              "      <td>1.46406</td>\n",
              "      <td>4.04679</td>\n",
              "      <td>58.0553</td>\n",
              "    </tr>\n",
              "    <tr>\n",
              "      <th>975</th>\n",
              "      <td>1.46453</td>\n",
              "      <td>4.02620</td>\n",
              "      <td>56.4114</td>\n",
              "    </tr>\n",
              "    <tr>\n",
              "      <th>976</th>\n",
              "      <td>1.46495</td>\n",
              "      <td>4.00741</td>\n",
              "      <td>54.8488</td>\n",
              "    </tr>\n",
              "    <tr>\n",
              "      <th>977</th>\n",
              "      <td>1.46532</td>\n",
              "      <td>3.99021</td>\n",
              "      <td>53.3584</td>\n",
              "    </tr>\n",
              "  </tbody>\n",
              "</table>\n",
              "<p>978 rows × 3 columns</p>\n",
              "</div>\n",
              "      <button class=\"colab-df-convert\" onclick=\"convertToInteractive('df-7dd3d542-7a45-41c6-9339-33b2924f1f58')\"\n",
              "              title=\"Convert this dataframe to an interactive table.\"\n",
              "              style=\"display:none;\">\n",
              "        \n",
              "  <svg xmlns=\"http://www.w3.org/2000/svg\" height=\"24px\"viewBox=\"0 0 24 24\"\n",
              "       width=\"24px\">\n",
              "    <path d=\"M0 0h24v24H0V0z\" fill=\"none\"/>\n",
              "    <path d=\"M18.56 5.44l.94 2.06.94-2.06 2.06-.94-2.06-.94-.94-2.06-.94 2.06-2.06.94zm-11 1L8.5 8.5l.94-2.06 2.06-.94-2.06-.94L8.5 2.5l-.94 2.06-2.06.94zm10 10l.94 2.06.94-2.06 2.06-.94-2.06-.94-.94-2.06-.94 2.06-2.06.94z\"/><path d=\"M17.41 7.96l-1.37-1.37c-.4-.4-.92-.59-1.43-.59-.52 0-1.04.2-1.43.59L10.3 9.45l-7.72 7.72c-.78.78-.78 2.05 0 2.83L4 21.41c.39.39.9.59 1.41.59.51 0 1.02-.2 1.41-.59l7.78-7.78 2.81-2.81c.8-.78.8-2.07 0-2.86zM5.41 20L4 18.59l7.72-7.72 1.47 1.35L5.41 20z\"/>\n",
              "  </svg>\n",
              "      </button>\n",
              "      \n",
              "  <style>\n",
              "    .colab-df-container {\n",
              "      display:flex;\n",
              "      flex-wrap:wrap;\n",
              "      gap: 12px;\n",
              "    }\n",
              "\n",
              "    .colab-df-convert {\n",
              "      background-color: #E8F0FE;\n",
              "      border: none;\n",
              "      border-radius: 50%;\n",
              "      cursor: pointer;\n",
              "      display: none;\n",
              "      fill: #1967D2;\n",
              "      height: 32px;\n",
              "      padding: 0 0 0 0;\n",
              "      width: 32px;\n",
              "    }\n",
              "\n",
              "    .colab-df-convert:hover {\n",
              "      background-color: #E2EBFA;\n",
              "      box-shadow: 0px 1px 2px rgba(60, 64, 67, 0.3), 0px 1px 3px 1px rgba(60, 64, 67, 0.15);\n",
              "      fill: #174EA6;\n",
              "    }\n",
              "\n",
              "    [theme=dark] .colab-df-convert {\n",
              "      background-color: #3B4455;\n",
              "      fill: #D2E3FC;\n",
              "    }\n",
              "\n",
              "    [theme=dark] .colab-df-convert:hover {\n",
              "      background-color: #434B5C;\n",
              "      box-shadow: 0px 1px 3px 1px rgba(0, 0, 0, 0.15);\n",
              "      filter: drop-shadow(0px 1px 2px rgba(0, 0, 0, 0.3));\n",
              "      fill: #FFFFFF;\n",
              "    }\n",
              "  </style>\n",
              "\n",
              "      <script>\n",
              "        const buttonEl =\n",
              "          document.querySelector('#df-7dd3d542-7a45-41c6-9339-33b2924f1f58 button.colab-df-convert');\n",
              "        buttonEl.style.display =\n",
              "          google.colab.kernel.accessAllowed ? 'block' : 'none';\n",
              "\n",
              "        async function convertToInteractive(key) {\n",
              "          const element = document.querySelector('#df-7dd3d542-7a45-41c6-9339-33b2924f1f58');\n",
              "          const dataTable =\n",
              "            await google.colab.kernel.invokeFunction('convertToInteractive',\n",
              "                                                     [key], {});\n",
              "          if (!dataTable) return;\n",
              "\n",
              "          const docLinkHtml = 'Like what you see? Visit the ' +\n",
              "            '<a target=\"_blank\" href=https://colab.research.google.com/notebooks/data_table.ipynb>data table notebook</a>'\n",
              "            + ' to learn more about interactive tables.';\n",
              "          element.innerHTML = '';\n",
              "          dataTable['output_type'] = 'display_data';\n",
              "          await google.colab.output.renderOutput(dataTable, element);\n",
              "          const docLink = document.createElement('div');\n",
              "          docLink.innerHTML = docLinkHtml;\n",
              "          element.appendChild(docLink);\n",
              "        }\n",
              "      </script>\n",
              "    </div>\n",
              "  </div>\n",
              "  "
            ]
          },
          "metadata": {},
          "execution_count": 10
        }
      ]
    },
    {
      "cell_type": "code",
      "source": [],
      "metadata": {
        "id": "p0QuYZJ6OY2x"
      },
      "execution_count": null,
      "outputs": []
    }
  ],
  "metadata": {
    "colab": {
      "provenance": [],
      "include_colab_link": true
    },
    "kernelspec": {
      "display_name": "Python 3 (ipykernel)",
      "language": "python",
      "name": "python3"
    },
    "language_info": {
      "codemirror_mode": {
        "name": "ipython",
        "version": 3
      },
      "file_extension": ".py",
      "mimetype": "text/x-python",
      "name": "python",
      "nbconvert_exporter": "python",
      "pygments_lexer": "ipython3",
      "version": "3.9.15"
    },
    "accelerator": "GPU",
    "gpuClass": "standard"
  },
  "nbformat": 4,
  "nbformat_minor": 0
}