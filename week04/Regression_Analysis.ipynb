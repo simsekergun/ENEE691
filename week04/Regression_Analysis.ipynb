{
  "cells": [
    {
      "cell_type": "markdown",
      "metadata": {
        "id": "view-in-github",
        "colab_type": "text"
      },
      "source": [
        "<a href=\"https://colab.research.google.com/github/simsekergun/ENEE691/blob/main/week04/Regression_Analysis.ipynb\" target=\"_parent\"><img src=\"https://colab.research.google.com/assets/colab-badge.svg\" alt=\"Open In Colab\"/></a>"
      ]
    },
    {
      "cell_type": "code",
      "execution_count": 1,
      "metadata": {
        "colab": {
          "base_uri": "https://localhost:8080/",
          "height": 206
        },
        "id": "xVVt5oDyZgrD",
        "outputId": "fb426d07-65ee-4d48-e227-35447185b404"
      },
      "outputs": [
        {
          "output_type": "execute_result",
          "data": {
            "text/plain": [
              "     t1   t2   t3            d1            d2            d3          PN  \\\n",
              "0  1625  363  138  1.780000e+18  1.340000e+16  3.250000e+18 -161.121081   \n",
              "1  1813  406  119  7.500000e+18  5.470000e+16  8.290000e+18 -161.420393   \n",
              "2  1938  494  306  4.220000e+19  7.310000e+15  5.700000e+18 -162.376610   \n",
              "3  1500  450  250  1.000000e+19  2.000000e+16  2.240000e+18 -162.087268   \n",
              "4  1432  268  473  1.870000e+18  8.480000e+14  5.020000e+17 -160.281601   \n",
              "\n",
              "       Qeff          DT        BW  \n",
              "0  0.127847  119.739190  6.426738  \n",
              "1  0.142941  146.779380  5.777518  \n",
              "2  0.146864  113.419730  8.953805  \n",
              "3  0.181376  119.203478  7.439119  \n",
              "4  0.195884  125.800230  5.969470  "
            ],
            "text/html": [
              "\n",
              "  <div id=\"df-8d0b7928-1756-4fe4-b64d-18f73b493c7f\">\n",
              "    <div class=\"colab-df-container\">\n",
              "      <div>\n",
              "<style scoped>\n",
              "    .dataframe tbody tr th:only-of-type {\n",
              "        vertical-align: middle;\n",
              "    }\n",
              "\n",
              "    .dataframe tbody tr th {\n",
              "        vertical-align: top;\n",
              "    }\n",
              "\n",
              "    .dataframe thead th {\n",
              "        text-align: right;\n",
              "    }\n",
              "</style>\n",
              "<table border=\"1\" class=\"dataframe\">\n",
              "  <thead>\n",
              "    <tr style=\"text-align: right;\">\n",
              "      <th></th>\n",
              "      <th>t1</th>\n",
              "      <th>t2</th>\n",
              "      <th>t3</th>\n",
              "      <th>d1</th>\n",
              "      <th>d2</th>\n",
              "      <th>d3</th>\n",
              "      <th>PN</th>\n",
              "      <th>Qeff</th>\n",
              "      <th>DT</th>\n",
              "      <th>BW</th>\n",
              "    </tr>\n",
              "  </thead>\n",
              "  <tbody>\n",
              "    <tr>\n",
              "      <th>0</th>\n",
              "      <td>1625</td>\n",
              "      <td>363</td>\n",
              "      <td>138</td>\n",
              "      <td>1.780000e+18</td>\n",
              "      <td>1.340000e+16</td>\n",
              "      <td>3.250000e+18</td>\n",
              "      <td>-161.121081</td>\n",
              "      <td>0.127847</td>\n",
              "      <td>119.739190</td>\n",
              "      <td>6.426738</td>\n",
              "    </tr>\n",
              "    <tr>\n",
              "      <th>1</th>\n",
              "      <td>1813</td>\n",
              "      <td>406</td>\n",
              "      <td>119</td>\n",
              "      <td>7.500000e+18</td>\n",
              "      <td>5.470000e+16</td>\n",
              "      <td>8.290000e+18</td>\n",
              "      <td>-161.420393</td>\n",
              "      <td>0.142941</td>\n",
              "      <td>146.779380</td>\n",
              "      <td>5.777518</td>\n",
              "    </tr>\n",
              "    <tr>\n",
              "      <th>2</th>\n",
              "      <td>1938</td>\n",
              "      <td>494</td>\n",
              "      <td>306</td>\n",
              "      <td>4.220000e+19</td>\n",
              "      <td>7.310000e+15</td>\n",
              "      <td>5.700000e+18</td>\n",
              "      <td>-162.376610</td>\n",
              "      <td>0.146864</td>\n",
              "      <td>113.419730</td>\n",
              "      <td>8.953805</td>\n",
              "    </tr>\n",
              "    <tr>\n",
              "      <th>3</th>\n",
              "      <td>1500</td>\n",
              "      <td>450</td>\n",
              "      <td>250</td>\n",
              "      <td>1.000000e+19</td>\n",
              "      <td>2.000000e+16</td>\n",
              "      <td>2.240000e+18</td>\n",
              "      <td>-162.087268</td>\n",
              "      <td>0.181376</td>\n",
              "      <td>119.203478</td>\n",
              "      <td>7.439119</td>\n",
              "    </tr>\n",
              "    <tr>\n",
              "      <th>4</th>\n",
              "      <td>1432</td>\n",
              "      <td>268</td>\n",
              "      <td>473</td>\n",
              "      <td>1.870000e+18</td>\n",
              "      <td>8.480000e+14</td>\n",
              "      <td>5.020000e+17</td>\n",
              "      <td>-160.281601</td>\n",
              "      <td>0.195884</td>\n",
              "      <td>125.800230</td>\n",
              "      <td>5.969470</td>\n",
              "    </tr>\n",
              "  </tbody>\n",
              "</table>\n",
              "</div>\n",
              "      <button class=\"colab-df-convert\" onclick=\"convertToInteractive('df-8d0b7928-1756-4fe4-b64d-18f73b493c7f')\"\n",
              "              title=\"Convert this dataframe to an interactive table.\"\n",
              "              style=\"display:none;\">\n",
              "        \n",
              "  <svg xmlns=\"http://www.w3.org/2000/svg\" height=\"24px\"viewBox=\"0 0 24 24\"\n",
              "       width=\"24px\">\n",
              "    <path d=\"M0 0h24v24H0V0z\" fill=\"none\"/>\n",
              "    <path d=\"M18.56 5.44l.94 2.06.94-2.06 2.06-.94-2.06-.94-.94-2.06-.94 2.06-2.06.94zm-11 1L8.5 8.5l.94-2.06 2.06-.94-2.06-.94L8.5 2.5l-.94 2.06-2.06.94zm10 10l.94 2.06.94-2.06 2.06-.94-2.06-.94-.94-2.06-.94 2.06-2.06.94z\"/><path d=\"M17.41 7.96l-1.37-1.37c-.4-.4-.92-.59-1.43-.59-.52 0-1.04.2-1.43.59L10.3 9.45l-7.72 7.72c-.78.78-.78 2.05 0 2.83L4 21.41c.39.39.9.59 1.41.59.51 0 1.02-.2 1.41-.59l7.78-7.78 2.81-2.81c.8-.78.8-2.07 0-2.86zM5.41 20L4 18.59l7.72-7.72 1.47 1.35L5.41 20z\"/>\n",
              "  </svg>\n",
              "      </button>\n",
              "      \n",
              "  <style>\n",
              "    .colab-df-container {\n",
              "      display:flex;\n",
              "      flex-wrap:wrap;\n",
              "      gap: 12px;\n",
              "    }\n",
              "\n",
              "    .colab-df-convert {\n",
              "      background-color: #E8F0FE;\n",
              "      border: none;\n",
              "      border-radius: 50%;\n",
              "      cursor: pointer;\n",
              "      display: none;\n",
              "      fill: #1967D2;\n",
              "      height: 32px;\n",
              "      padding: 0 0 0 0;\n",
              "      width: 32px;\n",
              "    }\n",
              "\n",
              "    .colab-df-convert:hover {\n",
              "      background-color: #E2EBFA;\n",
              "      box-shadow: 0px 1px 2px rgba(60, 64, 67, 0.3), 0px 1px 3px 1px rgba(60, 64, 67, 0.15);\n",
              "      fill: #174EA6;\n",
              "    }\n",
              "\n",
              "    [theme=dark] .colab-df-convert {\n",
              "      background-color: #3B4455;\n",
              "      fill: #D2E3FC;\n",
              "    }\n",
              "\n",
              "    [theme=dark] .colab-df-convert:hover {\n",
              "      background-color: #434B5C;\n",
              "      box-shadow: 0px 1px 3px 1px rgba(0, 0, 0, 0.15);\n",
              "      filter: drop-shadow(0px 1px 2px rgba(0, 0, 0, 0.3));\n",
              "      fill: #FFFFFF;\n",
              "    }\n",
              "  </style>\n",
              "\n",
              "      <script>\n",
              "        const buttonEl =\n",
              "          document.querySelector('#df-8d0b7928-1756-4fe4-b64d-18f73b493c7f button.colab-df-convert');\n",
              "        buttonEl.style.display =\n",
              "          google.colab.kernel.accessAllowed ? 'block' : 'none';\n",
              "\n",
              "        async function convertToInteractive(key) {\n",
              "          const element = document.querySelector('#df-8d0b7928-1756-4fe4-b64d-18f73b493c7f');\n",
              "          const dataTable =\n",
              "            await google.colab.kernel.invokeFunction('convertToInteractive',\n",
              "                                                     [key], {});\n",
              "          if (!dataTable) return;\n",
              "\n",
              "          const docLinkHtml = 'Like what you see? Visit the ' +\n",
              "            '<a target=\"_blank\" href=https://colab.research.google.com/notebooks/data_table.ipynb>data table notebook</a>'\n",
              "            + ' to learn more about interactive tables.';\n",
              "          element.innerHTML = '';\n",
              "          dataTable['output_type'] = 'display_data';\n",
              "          await google.colab.output.renderOutput(dataTable, element);\n",
              "          const docLink = document.createElement('div');\n",
              "          docLink.innerHTML = docLinkHtml;\n",
              "          element.appendChild(docLink);\n",
              "        }\n",
              "      </script>\n",
              "    </div>\n",
              "  </div>\n",
              "  "
            ]
          },
          "metadata": {},
          "execution_count": 1
        }
      ],
      "source": [
        "# Importing the PIN Dataset\n",
        "\n",
        "import numpy as np\n",
        "import matplotlib.pyplot as plt\n",
        "import pandas as pd  \n",
        "\n",
        "df = pd.read_csv(\"https://raw.githubusercontent.com/simsekergun/MLPdatasets/main/pin_dataset1.csv\")\n",
        "df.head()"
      ]
    },
    {
      "cell_type": "code",
      "execution_count": 2,
      "metadata": {
        "colab": {
          "base_uri": "https://localhost:8080/"
        },
        "id": "A0fedy-O2_G5",
        "outputId": "72dbb00b-92c7-4559-fc49-410f4aaf59e0"
      },
      "outputs": [
        {
          "output_type": "execute_result",
          "data": {
            "text/plain": [
              "(200, 10)"
            ]
          },
          "metadata": {},
          "execution_count": 2
        }
      ],
      "source": [
        "df.shape      # to know no. of rows and columns"
      ]
    },
    {
      "cell_type": "code",
      "execution_count": 3,
      "metadata": {
        "colab": {
          "base_uri": "https://localhost:8080/"
        },
        "id": "DC51gBgP348P",
        "outputId": "e76983e5-4420-49ad-d4d2-9047690a7b77"
      },
      "outputs": [
        {
          "output_type": "execute_result",
          "data": {
            "text/plain": [
              "t1      0\n",
              "t2      0\n",
              "t3      0\n",
              "d1      0\n",
              "d2      0\n",
              "d3      0\n",
              "PN      0\n",
              "Qeff    0\n",
              "DT      0\n",
              "BW      0\n",
              "dtype: int64"
            ]
          },
          "metadata": {},
          "execution_count": 3
        }
      ],
      "source": [
        "df.isnull().sum()         # to check if there is any missing value"
      ]
    },
    {
      "cell_type": "code",
      "execution_count": 4,
      "metadata": {
        "colab": {
          "base_uri": "https://localhost:8080/"
        },
        "id": "Poycb0NM4eFV",
        "outputId": "d88c5c29-396c-4cba-c11e-a92d52e92ffa"
      },
      "outputs": [
        {
          "output_type": "execute_result",
          "data": {
            "text/plain": [
              "t1        int64\n",
              "t2        int64\n",
              "t3        int64\n",
              "d1      float64\n",
              "d2      float64\n",
              "d3      float64\n",
              "PN      float64\n",
              "Qeff    float64\n",
              "DT      float64\n",
              "BW      float64\n",
              "dtype: object"
            ]
          },
          "metadata": {},
          "execution_count": 4
        }
      ],
      "source": [
        "df.dtypes"
      ]
    },
    {
      "cell_type": "markdown",
      "metadata": {
        "id": "B6j6L1SfZgrF"
      },
      "source": [
        "$\\color{ForestGreen}{\\text{Predict the quantum efficiency using phase noise}}$"
      ]
    },
    {
      "cell_type": "code",
      "execution_count": 5,
      "metadata": {
        "id": "Mq-enN3IZgrF"
      },
      "outputs": [],
      "source": [
        "# Defining the feature and the target of the model\n",
        "\n",
        "X = df[['PN']]                 # Feature\n",
        "y = df[['Qeff']]               # Target "
      ]
    },
    {
      "cell_type": "markdown",
      "metadata": {
        "id": "q5mpDIKkZgrF"
      },
      "source": [
        "The linear model is now $y = \\omega_1 X_1 + \\omega_0$, where $X_1$ refers to `PN`. $\\omega_1$ is the coefficient of regression, and the constant $\\omega_0$ is the intercept (*i.e.* bias term)."
      ]
    },
    {
      "cell_type": "code",
      "execution_count": 6,
      "metadata": {
        "id": "aS31hdrUZgrF"
      },
      "outputs": [],
      "source": [
        "# Breaking the data into train and test subsets\n",
        "\n",
        "from sklearn.model_selection import train_test_split\n",
        "\n",
        "X_train, X_test, y_train, y_test = train_test_split(X, y, test_size=0.3, random_state=3)"
      ]
    },
    {
      "cell_type": "markdown",
      "metadata": {
        "id": "vlLQm60To26G"
      },
      "source": [
        "### $\\color{ForestGreen}{\\text{Performing Regression through }\\textsf{scikit-learn}}$"
      ]
    },
    {
      "cell_type": "code",
      "execution_count": 7,
      "metadata": {
        "colab": {
          "base_uri": "https://localhost:8080/"
        },
        "id": "bAcsg37tZgrF",
        "outputId": "d749b433-d383-4b5d-c2f9-17db8f99dfa6"
      },
      "outputs": [
        {
          "output_type": "stream",
          "name": "stdout",
          "text": [
            "R^2 score for train dataset =  0.6462 \n",
            "\n",
            "Coefficients of Linear Model: [[-0.0290857]] \n",
            "\n",
            "Intercept: [-4.52400226]\n"
          ]
        }
      ],
      "source": [
        "# Importing 'LinearRegression' through linear_model module\n",
        "\n",
        "from sklearn.linear_model import LinearRegression  \n",
        "\n",
        "reg = LinearRegression()         # Instantiate\n",
        "reg.fit(X_train, y_train)        # Fit the train data\n",
        "\n",
        "r2_train_score = reg.score(X_train, y_train)   # Calculating R^2 score for train\n",
        "\n",
        "print('R^2 score for train dataset = ', round(r2_train_score, 4), '\\n')\n",
        "print('Coefficients of Linear Model:', reg.coef_, '\\n')\n",
        "print('Intercept:', reg.intercept_)"
      ]
    },
    {
      "cell_type": "code",
      "execution_count": 8,
      "metadata": {
        "colab": {
          "base_uri": "https://localhost:8080/"
        },
        "id": "c3EQpApzZgrF",
        "outputId": "3802e13d-2a7b-4d7e-bcb5-890c55c85469"
      },
      "outputs": [
        {
          "output_type": "execute_result",
          "data": {
            "text/plain": [
              "array([[0.29433772],\n",
              "       [0.31366907],\n",
              "       [0.42008194],\n",
              "       [0.44967163],\n",
              "       [0.43908034],\n",
              "       [0.3398191 ],\n",
              "       [0.43807007],\n",
              "       [0.3034589 ],\n",
              "       [0.35224422],\n",
              "       [0.3565935 ]])"
            ]
          },
          "metadata": {},
          "execution_count": 8
        }
      ],
      "source": [
        "# Finding the predictions of the model for test dataset\n",
        "\n",
        "y_pred = reg.predict(X_test)\n",
        "\n",
        "y_pred[:10]  # Representing the Qeff prediction for the first 10 data points in test dataset"
      ]
    },
    {
      "cell_type": "code",
      "execution_count": 9,
      "metadata": {
        "colab": {
          "base_uri": "https://localhost:8080/"
        },
        "id": "CPsfLtUlZgrF",
        "outputId": "4fc5df40-b020-425c-eb1c-3bc658a2edc6"
      },
      "outputs": [
        {
          "output_type": "stream",
          "name": "stdout",
          "text": [
            "R^2 score for test dataset =  0.6863 \n",
            "\n"
          ]
        }
      ],
      "source": [
        "# Evaluating the performance of the model on the test dataset\n",
        "\n",
        "r2_test_score = reg.score(X_test, y_test)   # Calculating R^2 score for test\n",
        "\n",
        "print('R^2 score for test dataset = ', round(r2_test_score, 4), '\\n')"
      ]
    },
    {
      "cell_type": "code",
      "execution_count": 10,
      "metadata": {
        "colab": {
          "base_uri": "https://localhost:8080/",
          "height": 350
        },
        "id": "OMu0G6CRZgrF",
        "outputId": "2d61e988-ae3d-47d2-b404-29c3337ee1d2"
      },
      "outputs": [
        {
          "output_type": "display_data",
          "data": {
            "text/plain": [
              "<Figure size 576x360 with 1 Axes>"
            ],
            "image/png": "[encoded data removed]"
          },
          "metadata": {
            "needs_background": "light"
          }
        }
      ],
      "source": [
        "# Let's plot predictions vs ground truth for 'Qeff'\n",
        "\n",
        "fig, ax = plt.subplots(figsize=(8,5))\n",
        "\n",
        "ax.scatter(y_test, y_pred, edgecolors=(0.3, 0.2, 0.7))  # Scatter plot for predictions vs truth\n",
        "ax.plot([y_test.min(), y_test.max()], [y_test.min(), y_test.max()], 'k--', lw=4)  # Draw line y=x\n",
        "\n",
        "ax.set_xlabel('Real Qeff')\n",
        "ax.set_ylabel('Predicted Qeff')\n",
        "plt.title('Prediction vs Ground Truth', fontdict=None, loc='center')\n",
        "plt.show()"
      ]
    },
    {
      "cell_type": "markdown",
      "metadata": {
        "id": "dTXHpLu5ZgrF"
      },
      "source": [
        "The closer a point in above plot is to the $y=x$ line, the more realistic the prediction for the `Qeff` is. \n",
        "\n",
        "We can see here that not all the points are close to the line which means the prediction is not very good."
      ]
    },
    {
      "cell_type": "markdown",
      "metadata": {
        "id": "1ypQpQxN3uMn"
      },
      "source": [
        "### $\\color{ForestGreen}{\\text{Predict the phase noise}}$"
      ]
    },
    {
      "cell_type": "markdown",
      "metadata": {
        "id": "tAAAeDI5ZgrE"
      },
      "source": [
        "$\\color{ForestGreen}{\\text{Calculating Pearson Correlation between Variables}}$\n"
      ]
    },
    {
      "cell_type": "code",
      "execution_count": 11,
      "metadata": {
        "colab": {
          "base_uri": "https://localhost:8080/",
          "height": 269
        },
        "id": "OG-cfBw_ZgrE",
        "outputId": "288cf957-abde-411d-8efc-66ab6bb0c447"
      },
      "outputs": [
        {
          "output_type": "display_data",
          "data": {
            "text/plain": [
              "<Figure size 432x288 with 2 Axes>"
            ],
            "image/png": "[encoded data removed]"
          },
          "metadata": {
            "needs_background": "light"
          }
        }
      ],
      "source": [
        "import matplotlib.pyplot as plt\n",
        "import seaborn as sns \n",
        "from scipy.stats import kendalltau   # For Kendall correlation\n",
        "\n",
        "cols = df.columns[:7]     # List of colmuns of the dataframe\n",
        "\n",
        "cm = np.corrcoef(df[cols].values.T)     # Calculate Pearson correlation\n",
        "hm = sns.heatmap(abs(cm))\n",
        "plt.show()"
      ]
    },
    {
      "cell_type": "markdown",
      "metadata": {
        "id": "Kf0UHUjbZgrE"
      },
      "source": [
        "The above matrix shows that `t1` and `t2` have the highest correlations with the target variable `PN`. Therefore, as our first step in our regression, we identify `t1` and `t2` as the two features to explain the target `PN`. Now, let's check the Spearman correlation. This is a cross check to make sure that we have not missed any influential variable (on `PN`) that Pearson correlation hasn't been able to detect."
      ]
    },
    {
      "cell_type": "code",
      "execution_count": 12,
      "metadata": {
        "colab": {
          "base_uri": "https://localhost:8080/"
        },
        "id": "3ais8fUTZgrE",
        "outputId": "1d99864c-0fdb-4c25-a7bb-6e72142122a7",
        "scrolled": true
      },
      "outputs": [
        {
          "output_type": "stream",
          "name": "stdout",
          "text": [
            "Spearman correlation between PN and t1 is 0.6802\n",
            "Spearman correlation between PN and t2 is -0.7705\n",
            "Spearman correlation between PN and t3 is -0.4798\n",
            "Spearman correlation between PN and d1 is 0.0351\n",
            "Spearman correlation between PN and d2 is 0.2031\n",
            "Spearman correlation between PN and d3 is 0.2953\n"
          ]
        }
      ],
      "source": [
        "# Calculate Spearman correlation coefficient between 'PN' and each feature \n",
        "from scipy.stats import spearmanr    # For Spearman correlation\n",
        "\n",
        "for col in cols[:-1]:\n",
        "    rho, p = spearmanr(df[col].values, df['PN'].values)\n",
        "    print('Spearman correlation between PN and %s is %s' %(col, round(rho, 4)))"
      ]
    },
    {
      "cell_type": "markdown",
      "metadata": {
        "id": "tQOKeTEnZgrE"
      },
      "source": [
        "It is again observed that the dominant effect comes from the two variables `t1` (with $\\rho=0.6802$) and `t2` (with $\\rho=-0.7705$). The Pearson and Spearman correlations agree on the role of the dominant variables."
      ]
    },
    {
      "cell_type": "markdown",
      "metadata": {
        "id": "cJFtget14jpk"
      },
      "source": [
        "### $\\color{ForestGreen}{\\text{Performing Regression through }\\textsf{scikit-learn}}$"
      ]
    },
    {
      "cell_type": "code",
      "execution_count": 13,
      "metadata": {
        "id": "L6Tgm3B0o2da"
      },
      "outputs": [],
      "source": [
        "# Defining the features and the target of the model\n",
        "\n",
        "X = df[cols[:2]]                # Features\n",
        "y = df[['PN']]                  # Target "
      ]
    },
    {
      "cell_type": "code",
      "execution_count": 14,
      "metadata": {
        "id": "W3Gg_nCao26F"
      },
      "outputs": [],
      "source": [
        "# Breaking the data into train and test subsets\n",
        "\n",
        "from sklearn.model_selection import train_test_split\n",
        "\n",
        "X_train, X_test, y_train, y_test = train_test_split(X, y, test_size=0.3, random_state=3)"
      ]
    },
    {
      "cell_type": "code",
      "execution_count": 15,
      "metadata": {
        "colab": {
          "base_uri": "https://localhost:8080/"
        },
        "id": "-lK00nBWo26G",
        "outputId": "642d12fd-5678-4c41-ed92-85b2c3a88485"
      },
      "outputs": [
        {
          "output_type": "stream",
          "name": "stdout",
          "text": [
            "R^2 score for train dataset =  0.9185 \n",
            "\n",
            "Coefficients of Linear Model: [[ 0.00240653 -0.00986512]] \n",
            "\n",
            "Intercept: [-161.96202025]\n"
          ]
        }
      ],
      "source": [
        "# Importing 'LinearRegression' through linear_model module\n",
        "\n",
        "from sklearn.linear_model import LinearRegression  \n",
        "\n",
        "reg = LinearRegression()         # Instantiate\n",
        "reg.fit(X_train, y_train)        # Fit the train data\n",
        "\n",
        "r2_train_score = reg.score(X_train, y_train)   # Calculating R^2 score for train\n",
        "\n",
        "print('R^2 score for train dataset = ', round(r2_train_score, 4), '\\n')\n",
        "print('Coefficients of Linear Model:', reg.coef_, '\\n')\n",
        "print('Intercept:', reg.intercept_)"
      ]
    },
    {
      "cell_type": "code",
      "execution_count": 16,
      "metadata": {
        "colab": {
          "base_uri": "https://localhost:8080/"
        },
        "id": "tai8Yhvyo26H",
        "outputId": "6e71c9eb-bb9b-4a35-a44b-97b34fba826e"
      },
      "outputs": [
        {
          "output_type": "execute_result",
          "data": {
            "text/plain": [
              "array([[-166.42703086],\n",
              "       [-165.82076695],\n",
              "       [-168.96735833],\n",
              "       [-171.54703017],\n",
              "       [-170.07376956],\n",
              "       [-167.30319243],\n",
              "       [-170.73319349],\n",
              "       [-166.49700325],\n",
              "       [-168.39301892],\n",
              "       [-166.79319063]])"
            ]
          },
          "metadata": {},
          "execution_count": 16
        }
      ],
      "source": [
        "# Finding the predictions of the model for test dataset\n",
        "\n",
        "y_pred = reg.predict(X_test)\n",
        "\n",
        "y_pred[:10]  # Representing the PN prediction for the first 10 data points in test dataset"
      ]
    },
    {
      "cell_type": "code",
      "execution_count": 17,
      "metadata": {
        "colab": {
          "base_uri": "https://localhost:8080/"
        },
        "id": "alaQkCIto26H",
        "outputId": "e92d89b8-687c-45b6-bfed-8ad1d0bb401c"
      },
      "outputs": [
        {
          "output_type": "stream",
          "name": "stdout",
          "text": [
            "R^2 score for test dataset =  0.9328 \n",
            "\n"
          ]
        }
      ],
      "source": [
        "# Evaluating the performance of the model on the test dataset\n",
        "\n",
        "r2_test_score = reg.score(X_test, y_test)   # Calculating R^2 score for test\n",
        "\n",
        "print('R^2 score for test dataset = ', round(r2_test_score, 4), '\\n')"
      ]
    },
    {
      "cell_type": "code",
      "execution_count": 18,
      "metadata": {
        "colab": {
          "base_uri": "https://localhost:8080/",
          "height": 350
        },
        "id": "I-f5zJgxo26H",
        "outputId": "41cee98f-0878-4bce-b03f-bdb0fb9e6183"
      },
      "outputs": [
        {
          "output_type": "display_data",
          "data": {
            "text/plain": [
              "<Figure size 576x360 with 1 Axes>"
            ],
            "image/png": "[encoded data removed]"
          },
          "metadata": {
            "needs_background": "light"
          }
        }
      ],
      "source": [
        "# Let's plot predictions vs ground truth for 'PN'\n",
        "\n",
        "fig, ax = plt.subplots(figsize=(8,5))\n",
        "\n",
        "ax.scatter(y_test, y_pred, edgecolors=(0.3, 0.2, 0.7))  # Scatter plot for predictions vs truth\n",
        "ax.plot([y_test.min(), y_test.max()], [y_test.min(), y_test.max()], 'k--', lw=4)  # Draw line y=x\n",
        "\n",
        "ax.set_xlabel('Real PN')\n",
        "ax.set_ylabel('Predicted PN')\n",
        "plt.title('Prediction vs Ground Truth', fontdict=None, loc='center')\n",
        "plt.show()"
      ]
    },
    {
      "cell_type": "markdown",
      "metadata": {
        "id": "FaTpxMSL1iT4"
      },
      "source": [
        "The closer a point in above plot is to the $y=x$ line, the more realistic the prediction for the `PN` is.\n",
        "\n",
        "Here the data points are much closer to the line."
      ]
    },
    {
      "cell_type": "markdown",
      "metadata": {
        "id": "5KppAwUz5CiY"
      },
      "source": [
        "### $\\color{ForestGreen}{\\text{Predict the quantum efficiency}}$"
      ]
    },
    {
      "cell_type": "markdown",
      "metadata": {
        "id": "fcO02rTz5RrL"
      },
      "source": [
        "$\\color{ForestGreen}{\\text{Calculating Pearson Correlation between Variables}}$\n"
      ]
    },
    {
      "cell_type": "code",
      "execution_count": 19,
      "metadata": {
        "colab": {
          "base_uri": "https://localhost:8080/",
          "height": 269
        },
        "id": "MfDqq37GqQcR",
        "outputId": "a50e302f-e08f-45c5-a904-2b890433f59b"
      },
      "outputs": [
        {
          "output_type": "display_data",
          "data": {
            "text/plain": [
              "<Figure size 432x288 with 2 Axes>"
            ],
            "image/png": "[encoded data removed]"
          },
          "metadata": {
            "needs_background": "light"
          }
        }
      ],
      "source": [
        "import matplotlib.pyplot as plt\n",
        "import seaborn as sns \n",
        "from scipy.stats import kendalltau   # For Kendall correlation\n",
        "\n",
        "c = ['t1', 't2', 't3', 'd1', 'd2', 'd3', 'Qeff']\n",
        "\n",
        "cols = df[c].columns    # List of colmuns of the dataframe\n",
        "\n",
        "cm = np.corrcoef(df[cols].values.T)     # Calculate Pearson correlation\n",
        "hm = sns.heatmap(abs(cm))  # Represent correlation by a heat map\n",
        "plt.show()"
      ]
    },
    {
      "cell_type": "markdown",
      "metadata": {
        "id": "EsKzSvqKqQcS"
      },
      "source": [
        "The above matrix shows that `t1`, `t2` and `t3` have the highest correlations with the target variable `Qeff`. Therefore, as our first step in our regression, we identify `t1`, `t2` and `t3` as the three features to explain the target `Qeff`. Now, let's check the Spearman correlation. This is a cross check to make sure that we have not missed any inluential variable (on `Qeff`) that Pearson correlation hasn't been able to detect."
      ]
    },
    {
      "cell_type": "code",
      "execution_count": 20,
      "metadata": {
        "colab": {
          "base_uri": "https://localhost:8080/"
        },
        "id": "_OIT-9HRqQcS",
        "outputId": "650081b2-623d-4df1-ce82-55943fa46996",
        "scrolled": true
      },
      "outputs": [
        {
          "output_type": "stream",
          "name": "stdout",
          "text": [
            "Spearman correlation between Qeff and t1 is -0.6429\n",
            "Spearman correlation between Qeff and t2 is 0.6707\n",
            "Spearman correlation between Qeff and t3 is 0.8374\n",
            "Spearman correlation between Qeff and d1 is -0.0406\n",
            "Spearman correlation between Qeff and d2 is -0.1754\n",
            "Spearman correlation between Qeff and d3 is -0.4013\n"
          ]
        }
      ],
      "source": [
        "# Calculate Spearman correlation coefficient between 'Qeff' and each feature \n",
        "from scipy.stats import spearmanr    # For Spearman correlation\n",
        "\n",
        "for col in cols[:-1]:\n",
        "    rho, p = spearmanr(df[col].values, df['Qeff'].values)\n",
        "    print('Spearman correlation between Qeff and %s is %s' %(col, round(rho, 4)))"
      ]
    },
    {
      "cell_type": "markdown",
      "metadata": {
        "id": "9xehOgjI0Z_U"
      },
      "source": [
        "It is again observed that the dominant effect comes from the three variables `t1` (with $\\rho=-0.6429$), `t2` (with $\\rho=0.6707$) and `t3` (with $\\rho=0.8374$). The Pearson and Spearman correlations agree on the role of the dominant variables.\n",
        "\n"
      ]
    },
    {
      "cell_type": "markdown",
      "metadata": {
        "id": "osZ5LPw450py"
      },
      "source": [
        "### $\\color{ForestGreen}{\\text{Performing Regression through }\\textsf{scikit-learn}}$"
      ]
    },
    {
      "cell_type": "code",
      "execution_count": 21,
      "metadata": {
        "id": "BFiJ061AwxSh"
      },
      "outputs": [],
      "source": [
        "# Defining the features and the target of the model\n",
        "\n",
        "X = df[cols[:3]]                # Features\n",
        "y = df[['Qeff']]               # Target "
      ]
    },
    {
      "cell_type": "code",
      "execution_count": 22,
      "metadata": {
        "id": "T1SZ3UMnwxSj"
      },
      "outputs": [],
      "source": [
        "# Breaking the data into train and test subsets\n",
        "\n",
        "from sklearn.model_selection import train_test_split\n",
        "\n",
        "X_train, X_test, y_train, y_test = train_test_split(X, y, test_size=0.3, random_state=3)"
      ]
    },
    {
      "cell_type": "code",
      "execution_count": 23,
      "metadata": {
        "colab": {
          "base_uri": "https://localhost:8080/"
        },
        "id": "qf2yN7YawxSj",
        "outputId": "c69d1813-6883-49d8-ddda-6c0404bd7096"
      },
      "outputs": [
        {
          "output_type": "stream",
          "name": "stdout",
          "text": [
            "R^2 score for train dataset =  0.9801 \n",
            "\n",
            "Coefficients of Linear Model: [[-7.21293744e-05  1.95226816e-04  1.82729618e-04]] \n",
            "\n",
            "Intercept: [0.14996192]\n"
          ]
        }
      ],
      "source": [
        "# Importing 'LinearRegression' through linear_model module\n",
        "\n",
        "from sklearn.linear_model import LinearRegression  \n",
        "\n",
        "reg = LinearRegression()         # Instantiate\n",
        "reg.fit(X_train, y_train)        # Fit the train data\n",
        "\n",
        "r2_train_score = reg.score(X_train, y_train)   # Calculating R^2 score for train\n",
        "\n",
        "print('R^2 score for train dataset = ', round(r2_train_score, 4), '\\n')\n",
        "print('Coefficients of Linear Model:', reg.coef_, '\\n')\n",
        "print('Intercept:', reg.intercept_)"
      ]
    },
    {
      "cell_type": "code",
      "execution_count": 24,
      "metadata": {
        "colab": {
          "base_uri": "https://localhost:8080/"
        },
        "id": "_hCEBDdGwxSj",
        "outputId": "d8bf0259-d821-44a3-fdf3-1fae3e3e51b6"
      },
      "outputs": [
        {
          "output_type": "execute_result",
          "data": {
            "text/plain": [
              "array([[0.25414513],\n",
              "       [0.24957537],\n",
              "       [0.35306449],\n",
              "       [0.51992451],\n",
              "       [0.43019417],\n",
              "       [0.30277808],\n",
              "       [0.43881116],\n",
              "       [0.24078971],\n",
              "       [0.26053308],\n",
              "       [0.31316042]])"
            ]
          },
          "metadata": {},
          "execution_count": 24
        }
      ],
      "source": [
        "# Finding the predictions of the model for test dataset\n",
        "\n",
        "y_pred = reg.predict(X_test)\n",
        "\n",
        "y_pred[:10]  # Representing the Qeff prediction for the first 10 data points in test dataset"
      ]
    },
    {
      "cell_type": "code",
      "execution_count": 25,
      "metadata": {
        "colab": {
          "base_uri": "https://localhost:8080/"
        },
        "id": "zZpYKer7wxSk",
        "outputId": "4866630f-3a90-46cb-ff46-13aaf062fd14"
      },
      "outputs": [
        {
          "output_type": "stream",
          "name": "stdout",
          "text": [
            "R^2 score for test dataset =  0.9799 \n",
            "\n"
          ]
        }
      ],
      "source": [
        "# Evaluating the performance of the model on the test dataset\n",
        "\n",
        "r2_test_score = reg.score(X_test, y_test)   # Calculating R^2 score for test\n",
        "\n",
        "print('R^2 score for test dataset = ', round(r2_test_score, 4), '\\n')"
      ]
    },
    {
      "cell_type": "code",
      "execution_count": 26,
      "metadata": {
        "colab": {
          "base_uri": "https://localhost:8080/",
          "height": 350
        },
        "id": "UkXCyqsTwxSk",
        "outputId": "a7188a84-0f58-4903-8e60-61fc67a1522d",
        "scrolled": true
      },
      "outputs": [
        {
          "output_type": "display_data",
          "data": {
            "text/plain": [
              "<Figure size 576x360 with 1 Axes>"
            ],
            "image/png": "[encoded data removed]"
          },
          "metadata": {
            "needs_background": "light"
          }
        }
      ],
      "source": [
        "# Let's plot predictions vs ground truth for 'Qeff'\n",
        "\n",
        "fig, ax = plt.subplots(figsize=(8,5))\n",
        "\n",
        "ax.scatter(y_test, y_pred, edgecolors=(0.3, 0.2, 0.7))  # Scatter plot for predictions vs truth\n",
        "ax.plot([y_test.min(), y_test.max()], [y_test.min(), y_test.max()], 'k--', lw=4)  # Draw line y=x\n",
        "\n",
        "ax.set_xlabel('Real Qeff')\n",
        "ax.set_ylabel('Predicted Qeff')\n",
        "plt.title('Prediction vs Ground Truth', fontdict=None, loc='center')\n",
        "plt.show()"
      ]
    },
    {
      "cell_type": "markdown",
      "metadata": {
        "id": "jeBH8lje66Fp"
      },
      "source": [
        "If we compare the above scatter plot with the scatter plot we got when we were using only `PN` as our feature variable, we will see that the data points in above scatter plot are very close to the line as compared to the first plot. The predictions for `Qeff` are much more accurate when we are using `t1`, `t2` and `t3` as target variables instead of using only `PN`.\n",
        "\n",
        "The R^2 score was around 65% when only `PN` was considered where the R^2 score increased to 98% when `t1`, `t2` and `t3` are used."
      ]
    },
    {
      "cell_type": "markdown",
      "source": [
        "## $\\color{ForestGreen}{\\text{Performing Regression through }\\textsf{StatsModels}}$\n",
        "\n",
        "An alternative to $\\textsf{scikit-learn}$ library is $\\textsf{StatsModels}$. We now solve the same problem using $\\textsf{StatsModels}$."
      ],
      "metadata": {
        "id": "ovCMtUYJuK78"
      }
    },
    {
      "cell_type": "code",
      "source": [
        "import statsmodels.api as sm"
      ],
      "metadata": {
        "id": "z3DAhfOEuDDW"
      },
      "execution_count": 27,
      "outputs": []
    },
    {
      "cell_type": "code",
      "source": [
        "XC_train = sm.add_constant(X_train) # Creating the bias term omega_0\n",
        "model = sm.OLS(y_train, XC_train) # Defining model and the data into the model\n",
        "results = model.fit() # Fitting the data into the model \n",
        "print('Summary:\\n', results.summary()) # Printing the summary of results"
      ],
      "metadata": {
        "colab": {
          "base_uri": "https://localhost:8080/"
        },
        "id": "oBsE7y3LuS-w",
        "outputId": "878cb79d-191d-414e-d7ff-7a201f0c04f9"
      },
      "execution_count": 28,
      "outputs": [
        {
          "output_type": "stream",
          "name": "stdout",
          "text": [
            "Summary:\n",
            "                             OLS Regression Results                            \n",
            "==============================================================================\n",
            "Dep. Variable:                   Qeff   R-squared:                       0.980\n",
            "Model:                            OLS   Adj. R-squared:                  0.980\n",
            "Method:                 Least Squares   F-statistic:                     2228.\n",
            "Date:                Tue, 21 Feb 2023   Prob (F-statistic):          2.23e-115\n",
            "Time:                        04:16:42   Log-Likelihood:                 401.31\n",
            "No. Observations:                 140   AIC:                            -794.6\n",
            "Df Residuals:                     136   BIC:                            -782.9\n",
            "Df Model:                           3                                         \n",
            "Covariance Type:            nonrobust                                         \n",
            "==============================================================================\n",
            "                 coef    std err          t      P>|t|      [0.025      0.975]\n",
            "------------------------------------------------------------------------------\n",
            "const          0.1500      0.006     25.575      0.000       0.138       0.162\n",
            "t1         -7.213e-05    2.4e-06    -29.996      0.000   -7.69e-05   -6.74e-05\n",
            "t2             0.0002   6.19e-06     31.558      0.000       0.000       0.000\n",
            "t3             0.0002   4.42e-06     41.338      0.000       0.000       0.000\n",
            "==============================================================================\n",
            "Omnibus:                       10.494   Durbin-Watson:                   1.993\n",
            "Prob(Omnibus):                  0.005   Jarque-Bera (JB):               13.227\n",
            "Skew:                          -0.462   Prob(JB):                      0.00134\n",
            "Kurtosis:                       4.189   Cond. No.                     6.63e+03\n",
            "==============================================================================\n",
            "\n",
            "Notes:\n",
            "[1] Standard Errors assume that the covariance matrix of the errors is correctly specified.\n",
            "[2] The condition number is large, 6.63e+03. This might indicate that there are\n",
            "strong multicollinearity or other numerical problems.\n"
          ]
        },
        {
          "output_type": "stream",
          "name": "stderr",
          "text": [
            "/usr/local/lib/python3.8/dist-packages/statsmodels/tsa/tsatools.py:142: FutureWarning: In a future version of pandas all arguments of concat except for the argument 'objs' will be keyword-only\n",
            "  x = pd.concat(x[::order], 1)\n"
          ]
        }
      ]
    },
    {
      "cell_type": "code",
      "source": [
        "XC_test = sm.add_constant(X_test) # Adding bias for the test set\n",
        "y_pred_sm = results.predict(XC_test) # Finding the predictions for the test set\n",
        "\n",
        "print(y_pred_sm.values[:10],'\\n') # Printing the predictions for the test set "
      ],
      "metadata": {
        "colab": {
          "base_uri": "https://localhost:8080/"
        },
        "id": "M3PUJLu2uo7w",
        "outputId": "7de0324f-455c-4cbf-a944-a8acdf44079a"
      },
      "execution_count": 29,
      "outputs": [
        {
          "output_type": "stream",
          "name": "stdout",
          "text": [
            "[0.25414513 0.24957537 0.35306449 0.51992451 0.43019417 0.30277808\n",
            " 0.43881116 0.24078971 0.26053308 0.31316042] \n",
            "\n"
          ]
        },
        {
          "output_type": "stream",
          "name": "stderr",
          "text": [
            "/usr/local/lib/python3.8/dist-packages/statsmodels/tsa/tsatools.py:142: FutureWarning: In a future version of pandas all arguments of concat except for the argument 'objs' will be keyword-only\n",
            "  x = pd.concat(x[::order], 1)\n"
          ]
        }
      ]
    },
    {
      "cell_type": "code",
      "source": [
        "# Let us compare the predictions of StatsModels with Scikit-learn\n",
        "rd_array = np.vectorize(round) # Rounding numpy arrays \n",
        "print(rd_array(y_pred[:20].T - y_pred_sm.values[:20], 6)) # Subtract predictions of StatModels from Scikit-learn"
      ],
      "metadata": {
        "colab": {
          "base_uri": "https://localhost:8080/"
        },
        "id": "JSzaFM1bvGng",
        "outputId": "91722cf4-e4b0-4e30-a21d-3dee972b287c"
      },
      "execution_count": 30,
      "outputs": [
        {
          "output_type": "stream",
          "name": "stdout",
          "text": [
            "[[-0. -0. -0. -0. -0. -0. -0. -0. -0. -0. -0. -0. -0. -0. -0. -0. -0. -0.\n",
            "  -0. -0.]]\n"
          ]
        }
      ]
    },
    {
      "cell_type": "markdown",
      "source": [
        "The above results show that the predictions of the StatsModels are in perfect agreement with those of scikit-learn, as they should!"
      ],
      "metadata": {
        "id": "-nF386rMvwAV"
      }
    },
    {
      "cell_type": "markdown",
      "source": [
        "## $\\color{ForestGreen}{\\text{Performing Regression using the Exact Formula}}$\n",
        "\n",
        "As you noticed, this dataset is not that big in size. Hence, we may find the *exact result* of regression through the exact formula we derived in the lecture: $\\omega^{\\mathsf{T}}=\\big(\\mathbb{X}^{\\mathsf{T}}\\mathbb{X}\\big)^{-1}\\,\\mathbb{X}^{\\mathsf{T}}\\mathbb{Y}$. We can easily implement this formula into code using $\\textsf{numpy}$."
      ],
      "metadata": {
        "id": "Yrr_C2D9v0ua"
      }
    },
    {
      "cell_type": "code",
      "source": [
        " # Defining a function to calculate omega from X and Y\n",
        "from numpy.linalg import inv # Import 'inv' to calculate inverse matrix\n",
        "\n",
        "def exact_reg(X, Y):\n",
        "  X = np.insert(X, 0, np.ones(X.shape[0]), axis=1) # Adding a column of 1's\n",
        "  OmegaT = np.matmul(inv(np.matmul(X.T, X)), np.matmul(X.T, Y)) # Using the exact formula\n",
        "  Y_hat = np.matmul(X, OmegaT) # Predicted values of y\n",
        "  return OmegaT, Y_hat"
      ],
      "metadata": {
        "id": "NeEYrfn3vTQj"
      },
      "execution_count": 31,
      "outputs": []
    },
    {
      "cell_type": "code",
      "source": [
        " # Let's compare the exact results for coefficients and intercept with the results of scikit-learn\n",
        "print('The intercept and coefficients from exact formula:', exact_reg(X_train.values, y_train.values)[0],'\\n')\n",
        "print('The intercept and coefficients from scikit-learn:', np.insert(reg.coef_,0, reg.intercept_))"
      ],
      "metadata": {
        "colab": {
          "base_uri": "https://localhost:8080/"
        },
        "id": "DESEhDgFwK_K",
        "outputId": "5e3f9dd1-88cb-40db-eb49-20b0566a2eb0"
      },
      "execution_count": 32,
      "outputs": [
        {
          "output_type": "stream",
          "name": "stdout",
          "text": [
            "The intercept and coefficients from exact formula: [[ 1.49961919e-01]\n",
            " [-7.21293744e-05]\n",
            " [ 1.95226816e-04]\n",
            " [ 1.82729618e-04]] \n",
            "\n",
            "The intercept and coefficients from scikit-learn: [ 1.49961919e-01 -7.21293744e-05  1.95226816e-04  1.82729618e-04]\n"
          ]
        }
      ]
    },
    {
      "cell_type": "code",
      "source": [
        "# Calculate the exact R^2 scores\n",
        "y_hat_train = exact_reg(X_train.values, y_train.values)[1] # calculating predictions for train data\n",
        "y_hat_test = exact_reg(X_test.values, y_test.values)[1] # calculating predictions for test data\n",
        "\n",
        "from sklearn.metrics import r2_score\n",
        "print('Exact train R^2 score = ', round(r2_score(y_train.values, y_hat_train),6), '\\n')\n",
        "print('Exact test R^2 score = ', round(r2_score(y_test.values, y_hat_test), 6))"
      ],
      "metadata": {
        "colab": {
          "base_uri": "https://localhost:8080/"
        },
        "id": "6nmXzqUgwTtg",
        "outputId": "060213d8-05fb-47c6-ea3e-b42a4bf45bfa"
      },
      "execution_count": 33,
      "outputs": [
        {
          "output_type": "stream",
          "name": "stdout",
          "text": [
            "Exact train R^2 score =  0.98006 \n",
            "\n",
            "Exact test R^2 score =  0.982368\n"
          ]
        }
      ]
    },
    {
      "cell_type": "markdown",
      "source": [
        "The above R<sup>2</sup> scores are in very good agreement with those obtained by $\\textsf{scikit-learn}$!"
      ],
      "metadata": {
        "id": "mvK2cacew_Oe"
      }
    }
  ],
  "metadata": {
    "colab": {
      "provenance": [],
      "include_colab_link": true
    },
    "kernelspec": {
      "display_name": "Python 3 (ipykernel)",
      "language": "python",
      "name": "python3"
    },
    "language_info": {
      "codemirror_mode": {
        "name": "ipython",
        "version": 3
      },
      "file_extension": ".py",
      "mimetype": "text/x-python",
      "name": "python",
      "nbconvert_exporter": "python",
      "pygments_lexer": "ipython3",
      "version": "3.9.12"
    }
  },
  "nbformat": 4,
  "nbformat_minor": 0
}