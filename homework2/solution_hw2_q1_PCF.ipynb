{
 "cells": [
  {
   "cell_type": "code",
   "execution_count": 1,
   "id": "90b2a27e-31d2-4f51-a7d5-1aeb784b7729",
   "metadata": {},
   "outputs": [],
   "source": [
    "import matplotlib.pyplot as plt\n",
    "import numpy as np\n",
    "import pandas as pd\n",
    "import seaborn as sns\n",
    "from sklearn.linear_model import LinearRegression"
   ]
  },
  {
   "cell_type": "code",
   "execution_count": 2,
   "id": "56abe160-9524-4451-b625-efe7436d617e",
   "metadata": {},
   "outputs": [],
   "source": [
    "X_train = pd.read_csv('https://raw.githubusercontent.com/simsekergun/ENEE691/main/homework2/fiber_training_data_X.csv')\n",
    "Y_train = pd.read_csv('https://raw.githubusercontent.com/simsekergun/ENEE691/main/homework2/fiber_training_data_Y.csv')\n",
    "X_test = pd.read_csv('https://raw.githubusercontent.com/simsekergun/ENEE691/main/homework2/fiber_testing_data_X.csv')"
   ]
  },
  {
   "cell_type": "code",
   "execution_count": 3,
   "id": "91707837-ee09-49eb-b3ba-5df47c8f9a8c",
   "metadata": {},
   "outputs": [
    {
     "data": {
      "text/html": [
       "<div>\n",
       "<style scoped>\n",
       "    .dataframe tbody tr th:only-of-type {\n",
       "        vertical-align: middle;\n",
       "    }\n",
       "\n",
       "    .dataframe tbody tr th {\n",
       "        vertical-align: top;\n",
       "    }\n",
       "\n",
       "    .dataframe thead th {\n",
       "        text-align: right;\n",
       "    }\n",
       "</style>\n",
       "<table border=\"1\" class=\"dataframe\">\n",
       "  <thead>\n",
       "    <tr style=\"text-align: right;\">\n",
       "      <th></th>\n",
       "      <th>no-of-\\nrings</th>\n",
       "      <th>diaBYpitch</th>\n",
       "      <th>pitch\\n(um)</th>\n",
       "      <th>wl\\n(um)</th>\n",
       "    </tr>\n",
       "  </thead>\n",
       "  <tbody>\n",
       "    <tr>\n",
       "      <th>0</th>\n",
       "      <td>4</td>\n",
       "      <td>0.7</td>\n",
       "      <td>0.8</td>\n",
       "      <td>1.80000</td>\n",
       "    </tr>\n",
       "    <tr>\n",
       "      <th>1</th>\n",
       "      <td>4</td>\n",
       "      <td>0.7</td>\n",
       "      <td>0.8</td>\n",
       "      <td>1.58333</td>\n",
       "    </tr>\n",
       "    <tr>\n",
       "      <th>2</th>\n",
       "      <td>4</td>\n",
       "      <td>0.7</td>\n",
       "      <td>0.8</td>\n",
       "      <td>1.41322</td>\n",
       "    </tr>\n",
       "    <tr>\n",
       "      <th>3</th>\n",
       "      <td>4</td>\n",
       "      <td>0.7</td>\n",
       "      <td>0.8</td>\n",
       "      <td>1.27612</td>\n",
       "    </tr>\n",
       "    <tr>\n",
       "      <th>4</th>\n",
       "      <td>4</td>\n",
       "      <td>0.7</td>\n",
       "      <td>0.8</td>\n",
       "      <td>1.16327</td>\n",
       "    </tr>\n",
       "  </tbody>\n",
       "</table>\n",
       "</div>"
      ],
      "text/plain": [
       "   no-of-\\nrings  diaBYpitch  pitch\\n(um)  wl\\n(um)\n",
       "0              4         0.7          0.8   1.80000\n",
       "1              4         0.7          0.8   1.58333\n",
       "2              4         0.7          0.8   1.41322\n",
       "3              4         0.7          0.8   1.27612\n",
       "4              4         0.7          0.8   1.16327"
      ]
     },
     "execution_count": 3,
     "metadata": {},
     "output_type": "execute_result"
    }
   ],
   "source": [
    "X_train.head()"
   ]
  },
  {
   "cell_type": "code",
   "execution_count": 4,
   "id": "edb48760-2ca9-45eb-8a95-c5a206f5f161",
   "metadata": {},
   "outputs": [
    {
     "data": {
      "text/html": [
       "<div>\n",
       "<style scoped>\n",
       "    .dataframe tbody tr th:only-of-type {\n",
       "        vertical-align: middle;\n",
       "    }\n",
       "\n",
       "    .dataframe tbody tr th {\n",
       "        vertical-align: top;\n",
       "    }\n",
       "\n",
       "    .dataframe thead th {\n",
       "        text-align: right;\n",
       "    }\n",
       "</style>\n",
       "<table border=\"1\" class=\"dataframe\">\n",
       "  <thead>\n",
       "    <tr style=\"text-align: right;\">\n",
       "      <th></th>\n",
       "      <th>neff</th>\n",
       "      <th>Aeff\\n(um^2)</th>\n",
       "      <th>dispersion\\n(ps/km.nm)</th>\n",
       "      <th>conf-loss\\n(dB/cm)</th>\n",
       "    </tr>\n",
       "  </thead>\n",
       "  <tbody>\n",
       "    <tr>\n",
       "      <th>0</th>\n",
       "      <td>1.27828</td>\n",
       "      <td>4.96730</td>\n",
       "      <td>587.055</td>\n",
       "      <td>185.178000</td>\n",
       "    </tr>\n",
       "    <tr>\n",
       "      <th>1</th>\n",
       "      <td>1.29633</td>\n",
       "      <td>2.49561</td>\n",
       "      <td>685.141</td>\n",
       "      <td>40.180900</td>\n",
       "    </tr>\n",
       "    <tr>\n",
       "      <th>2</th>\n",
       "      <td>1.31463</td>\n",
       "      <td>1.68857</td>\n",
       "      <td>576.543</td>\n",
       "      <td>6.514520</td>\n",
       "    </tr>\n",
       "    <tr>\n",
       "      <th>3</th>\n",
       "      <td>1.33194</td>\n",
       "      <td>1.33313</td>\n",
       "      <td>396.421</td>\n",
       "      <td>0.914075</td>\n",
       "    </tr>\n",
       "    <tr>\n",
       "      <th>4</th>\n",
       "      <td>1.34753</td>\n",
       "      <td>1.13895</td>\n",
       "      <td>229.820</td>\n",
       "      <td>0.123961</td>\n",
       "    </tr>\n",
       "  </tbody>\n",
       "</table>\n",
       "</div>"
      ],
      "text/plain": [
       "      neff  Aeff\\n(um^2)  dispersion\\n(ps/km.nm)  conf-loss\\n(dB/cm)\n",
       "0  1.27828       4.96730                 587.055          185.178000\n",
       "1  1.29633       2.49561                 685.141           40.180900\n",
       "2  1.31463       1.68857                 576.543            6.514520\n",
       "3  1.33194       1.33313                 396.421            0.914075\n",
       "4  1.34753       1.13895                 229.820            0.123961"
      ]
     },
     "execution_count": 4,
     "metadata": {},
     "output_type": "execute_result"
    }
   ],
   "source": [
    "Y_train.head()"
   ]
  },
  {
   "cell_type": "markdown",
   "id": "a2792d33-6cc0-4acf-822a-fddc77b40df6",
   "metadata": {},
   "source": [
    "### Task (i)"
   ]
  },
  {
   "cell_type": "code",
   "execution_count": 5,
   "id": "869ee9aa-d6ad-4f63-a23f-68840c779251",
   "metadata": {},
   "outputs": [
    {
     "name": "stdout",
     "output_type": "stream",
     "text": [
      "R^2 score for train dataset =  0.8385 \n",
      "\n",
      "Coefficients of Linear Model: [ 0.00036323 -0.08278557  0.05496765 -0.08231239] \n",
      "\n",
      "Intercept: 1.4807876659562593\n"
     ]
    }
   ],
   "source": [
    "# neff regression\n",
    "y_train =  Y_train.iloc[:,0]\n",
    "\n",
    "reg = LinearRegression()         # Instantiate\n",
    "reg.fit(X_train, y_train)        # Fit the train data\n",
    "neff_hat = reg.predict(X_train)\n",
    "r2_train_score = reg.score(X_train, y_train)   # Calculating R^2 score for train\n",
    "\n",
    "print('R^2 score for train dataset = ', round(r2_train_score, 4), '\\n')\n",
    "print('Coefficients of Linear Model:', reg.coef_, '\\n')\n",
    "print('Intercept:', reg.intercept_)"
   ]
  },
  {
   "cell_type": "markdown",
   "id": "2c2d33a5-ad56-4e64-b3e6-dcbc579fe4ed",
   "metadata": {},
   "source": [
    "### Task (ii)"
   ]
  },
  {
   "cell_type": "code",
   "execution_count": 6,
   "id": "1df2a157-c1f9-4104-bcb3-70e418be4d4f",
   "metadata": {},
   "outputs": [
    {
     "name": "stdout",
     "output_type": "stream",
     "text": [
      "R^2 score for train dataset =  0.9139 \n",
      "\n",
      "Coefficients of Linear Model: [-0.0221067  -3.82759534  2.12675397  1.08063448] \n",
      "\n",
      "Intercept: 1.0551163872380802\n"
     ]
    }
   ],
   "source": [
    "# Aeff regression\n",
    "y_train =  Y_train.iloc[:,1]\n",
    "\n",
    "reg2 = LinearRegression()         # Instantiate\n",
    "reg2.fit(X_train, y_train)        # Fit the train data\n",
    "\n",
    "r2_train_score2 = reg2.score(X_train, y_train)   # Calculating R^2 score for train\n",
    "\n",
    "print('R^2 score for train dataset = ', round(r2_train_score2, 4), '\\n')\n",
    "print('Coefficients of Linear Model:', reg2.coef_, '\\n')\n",
    "print('Intercept:', reg2.intercept_)"
   ]
  },
  {
   "cell_type": "markdown",
   "id": "627be78b-6c94-49db-8314-ae02c43245b1",
   "metadata": {},
   "source": [
    "### Task (iii)"
   ]
  },
  {
   "cell_type": "code",
   "execution_count": 7,
   "id": "24b72239-53a8-41f0-83f2-f0eb1e5ef9dc",
   "metadata": {},
   "outputs": [
    {
     "name": "stdout",
     "output_type": "stream",
     "text": [
      "R^2 score for train dataset =  0.377 \n",
      "\n",
      "Coefficients of Linear Model: [-4.85338463e-02  2.85970072e+02 -1.43231417e+02  4.48265865e+01] \n",
      "\n",
      "Intercept: 102.8351923141426\n"
     ]
    }
   ],
   "source": [
    "# dispersion regression\n",
    "y_train =  Y_train.iloc[:,2]\n",
    "\n",
    "reg3 = LinearRegression()         # Instantiate\n",
    "reg3.fit(X_train, y_train)        # Fit the train data\n",
    "\n",
    "r2_train_score3 = reg3.score(X_train, y_train)   # Calculating R^2 score for train\n",
    "\n",
    "print('R^2 score for train dataset = ', round(r2_train_score3, 4), '\\n')\n",
    "print('Coefficients of Linear Model:', reg3.coef_, '\\n')\n",
    "print('Intercept:', reg3.intercept_)"
   ]
  },
  {
   "cell_type": "markdown",
   "id": "0896d401-d580-4d1f-b020-0c59f49e6f9d",
   "metadata": {},
   "source": [
    "### Task (iv)"
   ]
  },
  {
   "cell_type": "code",
   "execution_count": 8,
   "id": "b7f07620-cf76-46ae-bad6-94163e7de4ce",
   "metadata": {},
   "outputs": [
    {
     "name": "stdout",
     "output_type": "stream",
     "text": [
      "R^2 score for train dataset =  0.0626 \n",
      "\n",
      "Coefficients of Linear Model: [-0.99673669 -5.2714014  -3.0226698   4.86558539] \n",
      "\n",
      "Intercept: 8.938483159223429\n"
     ]
    }
   ],
   "source": [
    "# Loss regression\n",
    "y_train =  Y_train.iloc[:,3]\n",
    "\n",
    "reg4 = LinearRegression()         # Instantiate\n",
    "reg4.fit(X_train, y_train)        # Fit the train data\n",
    "\n",
    "r2_train_score4 = reg4.score(X_train, y_train)   # Calculating R^2 score for train\n",
    "\n",
    "print('R^2 score for train dataset = ', round(r2_train_score4, 4), '\\n')\n",
    "print('Coefficients of Linear Model:', reg4.coef_, '\\n')\n",
    "print('Intercept:', reg4.intercept_)"
   ]
  },
  {
   "cell_type": "markdown",
   "id": "a04911f5-e4cd-4044-be49-8df6256af951",
   "metadata": {},
   "source": [
    "### Task (v)"
   ]
  },
  {
   "cell_type": "code",
   "execution_count": 9,
   "id": "cfc95d96-fc00-45ea-bf94-cbc6f8d6a133",
   "metadata": {},
   "outputs": [
    {
     "name": "stdout",
     "output_type": "stream",
     "text": [
      "R^2 score for train dataset =  0.9216 \n",
      "\n",
      "Coefficients of Linear Model: [ -3.06634208 -33.91289988  -7.74353745  10.86439454] \n",
      "\n",
      "Intercept: 27.101174261931625\n"
     ]
    }
   ],
   "source": [
    "# Loss regression\n",
    "y_train =  np.log10(np.absolute(Y_train.iloc[:,3]))\n",
    "\n",
    "reg4 = LinearRegression()         # Instantiate\n",
    "reg4.fit(X_train, y_train)        # Fit the train data\n",
    "\n",
    "r2_train_score4 = reg4.score(X_train, y_train)   # Calculating R^2 score for train\n",
    "\n",
    "print('R^2 score for train dataset = ', round(r2_train_score4, 4), '\\n')\n",
    "print('Coefficients of Linear Model:', reg4.coef_, '\\n')\n",
    "print('Intercept:', reg4.intercept_)"
   ]
  },
  {
   "cell_type": "code",
   "execution_count": 10,
   "id": "eab4c0ff-658c-4f58-8236-d9e0cecd8081",
   "metadata": {},
   "outputs": [],
   "source": [
    "neff_pred = reg.predict(X_test)"
   ]
  },
  {
   "cell_type": "code",
   "execution_count": 11,
   "id": "be51bad7-9eff-4815-b3cc-1e6211e8253b",
   "metadata": {},
   "outputs": [],
   "source": [
    "Aeff_pred = reg2.predict(X_test)"
   ]
  },
  {
   "cell_type": "code",
   "execution_count": 12,
   "id": "d7e35b47-3c67-4fde-bb05-610c6a7a757c",
   "metadata": {},
   "outputs": [],
   "source": [
    "disp_pred = reg3.predict(X_test)"
   ]
  },
  {
   "cell_type": "code",
   "execution_count": 13,
   "id": "d8e039be-6732-49c3-b360-4db789aa2ef1",
   "metadata": {},
   "outputs": [],
   "source": [
    "loss_pred = 10**(reg4.predict(X_test))"
   ]
  },
  {
   "cell_type": "code",
   "execution_count": 14,
   "id": "c7148645-102f-4995-95b0-67ad2cfcdfd8",
   "metadata": {},
   "outputs": [
    {
     "data": {
      "text/plain": [
       "(array([969.,   1.,   4.,   2.,   0.,   0.,   0.,   0.,   1.,   1.]),\n",
       " array([4.000000e-23, 1.851780e+01, 3.703560e+01, 5.555340e+01,\n",
       "        7.407120e+01, 9.258900e+01, 1.111068e+02, 1.296246e+02,\n",
       "        1.481424e+02, 1.666602e+02, 1.851780e+02]),\n",
       " <BarContainer object of 10 artists>)"
      ]
     },
     "execution_count": 14,
     "metadata": {},
     "output_type": "execute_result"
    },
    {
     "data": {
      "image/png": "[encoded data removed]",
      "text/plain": [
       "<Figure size 640x480 with 1 Axes>"
      ]
     },
     "metadata": {},
     "output_type": "display_data"
    }
   ],
   "source": [
    "plt.hist(Y_train.iloc[:,3].values)"
   ]
  },
  {
   "cell_type": "code",
   "execution_count": 15,
   "id": "1eea4755-0ad0-45bb-8b24-9cedf98b1b6c",
   "metadata": {},
   "outputs": [
    {
     "data": {
      "text/plain": [
       "(array([164., 110.,  89., 114., 124., 131., 103.,  67.,  46.,  30.]),\n",
       " array([-22.39794001, -19.93138707, -17.46483413, -14.99828119,\n",
       "        -12.53172825, -10.06517531,  -7.59862237,  -5.13206943,\n",
       "         -2.66551649,  -0.19896355,   2.26758939]),\n",
       " <BarContainer object of 10 artists>)"
      ]
     },
     "execution_count": 15,
     "metadata": {},
     "output_type": "execute_result"
    },
    {
     "data": {
      "image/png": "[encoded data removed]",
      "text/plain": [
       "<Figure size 640x480 with 1 Axes>"
      ]
     },
     "metadata": {},
     "output_type": "display_data"
    }
   ],
   "source": [
    "plt.hist(np.log10(Y_train.iloc[:,3].values))"
   ]
  },
  {
   "cell_type": "markdown",
   "id": "56f2fc71-a090-46c8-8c70-c1258f10216d",
   "metadata": {},
   "source": [
    "### Task (vi)"
   ]
  },
  {
   "cell_type": "code",
   "execution_count": 16,
   "id": "26ac5725-a6e0-4a8a-88ec-54ae86e05347",
   "metadata": {},
   "outputs": [],
   "source": [
    "df2 = pd.DataFrame({'neff_pred':neff_pred, 'Aeff_pred':Aeff_pred, 'disp_pred':disp_pred, 'loss_pred':loss_pred})"
   ]
  },
  {
   "cell_type": "code",
   "execution_count": 17,
   "id": "b753a708-7725-41da-8565-fd9d79ea6591",
   "metadata": {},
   "outputs": [
    {
     "data": {
      "text/html": [
       "<div>\n",
       "<style scoped>\n",
       "    .dataframe tbody tr th:only-of-type {\n",
       "        vertical-align: middle;\n",
       "    }\n",
       "\n",
       "    .dataframe tbody tr th {\n",
       "        vertical-align: top;\n",
       "    }\n",
       "\n",
       "    .dataframe thead th {\n",
       "        text-align: right;\n",
       "    }\n",
       "</style>\n",
       "<table border=\"1\" class=\"dataframe\">\n",
       "  <thead>\n",
       "    <tr style=\"text-align: right;\">\n",
       "      <th></th>\n",
       "      <th>neff_pred</th>\n",
       "      <th>Aeff_pred</th>\n",
       "      <th>disp_pred</th>\n",
       "      <th>loss_pred</th>\n",
       "    </tr>\n",
       "  </thead>\n",
       "  <tbody>\n",
       "    <tr>\n",
       "      <th>0</th>\n",
       "      <td>1.366811</td>\n",
       "      <td>3.314582</td>\n",
       "      <td>164.178178</td>\n",
       "      <td>8.931833e-03</td>\n",
       "    </tr>\n",
       "    <tr>\n",
       "      <th>1</th>\n",
       "      <td>1.375042</td>\n",
       "      <td>3.206519</td>\n",
       "      <td>159.695520</td>\n",
       "      <td>7.319832e-04</td>\n",
       "    </tr>\n",
       "    <tr>\n",
       "      <th>2</th>\n",
       "      <td>1.383274</td>\n",
       "      <td>3.098456</td>\n",
       "      <td>155.212861</td>\n",
       "      <td>5.998762e-05</td>\n",
       "    </tr>\n",
       "    <tr>\n",
       "      <th>3</th>\n",
       "      <td>1.391505</td>\n",
       "      <td>2.990392</td>\n",
       "      <td>150.730202</td>\n",
       "      <td>4.916117e-06</td>\n",
       "    </tr>\n",
       "    <tr>\n",
       "      <th>4</th>\n",
       "      <td>1.399736</td>\n",
       "      <td>2.882329</td>\n",
       "      <td>146.247544</td>\n",
       "      <td>4.028865e-07</td>\n",
       "    </tr>\n",
       "    <tr>\n",
       "      <th>5</th>\n",
       "      <td>1.407967</td>\n",
       "      <td>2.774265</td>\n",
       "      <td>141.764885</td>\n",
       "      <td>3.301743e-08</td>\n",
       "    </tr>\n",
       "    <tr>\n",
       "      <th>6</th>\n",
       "      <td>1.416199</td>\n",
       "      <td>2.666202</td>\n",
       "      <td>137.282226</td>\n",
       "      <td>2.705851e-09</td>\n",
       "    </tr>\n",
       "    <tr>\n",
       "      <th>7</th>\n",
       "      <td>1.424430</td>\n",
       "      <td>2.558138</td>\n",
       "      <td>132.799568</td>\n",
       "      <td>2.217504e-10</td>\n",
       "    </tr>\n",
       "    <tr>\n",
       "      <th>8</th>\n",
       "      <td>1.432661</td>\n",
       "      <td>2.450075</td>\n",
       "      <td>128.316909</td>\n",
       "      <td>1.817293e-11</td>\n",
       "    </tr>\n",
       "    <tr>\n",
       "      <th>9</th>\n",
       "      <td>1.440892</td>\n",
       "      <td>2.342011</td>\n",
       "      <td>123.834250</td>\n",
       "      <td>1.489311e-12</td>\n",
       "    </tr>\n",
       "  </tbody>\n",
       "</table>\n",
       "</div>"
      ],
      "text/plain": [
       "   neff_pred  Aeff_pred   disp_pred     loss_pred\n",
       "0   1.366811   3.314582  164.178178  8.931833e-03\n",
       "1   1.375042   3.206519  159.695520  7.319832e-04\n",
       "2   1.383274   3.098456  155.212861  5.998762e-05\n",
       "3   1.391505   2.990392  150.730202  4.916117e-06\n",
       "4   1.399736   2.882329  146.247544  4.028865e-07\n",
       "5   1.407967   2.774265  141.764885  3.301743e-08\n",
       "6   1.416199   2.666202  137.282226  2.705851e-09\n",
       "7   1.424430   2.558138  132.799568  2.217504e-10\n",
       "8   1.432661   2.450075  128.316909  1.817293e-11\n",
       "9   1.440892   2.342011  123.834250  1.489311e-12"
      ]
     },
     "execution_count": 17,
     "metadata": {},
     "output_type": "execute_result"
    }
   ],
   "source": [
    "df2.head(10)"
   ]
  },
  {
   "cell_type": "markdown",
   "id": "36457504-1805-48ce-81b3-79f104a8ba5f",
   "metadata": {},
   "source": [
    "True values were as follow:\n",
    "\n",
    "|neff|Aeff (um^2)|dispersion (ps/km.nm)|conf-loss (dB/cm)|\n",
    "| --- | --- | --- | --- |\n",
    "1.38489|3.04184|42.96|1.55E-04|\n",
    "1.39268|2.90433|66.7628|3.25E-05|\n",
    "1.40035|2.78024|86.4249|6.03E-06|\n",
    "1.40784|2.66742|102.097|9.79E-07|\n",
    "1.41511 | 2.56412|114.007|1.38E-07|\n",
    "1.42213|2.46894|122.422|1.67E-08|\n",
    "1.428834|2.38074|127.624|1.73E-09|\n",
    "1.43519|2.29861|129.864|1.53E-10|\n",
    "1.44116|2.22181|129.341|1.17E-11|\n",
    "1.4467|2.14976|126.183|7.86E-13|"
   ]
  },
  {
   "cell_type": "code",
   "execution_count": null,
   "id": "46408844-e5ea-473b-a2af-ad6f8b9d7b26",
   "metadata": {},
   "outputs": [],
   "source": []
  }
 ],
 "metadata": {
  "kernelspec": {
   "display_name": "Python 3 (ipykernel)",
   "language": "python",
   "name": "python3"
  },
  "language_info": {
   "codemirror_mode": {
    "name": "ipython",
    "version": 3
   },
   "file_extension": ".py",
   "mimetype": "text/x-python",
   "name": "python",
   "nbconvert_exporter": "python",
   "pygments_lexer": "ipython3",
   "version": "3.9.15"
  }
 },
 "nbformat": 4,
 "nbformat_minor": 5
}
