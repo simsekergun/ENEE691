{
  "cells": [
    {
      "cell_type": "markdown",
      "metadata": {
        "id": "view-in-github",
        "colab_type": "text"
      },
      "source": [
        "<a href=\"https://colab.research.google.com/github/simsekergun/ENEE691/blob/main/week13/LSTM_Example3layers.ipynb\" target=\"_parent\"><img src=\"https://colab.research.google.com/assets/colab-badge.svg\" alt=\"Open In Colab\"/></a>"
      ]
    },
    {
      "cell_type": "markdown",
      "metadata": {
        "id": "7xPTKRwdHPjX"
      },
      "source": [
        "### Google Stock Price Prediction using LSTM"
      ]
    },
    {
      "cell_type": "markdown",
      "metadata": {
        "id": "EN_nij3dHPjb"
      },
      "source": [
        "#### Steps to build stock prediction model"
      ]
    },
    {
      "cell_type": "markdown",
      "metadata": {
        "id": "gyZBV4bGHPjb"
      },
      "source": [
        "- Data Preprocessing\n",
        "- Building the LSTM\n",
        "- Making the prediction and visualization"
      ]
    },
    {
      "cell_type": "code",
      "execution_count": null,
      "metadata": {
        "id": "yXDnY2qLHPjb"
      },
      "outputs": [],
      "source": [
        "import numpy as np\n",
        "import matplotlib.pyplot as plt\n",
        "import pandas as pd\n",
        "from sklearn.preprocessing import MinMaxScaler"
      ]
    },
    {
      "cell_type": "code",
      "execution_count": null,
      "metadata": {
        "scrolled": true,
        "colab": {
          "base_uri": "https://localhost:8080/",
          "height": 206
        },
        "id": "Ej--4-VmHPjc",
        "outputId": "aac4827f-2759-4307-ee6e-e619405e9132"
      },
      "outputs": [
        {
          "output_type": "execute_result",
          "data": {
            "text/plain": [
              "         Date       Open       High        Low      Close  Adj Close    Volume\n",
              "0  2004-08-19  50.050049  52.082081  48.028027  50.220219  50.220219  44659096\n",
              "1  2004-08-20  50.555557  54.594597  50.300301  54.209209  54.209209  22834343\n",
              "2  2004-08-23  55.430431  56.796799  54.579578  54.754753  54.754753  18256126\n",
              "3  2004-08-24  55.675674  55.855858  51.836838  52.487488  52.487488  15247337\n",
              "4  2004-08-25  52.532532  54.054054  51.991993  53.053055  53.053055   9188602"
            ],
            "text/html": [
              "\n",
              "  <div id=\"df-b5403814-2f31-499b-a194-757be40d90d0\">\n",
              "    <div class=\"colab-df-container\">\n",
              "      <div>\n",
              "<style scoped>\n",
              "    .dataframe tbody tr th:only-of-type {\n",
              "        vertical-align: middle;\n",
              "    }\n",
              "\n",
              "    .dataframe tbody tr th {\n",
              "        vertical-align: top;\n",
              "    }\n",
              "\n",
              "    .dataframe thead th {\n",
              "        text-align: right;\n",
              "    }\n",
              "</style>\n",
              "<table border=\"1\" class=\"dataframe\">\n",
              "  <thead>\n",
              "    <tr style=\"text-align: right;\">\n",
              "      <th></th>\n",
              "      <th>Date</th>\n",
              "      <th>Open</th>\n",
              "      <th>High</th>\n",
              "      <th>Low</th>\n",
              "      <th>Close</th>\n",
              "      <th>Adj Close</th>\n",
              "      <th>Volume</th>\n",
              "    </tr>\n",
              "  </thead>\n",
              "  <tbody>\n",
              "    <tr>\n",
              "      <th>0</th>\n",
              "      <td>2004-08-19</td>\n",
              "      <td>50.050049</td>\n",
              "      <td>52.082081</td>\n",
              "      <td>48.028027</td>\n",
              "      <td>50.220219</td>\n",
              "      <td>50.220219</td>\n",
              "      <td>44659096</td>\n",
              "    </tr>\n",
              "    <tr>\n",
              "      <th>1</th>\n",
              "      <td>2004-08-20</td>\n",
              "      <td>50.555557</td>\n",
              "      <td>54.594597</td>\n",
              "      <td>50.300301</td>\n",
              "      <td>54.209209</td>\n",
              "      <td>54.209209</td>\n",
              "      <td>22834343</td>\n",
              "    </tr>\n",
              "    <tr>\n",
              "      <th>2</th>\n",
              "      <td>2004-08-23</td>\n",
              "      <td>55.430431</td>\n",
              "      <td>56.796799</td>\n",
              "      <td>54.579578</td>\n",
              "      <td>54.754753</td>\n",
              "      <td>54.754753</td>\n",
              "      <td>18256126</td>\n",
              "    </tr>\n",
              "    <tr>\n",
              "      <th>3</th>\n",
              "      <td>2004-08-24</td>\n",
              "      <td>55.675674</td>\n",
              "      <td>55.855858</td>\n",
              "      <td>51.836838</td>\n",
              "      <td>52.487488</td>\n",
              "      <td>52.487488</td>\n",
              "      <td>15247337</td>\n",
              "    </tr>\n",
              "    <tr>\n",
              "      <th>4</th>\n",
              "      <td>2004-08-25</td>\n",
              "      <td>52.532532</td>\n",
              "      <td>54.054054</td>\n",
              "      <td>51.991993</td>\n",
              "      <td>53.053055</td>\n",
              "      <td>53.053055</td>\n",
              "      <td>9188602</td>\n",
              "    </tr>\n",
              "  </tbody>\n",
              "</table>\n",
              "</div>\n",
              "      <button class=\"colab-df-convert\" onclick=\"convertToInteractive('df-b5403814-2f31-499b-a194-757be40d90d0')\"\n",
              "              title=\"Convert this dataframe to an interactive table.\"\n",
              "              style=\"display:none;\">\n",
              "        \n",
              "  <svg xmlns=\"http://www.w3.org/2000/svg\" height=\"24px\"viewBox=\"0 0 24 24\"\n",
              "       width=\"24px\">\n",
              "    <path d=\"M0 0h24v24H0V0z\" fill=\"none\"/>\n",
              "    <path d=\"M18.56 5.44l.94 2.06.94-2.06 2.06-.94-2.06-.94-.94-2.06-.94 2.06-2.06.94zm-11 1L8.5 8.5l.94-2.06 2.06-.94-2.06-.94L8.5 2.5l-.94 2.06-2.06.94zm10 10l.94 2.06.94-2.06 2.06-.94-2.06-.94-.94-2.06-.94 2.06-2.06.94z\"/><path d=\"M17.41 7.96l-1.37-1.37c-.4-.4-.92-.59-1.43-.59-.52 0-1.04.2-1.43.59L10.3 9.45l-7.72 7.72c-.78.78-.78 2.05 0 2.83L4 21.41c.39.39.9.59 1.41.59.51 0 1.02-.2 1.41-.59l7.78-7.78 2.81-2.81c.8-.78.8-2.07 0-2.86zM5.41 20L4 18.59l7.72-7.72 1.47 1.35L5.41 20z\"/>\n",
              "  </svg>\n",
              "      </button>\n",
              "      \n",
              "  <style>\n",
              "    .colab-df-container {\n",
              "      display:flex;\n",
              "      flex-wrap:wrap;\n",
              "      gap: 12px;\n",
              "    }\n",
              "\n",
              "    .colab-df-convert {\n",
              "      background-color: #E8F0FE;\n",
              "      border: none;\n",
              "      border-radius: 50%;\n",
              "      cursor: pointer;\n",
              "      display: none;\n",
              "      fill: #1967D2;\n",
              "      height: 32px;\n",
              "      padding: 0 0 0 0;\n",
              "      width: 32px;\n",
              "    }\n",
              "\n",
              "    .colab-df-convert:hover {\n",
              "      background-color: #E2EBFA;\n",
              "      box-shadow: 0px 1px 2px rgba(60, 64, 67, 0.3), 0px 1px 3px 1px rgba(60, 64, 67, 0.15);\n",
              "      fill: #174EA6;\n",
              "    }\n",
              "\n",
              "    [theme=dark] .colab-df-convert {\n",
              "      background-color: #3B4455;\n",
              "      fill: #D2E3FC;\n",
              "    }\n",
              "\n",
              "    [theme=dark] .colab-df-convert:hover {\n",
              "      background-color: #434B5C;\n",
              "      box-shadow: 0px 1px 3px 1px rgba(0, 0, 0, 0.15);\n",
              "      filter: drop-shadow(0px 1px 2px rgba(0, 0, 0, 0.3));\n",
              "      fill: #FFFFFF;\n",
              "    }\n",
              "  </style>\n",
              "\n",
              "      <script>\n",
              "        const buttonEl =\n",
              "          document.querySelector('#df-b5403814-2f31-499b-a194-757be40d90d0 button.colab-df-convert');\n",
              "        buttonEl.style.display =\n",
              "          google.colab.kernel.accessAllowed ? 'block' : 'none';\n",
              "\n",
              "        async function convertToInteractive(key) {\n",
              "          const element = document.querySelector('#df-b5403814-2f31-499b-a194-757be40d90d0');\n",
              "          const dataTable =\n",
              "            await google.colab.kernel.invokeFunction('convertToInteractive',\n",
              "                                                     [key], {});\n",
              "          if (!dataTable) return;\n",
              "\n",
              "          const docLinkHtml = 'Like what you see? Visit the ' +\n",
              "            '<a target=\"_blank\" href=https://colab.research.google.com/notebooks/data_table.ipynb>data table notebook</a>'\n",
              "            + ' to learn more about interactive tables.';\n",
              "          element.innerHTML = '';\n",
              "          dataTable['output_type'] = 'display_data';\n",
              "          await google.colab.output.renderOutput(dataTable, element);\n",
              "          const docLink = document.createElement('div');\n",
              "          docLink.innerHTML = docLinkHtml;\n",
              "          element.appendChild(docLink);\n",
              "        }\n",
              "      </script>\n",
              "    </div>\n",
              "  </div>\n",
              "  "
            ]
          },
          "metadata": {},
          "execution_count": 2
        }
      ],
      "source": [
        "data = pd.read_csv('https://raw.githubusercontent.com/simsekergun/DATA601/main/Datasets/GOOGL.csv', date_parser = True)\n",
        "data.head()"
      ]
    },
    {
      "cell_type": "code",
      "execution_count": null,
      "metadata": {
        "id": "GZQM96wWHPjc"
      },
      "outputs": [],
      "source": [
        "data_training = data[data['Date']<'2021-02-01'].copy()\n",
        "data_test = data[data['Date']>='2021-02-01'].copy()"
      ]
    },
    {
      "cell_type": "code",
      "execution_count": null,
      "metadata": {
        "id": "nbXwJqErHPjc"
      },
      "outputs": [],
      "source": [
        "data_training2 = data_training.drop(['Date', 'Adj Close'], axis = 1)\n",
        "data_test2 = data_test.drop(['Date', 'Adj Close'], axis = 1)"
      ]
    },
    {
      "cell_type": "code",
      "execution_count": null,
      "metadata": {
        "scrolled": true,
        "id": "RhMNlpZqHPjc"
      },
      "outputs": [],
      "source": [
        "scaler = MinMaxScaler()\n",
        "scaler.fit(data_training2)\n",
        "data_training_scaled = scaler.transform(data_training2)\n",
        "data_testing_scaled = scaler.transform(data_test2)"
      ]
    },
    {
      "cell_type": "code",
      "execution_count": null,
      "metadata": {
        "colab": {
          "base_uri": "https://localhost:8080/"
        },
        "id": "iQwQkCtaHPjc",
        "outputId": "4e1175d8-528a-4a02-efe5-14aac22ee8b1"
      },
      "outputs": [
        {
          "output_type": "execute_result",
          "data": {
            "text/plain": [
              "array([[2.17596486e-04, 6.17257754e-04, 0.00000000e+00, 8.88990008e-05,\n",
              "        5.41019639e-01],\n",
              "       [4.88923448e-04, 1.95287901e-03, 1.24074278e-03, 2.23594726e-03,\n",
              "        2.73839600e-01],\n",
              "       [3.10546909e-03, 3.12354133e-03, 3.57738089e-03, 2.52958281e-03,\n",
              "        2.17792771e-01],\n",
              "       [3.23710111e-03, 2.62334917e-03, 2.07974687e-03, 1.30924198e-03,\n",
              "        1.80958981e-01],\n",
              "       [1.55004735e-03, 1.66553329e-03, 2.16446704e-03, 1.61365479e-03,\n",
              "        1.06787555e-01],\n",
              "       [1.54736096e-03, 1.65223085e-03, 2.37763284e-03, 2.12819143e-03,\n",
              "        8.11562953e-02],\n",
              "       [2.39357423e-03, 1.83049064e-03, 2.65912463e-03, 1.65406235e-03,\n",
              "        7.03451321e-02],\n",
              "       [1.63601182e-03, 9.97723725e-04, 1.65341255e-03, 5.38783438e-04,\n",
              "        5.79196322e-02],\n",
              "       [8.35467710e-04, 5.24136972e-04, 1.69440509e-03, 6.35764166e-04,\n",
              "        5.45050633e-02],\n",
              "       [9.42923295e-04, 3.27253565e-04, 1.01391026e-03, 6.46543570e-05,\n",
              "        1.06171180e-01]])"
            ]
          },
          "metadata": {},
          "execution_count": 6
        }
      ],
      "source": [
        "data_training_scaled[0:10]"
      ]
    },
    {
      "cell_type": "code",
      "execution_count": null,
      "metadata": {
        "id": "PLUERGLcHPjc"
      },
      "outputs": [],
      "source": [
        "X_train = []\n",
        "y_train = []"
      ]
    },
    {
      "cell_type": "code",
      "source": [
        "# We will have an RNN with 60 timesteps, i.e. look 60 previous timesteps\n",
        "for i in range(60, data_training_scaled.shape[0]):\n",
        "    X_train.append(data_training_scaled[i-60:i])\n",
        "    #y_train.append(data_training_scaled[i,0])    # many to one\n",
        "    y_train.append(data_training_scaled[i])      # many to many"
      ],
      "metadata": {
        "id": "BuRm24jrw0Tr"
      },
      "execution_count": null,
      "outputs": []
    },
    {
      "cell_type": "code",
      "execution_count": null,
      "metadata": {
        "id": "6iQQBEZ0HPjc"
      },
      "outputs": [],
      "source": [
        "X_train, y_train = np.array(X_train), np.array(y_train)"
      ]
    },
    {
      "cell_type": "code",
      "execution_count": null,
      "metadata": {
        "scrolled": true,
        "colab": {
          "base_uri": "https://localhost:8080/"
        },
        "id": "8-wnhK6rHPjc",
        "outputId": "61889835-cc94-4bad-e0ed-62951cebdc9e"
      },
      "outputs": [
        {
          "output_type": "execute_result",
          "data": {
            "text/plain": [
              "((4081, 60, 5), (4081, 5))"
            ]
          },
          "metadata": {},
          "execution_count": 10
        }
      ],
      "source": [
        "X_train.shape, y_train.shape"
      ]
    },
    {
      "cell_type": "code",
      "source": [
        "# prepare the test data\n",
        "X_test = []\n",
        "y_test = []\n",
        "for i in range(60, data_testing_scaled.shape[0]):\n",
        "    X_test.append(data_testing_scaled[i-60:i])\n",
        "    # y_test.append(data_testing_scaled[i, 0])  # many to one\n",
        "    y_test.append(data_testing_scaled[i])   # many to many\n",
        "X_test, y_test = np.array(X_test), np.array(y_test)    \n",
        "X_test.shape, y_test.shape"
      ],
      "metadata": {
        "colab": {
          "base_uri": "https://localhost:8080/"
        },
        "id": "eNMx7FQas_d1",
        "outputId": "25e8757c-5f94-4170-9c94-5eaaaff553cb"
      },
      "execution_count": null,
      "outputs": [
        {
          "output_type": "execute_result",
          "data": {
            "text/plain": [
              "((230, 60, 5), (230, 5))"
            ]
          },
          "metadata": {},
          "execution_count": 11
        }
      ]
    },
    {
      "cell_type": "markdown",
      "metadata": {
        "id": "6qOvH3TEHPjc"
      },
      "source": [
        "### Building LSTM "
      ]
    },
    {
      "cell_type": "code",
      "execution_count": null,
      "metadata": {
        "id": "7b9AwDUyHPjc"
      },
      "outputs": [],
      "source": [
        "from tensorflow.keras import Sequential\n",
        "from tensorflow.keras.layers import Dense, LSTM, Dropout"
      ]
    },
    {
      "cell_type": "code",
      "execution_count": null,
      "metadata": {
        "id": "eKLwkXBQHPjc"
      },
      "outputs": [],
      "source": [
        "regressor = Sequential()\n",
        "\n",
        "regressor.add(LSTM(units = 60, activation = 'tanh', return_sequences = True, input_shape = (X_train.shape[1], 5)))\n",
        "regressor.add(Dropout(0.2))\n",
        "\n",
        "regressor.add(LSTM(units = 80, activation = 'tanh', return_sequences = True))\n",
        "regressor.add(Dropout(0.2))\n",
        "\n",
        "regressor.add(LSTM(units = 100, activation = 'tanh'))\n",
        "regressor.add(Dropout(0.2))\n",
        "\n",
        "regressor.add(Dense(units = 5))"
      ]
    },
    {
      "cell_type": "code",
      "execution_count": null,
      "metadata": {
        "colab": {
          "base_uri": "https://localhost:8080/"
        },
        "id": "Kazu4pcCHPjd",
        "outputId": "e60d5558-621a-4ef1-95ad-944b337bb891"
      },
      "outputs": [
        {
          "output_type": "stream",
          "name": "stdout",
          "text": [
            "Model: \"sequential\"\n",
            "_________________________________________________________________\n",
            " Layer (type)                Output Shape              Param #   \n",
            "=================================================================\n",
            " lstm (LSTM)                 (None, 60, 60)            15840     \n",
            "                                                                 \n",
            " dropout (Dropout)           (None, 60, 60)            0         \n",
            "                                                                 \n",
            " lstm_1 (LSTM)               (None, 60, 80)            45120     \n",
            "                                                                 \n",
            " dropout_1 (Dropout)         (None, 60, 80)            0         \n",
            "                                                                 \n",
            " lstm_2 (LSTM)               (None, 100)               72400     \n",
            "                                                                 \n",
            " dropout_2 (Dropout)         (None, 100)               0         \n",
            "                                                                 \n",
            " dense (Dense)               (None, 5)                 505       \n",
            "                                                                 \n",
            "=================================================================\n",
            "Total params: 133,865\n",
            "Trainable params: 133,865\n",
            "Non-trainable params: 0\n",
            "_________________________________________________________________\n"
          ]
        }
      ],
      "source": [
        "regressor.summary()"
      ]
    },
    {
      "cell_type": "code",
      "execution_count": null,
      "metadata": {
        "id": "DIpeWJe8HPjd"
      },
      "outputs": [],
      "source": [
        "regressor.compile(optimizer='adam', loss = 'mean_squared_error')"
      ]
    },
    {
      "cell_type": "code",
      "execution_count": null,
      "metadata": {
        "colab": {
          "base_uri": "https://localhost:8080/"
        },
        "id": "3KdVaTVCHPjd",
        "outputId": "6772542b-576a-42eb-d801-55848c5bde67"
      },
      "outputs": [
        {
          "output_type": "stream",
          "name": "stdout",
          "text": [
            "Epoch 1/10\n",
            "128/128 [==============================] - 14s 12ms/step - loss: 0.0065\n",
            "Epoch 2/10\n",
            "128/128 [==============================] - 1s 11ms/step - loss: 0.0025\n",
            "Epoch 3/10\n",
            "128/128 [==============================] - 1s 11ms/step - loss: 0.0021\n",
            "Epoch 4/10\n",
            "128/128 [==============================] - 1s 11ms/step - loss: 0.0018\n",
            "Epoch 5/10\n",
            "128/128 [==============================] - 2s 15ms/step - loss: 0.0017\n",
            "Epoch 6/10\n",
            "128/128 [==============================] - 2s 13ms/step - loss: 0.0015\n",
            "Epoch 7/10\n",
            "128/128 [==============================] - 1s 11ms/step - loss: 0.0014\n",
            "Epoch 8/10\n",
            "128/128 [==============================] - 1s 11ms/step - loss: 0.0013\n",
            "Epoch 9/10\n",
            "128/128 [==============================] - 1s 11ms/step - loss: 0.0013\n",
            "Epoch 10/10\n",
            "128/128 [==============================] - 1s 11ms/step - loss: 0.0013\n"
          ]
        }
      ],
      "source": [
        "history = regressor.fit(X_train, y_train, epochs=10, batch_size=32)"
      ]
    },
    {
      "cell_type": "code",
      "source": [
        "# Plotting the loss function from model's history\n",
        "plt.figure(figsize=(8,5))\n",
        "plt.plot(history.history['loss'])\n",
        "plt.ylabel(['Train loss'])\n",
        "plt.xlabel(['Epoch'])\n",
        "plt.show()"
      ],
      "metadata": {
        "colab": {
          "base_uri": "https://localhost:8080/",
          "height": 465
        },
        "id": "7gQX0DXiyWtk",
        "outputId": "a533f360-2a94-43c0-adc6-9b89b74a4aff"
      },
      "execution_count": null,
      "outputs": [
        {
          "output_type": "display_data",
          "data": {
            "text/plain": [
              "<Figure size 800x500 with 1 Axes>"
            ],
            "image/png": "[encoded data removed]"
          },
          "metadata": {}
        }
      ]
    },
    {
      "cell_type": "markdown",
      "metadata": {
        "id": "27dscmmYHPjd"
      },
      "source": [
        "### Prepare test dataset "
      ]
    },
    {
      "cell_type": "code",
      "execution_count": null,
      "metadata": {
        "colab": {
          "base_uri": "https://localhost:8080/"
        },
        "id": "5zGLE0apHPjd",
        "outputId": "0b4d1403-2739-46e6-ffd6-204cabd815fd"
      },
      "outputs": [
        {
          "output_type": "stream",
          "name": "stdout",
          "text": [
            "8/8 [==============================] - 1s 5ms/step\n"
          ]
        }
      ],
      "source": [
        "y_pred = regressor.predict(X_test)"
      ]
    },
    {
      "cell_type": "code",
      "source": [
        "y_pred = scaler.inverse_transform(y_pred)\n",
        "y_test = scaler.inverse_transform(y_test)"
      ],
      "metadata": {
        "id": "hOQvoUfczaU6"
      },
      "execution_count": null,
      "outputs": []
    },
    {
      "cell_type": "code",
      "source": [
        "y_test.shape"
      ],
      "metadata": {
        "colab": {
          "base_uri": "https://localhost:8080/"
        },
        "id": "aOQ-RtS91gvB",
        "outputId": "15a168ba-c578-4b67-da6c-09a1e27d7a00"
      },
      "execution_count": null,
      "outputs": [
        {
          "output_type": "execute_result",
          "data": {
            "text/plain": [
              "(230, 5)"
            ]
          },
          "metadata": {},
          "execution_count": 20
        }
      ]
    },
    {
      "cell_type": "markdown",
      "metadata": {
        "id": "49O1GkWIHPjd"
      },
      "source": [
        "### Visualization "
      ]
    },
    {
      "cell_type": "code",
      "execution_count": null,
      "metadata": {
        "scrolled": false,
        "colab": {
          "base_uri": "https://localhost:8080/",
          "height": 487
        },
        "id": "sKPaOnfeHPjd",
        "outputId": "d923f4b1-afa9-4c17-cef3-d90409dee643"
      },
      "outputs": [
        {
          "output_type": "display_data",
          "data": {
            "text/plain": [
              "<Figure size 1400x500 with 1 Axes>"
            ],
            "image/png": "[encoded data removed]"
          },
          "metadata": {}
        }
      ],
      "source": [
        "# Visualising the results\n",
        "plt.figure(figsize=(14,5))\n",
        "plt.plot(y_test[:,0], color = 'red', label = 'Real Google Stock Price')\n",
        "plt.plot(y_pred[:,0], color = 'blue', label = 'Predicted Google Stock Price')\n",
        "plt.title('Google Stock Price Prediction with LSTM (3 layers)')\n",
        "plt.xlabel('Time')\n",
        "plt.ylabel('Google Stock Price')\n",
        "plt.legend()\n",
        "plt.show()"
      ]
    },
    {
      "cell_type": "code",
      "source": [],
      "metadata": {
        "id": "RICBks8Vvc--"
      },
      "execution_count": null,
      "outputs": []
    }
  ],
  "metadata": {
    "kernelspec": {
      "display_name": "Python 3",
      "language": "python",
      "name": "python3"
    },
    "language_info": {
      "codemirror_mode": {
        "name": "ipython",
        "version": 3
      },
      "file_extension": ".py",
      "mimetype": "text/x-python",
      "name": "python",
      "nbconvert_exporter": "python",
      "pygments_lexer": "ipython3",
      "version": "3.7.3"
    },
    "colab": {
      "provenance": [],
      "include_colab_link": true
    },
    "accelerator": "GPU",
    "gpuClass": "standard"
  },
  "nbformat": 4,
  "nbformat_minor": 0
}