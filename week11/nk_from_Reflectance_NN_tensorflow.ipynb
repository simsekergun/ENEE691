{
  "cells": [
    {
      "cell_type": "markdown",
      "id": "bab54f08",
      "metadata": {
        "id": "bab54f08"
      },
      "source": [
        "# $\\color{ForestGreen}{\\text{Neural Networks with Keras TensorFlow}}$\n",
        "\n",
        "Objective: Choose different normalization mechanisms and different activation functions and try to understand their importance!\n"
      ]
    },
    {
      "cell_type": "code",
      "execution_count": null,
      "id": "b986c279",
      "metadata": {
        "id": "b986c279"
      },
      "outputs": [],
      "source": [
        "# Importing basic libraries\n",
        "import numpy as np\n",
        "import pandas as pd\n",
        "import matplotlib.pyplot as plt\n",
        "%matplotlib inline\n",
        "import seaborn as sns"
      ]
    },
    {
      "cell_type": "code",
      "execution_count": null,
      "id": "b5a7d43e",
      "metadata": {
        "id": "b5a7d43e"
      },
      "outputs": [],
      "source": [
        "# Importing basic tensorflow modules \n",
        "from tensorflow.keras.layers import Dense, Activation \n",
        "from tensorflow.keras.models import Model, Sequential \n",
        "from tensorflow.keras.optimizers import Adam\n",
        "from tensorflow.keras.utils import plot_model "
      ]
    },
    {
      "cell_type": "markdown",
      "id": "f5bc8fef",
      "metadata": {
        "id": "f5bc8fef"
      },
      "source": [
        "## $\\color{ForestGreen}{\\text{Differential Reflectance Dataset}}$"
      ]
    },
    {
      "cell_type": "code",
      "execution_count": null,
      "id": "dc558d2f",
      "metadata": {
        "colab": {
          "base_uri": "https://localhost:8080/"
        },
        "id": "dc558d2f",
        "outputId": "aa6a5adf-a8a1-4b2c-d001-28f56eded5ea"
      },
      "outputs": [
        {
          "output_type": "execute_result",
          "data": {
            "text/plain": [
              "((3060, 244), (3060, 2))"
            ]
          },
          "metadata": {},
          "execution_count": 3
        }
      ],
      "source": [
        "X_train = pd.read_csv('https://raw.githubusercontent.com/simsekergun/MLPdatasets/main/DifferentialReflectance/Reflectance_X_train.csv')\n",
        "y_train = pd.read_csv('https://raw.githubusercontent.com/simsekergun/MLPdatasets/main/DifferentialReflectance/Reflectance_Y_train.csv')\n",
        "X_test = pd.read_csv('https://raw.githubusercontent.com/simsekergun/MLPdatasets/main/DifferentialReflectance/Reflectance_X_test.csv')\n",
        "X_train.shape, y_train.shape"
      ]
    },
    {
      "cell_type": "code",
      "source": [
        "Xmins = X_train.min()\n",
        "Xmaxs = X_train.max()\n",
        "ymins = y_train.min()\n",
        "ymaxs = y_train.max()"
      ],
      "metadata": {
        "id": "f7gqF43XINV-"
      },
      "id": "f7gqF43XINV-",
      "execution_count": null,
      "outputs": []
    },
    {
      "cell_type": "code",
      "source": [
        "X = (X_train-Xmins)/Xmaxs\n",
        "y = (y_train-ymins)/ymaxs"
      ],
      "metadata": {
        "id": "NMFXpGPBvU9u"
      },
      "id": "NMFXpGPBvU9u",
      "execution_count": null,
      "outputs": []
    },
    {
      "cell_type": "code",
      "execution_count": null,
      "id": "7287a840",
      "metadata": {
        "id": "7287a840"
      },
      "outputs": [],
      "source": [
        "# Creating a simple function that builds a fully connected neural network  \n",
        "def create_model(n_neurons, learning_rate): \n",
        "    model = Sequential() \n",
        "    model.add(Dense(n_neurons, input_dim=X_train.shape[1], activation='sigmoid')) # Layer 1 + activation\n",
        "    model.add(Dense(n_neurons, activation='sigmoid'))                             # Layer 2 + activation\n",
        "    model.add(Dense(n_neurons, activation='sigmoid'))                             # Layer 3 + activation\n",
        "    model.add(Dense(y_train.shape[1]))                                          # Output layer\n",
        "    adam = Adam(learning_rate=learning_rate)                                      # Choice of optimizer\n",
        "    # Compiling the model by specifying the choice of loss function ('mse'), and performance metrics\n",
        "    model.compile(loss='mse', optimizer=adam, metrics=['mse']) \n",
        "    return model"
      ]
    },
    {
      "cell_type": "code",
      "execution_count": null,
      "id": "09c1007d",
      "metadata": {
        "id": "09c1007d"
      },
      "outputs": [],
      "source": [
        "# Creating a model with 128 neurons and learning rate 0.001\n",
        "\n",
        "#del model\n",
        "model = create_model(n_neurons=128, learning_rate=0.001)"
      ]
    },
    {
      "cell_type": "code",
      "execution_count": null,
      "id": "1e9b4c1c",
      "metadata": {
        "colab": {
          "base_uri": "https://localhost:8080/"
        },
        "id": "1e9b4c1c",
        "outputId": "e7f783b9-6620-4b0b-b105-4006d705b904"
      },
      "outputs": [
        {
          "output_type": "stream",
          "name": "stdout",
          "text": [
            "Model: \"sequential\"\n",
            "_________________________________________________________________\n",
            " Layer (type)                Output Shape              Param #   \n",
            "=================================================================\n",
            " dense (Dense)               (None, 128)               31360     \n",
            "                                                                 \n",
            " dense_1 (Dense)             (None, 128)               16512     \n",
            "                                                                 \n",
            " dense_2 (Dense)             (None, 128)               16512     \n",
            "                                                                 \n",
            " dense_3 (Dense)             (None, 2)                 258       \n",
            "                                                                 \n",
            "=================================================================\n",
            "Total params: 64,642\n",
            "Trainable params: 64,642\n",
            "Non-trainable params: 0\n",
            "_________________________________________________________________\n"
          ]
        }
      ],
      "source": [
        "# Presenting the summary of the model\n",
        "\n",
        "model.summary()"
      ]
    },
    {
      "cell_type": "code",
      "execution_count": null,
      "id": "84506843",
      "metadata": {
        "colab": {
          "base_uri": "https://localhost:8080/",
          "height": 533
        },
        "id": "84506843",
        "outputId": "0fc1944b-4b2f-4d9d-ba1b-82e0a954ab16"
      },
      "outputs": [
        {
          "output_type": "execute_result",
          "data": {
            "image/png": "[encoded data removed]",
            "text/plain": [
              "<IPython.core.display.Image object>"
            ]
          },
          "metadata": {},
          "execution_count": 9
        }
      ],
      "source": [
        "# Visualize the model's structure \n",
        "plot_model(model, to_file='model_plot.png', show_shapes=True, show_layer_names=True)"
      ]
    },
    {
      "cell_type": "code",
      "execution_count": null,
      "id": "afd734de",
      "metadata": {
        "id": "afd734de"
      },
      "outputs": [],
      "source": [
        "# Training the model for 100 epochs\n",
        "epochs = 50\n",
        "\n",
        "model_history = model.fit(X_train, y_train, epochs=epochs,verbose=0)"
      ]
    },
    {
      "cell_type": "code",
      "execution_count": null,
      "id": "53e28302",
      "metadata": {
        "colab": {
          "base_uri": "https://localhost:8080/",
          "height": 468
        },
        "id": "53e28302",
        "outputId": "88e49679-5c28-4638-c73a-e59b167ce75b"
      },
      "outputs": [
        {
          "output_type": "display_data",
          "data": {
            "text/plain": [
              "<Figure size 800x500 with 1 Axes>"
            ],
            "image/png": "[encoded data removed]"
          },
          "metadata": {}
        }
      ],
      "source": [
        "# Plotting the loss function from model's history\n",
        "\n",
        "plt.figure(figsize=(8,5))\n",
        "plt.plot(model_history.history['mse'], label = 'train mse')\n",
        "plt.title('History of the Loss Function of the Model')\n",
        "plt.show()"
      ]
    },
    {
      "cell_type": "code",
      "execution_count": null,
      "id": "223209f2",
      "metadata": {
        "colab": {
          "base_uri": "https://localhost:8080/"
        },
        "id": "223209f2",
        "outputId": "09de6e95-5e1d-4959-c0b6-c1bc5c0514a0"
      },
      "outputs": [
        {
          "output_type": "stream",
          "name": "stdout",
          "text": [
            "1/1 [==============================] - 0s 103ms/step\n"
          ]
        },
        {
          "output_type": "execute_result",
          "data": {
            "text/plain": [
              "array([[2.53369  , 3.7669811]], dtype=float32)"
            ]
          },
          "metadata": {},
          "execution_count": 12
        }
      ],
      "source": [
        "y_pred = model.predict(X_test)\n",
        "y_pred"
      ]
    },
    {
      "cell_type": "code",
      "source": [],
      "metadata": {
        "id": "XgfupUAawkU2"
      },
      "id": "XgfupUAawkU2",
      "execution_count": null,
      "outputs": []
    },
    {
      "cell_type": "markdown",
      "source": [
        "The true answer is n = 2.5 and k = 3.74\n",
        "\n",
        "n prediction Error = 1.3%\n",
        "\n",
        "k prediction Error = 0.7%"
      ],
      "metadata": {
        "id": "9_fhtHy5w2F5"
      },
      "id": "9_fhtHy5w2F5"
    },
    {
      "cell_type": "code",
      "source": [],
      "metadata": {
        "id": "a6xRb-2rxPHH"
      },
      "id": "a6xRb-2rxPHH",
      "execution_count": null,
      "outputs": []
    }
  ],
  "metadata": {
    "kernelspec": {
      "display_name": "Python 3 (ipykernel)",
      "language": "python",
      "name": "python3"
    },
    "language_info": {
      "codemirror_mode": {
        "name": "ipython",
        "version": 3
      },
      "file_extension": ".py",
      "mimetype": "text/x-python",
      "name": "python",
      "nbconvert_exporter": "python",
      "pygments_lexer": "ipython3",
      "version": "3.9.15"
    },
    "colab": {
      "provenance": []
    }
  },
  "nbformat": 4,
  "nbformat_minor": 5
}