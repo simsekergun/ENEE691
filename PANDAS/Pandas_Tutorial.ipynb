{
  "nbformat": 4,
  "nbformat_minor": 0,
  "metadata": {
    "kernelspec": {
      "display_name": "Python 3",
      "language": "python",
      "name": "python3"
    },
    "language_info": {
      "codemirror_mode": {
        "name": "ipython",
        "version": 3
      },
      "file_extension": ".py",
      "mimetype": "text/x-python",
      "name": "python",
      "nbconvert_exporter": "python",
      "pygments_lexer": "ipython3",
      "version": "3.8.8"
    },
    "colab": {
      "provenance": [],
      "include_colab_link": true
    }
  },
  "cells": [
    {
      "cell_type": "markdown",
      "metadata": {
        "id": "view-in-github",
        "colab_type": "text"
      },
      "source": [
        "<a href=\"https://colab.research.google.com/github/simsekergun/ENEE691/blob/main/PANDAS/Pandas_Tutorial.ipynb\" target=\"_parent\"><img src=\"https://colab.research.google.com/assets/colab-badge.svg\" alt=\"Open In Colab\"/></a>"
      ]
    },
    {
      "cell_type": "markdown",
      "metadata": {
        "id": "7uW7xvnwdWgV"
      },
      "source": [
        "## Introduction to Pandas\n",
        "### What's pandas?\n",
        " - Pandas is an open source library providing high-performance, easy-to-use data structures and data analysis tools for the Python programming language. <br>\n",
        " - Pandas is part of the Anaconda distribution and can be installed with Anaconda (e.g. <code> conda install pandas </code>) or via pip (<code> pip install pandas</code>) <br>\n",
        " - When working with tabular data, such as data stored in spreadsheets or databases, pandas is the right tool (assuming not so large files). <br>\n",
        "pandas help us to explore, clean, and process our data. <br>\n",
        " - In pandas, a data table is called a DataFrame.  <br>\n",
        "<img src=\"https://pandas.pydata.org/pandas-docs/stable/_images/01_table_dataframe.svg\" width=\"600\">\n",
        "\n",
        " - pandas supports the integration with many file formats or data sources out of the box (csv, excel, sql, json, parquet,…). Importing data from each of these data sources is provided by function with the prefix <span style=\"color: red;\">read_*</span>. Similarly, the <span style=\"color: red;\">to_*</span> methods are used to store data <br> [e.g. <code> sales = pd.read_csv(\"sales_data.csv\" </code>) ] <br>\n",
        "<img src=\"https://pandas.pydata.org/pandas-docs/stable/_images/02_io_readwrite.svg\" width=\"800\">\n",
        "\n",
        "Before working with different datasets, let's learn the basics."
      ]
    },
    {
      "cell_type": "markdown",
      "metadata": {
        "id": "zcBzWYWBmSLh"
      },
      "source": [
        "Very useful 2-pages:\n",
        "https://pandas.pydata.org/Pandas_Cheat_Sheet.pdf\n",
        "\n",
        "Pandas module is huge: \n",
        "https://pandas.pydata.org/docs/reference/"
      ]
    },
    {
      "cell_type": "code",
      "metadata": {
        "id": "2HIo-Y5DdWgZ"
      },
      "source": [
        "import pandas as pd\n",
        "import numpy as np\n",
        "import matplotlib.pyplot as plt"
      ],
      "execution_count": null,
      "outputs": []
    },
    {
      "cell_type": "markdown",
      "metadata": {
        "id": "QH5mWui0dWga"
      },
      "source": [
        "### Object Creation"
      ]
    },
    {
      "cell_type": "code",
      "metadata": {
        "id": "_VDQV-YxdWga"
      },
      "source": [
        "s = pd.Series([1, 'Mike', 5, np.nan, 6, 8])\n",
        "s"
      ],
      "execution_count": null,
      "outputs": []
    },
    {
      "cell_type": "code",
      "metadata": {
        "id": "Ge9uUHgcdWgb"
      },
      "source": [
        "dates = pd.date_range('20190101', periods=6)\n",
        "dates"
      ],
      "execution_count": null,
      "outputs": []
    },
    {
      "cell_type": "code",
      "metadata": {
        "id": "EPlW0EsbdWgd"
      },
      "source": [
        "df = pd.DataFrame(np.random.randn(6, 4), index=dates, columns=list('ABCD'))\n",
        "df"
      ],
      "execution_count": null,
      "outputs": []
    },
    {
      "cell_type": "code",
      "metadata": {
        "id": "q_lMItBWdWge"
      },
      "source": [
        "df2 = pd.DataFrame({'A': 1.,\n",
        "                    'B': pd.Timestamp('20130102'),\n",
        "                    'C': pd.Series(1, index=list(range(4)), dtype='float32'),\n",
        "                    'D': np.array([3] * 4, dtype='int32'),\n",
        "                    'E': pd.Categorical([\"test\", \"train\", \"test\", \"train\"]),\n",
        "                    'F': 'foo'})\n",
        "df2"
      ],
      "execution_count": null,
      "outputs": []
    },
    {
      "cell_type": "code",
      "metadata": {
        "id": "ew-dmrMIdWge"
      },
      "source": [
        "df2.dtypes"
      ],
      "execution_count": null,
      "outputs": []
    },
    {
      "cell_type": "markdown",
      "metadata": {
        "id": "YXMHocNLdWgf"
      },
      "source": [
        "### Viewing Data"
      ]
    },
    {
      "cell_type": "code",
      "metadata": {
        "id": "Ka-VywEFdWgf"
      },
      "source": [
        "df.head()"
      ],
      "execution_count": null,
      "outputs": []
    },
    {
      "cell_type": "code",
      "metadata": {
        "id": "bQME9xrvdWgf"
      },
      "source": [
        "df.head(3)"
      ],
      "execution_count": null,
      "outputs": []
    },
    {
      "cell_type": "code",
      "metadata": {
        "id": "J2Fw3imWdWgf"
      },
      "source": [
        "df.tail(2)"
      ],
      "execution_count": null,
      "outputs": []
    },
    {
      "cell_type": "code",
      "source": [
        "df.sample(2)"
      ],
      "metadata": {
        "id": "EiI4ctglDiDy"
      },
      "execution_count": null,
      "outputs": []
    },
    {
      "cell_type": "code",
      "metadata": {
        "id": "67eGJmOjdWgg"
      },
      "source": [
        "df.index"
      ],
      "execution_count": null,
      "outputs": []
    },
    {
      "cell_type": "code",
      "metadata": {
        "id": "pix_ueCOdWgg"
      },
      "source": [
        "df.columns"
      ],
      "execution_count": null,
      "outputs": []
    },
    {
      "cell_type": "code",
      "metadata": {
        "id": "QWgC0V4fdWgg"
      },
      "source": [
        "df.values"
      ],
      "execution_count": null,
      "outputs": []
    },
    {
      "cell_type": "code",
      "metadata": {
        "id": "wIvOaMxZdWgh"
      },
      "source": [
        " df.describe()"
      ],
      "execution_count": null,
      "outputs": []
    },
    {
      "cell_type": "markdown",
      "metadata": {
        "id": "ifRM9ozl0JD8"
      },
      "source": [
        "<div> <img src = \"https://online.stat.psu.edu/stat500/sites/stat500/files/inline-images/500%20l1%2025th%20and%2075th%20percentile.png\", width=600 />\n",
        "</div>"
      ]
    },
    {
      "cell_type": "code",
      "metadata": {
        "id": "HQno06RedWgh"
      },
      "source": [
        "df.T"
      ],
      "execution_count": null,
      "outputs": []
    },
    {
      "cell_type": "code",
      "metadata": {
        "id": "174Y5xR7pAE3"
      },
      "source": [
        "df"
      ],
      "execution_count": null,
      "outputs": []
    },
    {
      "cell_type": "code",
      "metadata": {
        "id": "DeZFzzxy078i"
      },
      "source": [
        "df.sort_index(axis=0, ascending=False)"
      ],
      "execution_count": null,
      "outputs": []
    },
    {
      "cell_type": "code",
      "metadata": {
        "id": "02OFzToedWgh"
      },
      "source": [
        "df.sort_index(axis=1, ascending=False)"
      ],
      "execution_count": null,
      "outputs": []
    },
    {
      "cell_type": "code",
      "metadata": {
        "id": "M2ktQiCAdWgh"
      },
      "source": [
        "df.sort_values(by='B')"
      ],
      "execution_count": null,
      "outputs": []
    },
    {
      "cell_type": "markdown",
      "metadata": {
        "id": "Dauzk9JOdWgi"
      },
      "source": [
        "### SELECTION"
      ]
    },
    {
      "cell_type": "code",
      "metadata": {
        "id": "ZtEPKq_ldWgi"
      },
      "source": [
        "df['A']"
      ],
      "execution_count": null,
      "outputs": []
    },
    {
      "cell_type": "code",
      "metadata": {
        "id": "xym0v042dWgi"
      },
      "source": [
        "df.A"
      ],
      "execution_count": null,
      "outputs": []
    },
    {
      "cell_type": "code",
      "metadata": {
        "id": "ktcTAaJrdWgi"
      },
      "source": [
        "df[0:3]"
      ],
      "execution_count": null,
      "outputs": []
    },
    {
      "cell_type": "code",
      "metadata": {
        "id": "A04RkrFVdWgi"
      },
      "source": [
        "df['20190102':'20190104']"
      ],
      "execution_count": null,
      "outputs": []
    },
    {
      "cell_type": "markdown",
      "metadata": {
        "id": "pQ0QxX3idWgi"
      },
      "source": [
        "#### Selection by Label"
      ]
    },
    {
      "cell_type": "code",
      "metadata": {
        "id": "y5_b2oj7EBei"
      },
      "source": [
        "# remember \"dates\"\n",
        "dates"
      ],
      "execution_count": null,
      "outputs": []
    },
    {
      "cell_type": "code",
      "metadata": {
        "id": "RKGBcKqudWgi"
      },
      "source": [
        "df.loc[dates[2]]"
      ],
      "execution_count": null,
      "outputs": []
    },
    {
      "cell_type": "code",
      "metadata": {
        "id": "3AoNRWuzdWgj"
      },
      "source": [
        "df.loc[:, ['A', 'B']]"
      ],
      "execution_count": null,
      "outputs": []
    },
    {
      "cell_type": "code",
      "metadata": {
        "id": "JoAuz3LYdWgj"
      },
      "source": [
        "df.loc['20190102':'20190104', ['A', 'B']]"
      ],
      "execution_count": null,
      "outputs": []
    },
    {
      "cell_type": "code",
      "metadata": {
        "id": "_IlqM4UJdWgj"
      },
      "source": [
        "df.loc['20190102', ['A', 'B']]"
      ],
      "execution_count": null,
      "outputs": []
    },
    {
      "cell_type": "code",
      "metadata": {
        "id": "4rxjY_6mdWgj"
      },
      "source": [
        "df.loc[dates[0], 'A']"
      ],
      "execution_count": null,
      "outputs": []
    },
    {
      "cell_type": "code",
      "metadata": {
        "id": "1AIb6MnodWgj"
      },
      "source": [
        "df.at[dates[0], 'A']"
      ],
      "execution_count": null,
      "outputs": []
    },
    {
      "cell_type": "markdown",
      "metadata": {
        "id": "ekB3h3p2dWgj"
      },
      "source": [
        "#### Selection by Position"
      ]
    },
    {
      "cell_type": "code",
      "metadata": {
        "id": "jU0C6p1Srcka"
      },
      "source": [
        "df"
      ],
      "execution_count": null,
      "outputs": []
    },
    {
      "cell_type": "code",
      "metadata": {
        "id": "JLEDPsWHdWgk"
      },
      "source": [
        "df.iloc[3]"
      ],
      "execution_count": null,
      "outputs": []
    },
    {
      "cell_type": "code",
      "metadata": {
        "id": "3rB_9K92dWgk"
      },
      "source": [
        "df.iloc[3:5, 0:2]"
      ],
      "execution_count": null,
      "outputs": []
    },
    {
      "cell_type": "code",
      "metadata": {
        "id": "OPxrRCBKdWgk"
      },
      "source": [
        "df.iloc[[1, 2, 4], [0, 2]]"
      ],
      "execution_count": null,
      "outputs": []
    },
    {
      "cell_type": "code",
      "metadata": {
        "id": "opX_PRaYdWgk"
      },
      "source": [
        "df.iloc[1:3, :]"
      ],
      "execution_count": null,
      "outputs": []
    },
    {
      "cell_type": "code",
      "metadata": {
        "id": "4iWBUrhBdWgk"
      },
      "source": [
        "df.iloc[:, 1:3]"
      ],
      "execution_count": null,
      "outputs": []
    },
    {
      "cell_type": "code",
      "metadata": {
        "id": "YvRyQ7-4dWgl"
      },
      "source": [
        "df.iloc[:, 1]"
      ],
      "execution_count": null,
      "outputs": []
    },
    {
      "cell_type": "markdown",
      "metadata": {
        "id": "YdyWNYY8dWgl"
      },
      "source": [
        "### Boolean Indexing"
      ]
    },
    {
      "cell_type": "code",
      "metadata": {
        "id": "TPqVypSWspWX"
      },
      "source": [
        "df"
      ],
      "execution_count": null,
      "outputs": []
    },
    {
      "cell_type": "code",
      "metadata": {
        "id": "BfIgqefHdWgl"
      },
      "source": [
        "df4 = df[df.B > 0]\n",
        "df4"
      ],
      "execution_count": null,
      "outputs": []
    },
    {
      "cell_type": "code",
      "metadata": {
        "id": "KwN3zrNvdWgl"
      },
      "source": [
        "df[df > 0]"
      ],
      "execution_count": null,
      "outputs": []
    },
    {
      "cell_type": "code",
      "source": [
        "# unless the entire column is full of NANs, then you will operate on non-NAN variables\n",
        "df[df > 0].mean()"
      ],
      "metadata": {
        "id": "Ai9_JABzEeMB"
      },
      "execution_count": null,
      "outputs": []
    },
    {
      "cell_type": "code",
      "source": [
        "# to operate on columns\n",
        "df[df > 0].mean(axis=1)"
      ],
      "metadata": {
        "id": "6gDJyDAIExYQ"
      },
      "execution_count": null,
      "outputs": []
    },
    {
      "cell_type": "code",
      "metadata": {
        "id": "uLcHTqnzdWgl"
      },
      "source": [
        "df2 = df.copy()\n",
        "df2['E'] = ['one', 'one', 'two', 'three', 'four', 'three']\n",
        "df2"
      ],
      "execution_count": null,
      "outputs": []
    },
    {
      "cell_type": "code",
      "metadata": {
        "id": "Dnmu7p3RdWgl"
      },
      "source": [
        "df2[df2['E'].isin(['two', 'four'])]"
      ],
      "execution_count": null,
      "outputs": []
    },
    {
      "cell_type": "markdown",
      "metadata": {
        "id": "ZiBOeUYUdWgm"
      },
      "source": [
        "###  Setting"
      ]
    },
    {
      "cell_type": "code",
      "metadata": {
        "id": "nkYA29Shusxz"
      },
      "source": [
        "df"
      ],
      "execution_count": null,
      "outputs": []
    },
    {
      "cell_type": "code",
      "metadata": {
        "id": "dVqZPeJadWgm"
      },
      "source": [
        "s1 = pd.Series([1, 2, 3, 4, 5, 6], index=pd.date_range('20190102', periods=6))\n",
        "s1"
      ],
      "execution_count": null,
      "outputs": []
    },
    {
      "cell_type": "code",
      "metadata": {
        "id": "d0RSAnamdWgm"
      },
      "source": [
        "df['F'] = s1"
      ],
      "execution_count": null,
      "outputs": []
    },
    {
      "cell_type": "code",
      "metadata": {
        "id": "Ph-_lgELdWgm"
      },
      "source": [
        "df"
      ],
      "execution_count": null,
      "outputs": []
    },
    {
      "cell_type": "code",
      "metadata": {
        "id": "hyb2r9DPdWgm"
      },
      "source": [
        "df.at[dates[0], 'F'] = 999\n",
        "df"
      ],
      "execution_count": null,
      "outputs": []
    },
    {
      "cell_type": "code",
      "source": [
        "np.array([5] * 3)"
      ],
      "metadata": {
        "id": "rouiRTzUFLXu"
      },
      "execution_count": null,
      "outputs": []
    },
    {
      "cell_type": "code",
      "metadata": {
        "id": "mSpiyw7xdWgm"
      },
      "source": [
        "df.loc[:, 'D'] = np.array([5] * len(df))\n",
        "df"
      ],
      "execution_count": null,
      "outputs": []
    },
    {
      "cell_type": "markdown",
      "metadata": {
        "id": "KwFvHR5KdWgm"
      },
      "source": [
        "## MISSING DATA\n",
        "pandas primarily uses the value np.nan to represent missing data. It is by default not included in computations."
      ]
    },
    {
      "cell_type": "code",
      "metadata": {
        "id": "zV4oX278xGzC"
      },
      "source": [
        "df"
      ],
      "execution_count": null,
      "outputs": []
    },
    {
      "cell_type": "code",
      "metadata": {
        "id": "U-JAOlAwdWgm"
      },
      "source": [
        "df1 = df.reindex(index=dates[0:4], columns=list(df.columns) + ['G'])\n",
        "df1"
      ],
      "execution_count": null,
      "outputs": []
    },
    {
      "cell_type": "code",
      "metadata": {
        "id": "2qpcc3uQdWgn"
      },
      "source": [
        "df1.loc[0:2, 'G'] = 2\n",
        "df1"
      ],
      "execution_count": null,
      "outputs": []
    },
    {
      "cell_type": "code",
      "metadata": {
        "id": "CuHDsDiHdWgn"
      },
      "source": [
        "df1.dropna(how='any')"
      ],
      "execution_count": null,
      "outputs": []
    },
    {
      "cell_type": "code",
      "metadata": {
        "id": "G1LbIw2FdWgn"
      },
      "source": [
        "df1.fillna(value=5)"
      ],
      "execution_count": null,
      "outputs": []
    },
    {
      "cell_type": "code",
      "metadata": {
        "id": "iNR9bxq9dWgn"
      },
      "source": [
        "pd.isna(df1)"
      ],
      "execution_count": null,
      "outputs": []
    },
    {
      "cell_type": "markdown",
      "metadata": {
        "id": "MQC5phbxdWgn"
      },
      "source": [
        "## Operations"
      ]
    },
    {
      "cell_type": "code",
      "metadata": {
        "id": "1YbZ8ipsydSz"
      },
      "source": [
        "df"
      ],
      "execution_count": null,
      "outputs": []
    },
    {
      "cell_type": "markdown",
      "metadata": {
        "id": "0uPXuz3VdWgn"
      },
      "source": [
        "### Statistics"
      ]
    },
    {
      "cell_type": "code",
      "metadata": {
        "id": "yEMhu92GdWgn"
      },
      "source": [
        "df.mean()"
      ],
      "execution_count": null,
      "outputs": []
    },
    {
      "cell_type": "code",
      "metadata": {
        "id": "eyZ10rS1dWgn"
      },
      "source": [
        "df.mean(1)"
      ],
      "execution_count": null,
      "outputs": []
    },
    {
      "cell_type": "code",
      "metadata": {
        "id": "ORy4BjT4dWgo"
      },
      "source": [
        "dates = pd.date_range('20190101', periods=6)\n",
        "s = pd.Series([1, 3, 5, np.nan, 6, 8], index=dates).shift(2)\n",
        "s"
      ],
      "execution_count": null,
      "outputs": []
    },
    {
      "cell_type": "markdown",
      "metadata": {
        "id": "fs4BY58QdWgo"
      },
      "source": [
        "### Apply"
      ]
    },
    {
      "cell_type": "code",
      "metadata": {
        "id": "IjaOAnQQdWgo"
      },
      "source": [
        "df"
      ],
      "execution_count": null,
      "outputs": []
    },
    {
      "cell_type": "code",
      "metadata": {
        "id": "xXcyNO8JdWgo"
      },
      "source": [
        "# sum along the columns \n",
        "df.apply(np.cumsum)"
      ],
      "execution_count": null,
      "outputs": []
    },
    {
      "cell_type": "code",
      "metadata": {
        "id": "peyCO1RRdWgo"
      },
      "source": [
        "# finding ranges along columns\n",
        "df.apply(lambda x: x.max() - x.min())"
      ],
      "execution_count": null,
      "outputs": []
    },
    {
      "cell_type": "markdown",
      "metadata": {
        "id": "T-4y22yjdWgo"
      },
      "source": [
        "## MERGING"
      ]
    },
    {
      "cell_type": "markdown",
      "metadata": {
        "id": "uyZj0rd2dWgp"
      },
      "source": [
        "#### CONCAT"
      ]
    },
    {
      "cell_type": "code",
      "metadata": {
        "id": "Nk_Gq5aMdWgp"
      },
      "source": [
        "df = pd.DataFrame(np.random.randn(6, 6))\n",
        "df"
      ],
      "execution_count": null,
      "outputs": []
    },
    {
      "cell_type": "code",
      "metadata": {
        "id": "AbsAA6QoG0aw"
      },
      "source": [
        "df[:2]"
      ],
      "execution_count": null,
      "outputs": []
    },
    {
      "cell_type": "code",
      "metadata": {
        "id": "sAhwUwh9HSTP"
      },
      "source": [
        "type(df[:2])"
      ],
      "execution_count": null,
      "outputs": []
    },
    {
      "cell_type": "code",
      "metadata": {
        "id": "enWRmpPEHCLt"
      },
      "source": [
        "# get a list\n",
        "[df[:2]]"
      ],
      "execution_count": null,
      "outputs": []
    },
    {
      "cell_type": "code",
      "metadata": {
        "id": "NIYyTpuuHPfV"
      },
      "source": [
        "type([df[:2]])"
      ],
      "execution_count": null,
      "outputs": []
    },
    {
      "cell_type": "code",
      "metadata": {
        "id": "MFIpKl6-dWgp"
      },
      "source": [
        "pieces = [df[:2], df[4:6]]\n",
        "pieces"
      ],
      "execution_count": null,
      "outputs": []
    },
    {
      "cell_type": "code",
      "metadata": {
        "id": "2ssy7emadWgp"
      },
      "source": [
        "pd.concat(pieces)"
      ],
      "execution_count": null,
      "outputs": []
    },
    {
      "cell_type": "markdown",
      "metadata": {
        "id": "crc8JsDMdWgp"
      },
      "source": [
        "#### JOIN\n",
        "SQL style merges"
      ]
    },
    {
      "cell_type": "code",
      "metadata": {
        "id": "8NqJoVGddWgp"
      },
      "source": [
        "width = pd.DataFrame({'Substrate': ['Silicon', 'Glass'], 'TE Resonance': [512, 532]})\n",
        "width"
      ],
      "execution_count": null,
      "outputs": []
    },
    {
      "cell_type": "code",
      "metadata": {
        "id": "raEW2siDdWgp"
      },
      "source": [
        "length = pd.DataFrame({'Substrate': ['Silicon', 'Glass'], 'TM Resonance': [488, 520]})\n",
        "length"
      ],
      "execution_count": null,
      "outputs": []
    },
    {
      "cell_type": "code",
      "metadata": {
        "id": "7iLkr52adWgp"
      },
      "source": [
        "pd.merge(width, length, on='Substrate')"
      ],
      "execution_count": null,
      "outputs": []
    },
    {
      "cell_type": "markdown",
      "metadata": {
        "id": "y8_2KhSZdWgq"
      },
      "source": [
        "### APPEND"
      ]
    },
    {
      "cell_type": "code",
      "metadata": {
        "id": "7Z60byVsdWgq"
      },
      "source": [
        "df = pd.DataFrame(np.random.randn(8, 4), columns=['A', 'B', 'C', 'D'])\n",
        "df"
      ],
      "execution_count": null,
      "outputs": []
    },
    {
      "cell_type": "code",
      "metadata": {
        "id": "_8ZA-ULadWgq"
      },
      "source": [
        "s = pd.DataFrame(np.random.randn(2, 4), columns=['A', 'B', 'C', 'D'])\n",
        "df.append(s, ignore_index=True)"
      ],
      "execution_count": null,
      "outputs": []
    },
    {
      "cell_type": "markdown",
      "metadata": {
        "id": "TQYc1hytdWgq"
      },
      "source": [
        "## GROUPING"
      ]
    },
    {
      "cell_type": "code",
      "metadata": {
        "id": "puFxdHUhdWgq"
      },
      "source": [
        "df = pd.DataFrame({'Polarization': ['TE', 'TM', 'TE', 'TM',\n",
        "                         'TE', 'TM', 'TE', 'TE'],\n",
        "                   'Metal': ['Ag', 'Ag', 'Au', 'Cu',\n",
        "                         'Au', 'Au', 'Ag', 'Cu'],\n",
        "                   'C': np.random.randn(8),\n",
        "                   'D': np.random.randn(8)})\n",
        "df"
      ],
      "execution_count": null,
      "outputs": []
    },
    {
      "cell_type": "code",
      "metadata": {
        "id": "jPm8QLwEdWgq"
      },
      "source": [
        "df.groupby('Polarization').mean()"
      ],
      "execution_count": null,
      "outputs": []
    },
    {
      "cell_type": "code",
      "source": [
        "df.groupby('Metal').mean()"
      ],
      "metadata": {
        "id": "JgM-lU1sVked"
      },
      "execution_count": null,
      "outputs": []
    },
    {
      "cell_type": "code",
      "metadata": {
        "id": "-DiowhnZdWgr"
      },
      "source": [
        "df.groupby(['Polarization', 'Metal']).sum()"
      ],
      "execution_count": null,
      "outputs": []
    },
    {
      "cell_type": "markdown",
      "metadata": {
        "id": "XQ2ke92UdWgr"
      },
      "source": [
        "## Reshaping (Hierarchical Data)"
      ]
    },
    {
      "cell_type": "code",
      "metadata": {
        "id": "4WUYMsfHdWgr"
      },
      "source": [
        "tuples = list(zip(*[['Silicon', 'Silicon', 'Quartz', 'Quartz',\n",
        "                     'GaN', 'GaN', 'Diamond', 'Diamond'],\n",
        "                    ['TE', 'TM', 'TE', 'TM',\n",
        "                     'TE', 'TM', 'TE', 'TM']]))\n",
        "print(tuples)"
      ],
      "execution_count": null,
      "outputs": []
    },
    {
      "cell_type": "code",
      "metadata": {
        "id": "z1HhS_AMdWgr"
      },
      "source": [
        "index = pd.MultiIndex.from_tuples(tuples, names=['substrate', 'polarization'])\n",
        "df = pd.DataFrame(np.random.randn(8, 2), index=index, columns=['Au', 'Ag'])\n",
        "df"
      ],
      "execution_count": null,
      "outputs": []
    },
    {
      "cell_type": "code",
      "metadata": {
        "id": "uZbi5BT0dWgr"
      },
      "source": [
        "df2 = df[:4]\n",
        "df2"
      ],
      "execution_count": null,
      "outputs": []
    },
    {
      "cell_type": "markdown",
      "metadata": {
        "id": "iS555rWgdWgr"
      },
      "source": [
        "#### STACK (Hierarchical Data)\n",
        "\n",
        "Pandas provides various built-in methods for reshaping DataFrame. Among them, `stack()` and `unstack()` are the 2 most popular methods for restructuring columns and rows.\n",
        "\n",
        "`stack():` stack the prescribed level(s) from column to row. <br>\n",
        "`unstack():` unstack the prescribed level(s) from row to column. The inverse operation from stack.\n",
        "\n",
        "![An image](https://github.com/simsekergun/ENEE691/raw/main/PANDAS/stackunstack.png)"
      ]
    },
    {
      "cell_type": "code",
      "metadata": {
        "id": "Y_zgqE_bdWgr"
      },
      "source": [
        "stacked = df2.stack()\n",
        "stacked"
      ],
      "execution_count": null,
      "outputs": []
    },
    {
      "cell_type": "code",
      "source": [
        "stacked.unstack(level=-1) # default mode"
      ],
      "metadata": {
        "id": "EWH7a0y-oPXR"
      },
      "execution_count": null,
      "outputs": []
    },
    {
      "cell_type": "code",
      "metadata": {
        "id": "ViJDEoWudWgr"
      },
      "source": [
        "stacked.unstack() # same as unstack(-1)"
      ],
      "execution_count": null,
      "outputs": []
    },
    {
      "cell_type": "code",
      "metadata": {
        "id": "862ajx7hdWgs"
      },
      "source": [
        "stacked.unstack(0)"
      ],
      "execution_count": null,
      "outputs": []
    },
    {
      "cell_type": "code",
      "source": [
        "stacked.unstack([0, 1])"
      ],
      "metadata": {
        "id": "4IbiF7kDnDsy"
      },
      "execution_count": null,
      "outputs": []
    },
    {
      "cell_type": "code",
      "source": [
        "stacked.unstack([1, 0])"
      ],
      "metadata": {
        "id": "lIjpdbQOnLJX"
      },
      "execution_count": null,
      "outputs": []
    },
    {
      "cell_type": "code",
      "source": [
        "stacked.unstack([1, 2])"
      ],
      "metadata": {
        "id": "bLzLWrWSnR4p"
      },
      "execution_count": null,
      "outputs": []
    },
    {
      "cell_type": "code",
      "metadata": {
        "id": "QYbcX9gtdWgs"
      },
      "source": [
        "# Remember df2\n",
        "df2"
      ],
      "execution_count": null,
      "outputs": []
    },
    {
      "cell_type": "code",
      "metadata": {
        "id": "MTrW-_KTdWgs"
      },
      "source": [
        "stacked.unstack(0)"
      ],
      "execution_count": null,
      "outputs": []
    },
    {
      "cell_type": "markdown",
      "metadata": {
        "id": "-_E3w61pdWgs"
      },
      "source": [
        "### PIVOT TABLES\n",
        "Return reshaped DataFrame organized by given index / column values."
      ]
    },
    {
      "cell_type": "code",
      "metadata": {
        "id": "ogHjVnGCdWgs"
      },
      "source": [
        "df = pd.DataFrame({'A': ['Silicon', 'Quartz', 'GaN', 'Diamond'] * 3,\n",
        "                   'B': ['Au', 'Ag', 'Cu'] * 4,\n",
        "                   'C': ['TE', 'TE', 'TE', 'TM', 'TM', 'TM'] * 2,\n",
        "                   'D': np.random.randn(12),\n",
        "                   'E': np.random.randn(12)})\n",
        "df"
      ],
      "execution_count": null,
      "outputs": []
    },
    {
      "cell_type": "code",
      "metadata": {
        "id": "WsY9yVwbdWgs"
      },
      "source": [
        "pd.pivot_table(df, values='D', index=['A', 'B'], columns=['C'])"
      ],
      "execution_count": null,
      "outputs": []
    },
    {
      "cell_type": "markdown",
      "metadata": {
        "id": "qosmy6VedWgs"
      },
      "source": [
        "## TIME SERIES"
      ]
    },
    {
      "cell_type": "code",
      "metadata": {
        "id": "yP_sCH1tdWgt"
      },
      "source": [
        "# S ==> seconds\n",
        "rng = pd.date_range('6/1/2019', periods=300, freq='S')\n",
        "ts = pd.Series(np.random.randint(0, 500, len(rng)), index=rng)\n",
        "ts"
      ],
      "execution_count": null,
      "outputs": []
    },
    {
      "cell_type": "code",
      "metadata": {
        "id": "hX4f1FHLdWgt"
      },
      "source": [
        "# let's calculate averages over 1 minute\n",
        "ts.resample('1Min').mean()"
      ],
      "execution_count": null,
      "outputs": []
    },
    {
      "cell_type": "code",
      "source": [
        "# let's calculate averages over 2 minute\n",
        "ts.resample('2Min').mean()"
      ],
      "metadata": {
        "id": "EXfVRJWYrdfx"
      },
      "execution_count": null,
      "outputs": []
    },
    {
      "cell_type": "code",
      "metadata": {
        "id": "INQPrUmsdWgt"
      },
      "source": [
        "rng = pd.date_range('3/6/2019 00:00', periods=5, freq='D')\n",
        "ts = pd.Series(np.random.randn(len(rng)), rng)\n",
        "ts"
      ],
      "execution_count": null,
      "outputs": []
    },
    {
      "cell_type": "code",
      "metadata": {
        "id": "daucVMUfdWgt"
      },
      "source": [
        "# This method takes a time zone (tz) naive Datetime Array/Index object and \n",
        "# makes this time zone aware. It does not move the time to another time zone.\n",
        "ts_utc = ts.tz_localize('UTC')\n",
        "ts_utc"
      ],
      "execution_count": null,
      "outputs": []
    },
    {
      "cell_type": "code",
      "metadata": {
        "id": "zYirsYe7dWgt"
      },
      "source": [
        "ts_est = ts.tz_localize('EST')\n",
        "ts_est"
      ],
      "execution_count": null,
      "outputs": []
    },
    {
      "cell_type": "code",
      "metadata": {
        "id": "ZVhNSMnGdWgu"
      },
      "source": [
        "# to convert tz-aware Datetime Array/Index from one time zone to another.\n",
        "ts_est.tz_convert('Pacific/Honolulu')"
      ],
      "execution_count": null,
      "outputs": []
    },
    {
      "cell_type": "code",
      "metadata": {
        "id": "SNXMgXtNdWgu"
      },
      "source": [
        "import pytz\n",
        "len(pytz.all_timezones)"
      ],
      "execution_count": null,
      "outputs": []
    },
    {
      "cell_type": "code",
      "metadata": {
        "id": "dLivBZzUdWgu"
      },
      "source": [
        "pytz.country_timezones('US')"
      ],
      "execution_count": null,
      "outputs": []
    },
    {
      "cell_type": "code",
      "metadata": {
        "id": "Ursh_JRsdWgu"
      },
      "source": [
        "rng = pd.date_range('1/1/2019', periods=7, freq='M')\n",
        "ts = pd.Series(np.random.randn(len(rng)), index=rng)\n",
        "ts"
      ],
      "execution_count": null,
      "outputs": []
    },
    {
      "cell_type": "code",
      "metadata": {
        "id": "ijhvO7LndWgu"
      },
      "source": [
        "# Convert Series from DatetimeIndex to PeriodIndex.\n",
        "ps = ts.to_period()\n",
        "ps"
      ],
      "execution_count": null,
      "outputs": []
    },
    {
      "cell_type": "code",
      "metadata": {
        "id": "R4oIFVTrdWgu"
      },
      "source": [
        "# Cast to DatetimeIndex of Timestamps, at beginning of period.\n",
        "ps.to_timestamp()"
      ],
      "execution_count": null,
      "outputs": []
    },
    {
      "cell_type": "markdown",
      "metadata": {
        "id": "rh_CA1-0dWgv"
      },
      "source": [
        "## CATEGORICALS"
      ]
    },
    {
      "cell_type": "code",
      "metadata": {
        "id": "4Rlcror6dWgv"
      },
      "source": [
        "df = pd.DataFrame({\"id\": [1, 2, 3, 4, 5, 6],\n",
        "                   \"raw_grade\": ['a', 'b', 'b', 'a', 'a', 'e']})\n",
        "df"
      ],
      "execution_count": null,
      "outputs": []
    },
    {
      "cell_type": "code",
      "metadata": {
        "id": "qy8lfyK5dWgv"
      },
      "source": [
        "df[\"grade\"] = df[\"raw_grade\"].astype(\"category\")\n",
        "df[\"grade\"]"
      ],
      "execution_count": null,
      "outputs": []
    },
    {
      "cell_type": "code",
      "metadata": {
        "id": "Y-PRKmygdWgv"
      },
      "source": [
        "df[\"grade\"].cat.categories = [\"very good\", \"good\", \"very bad\"]\n",
        "df"
      ],
      "execution_count": null,
      "outputs": []
    },
    {
      "cell_type": "code",
      "metadata": {
        "id": "DOy3zgNmdWgv"
      },
      "source": [
        "df[\"grade\"] = df[\"grade\"].cat.set_categories([\"very bad\", \"bad\", \"medium\",\n",
        "                                              \"good\", \"very good\"])\n",
        "df"
      ],
      "execution_count": null,
      "outputs": []
    },
    {
      "cell_type": "code",
      "metadata": {
        "id": "3AnlpnQidWgv"
      },
      "source": [
        "df.sort_values(by=\"grade\")"
      ],
      "execution_count": null,
      "outputs": []
    },
    {
      "cell_type": "code",
      "metadata": {
        "id": "PtKf2QQcdWgv"
      },
      "source": [
        "df.groupby(\"grade\").size()"
      ],
      "execution_count": null,
      "outputs": []
    },
    {
      "cell_type": "markdown",
      "metadata": {
        "id": "iViJQjvJdWgw"
      },
      "source": [
        "## Plotting"
      ]
    },
    {
      "cell_type": "code",
      "metadata": {
        "id": "ZKIP1V4cdWgw"
      },
      "source": [
        "ts = pd.Series(np.random.randn(3650),\n",
        "                index=pd.date_range('1/1/2000', periods=3650))\n",
        "ts.plot()"
      ],
      "execution_count": null,
      "outputs": []
    },
    {
      "cell_type": "code",
      "metadata": {
        "id": "VQTcI2_NdWgw"
      },
      "source": [
        "ts = ts.cumsum()\n",
        "ts.plot()"
      ],
      "execution_count": null,
      "outputs": []
    },
    {
      "cell_type": "code",
      "metadata": {
        "id": "Lsb7XRv6dWgw"
      },
      "source": [
        "df = pd.DataFrame(np.random.randn(3650, 4), index=ts.index,\n",
        "                  columns=['A', 'B', 'C', 'D'])\n",
        "df = df.cumsum()\n",
        "plt.figure()\n",
        "df.plot()\n",
        "plt.legend(loc='best')"
      ],
      "execution_count": null,
      "outputs": []
    },
    {
      "cell_type": "markdown",
      "metadata": {
        "id": "RLyYKI7vdWgw"
      },
      "source": [
        "## GETTING DATA IN/OUT"
      ]
    },
    {
      "cell_type": "markdown",
      "metadata": {
        "id": "EY9fr45idWgw"
      },
      "source": [
        "### CSV"
      ]
    },
    {
      "cell_type": "code",
      "metadata": {
        "id": "WBAxm0JK7F6A"
      },
      "source": [
        "df"
      ],
      "execution_count": null,
      "outputs": []
    },
    {
      "cell_type": "code",
      "metadata": {
        "id": "ZRagi3AcdWgw"
      },
      "source": [
        "df.to_csv('blood_data.csv')"
      ],
      "execution_count": null,
      "outputs": []
    },
    {
      "cell_type": "code",
      "metadata": {
        "id": "4jUQdQxzdWgw"
      },
      "source": [
        "pd.read_csv('blood_data.csv')"
      ],
      "execution_count": null,
      "outputs": []
    },
    {
      "cell_type": "code",
      "source": [
        "# To download it to your local machine!\n",
        "from google.colab import files\n",
        "files.download('blood_data.csv')"
      ],
      "metadata": {
        "id": "6K7xDLQdtr1Y"
      },
      "execution_count": null,
      "outputs": []
    },
    {
      "cell_type": "markdown",
      "metadata": {
        "id": "Vpybmm8LdWgw"
      },
      "source": [
        "### Excel"
      ]
    },
    {
      "cell_type": "code",
      "metadata": {
        "id": "0j0bZQmhdWgw"
      },
      "source": [
        "df.to_excel('blood_data.xlsx', sheet_name='Sheet1')"
      ],
      "execution_count": null,
      "outputs": []
    },
    {
      "cell_type": "code",
      "metadata": {
        "id": "cJHr77G4dWgx"
      },
      "source": [
        "pd.read_excel('blood_data.xlsx')"
      ],
      "execution_count": null,
      "outputs": []
    },
    {
      "cell_type": "code",
      "metadata": {
        "id": "7lDVRONs7kfa"
      },
      "source": [
        "!ls"
      ],
      "execution_count": null,
      "outputs": []
    },
    {
      "cell_type": "code",
      "metadata": {
        "id": "hK03FL-D8Ape"
      },
      "source": [],
      "execution_count": null,
      "outputs": []
    }
  ]
}