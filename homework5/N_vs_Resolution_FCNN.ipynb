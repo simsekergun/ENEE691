{
  "cells": [
    {
      "cell_type": "code",
      "execution_count": 1,
      "metadata": {
        "id": "KVJosSnoZwhA"
      },
      "outputs": [],
      "source": [
        "import numpy as np\n",
        "import matplotlib.pyplot as plt\n",
        "import pandas as pd\n",
        "from sklearn import metrics \n",
        "from sklearn.model_selection import train_test_split\n",
        "from sklearn.metrics import mean_squared_error\n",
        "from sklearn.linear_model import LinearRegression  \n",
        "from sklearn.metrics import mean_squared_error"
      ]
    },
    {
      "cell_type": "code",
      "execution_count": 2,
      "metadata": {
        "id": "0Hn__WsD692B"
      },
      "outputs": [],
      "source": [
        "# Multilayer Perceptron\n",
        "from keras.models import Model\n",
        "from keras.layers import Input\n",
        "from keras.layers import Dense\n",
        "from keras.layers import Dropout\n",
        "from keras.layers import concatenate\n",
        "from tensorflow.keras import optimizers\n",
        "from tensorflow.keras import backend\n",
        "from keras.layers import LeakyReLU, PReLU\n",
        "from tensorflow.keras.metrics import categorical_accuracy"
      ]
    },
    {
      "cell_type": "code",
      "execution_count": 3,
      "metadata": {
        "colab": {
          "base_uri": "https://localhost:8080/"
        },
        "id": "5fCpixdEZytf",
        "outputId": "a5ecd67d-98a1-4ab1-d5d9-ff56f83973b2"
      },
      "outputs": [
        {
          "output_type": "execute_result",
          "data": {
            "text/plain": [
              "((2330, 200), (2330, 400))"
            ]
          },
          "metadata": {},
          "execution_count": 3
        }
      ],
      "source": [
        "df_m = pd.read_csv('https://raw.githubusercontent.com/simsekergun/Resolution/main/Es_measured_varying_length.csv',header=None)\n",
        "df_r = pd.read_csv('https://raw.githubusercontent.com/simsekergun/Resolution/main/Es_true_varying_length.csv',header=None)\n",
        "df_m = df_m.fillna(0)\n",
        "df_r = df_r.fillna(0)\n",
        "df_m.shape, df_r.shape"
      ]
    },
    {
      "cell_type": "code",
      "source": [
        "nan_count = df_r.isna().sum()\n",
        "print(nan_count)"
      ],
      "metadata": {
        "id": "Zaaiu1tyrtJ8",
        "outputId": "a63f1ce6-ff8f-4c6e-b6f8-42b73187134d",
        "colab": {
          "base_uri": "https://localhost:8080/"
        }
      },
      "execution_count": 4,
      "outputs": [
        {
          "output_type": "stream",
          "name": "stdout",
          "text": [
            "0      0\n",
            "1      0\n",
            "2      0\n",
            "3      0\n",
            "4      0\n",
            "      ..\n",
            "395    0\n",
            "396    0\n",
            "397    0\n",
            "398    0\n",
            "399    0\n",
            "Length: 400, dtype: int64\n"
          ]
        }
      ]
    },
    {
      "cell_type": "code",
      "source": [
        "df_mmax = max(df_m.max())\n",
        "df_rmax = max(df_r.max())"
      ],
      "metadata": {
        "id": "qD-8JtO5Um50"
      },
      "execution_count": 5,
      "outputs": []
    },
    {
      "cell_type": "code",
      "execution_count": 6,
      "metadata": {
        "id": "2-P1miHCaRDK"
      },
      "outputs": [],
      "source": [
        "X = df_m/df_mmax\n",
        "y = df_r/df_rmax"
      ]
    },
    {
      "cell_type": "code",
      "execution_count": 7,
      "metadata": {
        "colab": {
          "base_uri": "https://localhost:8080/"
        },
        "id": "T9-Daf1fZ7yO",
        "outputId": "bdf7fb7f-5f78-4d9e-c4f6-7517cc98ba02"
      },
      "outputs": [
        {
          "output_type": "execute_result",
          "data": {
            "text/plain": [
              "((1631, 200), (699, 200), (1631, 400))"
            ]
          },
          "metadata": {},
          "execution_count": 7
        }
      ],
      "source": [
        "X_train, X_test, y_train, y_test = train_test_split(X, y, test_size=0.3, random_state=3)\n",
        "X_train.shape, X_test.shape, y_train.shape"
      ]
    },
    {
      "cell_type": "code",
      "execution_count": 8,
      "metadata": {
        "id": "40Nt5qfb_8uW"
      },
      "outputs": [],
      "source": [
        "Ns = [50, 100, 150, 200, 250, 300, 400, 500, 800, 1000, 1300, 1631]"
      ]
    },
    {
      "cell_type": "code",
      "execution_count": 9,
      "metadata": {
        "id": "5o2WTvtqAzp8"
      },
      "outputs": [],
      "source": [
        "def get_mean_error(y_pred, y_test):\n",
        "  errors = np.zeros(len(y_pred))\n",
        "  for ii in np.arange(len(y_pred)):\n",
        "    yt = y_test.iloc[ii,:]\n",
        "    yp = y_pred[ii,:]\n",
        "    err = yt-yp\n",
        "    errors[i]=err.abs().max()/yt.max()\n",
        "  return errors.mean()  "
      ]
    },
    {
      "cell_type": "code",
      "execution_count": 10,
      "metadata": {
        "id": "_BBz51Km692C"
      },
      "outputs": [],
      "source": [
        "# ANN parameters\n",
        "ac = 'ReLU'  # activation function\n",
        "nnno = 512    # number of neurons\n",
        "dr_rate = 0.1  # dropout rate\n",
        "EPOCHS = 200    # number of epocs\n",
        "LR = 0.001     # learning rate"
      ]
    },
    {
      "cell_type": "code",
      "execution_count": 11,
      "metadata": {
        "colab": {
          "base_uri": "https://localhost:8080/"
        },
        "id": "x6KuHSH5z44q",
        "outputId": "31424e17-c756-4bf2-92d0-6d9798b6a1af"
      },
      "outputs": [
        {
          "output_type": "stream",
          "name": "stdout",
          "text": [
            "22/22 [==============================] - 0s 2ms/step\n",
            "22/22 [==============================] - 0s 2ms/step\n",
            "22/22 [==============================] - 0s 2ms/step\n",
            "22/22 [==============================] - 0s 2ms/step\n",
            "22/22 [==============================] - 0s 2ms/step\n",
            "22/22 [==============================] - 0s 2ms/step\n",
            "22/22 [==============================] - 0s 2ms/step\n",
            "22/22 [==============================] - 0s 2ms/step\n",
            "22/22 [==============================] - 0s 2ms/step\n",
            "22/22 [==============================] - 0s 2ms/step\n",
            "22/22 [==============================] - 0s 2ms/step\n",
            "22/22 [==============================] - 0s 2ms/step\n"
          ]
        }
      ],
      "source": [
        "#X_train, X_test, y_train, y_test\n",
        "mean_errors = np.zeros(len(Ns))\n",
        "for i in range(len(Ns)):\n",
        "  ninput=200\n",
        "  noutput=400\n",
        "  visible = Input(shape=(ninput,))\n",
        "  hidden1 = Dense(nnno, activation=ac)(visible)\n",
        "  hidden1 = Dropout(dr_rate)(hidden1)\n",
        "  hidden2 = Dense(nnno, activation=ac)(hidden1)\n",
        "  hidden2 = Dropout(dr_rate)(hidden2)\n",
        "  hidden3 = Dense(nnno, activation=ac)(hidden2)\n",
        "  hidden3 = Dropout(dr_rate)(hidden3)\n",
        "  hidden4 = Dense(nnno, activation=ac)(hidden3)\n",
        "  hidden4 = Dropout(dr_rate)(hidden4)\n",
        "  predicted_value = Dense(noutput)(hidden4)\n",
        "  modelANN = Model(inputs=visible, outputs=predicted_value)\n",
        "  opt = optimizers.Adamax(learning_rate=LR)    \n",
        "  modelANN.compile(optimizer=opt, loss=['mse'])\n",
        "  history = modelANN.fit(X_train[:Ns[i]], y_train[:Ns[i]],epochs=EPOCHS, validation_data = (X_test,y_test), verbose=0)\n",
        "  y_pred = modelANN.predict(X_test)\n",
        "  mean_errors[i] = mean_squared_error(y_pred, y_test)\n",
        "  del modelANN"
      ]
    },
    {
      "cell_type": "code",
      "source": [
        "y_test"
      ],
      "metadata": {
        "colab": {
          "base_uri": "https://localhost:8080/",
          "height": 487
        },
        "id": "f_8mPA81qWBW",
        "outputId": "144e07fe-be86-4afc-b227-7ab15a54eb46"
      },
      "execution_count": 12,
      "outputs": [
        {
          "output_type": "execute_result",
          "data": {
            "text/plain": [
              "      0    1    2             3             4             5             6    \\\n",
              "1089  0.0  0.0  0.0  0.000000e+00  0.000000e+00  0.000000e+00  0.000000e+00   \n",
              "245   0.0  0.0  0.0  0.000000e+00  0.000000e+00  0.000000e+00  0.000000e+00   \n",
              "1548  0.0  0.0  0.0  1.146852e-08  1.169281e-08  1.191709e-08  1.214138e-08   \n",
              "215   0.0  0.0  0.0  0.000000e+00  0.000000e+00  0.000000e+00  0.000000e+00   \n",
              "1167  0.0  0.0  0.0  0.000000e+00  0.000000e+00  8.057483e-09  7.611927e-09   \n",
              "...   ...  ...  ...           ...           ...           ...           ...   \n",
              "1499  0.0  0.0  0.0  0.000000e+00  1.085168e-08  1.081764e-08  1.078338e-08   \n",
              "1967  0.0  0.0  0.0  0.000000e+00  0.000000e+00  0.000000e+00  0.000000e+00   \n",
              "1150  0.0  0.0  0.0  0.000000e+00  0.000000e+00  0.000000e+00  0.000000e+00   \n",
              "1544  0.0  0.0  0.0  0.000000e+00  0.000000e+00  0.000000e+00  0.000000e+00   \n",
              "679   0.0  0.0  0.0  0.000000e+00  0.000000e+00  0.000000e+00  0.000000e+00   \n",
              "\n",
              "               7             8             9    ...           390  \\\n",
              "1089  0.000000e+00  0.000000e+00  0.000000e+00  ...  0.000000e+00   \n",
              "245   0.000000e+00  0.000000e+00  0.000000e+00  ...  0.000000e+00   \n",
              "1548  1.236567e-08  1.978175e-06  3.944069e-06  ...  1.517473e-09   \n",
              "215   0.000000e+00  0.000000e+00  0.000000e+00  ...  0.000000e+00   \n",
              "1167  7.166372e-09  6.720817e-09  6.378463e-06  ...  1.296182e-09   \n",
              "...            ...           ...           ...  ...           ...   \n",
              "1499  1.074934e-08  1.071552e-08  1.068471e-08  ...  6.706382e-09   \n",
              "1967  0.000000e+00  0.000000e+00  0.000000e+00  ...  1.624811e-08   \n",
              "1150  0.000000e+00  0.000000e+00  0.000000e+00  ...  0.000000e+00   \n",
              "1544  0.000000e+00  0.000000e+00  0.000000e+00  ...  0.000000e+00   \n",
              "679   0.000000e+00  0.000000e+00  0.000000e+00  ...  0.000000e+00   \n",
              "\n",
              "               391           392           393           394           395  \\\n",
              "1089  0.000000e+00  0.000000e+00  0.000000e+00  0.000000e+00  0.000000e+00   \n",
              "245   0.000000e+00  0.000000e+00  0.000000e+00  0.000000e+00  0.000000e+00   \n",
              "1548  1.517495e-09  1.517473e-09  1.517473e-09  1.517473e-09  1.517473e-09   \n",
              "215   0.000000e+00  0.000000e+00  0.000000e+00  0.000000e+00  0.000000e+00   \n",
              "1167  1.296182e-09  1.296182e-09  1.296182e-09  1.296182e-09  1.296182e-09   \n",
              "...            ...           ...           ...           ...           ...   \n",
              "1499  6.706382e-09  6.706382e-09  6.706382e-09  6.706382e-09  6.706382e-09   \n",
              "1967  1.624811e-08  1.624811e-08  0.000000e+00  0.000000e+00  0.000000e+00   \n",
              "1150  0.000000e+00  0.000000e+00  0.000000e+00  0.000000e+00  0.000000e+00   \n",
              "1544  0.000000e+00  0.000000e+00  0.000000e+00  0.000000e+00  0.000000e+00   \n",
              "679   0.000000e+00  0.000000e+00  0.000000e+00  0.000000e+00  0.000000e+00   \n",
              "\n",
              "               396           397           398           399  \n",
              "1089  0.000000e+00  0.000000e+00  0.000000e+00  0.000000e+00  \n",
              "245   0.000000e+00  0.000000e+00  0.000000e+00  0.000000e+00  \n",
              "1548  1.517473e-09  1.517473e-09  1.517473e-09  1.517495e-09  \n",
              "215   0.000000e+00  0.000000e+00  0.000000e+00  0.000000e+00  \n",
              "1167  1.296204e-09  1.296204e-09  0.000000e+00  0.000000e+00  \n",
              "...            ...           ...           ...           ...  \n",
              "1499  6.706382e-09  6.706382e-09  6.706382e-09  0.000000e+00  \n",
              "1967  0.000000e+00  0.000000e+00  0.000000e+00  0.000000e+00  \n",
              "1150  0.000000e+00  0.000000e+00  0.000000e+00  0.000000e+00  \n",
              "1544  0.000000e+00  0.000000e+00  0.000000e+00  0.000000e+00  \n",
              "679   0.000000e+00  0.000000e+00  0.000000e+00  0.000000e+00  \n",
              "\n",
              "[699 rows x 400 columns]"
            ],
            "text/html": [
              "\n",
              "  <div id=\"df-cc6b68ad-37ff-4b10-ab90-a60cb82e938c\">\n",
              "    <div class=\"colab-df-container\">\n",
              "      <div>\n",
              "<style scoped>\n",
              "    .dataframe tbody tr th:only-of-type {\n",
              "        vertical-align: middle;\n",
              "    }\n",
              "\n",
              "    .dataframe tbody tr th {\n",
              "        vertical-align: top;\n",
              "    }\n",
              "\n",
              "    .dataframe thead th {\n",
              "        text-align: right;\n",
              "    }\n",
              "</style>\n",
              "<table border=\"1\" class=\"dataframe\">\n",
              "  <thead>\n",
              "    <tr style=\"text-align: right;\">\n",
              "      <th></th>\n",
              "      <th>0</th>\n",
              "      <th>1</th>\n",
              "      <th>2</th>\n",
              "      <th>3</th>\n",
              "      <th>4</th>\n",
              "      <th>5</th>\n",
              "      <th>6</th>\n",
              "      <th>7</th>\n",
              "      <th>8</th>\n",
              "      <th>9</th>\n",
              "      <th>...</th>\n",
              "      <th>390</th>\n",
              "      <th>391</th>\n",
              "      <th>392</th>\n",
              "      <th>393</th>\n",
              "      <th>394</th>\n",
              "      <th>395</th>\n",
              "      <th>396</th>\n",
              "      <th>397</th>\n",
              "      <th>398</th>\n",
              "      <th>399</th>\n",
              "    </tr>\n",
              "  </thead>\n",
              "  <tbody>\n",
              "    <tr>\n",
              "      <th>1089</th>\n",
              "      <td>0.0</td>\n",
              "      <td>0.0</td>\n",
              "      <td>0.0</td>\n",
              "      <td>0.000000e+00</td>\n",
              "      <td>0.000000e+00</td>\n",
              "      <td>0.000000e+00</td>\n",
              "      <td>0.000000e+00</td>\n",
              "      <td>0.000000e+00</td>\n",
              "      <td>0.000000e+00</td>\n",
              "      <td>0.000000e+00</td>\n",
              "      <td>...</td>\n",
              "      <td>0.000000e+00</td>\n",
              "      <td>0.000000e+00</td>\n",
              "      <td>0.000000e+00</td>\n",
              "      <td>0.000000e+00</td>\n",
              "      <td>0.000000e+00</td>\n",
              "      <td>0.000000e+00</td>\n",
              "      <td>0.000000e+00</td>\n",
              "      <td>0.000000e+00</td>\n",
              "      <td>0.000000e+00</td>\n",
              "      <td>0.000000e+00</td>\n",
              "    </tr>\n",
              "    <tr>\n",
              "      <th>245</th>\n",
              "      <td>0.0</td>\n",
              "      <td>0.0</td>\n",
              "      <td>0.0</td>\n",
              "      <td>0.000000e+00</td>\n",
              "      <td>0.000000e+00</td>\n",
              "      <td>0.000000e+00</td>\n",
              "      <td>0.000000e+00</td>\n",
              "      <td>0.000000e+00</td>\n",
              "      <td>0.000000e+00</td>\n",
              "      <td>0.000000e+00</td>\n",
              "      <td>...</td>\n",
              "      <td>0.000000e+00</td>\n",
              "      <td>0.000000e+00</td>\n",
              "      <td>0.000000e+00</td>\n",
              "      <td>0.000000e+00</td>\n",
              "      <td>0.000000e+00</td>\n",
              "      <td>0.000000e+00</td>\n",
              "      <td>0.000000e+00</td>\n",
              "      <td>0.000000e+00</td>\n",
              "      <td>0.000000e+00</td>\n",
              "      <td>0.000000e+00</td>\n",
              "    </tr>\n",
              "    <tr>\n",
              "      <th>1548</th>\n",
              "      <td>0.0</td>\n",
              "      <td>0.0</td>\n",
              "      <td>0.0</td>\n",
              "      <td>1.146852e-08</td>\n",
              "      <td>1.169281e-08</td>\n",
              "      <td>1.191709e-08</td>\n",
              "      <td>1.214138e-08</td>\n",
              "      <td>1.236567e-08</td>\n",
              "      <td>1.978175e-06</td>\n",
              "      <td>3.944069e-06</td>\n",
              "      <td>...</td>\n",
              "      <td>1.517473e-09</td>\n",
              "      <td>1.517495e-09</td>\n",
              "      <td>1.517473e-09</td>\n",
              "      <td>1.517473e-09</td>\n",
              "      <td>1.517473e-09</td>\n",
              "      <td>1.517473e-09</td>\n",
              "      <td>1.517473e-09</td>\n",
              "      <td>1.517473e-09</td>\n",
              "      <td>1.517473e-09</td>\n",
              "      <td>1.517495e-09</td>\n",
              "    </tr>\n",
              "    <tr>\n",
              "      <th>215</th>\n",
              "      <td>0.0</td>\n",
              "      <td>0.0</td>\n",
              "      <td>0.0</td>\n",
              "      <td>0.000000e+00</td>\n",
              "      <td>0.000000e+00</td>\n",
              "      <td>0.000000e+00</td>\n",
              "      <td>0.000000e+00</td>\n",
              "      <td>0.000000e+00</td>\n",
              "      <td>0.000000e+00</td>\n",
              "      <td>0.000000e+00</td>\n",
              "      <td>...</td>\n",
              "      <td>0.000000e+00</td>\n",
              "      <td>0.000000e+00</td>\n",
              "      <td>0.000000e+00</td>\n",
              "      <td>0.000000e+00</td>\n",
              "      <td>0.000000e+00</td>\n",
              "      <td>0.000000e+00</td>\n",
              "      <td>0.000000e+00</td>\n",
              "      <td>0.000000e+00</td>\n",
              "      <td>0.000000e+00</td>\n",
              "      <td>0.000000e+00</td>\n",
              "    </tr>\n",
              "    <tr>\n",
              "      <th>1167</th>\n",
              "      <td>0.0</td>\n",
              "      <td>0.0</td>\n",
              "      <td>0.0</td>\n",
              "      <td>0.000000e+00</td>\n",
              "      <td>0.000000e+00</td>\n",
              "      <td>8.057483e-09</td>\n",
              "      <td>7.611927e-09</td>\n",
              "      <td>7.166372e-09</td>\n",
              "      <td>6.720817e-09</td>\n",
              "      <td>6.378463e-06</td>\n",
              "      <td>...</td>\n",
              "      <td>1.296182e-09</td>\n",
              "      <td>1.296182e-09</td>\n",
              "      <td>1.296182e-09</td>\n",
              "      <td>1.296182e-09</td>\n",
              "      <td>1.296182e-09</td>\n",
              "      <td>1.296182e-09</td>\n",
              "      <td>1.296204e-09</td>\n",
              "      <td>1.296204e-09</td>\n",
              "      <td>0.000000e+00</td>\n",
              "      <td>0.000000e+00</td>\n",
              "    </tr>\n",
              "    <tr>\n",
              "      <th>...</th>\n",
              "      <td>...</td>\n",
              "      <td>...</td>\n",
              "      <td>...</td>\n",
              "      <td>...</td>\n",
              "      <td>...</td>\n",
              "      <td>...</td>\n",
              "      <td>...</td>\n",
              "      <td>...</td>\n",
              "      <td>...</td>\n",
              "      <td>...</td>\n",
              "      <td>...</td>\n",
              "      <td>...</td>\n",
              "      <td>...</td>\n",
              "      <td>...</td>\n",
              "      <td>...</td>\n",
              "      <td>...</td>\n",
              "      <td>...</td>\n",
              "      <td>...</td>\n",
              "      <td>...</td>\n",
              "      <td>...</td>\n",
              "      <td>...</td>\n",
              "    </tr>\n",
              "    <tr>\n",
              "      <th>1499</th>\n",
              "      <td>0.0</td>\n",
              "      <td>0.0</td>\n",
              "      <td>0.0</td>\n",
              "      <td>0.000000e+00</td>\n",
              "      <td>1.085168e-08</td>\n",
              "      <td>1.081764e-08</td>\n",
              "      <td>1.078338e-08</td>\n",
              "      <td>1.074934e-08</td>\n",
              "      <td>1.071552e-08</td>\n",
              "      <td>1.068471e-08</td>\n",
              "      <td>...</td>\n",
              "      <td>6.706382e-09</td>\n",
              "      <td>6.706382e-09</td>\n",
              "      <td>6.706382e-09</td>\n",
              "      <td>6.706382e-09</td>\n",
              "      <td>6.706382e-09</td>\n",
              "      <td>6.706382e-09</td>\n",
              "      <td>6.706382e-09</td>\n",
              "      <td>6.706382e-09</td>\n",
              "      <td>6.706382e-09</td>\n",
              "      <td>0.000000e+00</td>\n",
              "    </tr>\n",
              "    <tr>\n",
              "      <th>1967</th>\n",
              "      <td>0.0</td>\n",
              "      <td>0.0</td>\n",
              "      <td>0.0</td>\n",
              "      <td>0.000000e+00</td>\n",
              "      <td>0.000000e+00</td>\n",
              "      <td>0.000000e+00</td>\n",
              "      <td>0.000000e+00</td>\n",
              "      <td>0.000000e+00</td>\n",
              "      <td>0.000000e+00</td>\n",
              "      <td>0.000000e+00</td>\n",
              "      <td>...</td>\n",
              "      <td>1.624811e-08</td>\n",
              "      <td>1.624811e-08</td>\n",
              "      <td>1.624811e-08</td>\n",
              "      <td>0.000000e+00</td>\n",
              "      <td>0.000000e+00</td>\n",
              "      <td>0.000000e+00</td>\n",
              "      <td>0.000000e+00</td>\n",
              "      <td>0.000000e+00</td>\n",
              "      <td>0.000000e+00</td>\n",
              "      <td>0.000000e+00</td>\n",
              "    </tr>\n",
              "    <tr>\n",
              "      <th>1150</th>\n",
              "      <td>0.0</td>\n",
              "      <td>0.0</td>\n",
              "      <td>0.0</td>\n",
              "      <td>0.000000e+00</td>\n",
              "      <td>0.000000e+00</td>\n",
              "      <td>0.000000e+00</td>\n",
              "      <td>0.000000e+00</td>\n",
              "      <td>0.000000e+00</td>\n",
              "      <td>0.000000e+00</td>\n",
              "      <td>0.000000e+00</td>\n",
              "      <td>...</td>\n",
              "      <td>0.000000e+00</td>\n",
              "      <td>0.000000e+00</td>\n",
              "      <td>0.000000e+00</td>\n",
              "      <td>0.000000e+00</td>\n",
              "      <td>0.000000e+00</td>\n",
              "      <td>0.000000e+00</td>\n",
              "      <td>0.000000e+00</td>\n",
              "      <td>0.000000e+00</td>\n",
              "      <td>0.000000e+00</td>\n",
              "      <td>0.000000e+00</td>\n",
              "    </tr>\n",
              "    <tr>\n",
              "      <th>1544</th>\n",
              "      <td>0.0</td>\n",
              "      <td>0.0</td>\n",
              "      <td>0.0</td>\n",
              "      <td>0.000000e+00</td>\n",
              "      <td>0.000000e+00</td>\n",
              "      <td>0.000000e+00</td>\n",
              "      <td>0.000000e+00</td>\n",
              "      <td>0.000000e+00</td>\n",
              "      <td>0.000000e+00</td>\n",
              "      <td>0.000000e+00</td>\n",
              "      <td>...</td>\n",
              "      <td>0.000000e+00</td>\n",
              "      <td>0.000000e+00</td>\n",
              "      <td>0.000000e+00</td>\n",
              "      <td>0.000000e+00</td>\n",
              "      <td>0.000000e+00</td>\n",
              "      <td>0.000000e+00</td>\n",
              "      <td>0.000000e+00</td>\n",
              "      <td>0.000000e+00</td>\n",
              "      <td>0.000000e+00</td>\n",
              "      <td>0.000000e+00</td>\n",
              "    </tr>\n",
              "    <tr>\n",
              "      <th>679</th>\n",
              "      <td>0.0</td>\n",
              "      <td>0.0</td>\n",
              "      <td>0.0</td>\n",
              "      <td>0.000000e+00</td>\n",
              "      <td>0.000000e+00</td>\n",
              "      <td>0.000000e+00</td>\n",
              "      <td>0.000000e+00</td>\n",
              "      <td>0.000000e+00</td>\n",
              "      <td>0.000000e+00</td>\n",
              "      <td>0.000000e+00</td>\n",
              "      <td>...</td>\n",
              "      <td>0.000000e+00</td>\n",
              "      <td>0.000000e+00</td>\n",
              "      <td>0.000000e+00</td>\n",
              "      <td>0.000000e+00</td>\n",
              "      <td>0.000000e+00</td>\n",
              "      <td>0.000000e+00</td>\n",
              "      <td>0.000000e+00</td>\n",
              "      <td>0.000000e+00</td>\n",
              "      <td>0.000000e+00</td>\n",
              "      <td>0.000000e+00</td>\n",
              "    </tr>\n",
              "  </tbody>\n",
              "</table>\n",
              "<p>699 rows × 400 columns</p>\n",
              "</div>\n",
              "      <button class=\"colab-df-convert\" onclick=\"convertToInteractive('df-cc6b68ad-37ff-4b10-ab90-a60cb82e938c')\"\n",
              "              title=\"Convert this dataframe to an interactive table.\"\n",
              "              style=\"display:none;\">\n",
              "        \n",
              "  <svg xmlns=\"http://www.w3.org/2000/svg\" height=\"24px\"viewBox=\"0 0 24 24\"\n",
              "       width=\"24px\">\n",
              "    <path d=\"M0 0h24v24H0V0z\" fill=\"none\"/>\n",
              "    <path d=\"M18.56 5.44l.94 2.06.94-2.06 2.06-.94-2.06-.94-.94-2.06-.94 2.06-2.06.94zm-11 1L8.5 8.5l.94-2.06 2.06-.94-2.06-.94L8.5 2.5l-.94 2.06-2.06.94zm10 10l.94 2.06.94-2.06 2.06-.94-2.06-.94-.94-2.06-.94 2.06-2.06.94z\"/><path d=\"M17.41 7.96l-1.37-1.37c-.4-.4-.92-.59-1.43-.59-.52 0-1.04.2-1.43.59L10.3 9.45l-7.72 7.72c-.78.78-.78 2.05 0 2.83L4 21.41c.39.39.9.59 1.41.59.51 0 1.02-.2 1.41-.59l7.78-7.78 2.81-2.81c.8-.78.8-2.07 0-2.86zM5.41 20L4 18.59l7.72-7.72 1.47 1.35L5.41 20z\"/>\n",
              "  </svg>\n",
              "      </button>\n",
              "      \n",
              "  <style>\n",
              "    .colab-df-container {\n",
              "      display:flex;\n",
              "      flex-wrap:wrap;\n",
              "      gap: 12px;\n",
              "    }\n",
              "\n",
              "    .colab-df-convert {\n",
              "      background-color: #E8F0FE;\n",
              "      border: none;\n",
              "      border-radius: 50%;\n",
              "      cursor: pointer;\n",
              "      display: none;\n",
              "      fill: #1967D2;\n",
              "      height: 32px;\n",
              "      padding: 0 0 0 0;\n",
              "      width: 32px;\n",
              "    }\n",
              "\n",
              "    .colab-df-convert:hover {\n",
              "      background-color: #E2EBFA;\n",
              "      box-shadow: 0px 1px 2px rgba(60, 64, 67, 0.3), 0px 1px 3px 1px rgba(60, 64, 67, 0.15);\n",
              "      fill: #174EA6;\n",
              "    }\n",
              "\n",
              "    [theme=dark] .colab-df-convert {\n",
              "      background-color: #3B4455;\n",
              "      fill: #D2E3FC;\n",
              "    }\n",
              "\n",
              "    [theme=dark] .colab-df-convert:hover {\n",
              "      background-color: #434B5C;\n",
              "      box-shadow: 0px 1px 3px 1px rgba(0, 0, 0, 0.15);\n",
              "      filter: drop-shadow(0px 1px 2px rgba(0, 0, 0, 0.3));\n",
              "      fill: #FFFFFF;\n",
              "    }\n",
              "  </style>\n",
              "\n",
              "      <script>\n",
              "        const buttonEl =\n",
              "          document.querySelector('#df-cc6b68ad-37ff-4b10-ab90-a60cb82e938c button.colab-df-convert');\n",
              "        buttonEl.style.display =\n",
              "          google.colab.kernel.accessAllowed ? 'block' : 'none';\n",
              "\n",
              "        async function convertToInteractive(key) {\n",
              "          const element = document.querySelector('#df-cc6b68ad-37ff-4b10-ab90-a60cb82e938c');\n",
              "          const dataTable =\n",
              "            await google.colab.kernel.invokeFunction('convertToInteractive',\n",
              "                                                     [key], {});\n",
              "          if (!dataTable) return;\n",
              "\n",
              "          const docLinkHtml = 'Like what you see? Visit the ' +\n",
              "            '<a target=\"_blank\" href=https://colab.research.google.com/notebooks/data_table.ipynb>data table notebook</a>'\n",
              "            + ' to learn more about interactive tables.';\n",
              "          element.innerHTML = '';\n",
              "          dataTable['output_type'] = 'display_data';\n",
              "          await google.colab.output.renderOutput(dataTable, element);\n",
              "          const docLink = document.createElement('div');\n",
              "          docLink.innerHTML = docLinkHtml;\n",
              "          element.appendChild(docLink);\n",
              "        }\n",
              "      </script>\n",
              "    </div>\n",
              "  </div>\n",
              "  "
            ]
          },
          "metadata": {},
          "execution_count": 12
        }
      ]
    },
    {
      "cell_type": "code",
      "execution_count": 13,
      "metadata": {
        "colab": {
          "base_uri": "https://localhost:8080/",
          "height": 430
        },
        "id": "s8zsNGCR692C",
        "outputId": "31b6be22-e8a0-4a69-ebb6-a8ee23636117"
      },
      "outputs": [
        {
          "output_type": "display_data",
          "data": {
            "text/plain": [
              "<Figure size 640x480 with 1 Axes>"
            ],
            "image/png": "[encoded data removed]"
          },
          "metadata": {}
        }
      ],
      "source": [
        "plt.plot(Ns,mean_errors)\n",
        "plt.yscale(\"log\")\n",
        "plt.show()"
      ]
    },
    {
      "cell_type": "code",
      "source": [
        "df_y_pred = pd.DataFrame(y_pred)"
      ],
      "metadata": {
        "id": "9lQ8ZqUuKuO-"
      },
      "execution_count": 14,
      "outputs": []
    },
    {
      "cell_type": "code",
      "execution_count": 15,
      "metadata": {
        "id": "HQWH9-VusqU8"
      },
      "outputs": [],
      "source": [
        "#from google.colab import files\n",
        "#df_errors = pd.DataFrame(max_errors)\n",
        "#df_errors.to_csv('FCNN_df_errors.csv')"
      ]
    },
    {
      "cell_type": "code",
      "source": [
        "mean_errors"
      ],
      "metadata": {
        "colab": {
          "base_uri": "https://localhost:8080/"
        },
        "id": "pM-Qcb0GY4LM",
        "outputId": "826d1646-f54e-4ccf-9581-feb4c8be10af"
      },
      "execution_count": 16,
      "outputs": [
        {
          "output_type": "execute_result",
          "data": {
            "text/plain": [
              "array([0.00395954, 0.0038673 , 0.0032967 , 0.00313014, 0.00281132,\n",
              "       0.00262334, 0.00232881, 0.0020107 , 0.00203597, 0.00192288,\n",
              "       0.00173123, 0.00175299])"
            ]
          },
          "metadata": {},
          "execution_count": 16
        }
      ]
    },
    {
      "cell_type": "code",
      "source": [],
      "metadata": {
        "id": "PMVSBQAldKWd"
      },
      "execution_count": 16,
      "outputs": []
    }
  ],
  "metadata": {
    "accelerator": "GPU",
    "colab": {
      "provenance": []
    },
    "gpuClass": "standard",
    "kernelspec": {
      "display_name": "Python 3 (ipykernel)",
      "language": "python",
      "name": "python3"
    },
    "language_info": {
      "codemirror_mode": {
        "name": "ipython",
        "version": 3
      },
      "file_extension": ".py",
      "mimetype": "text/x-python",
      "name": "python",
      "nbconvert_exporter": "python",
      "pygments_lexer": "ipython3",
      "version": "3.9.15"
    }
  },
  "nbformat": 4,
  "nbformat_minor": 0
}