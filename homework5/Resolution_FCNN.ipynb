{
 "cells": [
  {
   "cell_type": "code",
   "execution_count": 1,
   "metadata": {
    "id": "KVJosSnoZwhA"
   },
   "outputs": [],
   "source": [
    "import numpy as np\n",
    "import matplotlib.pyplot as plt\n",
    "import pandas as pd\n",
    "from sklearn import metrics \n",
    "from sklearn.model_selection import train_test_split\n",
    "from sklearn.metrics import mean_squared_error"
   ]
  },
  {
   "cell_type": "code",
   "execution_count": 2,
   "metadata": {
    "id": "XPCXBSsKZ-Nl"
   },
   "outputs": [],
   "source": [
    "# Multilayer Perceptron\n",
    "from keras.models import Model\n",
    "from keras.layers import Input\n",
    "from keras.layers import Dense\n",
    "from keras.layers import Dropout\n",
    "from keras.layers import concatenate\n",
    "from tensorflow.keras import optimizers\n",
    "from tensorflow.keras import backend\n",
    "from keras.layers import LeakyReLU, PReLU\n",
    "from tensorflow.keras.metrics import categorical_accuracy"
   ]
  },
  {
   "cell_type": "code",
   "execution_count": 3,
   "metadata": {
    "colab": {
     "base_uri": "https://localhost:8080/"
    },
    "id": "5fCpixdEZytf",
    "outputId": "8aed63b0-9ae6-46d7-adb0-591c246ef6b0"
   },
   "outputs": [
    {
     "data": {
      "text/plain": [
       "((2330, 110), (2330, 100))"
      ]
     },
     "execution_count": 3,
     "metadata": {},
     "output_type": "execute_result"
    }
   ],
   "source": [
    "df_m = pd.read_csv('https://raw.githubusercontent.com/simsekergun/Resolution/main/Es_measured.csv',header=None)\n",
    "df_r = pd.read_csv('https://raw.githubusercontent.com/simsekergun/Resolution/main/Es_real.csv',header=None)\n",
    "df_m.shape, df_r.shape"
   ]
  },
  {
   "cell_type": "code",
   "execution_count": 4,
   "metadata": {
    "id": "2-P1miHCaRDK"
   },
   "outputs": [],
   "source": [
    "X = df_m\n",
    "y = df_r"
   ]
  },
  {
   "cell_type": "code",
   "execution_count": 5,
   "metadata": {
    "colab": {
     "base_uri": "https://localhost:8080/"
    },
    "id": "T9-Daf1fZ7yO",
    "outputId": "9fea4497-c130-44a4-8a5c-883b02bb5129"
   },
   "outputs": [
    {
     "data": {
      "text/plain": [
       "((2097, 110), (233, 110), (2097, 100))"
      ]
     },
     "execution_count": 5,
     "metadata": {},
     "output_type": "execute_result"
    }
   ],
   "source": [
    "X_train, X_test, y_train, y_test = train_test_split(X, y, test_size=0.1, random_state=5)\n",
    "X_train.shape, X_test.shape, y_train.shape"
   ]
  },
  {
   "cell_type": "code",
   "execution_count": 6,
   "metadata": {
    "id": "gXP07Ba7ldum"
   },
   "outputs": [],
   "source": [
    "# Let us some functions to normalize, de-normalize, and to calculate errors\n",
    "def normx(x):\n",
    "  return (x - train_statsX['mean']) / train_statsX['std']\n",
    "def norm(y):\n",
    "  return (y - train_statsY['mean']) / train_statsY['std']\n",
    "def denorm(y):\n",
    "  return (y* train_statsY['std'] + train_statsY['mean'])  \n",
    "def mean_aep(u1,u2):  \n",
    "  return (round(100*(100*sum(abs((u2-u1)/u1))/len(u1)))/100)\n",
    "def max_aep(u1,u2):  \n",
    "  return (round(100*(100*max(abs((u2-u1)/u1))))/100)  "
   ]
  },
  {
   "cell_type": "code",
   "execution_count": 7,
   "metadata": {
    "id": "KXLX8j4sljhr"
   },
   "outputs": [],
   "source": [
    "train_statsY = y_train.describe().transpose()\n",
    "train_statsX = X_train.describe().transpose()\n",
    "XX = normx(X_train)\n",
    "YY = norm(y_train)\n",
    "xx = normx(X_test)\n",
    "yy = norm(y_test)"
   ]
  },
  {
   "cell_type": "code",
   "execution_count": 8,
   "metadata": {
    "id": "SwcY4avSa5jz"
   },
   "outputs": [],
   "source": [
    "# ANN parameters\n",
    "ac = 'relu'  # activation function\n",
    "nnno = 1024    # number of neurons\n",
    "dr_rate = 0.2  # dropout rate\n",
    "EPOCHS = 200    # number of epocs\n",
    "LR = 0.001     # learning rate"
   ]
  },
  {
   "cell_type": "code",
   "execution_count": 9,
   "metadata": {
    "id": "htvzS0feaVKb"
   },
   "outputs": [
    {
     "name": "stdout",
     "output_type": "stream",
     "text": [
      "Metal device set to: Apple M1 Max\n"
     ]
    }
   ],
   "source": [
    "visible = Input(shape=(110,))\n",
    "hidden1 = Dense(nnno, activation=ac)(visible)\n",
    "hidden1 = Dropout(dr_rate)(hidden1)\n",
    "hidden2 = Dense(nnno, activation=ac)(hidden1)\n",
    "hidden2 = Dropout(dr_rate)(hidden2)\n",
    "hidden3 = Dense(nnno, activation=ac)(hidden2)\n",
    "hidden3 = Dropout(dr_rate)(hidden3)\n",
    "predicted_value = Dense(100, activation=ac)(hidden3)\n",
    "modelANN = Model(inputs=visible, outputs=predicted_value)"
   ]
  },
  {
   "cell_type": "code",
   "execution_count": 10,
   "metadata": {
    "colab": {
     "base_uri": "https://localhost:8080/"
    },
    "id": "_Y-9A1CbbIdh",
    "outputId": "408a1776-9c96-47bb-d428-55f5e448a370"
   },
   "outputs": [
    {
     "name": "stderr",
     "output_type": "stream",
     "text": [
      "WARNING:absl:At this time, the v2.11+ optimizer `tf.keras.optimizers.Adamax` runs slowly on M1/M2 Macs, please use the legacy Keras optimizer instead, located at `tf.keras.optimizers.legacy.Adamax`.\n",
      "WARNING:absl:There is a known slowdown when using v2.11+ Keras optimizers on M1/M2 Macs. Falling back to the legacy Keras optimizer, i.e., `tf.keras.optimizers.legacy.Adamax`.\n"
     ]
    },
    {
     "name": "stdout",
     "output_type": "stream",
     "text": [
      "Epoch 1/200\n"
     ]
    },
    {
     "name": "stderr",
     "output_type": "stream",
     "text": [
      "2023-04-15 11:45:15.674666: W tensorflow/tsl/platform/profile_utils/cpu_utils.cc:128] Failed to get CPU frequency: 0 Hz\n"
     ]
    },
    {
     "ename": "InvalidArgumentError",
     "evalue": "Cannot assign a device for operation model/dense/MatMul/ReadVariableOp: Could not satisfy explicit device specification '' because the node {{colocation_node model/dense/MatMul/ReadVariableOp}} was colocated with a group of nodes that required incompatible device '/job:localhost/replica:0/task:0/device:GPU:0'. All available devices [/job:localhost/replica:0/task:0/device:CPU:0, /job:localhost/replica:0/task:0/device:GPU:0]. \nColocation Debug Info:\nColocation group had the following types and supported devices: \nRoot Member(assigned_device_name_index_=2 requested_device_name_='/job:localhost/replica:0/task:0/device:GPU:0' assigned_device_name_='/job:localhost/replica:0/task:0/device:GPU:0' resource_device_name_='/job:localhost/replica:0/task:0/device:GPU:0' supported_device_types_=[CPU] possible_devices_=[]\nResourceApplyAdaMax: CPU \nReadVariableOp: GPU CPU \n_Arg: GPU CPU \n\nColocation members, user-requested devices, and framework assigned devices, if any:\n  model_dense_matmul_readvariableop_resource (_Arg)  framework assigned device=/job:localhost/replica:0/task:0/device:GPU:0\n  adamax_adamax_update_resourceapplyadamax_m (_Arg)  framework assigned device=/job:localhost/replica:0/task:0/device:GPU:0\n  adamax_adamax_update_resourceapplyadamax_v (_Arg)  framework assigned device=/job:localhost/replica:0/task:0/device:GPU:0\n  model/dense/MatMul/ReadVariableOp (ReadVariableOp) \n  Adamax/Adamax/update/ResourceApplyAdaMax (ResourceApplyAdaMax) /job:localhost/replica:0/task:0/device:GPU:0\n\n\t [[{{node model/dense/MatMul/ReadVariableOp}}]] [Op:__inference_train_function_897]",
     "output_type": "error",
     "traceback": [
      "\u001b[0;31m---------------------------------------------------------------------------\u001b[0m",
      "\u001b[0;31mInvalidArgumentError\u001b[0m                      Traceback (most recent call last)",
      "Cell \u001b[0;32mIn[10], line 3\u001b[0m\n\u001b[1;32m      1\u001b[0m opt \u001b[38;5;241m=\u001b[39m optimizers\u001b[38;5;241m.\u001b[39mAdamax(learning_rate\u001b[38;5;241m=\u001b[39mLR)\n\u001b[1;32m      2\u001b[0m modelANN\u001b[38;5;241m.\u001b[39mcompile(optimizer\u001b[38;5;241m=\u001b[39mopt, loss\u001b[38;5;241m=\u001b[39m[\u001b[38;5;124m'\u001b[39m\u001b[38;5;124mmse\u001b[39m\u001b[38;5;124m'\u001b[39m])\n\u001b[0;32m----> 3\u001b[0m history \u001b[38;5;241m=\u001b[39m \u001b[43mmodelANN\u001b[49m\u001b[38;5;241;43m.\u001b[39;49m\u001b[43mfit\u001b[49m\u001b[43m(\u001b[49m\u001b[43mXX\u001b[49m\u001b[43m,\u001b[49m\u001b[43m \u001b[49m\u001b[43mYY\u001b[49m\u001b[43m,\u001b[49m\u001b[43mepochs\u001b[49m\u001b[38;5;241;43m=\u001b[39;49m\u001b[43mEPOCHS\u001b[49m\u001b[43m,\u001b[49m\u001b[43m \u001b[49m\u001b[43mvalidation_data\u001b[49m\u001b[43m \u001b[49m\u001b[38;5;241;43m=\u001b[39;49m\u001b[43m \u001b[49m\u001b[43m(\u001b[49m\u001b[43mxx\u001b[49m\u001b[43m,\u001b[49m\u001b[43myy\u001b[49m\u001b[43m)\u001b[49m\u001b[43m,\u001b[49m\u001b[43m \u001b[49m\u001b[43mverbose\u001b[49m\u001b[38;5;241;43m=\u001b[39;49m\u001b[38;5;241;43m1\u001b[39;49m\u001b[43m)\u001b[49m\n",
      "File \u001b[0;32m~/miniconda3/envs/tensorflow/lib/python3.10/site-packages/keras/utils/traceback_utils.py:70\u001b[0m, in \u001b[0;36mfilter_traceback.<locals>.error_handler\u001b[0;34m(*args, **kwargs)\u001b[0m\n\u001b[1;32m     67\u001b[0m     filtered_tb \u001b[38;5;241m=\u001b[39m _process_traceback_frames(e\u001b[38;5;241m.\u001b[39m__traceback__)\n\u001b[1;32m     68\u001b[0m     \u001b[38;5;66;03m# To get the full stack trace, call:\u001b[39;00m\n\u001b[1;32m     69\u001b[0m     \u001b[38;5;66;03m# `tf.debugging.disable_traceback_filtering()`\u001b[39;00m\n\u001b[0;32m---> 70\u001b[0m     \u001b[38;5;28;01mraise\u001b[39;00m e\u001b[38;5;241m.\u001b[39mwith_traceback(filtered_tb) \u001b[38;5;28;01mfrom\u001b[39;00m \u001b[38;5;28;01mNone\u001b[39;00m\n\u001b[1;32m     71\u001b[0m \u001b[38;5;28;01mfinally\u001b[39;00m:\n\u001b[1;32m     72\u001b[0m     \u001b[38;5;28;01mdel\u001b[39;00m filtered_tb\n",
      "File \u001b[0;32m~/miniconda3/envs/tensorflow/lib/python3.10/site-packages/tensorflow/python/eager/execute.py:52\u001b[0m, in \u001b[0;36mquick_execute\u001b[0;34m(op_name, num_outputs, inputs, attrs, ctx, name)\u001b[0m\n\u001b[1;32m     50\u001b[0m \u001b[38;5;28;01mtry\u001b[39;00m:\n\u001b[1;32m     51\u001b[0m   ctx\u001b[38;5;241m.\u001b[39mensure_initialized()\n\u001b[0;32m---> 52\u001b[0m   tensors \u001b[38;5;241m=\u001b[39m pywrap_tfe\u001b[38;5;241m.\u001b[39mTFE_Py_Execute(ctx\u001b[38;5;241m.\u001b[39m_handle, device_name, op_name,\n\u001b[1;32m     53\u001b[0m                                       inputs, attrs, num_outputs)\n\u001b[1;32m     54\u001b[0m \u001b[38;5;28;01mexcept\u001b[39;00m core\u001b[38;5;241m.\u001b[39m_NotOkStatusException \u001b[38;5;28;01mas\u001b[39;00m e:\n\u001b[1;32m     55\u001b[0m   \u001b[38;5;28;01mif\u001b[39;00m name \u001b[38;5;129;01mis\u001b[39;00m \u001b[38;5;129;01mnot\u001b[39;00m \u001b[38;5;28;01mNone\u001b[39;00m:\n",
      "\u001b[0;31mInvalidArgumentError\u001b[0m: Cannot assign a device for operation model/dense/MatMul/ReadVariableOp: Could not satisfy explicit device specification '' because the node {{colocation_node model/dense/MatMul/ReadVariableOp}} was colocated with a group of nodes that required incompatible device '/job:localhost/replica:0/task:0/device:GPU:0'. All available devices [/job:localhost/replica:0/task:0/device:CPU:0, /job:localhost/replica:0/task:0/device:GPU:0]. \nColocation Debug Info:\nColocation group had the following types and supported devices: \nRoot Member(assigned_device_name_index_=2 requested_device_name_='/job:localhost/replica:0/task:0/device:GPU:0' assigned_device_name_='/job:localhost/replica:0/task:0/device:GPU:0' resource_device_name_='/job:localhost/replica:0/task:0/device:GPU:0' supported_device_types_=[CPU] possible_devices_=[]\nResourceApplyAdaMax: CPU \nReadVariableOp: GPU CPU \n_Arg: GPU CPU \n\nColocation members, user-requested devices, and framework assigned devices, if any:\n  model_dense_matmul_readvariableop_resource (_Arg)  framework assigned device=/job:localhost/replica:0/task:0/device:GPU:0\n  adamax_adamax_update_resourceapplyadamax_m (_Arg)  framework assigned device=/job:localhost/replica:0/task:0/device:GPU:0\n  adamax_adamax_update_resourceapplyadamax_v (_Arg)  framework assigned device=/job:localhost/replica:0/task:0/device:GPU:0\n  model/dense/MatMul/ReadVariableOp (ReadVariableOp) \n  Adamax/Adamax/update/ResourceApplyAdaMax (ResourceApplyAdaMax) /job:localhost/replica:0/task:0/device:GPU:0\n\n\t [[{{node model/dense/MatMul/ReadVariableOp}}]] [Op:__inference_train_function_897]"
     ]
    }
   ],
   "source": [
    "opt = optimizers.Adamax(learning_rate=LR)\n",
    "modelANN.compile(optimizer=opt, loss=['mse'])\n",
    "history = modelANN.fit(XX, YY,epochs=EPOCHS, validation_data = (xx,yy), verbose=1)"
   ]
  },
  {
   "cell_type": "code",
   "execution_count": null,
   "metadata": {
    "colab": {
     "base_uri": "https://localhost:8080/",
     "height": 449
    },
    "id": "J_OnvuHTbpR2",
    "outputId": "00a64b67-0f98-46e8-938a-7ddd7bdd1762"
   },
   "outputs": [],
   "source": [
    "plt.plot(history.history['loss'])\n",
    "plt.plot(history.history['val_loss'])\n",
    "plt.ylabel('loss')\n",
    "plt.xlabel('epoch')\n",
    "plt.legend(['train', 'test'], loc='upper right')\n",
    "plt.show()"
   ]
  },
  {
   "cell_type": "code",
   "execution_count": null,
   "metadata": {
    "colab": {
     "base_uri": "https://localhost:8080/"
    },
    "id": "Yw0gF45Eb5iL",
    "outputId": "ee399354-4972-4a6f-bdef-675375da6cc1"
   },
   "outputs": [],
   "source": [
    "test_predictions = modelANN.predict(xx)"
   ]
  },
  {
   "cell_type": "code",
   "execution_count": null,
   "metadata": {
    "id": "ExwVujDqb-IZ"
   },
   "outputs": [],
   "source": [
    "tp = pd.DataFrame(test_predictions)\n",
    "tp2 = denorm(tp)"
   ]
  },
  {
   "cell_type": "code",
   "execution_count": null,
   "metadata": {
    "colab": {
     "base_uri": "https://localhost:8080/",
     "height": 449
    },
    "id": "8KhCD0IALQQl",
    "outputId": "41df490e-c799-4253-c29b-d5d72bd7ce88"
   },
   "outputs": [],
   "source": [
    "ntest1 = 0 \n",
    "ntest2 = 100 \n",
    "ntest3 = 20\n",
    "ntest4 = 40 \n",
    "fig, axs = plt.subplots(2, 2)\n",
    "axs[0, 0].plot(tp2.iloc[ntest1,:])\n",
    "axs[0, 0].plot(y_test.iloc[ntest1,:])\n",
    "axs[0, 1].plot(tp2.iloc[ntest2,:])\n",
    "axs[0, 1].plot(y_test.iloc[ntest2,:])\n",
    "axs[1, 0].plot(tp2.iloc[ntest3,:])\n",
    "axs[1, 0].plot(y_test.iloc[ntest3,:])\n",
    "axs[1, 1].plot(tp2.iloc[ntest4,:])\n",
    "axs[1, 1].plot(y_test.iloc[ntest4,:])\n"
   ]
  },
  {
   "cell_type": "code",
   "execution_count": null,
   "metadata": {
    "colab": {
     "base_uri": "https://localhost:8080/"
    },
    "id": "8uK5ac1JMIrC",
    "outputId": "9d6c4001-4881-4a9d-83a6-a096f6d67e64"
   },
   "outputs": [],
   "source": [
    "errors = np.zeros(100)\n",
    "for i in np.arange(100):\n",
    "  errors[i]=mean_squared_error(tp2.iloc[i,:],y_test.iloc[ntest1,:])/y_test.iloc[ntest1,:].max()\n",
    "errors.mean()  "
   ]
  },
  {
   "cell_type": "code",
   "execution_count": null,
   "metadata": {
    "colab": {
     "base_uri": "https://localhost:8080/",
     "height": 17
    },
    "id": "Lt5chk_ivv9e",
    "outputId": "5ba435c3-6a37-4f7a-e699-f57ab0778889"
   },
   "outputs": [],
   "source": [
    "from google.colab import files\n",
    "y_test.to_csv('FCNN_ytest.csv')\n",
    "tp2.to_csv('FCNN_ypred.csv')\n",
    "files.download('FCNN_ytest.csv')\n",
    "files.download('FCNN_ypred.csv')"
   ]
  },
  {
   "cell_type": "code",
   "execution_count": null,
   "metadata": {
    "id": "fkMRqm36rHWQ"
   },
   "outputs": [],
   "source": []
  }
 ],
 "metadata": {
  "accelerator": "GPU",
  "colab": {
   "provenance": []
  },
  "gpuClass": "standard",
  "kernelspec": {
   "display_name": "Python 3 (ipykernel)",
   "language": "python",
   "name": "python3"
  },
  "language_info": {
   "codemirror_mode": {
    "name": "ipython",
    "version": 3
   },
   "file_extension": ".py",
   "mimetype": "text/x-python",
   "name": "python",
   "nbconvert_exporter": "python",
   "pygments_lexer": "ipython3",
   "version": "3.10.10"
  }
 },
 "nbformat": 4,
 "nbformat_minor": 4
}
