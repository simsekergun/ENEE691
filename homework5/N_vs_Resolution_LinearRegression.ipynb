{
 "cells": [
  {
   "cell_type": "code",
   "execution_count": 1,
   "metadata": {
    "executionInfo": {
     "elapsed": 135,
     "status": "ok",
     "timestamp": 1681510661825,
     "user": {
      "displayName": "Ergun Simsek",
      "userId": "04783372385691042629"
     },
     "user_tz": 240
    },
    "id": "KVJosSnoZwhA"
   },
   "outputs": [],
   "source": [
    "import numpy as np\n",
    "import matplotlib.pyplot as plt\n",
    "import pandas as pd\n",
    "from sklearn import metrics \n",
    "from sklearn.model_selection import train_test_split\n",
    "from sklearn.metrics import mean_squared_error\n",
    "from sklearn.linear_model import LinearRegression  \n",
    "from sklearn.metrics import mean_squared_error"
   ]
  },
  {
   "cell_type": "code",
   "execution_count": 2,
   "metadata": {
    "colab": {
     "base_uri": "https://localhost:8080/"
    },
    "executionInfo": {
     "elapsed": 577,
     "status": "ok",
     "timestamp": 1681510662543,
     "user": {
      "displayName": "Ergun Simsek",
      "userId": "04783372385691042629"
     },
     "user_tz": 240
    },
    "id": "5fCpixdEZytf",
    "outputId": "e6a93142-dd60-4882-f135-6296fe869c07"
   },
   "outputs": [
    {
     "data": {
      "text/plain": [
       "((2330, 200), (2330, 400))"
      ]
     },
     "execution_count": 2,
     "metadata": {},
     "output_type": "execute_result"
    }
   ],
   "source": [
    "#df_m = pd.read_csv('https://raw.githubusercontent.com/simsekergun/Resolution/main/Es_measured_varying_length.csv',header=None)\n",
    "#df_r = pd.read_csv('https://raw.githubusercontent.com/simsekergun/Resolution/main/Es_true_varying_length.csv',header=None)\n",
    "df_m = pd.read_csv('Es_measured_varying_length.csv',header=None)\n",
    "df_r = pd.read_csv('Es_true_varying_length.csv',header=None)\n",
    "df_r = df_r.fillna(0)\n",
    "df_m = df_m.fillna(0)\n",
    "df_m.shape, df_r.shape"
   ]
  },
  {
   "cell_type": "code",
   "execution_count": 3,
   "metadata": {
    "executionInfo": {
     "elapsed": 2,
     "status": "ok",
     "timestamp": 1681510662543,
     "user": {
      "displayName": "Ergun Simsek",
      "userId": "04783372385691042629"
     },
     "user_tz": 240
    },
    "id": "2-P1miHCaRDK"
   },
   "outputs": [],
   "source": [
    "df_mmax = max(df_m.max())\n",
    "df_rmax = max(df_r.max())\n",
    "X = df_m/df_mmax\n",
    "y = df_r/df_rmax"
   ]
  },
  {
   "cell_type": "code",
   "execution_count": 4,
   "metadata": {},
   "outputs": [
    {
     "data": {
      "text/plain": [
       "(488.53, 464.14)"
      ]
     },
     "execution_count": 4,
     "metadata": {},
     "output_type": "execute_result"
    }
   ],
   "source": [
    "df_mmax,df_rmax"
   ]
  },
  {
   "cell_type": "code",
   "execution_count": 5,
   "metadata": {
    "colab": {
     "base_uri": "https://localhost:8080/"
    },
    "executionInfo": {
     "elapsed": 2,
     "status": "ok",
     "timestamp": 1681510662543,
     "user": {
      "displayName": "Ergun Simsek",
      "userId": "04783372385691042629"
     },
     "user_tz": 240
    },
    "id": "T9-Daf1fZ7yO",
    "outputId": "e600bd73-d0d1-4a1d-94c6-3e7203bc65a3"
   },
   "outputs": [
    {
     "data": {
      "text/plain": [
       "((1631, 200), (699, 200), (1631, 400))"
      ]
     },
     "execution_count": 5,
     "metadata": {},
     "output_type": "execute_result"
    }
   ],
   "source": [
    "X_train, X_test, y_train, y_test = train_test_split(X, y, test_size=0.3, random_state=3)\n",
    "X_train.shape, X_test.shape, y_train.shape"
   ]
  },
  {
   "cell_type": "code",
   "execution_count": null,
   "metadata": {},
   "outputs": [],
   "source": []
  },
  {
   "cell_type": "code",
   "execution_count": 18,
   "metadata": {
    "executionInfo": {
     "elapsed": 1,
     "status": "ok",
     "timestamp": 1681510662543,
     "user": {
      "displayName": "Ergun Simsek",
      "userId": "04783372385691042629"
     },
     "user_tz": 240
    },
    "id": "40Nt5qfb_8uW"
   },
   "outputs": [],
   "source": [
    "Ns = [50 ,100, 110, 120, 130, 140, 150, 160, 170, 180, 190, 200, 210, 220, 230, 240, 250, 275, 300, 350, 400, 450, 500, 550, 600, 800, 1000, 1200, 1400, 1600]"
   ]
  },
  {
   "cell_type": "code",
   "execution_count": 19,
   "metadata": {
    "colab": {
     "base_uri": "https://localhost:8080/",
     "height": 430
    },
    "executionInfo": {
     "elapsed": 1735,
     "status": "ok",
     "timestamp": 1681510664436,
     "user": {
      "displayName": "Ergun Simsek",
      "userId": "04783372385691042629"
     },
     "user_tz": 240
    },
    "id": "x6KuHSH5z44q",
    "outputId": "277a7c77-77db-48e0-9031-45d2bf7973bc"
   },
   "outputs": [],
   "source": [
    "mean_errors = np.zeros(len(Ns))\n",
    "for i in range(len(Ns)):\n",
    "  reg = LinearRegression()         # Instantiate\n",
    "  reg.fit(X_train[:Ns[i]], y_train[:Ns[i]])        # Fit the train data\n",
    "  y_pred = reg.predict(X_test)\n",
    "  #mean_errors[i] = get_mean_error(y_pred, y_test)\n",
    "  mean_errors[i] = mean_squared_error(y_pred, y_test)\n",
    "#Normalizer = max(y_test.max(axis=1))**2  \n",
    "#max_errors = mean_errors/Normalizer\n"
   ]
  },
  {
   "cell_type": "code",
   "execution_count": 20,
   "metadata": {},
   "outputs": [
    {
     "data": {
      "image/png": "[encoded data removed]",
      "text/plain": [
       "<Figure size 640x480 with 1 Axes>"
      ]
     },
     "metadata": {},
     "output_type": "display_data"
    }
   ],
   "source": [
    "plt.plot(Ns,mean_errors)\n",
    "plt.yscale(\"log\")\n",
    "plt.show()"
   ]
  },
  {
   "cell_type": "code",
   "execution_count": 21,
   "metadata": {
    "colab": {
     "base_uri": "https://localhost:8080/"
    },
    "executionInfo": {
     "elapsed": 1,
     "status": "ok",
     "timestamp": 1681510664436,
     "user": {
      "displayName": "Ergun Simsek",
      "userId": "04783372385691042629"
     },
     "user_tz": 240
    },
    "id": "wbQygHat1KDF",
    "outputId": "c64dc12f-a6d0-45ac-ccda-da0c71da85a5"
   },
   "outputs": [
    {
     "data": {
      "text/plain": [
       "array([4.93754208e-02, 3.57421653e-02, 5.03704552e-02, 8.48061421e-02,\n",
       "       1.34982209e-01, 5.33877593e-01, 1.87055107e+00, 2.87658707e+00,\n",
       "       5.17733030e+00, 5.81590849e+00, 1.76748843e+01, 8.00712731e+01,\n",
       "       4.28918444e+00, 1.25348512e+00, 8.47155948e-01, 7.06258080e-01,\n",
       "       5.92160035e-01, 2.99417677e-01, 1.35632583e-01, 7.05573721e-02,\n",
       "       6.53504569e-02, 5.78629816e-02, 6.07841181e-02, 3.73223965e-02,\n",
       "       3.32642974e-02, 4.88604707e-03, 3.67822834e-03, 3.06586536e-03,\n",
       "       2.64650790e-03, 2.27957677e-03])"
      ]
     },
     "execution_count": 21,
     "metadata": {},
     "output_type": "execute_result"
    }
   ],
   "source": [
    "mean_errors"
   ]
  },
  {
   "cell_type": "code",
   "execution_count": 10,
   "metadata": {
    "executionInfo": {
     "elapsed": 1,
     "status": "ok",
     "timestamp": 1681510664436,
     "user": {
      "displayName": "Ergun Simsek",
      "userId": "04783372385691042629"
     },
     "user_tz": 240
    },
    "id": "HQWH9-VusqU8"
   },
   "outputs": [],
   "source": [
    "#from google.colab import files\n",
    "#df_errors = pd.DataFrame(max_errors)\n",
    "#df_errors.to_csv('LinRegr_df_errors.csv')"
   ]
  },
  {
   "cell_type": "code",
   "execution_count": 11,
   "metadata": {},
   "outputs": [],
   "source": [
    "pd.DataFrame(y_pred).to_csv('LR_predictions.csv')\n",
    "y_test.to_csv('LR_true_vals.csv')\n",
    "X_test.to_csv('LR_inputs.csv')"
   ]
  },
  {
   "cell_type": "code",
   "execution_count": null,
   "metadata": {},
   "outputs": [],
   "source": []
  }
 ],
 "metadata": {
  "accelerator": "GPU",
  "colab": {
   "provenance": [
    {
     "file_id": "1_g3c8qZYaX4xNawXgAbwZymfLeuUPRWl",
     "timestamp": 1681496407195
    },
    {
     "file_id": "https://github.com/simsekergun/Resolution/blob/main/ResolutionLinearRegression.ipynb",
     "timestamp": 1681491904682
    }
   ]
  },
  "gpuClass": "standard",
  "kernelspec": {
   "display_name": "Python 3 (ipykernel)",
   "language": "python",
   "name": "python3"
  },
  "language_info": {
   "codemirror_mode": {
    "name": "ipython",
    "version": 3
   },
   "file_extension": ".py",
   "mimetype": "text/x-python",
   "name": "python",
   "nbconvert_exporter": "python",
   "pygments_lexer": "ipython3",
   "version": "3.10.9"
  }
 },
 "nbformat": 4,
 "nbformat_minor": 4
}
