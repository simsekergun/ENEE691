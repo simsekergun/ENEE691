{
  "cells": [
    {
      "cell_type": "markdown",
      "metadata": {
        "id": "view-in-github",
        "colab_type": "text"
      },
      "source": [
        "<a href=\"https://colab.research.google.com/github/simsekergun/ENEE691/blob/main/week12/Kernels.ipynb\" target=\"_parent\"><img src=\"https://colab.research.google.com/assets/colab-badge.svg\" alt=\"Open In Colab\"/></a>"
      ]
    },
    {
      "cell_type": "markdown",
      "id": "fb5e0e78",
      "metadata": {
        "id": "fb5e0e78"
      },
      "source": [
        "# $\\color{ForestGreen}{\\text{Applications of Kernels}}$"
      ]
    },
    {
      "cell_type": "code",
      "execution_count": null,
      "id": "98f883dd",
      "metadata": {
        "id": "98f883dd"
      },
      "outputs": [],
      "source": [
        "import numpy as np\n",
        "\n",
        "def convolve_1d(image, kernel):\n",
        "    ks = kernel.shape[0] \n",
        "    final_length = image.shape[0] - ks + 1\n",
        "    return np.array([(image[i:i+ks]*kernel).sum() for i in range(final_length)])\n",
        "\n",
        "def convolve_2d(image, kernel):\n",
        "    ks = kernel.shape[1] \n",
        "    final_height = image.shape[1] - ks + 1\n",
        "    return np.array([convolve_1d(image[:, i:i+ks], kernel) for i in range(final_height)]).T"
      ]
    },
    {
      "cell_type": "code",
      "execution_count": null,
      "id": "718d5f7d",
      "metadata": {
        "colab": {
          "base_uri": "https://localhost:8080/"
        },
        "id": "718d5f7d",
        "outputId": "efcdf29d-579e-44f2-ccbc-81d108c057d2"
      },
      "outputs": [
        {
          "output_type": "execute_result",
          "data": {
            "text/plain": [
              "array([[ 6, 38],\n",
              "       [31, 54]])"
            ]
          },
          "metadata": {},
          "execution_count": 33
        }
      ],
      "source": [
        "M = np.array([[4, -1, 2], [-2, 1, 7], [3, 5, 6]])  # Defining matrix M as an numpy array\n",
        "K = np.array([[2, 1], [3, 5]])                     # Defining matrix K as an numpy array\n",
        "\n",
        "convolve_2d(M, K)   # Computing the convolved matrix"
      ]
    },
    {
      "cell_type": "code",
      "execution_count": null,
      "id": "bd90f2a3",
      "metadata": {
        "colab": {
          "base_uri": "https://localhost:8080/"
        },
        "id": "bd90f2a3",
        "outputId": "442a0f0c-a5bf-4989-8388-f6fc9c94c6ac"
      },
      "outputs": [
        {
          "output_type": "stream",
          "name": "stdout",
          "text": [
            "Size of A = (6, 5)\n",
            "Size of K = (2, 3)\n",
            "Size of A convolved by K = (5, 3)\n"
          ]
        },
        {
          "output_type": "execute_result",
          "data": {
            "text/plain": [
              "array([[  1,  21,  17],\n",
              "       [-15,   0,  15],\n",
              "       [ 22, -15, -17],\n",
              "       [  6,   2,  31],\n",
              "       [ 11, -10, -11]])"
            ]
          },
          "metadata": {},
          "execution_count": 34
        }
      ],
      "source": [
        "A = np.array([[1, 2, 2, 1, 3], \n",
        "              [2, 4, 6, 1, 3],\n",
        "              [-3, 1, 4, 2, 4],\n",
        "              [7, -2, -3, -1, 5],\n",
        "              [2, 1, 5, 7, 1],\n",
        "              [4, -2, 1, 2, 5]])\n",
        "\n",
        "K = np.array([[1, -2, 1], [3, 2, -2]])\n",
        "\n",
        "print('Size of A =', A.shape)\n",
        "print('Size of K =', K.shape)\n",
        "print('Size of A convolved by K =', convolve_2d(A, K).shape)\n",
        "\n",
        "convolve_2d(A, K)"
      ]
    },
    {
      "cell_type": "code",
      "execution_count": null,
      "id": "ac8ec007",
      "metadata": {
        "colab": {
          "base_uri": "https://localhost:8080/"
        },
        "id": "ac8ec007",
        "outputId": "680c7185-6acf-484b-98db-cadd63ab15ac"
      },
      "outputs": [
        {
          "output_type": "execute_result",
          "data": {
            "text/plain": [
              "array([[-10,  20,  11],\n",
              "       [ 14,  42,   5],\n",
              "       [ 14,  28,   0]])"
            ]
          },
          "metadata": {},
          "execution_count": 35
        }
      ],
      "source": [
        "A = np.array([[0, 0, 0, 0, 0], [0, 4, -1, 2, 0], [0, -2, 1, 7, 0], [0, 3, 5, 6, 0], [0, 0, 0, 0, 0]])\n",
        "K = np.array([[1, 0, 2], [1, -1, 3], [0, 2, 1]])\n",
        "\n",
        "convolve_2d(A, K)"
      ]
    },
    {
      "cell_type": "code",
      "execution_count": null,
      "id": "c03504c0",
      "metadata": {
        "colab": {
          "base_uri": "https://localhost:8080/"
        },
        "id": "c03504c0",
        "outputId": "18dc47e4-7b70-496e-90c2-17158528f9ca"
      },
      "outputs": [
        {
          "output_type": "stream",
          "name": "stdout",
          "text": [
            "Size of MNIST train = 60000\n",
            "Size of MNIST test = 10000\n"
          ]
        }
      ],
      "source": [
        "import torch\n",
        "import torchvision\n",
        "from torchvision import transforms\n",
        "import matplotlib.pyplot as plt\n",
        "\n",
        "MNIST_train = torchvision.datasets.MNIST(\"./data\", train=True, download=True, transform=transforms.ToTensor())\n",
        "MNIST_test = torchvision.datasets.MNIST(\"./data\", train=False, download=True, transform=transforms.ToTensor())\n",
        "\n",
        "print('Size of MNIST train =', len(MNIST_train))\n",
        "print('Size of MNIST test =', len(MNIST_test))"
      ]
    },
    {
      "cell_type": "code",
      "execution_count": null,
      "id": "3b4efe78",
      "metadata": {
        "colab": {
          "base_uri": "https://localhost:8080/",
          "height": 480
        },
        "id": "3b4efe78",
        "outputId": "699d08bf-77e8-43d0-f74d-356f3952ff72"
      },
      "outputs": [
        {
          "output_type": "stream",
          "name": "stdout",
          "text": [
            "Tensor shape of the image = torch.Size([1, 28, 28])\n",
            "Digit = 9\n"
          ]
        },
        {
          "output_type": "display_data",
          "data": {
            "text/plain": [
              "<Figure size 500x500 with 1 Axes>"
            ],
            "image/png": "[encoded data removed]"
          },
          "metadata": {}
        }
      ],
      "source": [
        "img_num = 39532 \n",
        "\n",
        "X_sample, y_sample = MNIST_train[img_num] \n",
        "\n",
        "plt.figure(figsize=(5, 5))\n",
        "plt.imshow(X_sample[0,:], vmin=0, vmax=1, cmap='gray')\n",
        "print('Tensor shape of the image =', X_sample.shape)\n",
        "print('Digit =', y_sample)\n",
        "plt.show()"
      ]
    },
    {
      "cell_type": "code",
      "execution_count": null,
      "id": "716b5af8",
      "metadata": {
        "colab": {
          "base_uri": "https://localhost:8080/",
          "height": 310
        },
        "id": "716b5af8",
        "outputId": "e96bd9b6-74f3-4269-a0e4-c0f370b54f8a"
      },
      "outputs": [
        {
          "output_type": "stream",
          "name": "stdout",
          "text": [
            "Digit = 9\n"
          ]
        },
        {
          "output_type": "display_data",
          "data": {
            "text/plain": [
              "<Figure size 300x300 with 1 Axes>"
            ],
            "image/png": "[encoded data removed]"
          },
          "metadata": {}
        }
      ],
      "source": [
        "def display_kernel_action(img_num, ker):\n",
        "    \n",
        "    import matplotlib.pyplot as plt\n",
        "    from scipy.signal import convolve\n",
        "    \n",
        "    X_sample, y_sample = MNIST_train[img_num]    # Pick the image from MNIST\n",
        "    print('Digit =', y_sample)                   # Display the label \n",
        "    conv_image = convolve(X_sample[0], ker)      # Convolve the (padded) image with the kernel \n",
        "    plt.figure(figsize=(3, 3))\n",
        "    plt.imshow(conv_image, vmin=0, vmax=1, cmap='gray')  # Display the convolved image\n",
        "    plt.show()\n",
        "    return\n",
        "\n",
        "kernel_0 = np.array([[0, 0, 0], [0, 1, 0], [0, 0, 0]])\n",
        "\n",
        "display_kernel_action(img_num, kernel_0)"
      ]
    },
    {
      "cell_type": "code",
      "execution_count": null,
      "id": "2d632b92",
      "metadata": {
        "colab": {
          "base_uri": "https://localhost:8080/",
          "height": 310
        },
        "id": "2d632b92",
        "outputId": "f8cd53dd-6f51-43fd-868e-81f0ab366f9b"
      },
      "outputs": [
        {
          "output_type": "stream",
          "name": "stdout",
          "text": [
            "Digit = 9\n"
          ]
        },
        {
          "output_type": "display_data",
          "data": {
            "text/plain": [
              "<Figure size 300x300 with 1 Axes>"
            ],
            "image/png": "[encoded data removed]"
          },
          "metadata": {}
        }
      ],
      "source": [
        "kernel_1 = np.array([[1, 1, 1], [1, 1, 1], [1, 1, 1]])/9\n",
        "\n",
        "display_kernel_action(img_num, kernel_1)"
      ]
    },
    {
      "cell_type": "code",
      "execution_count": null,
      "id": "22577db3",
      "metadata": {
        "colab": {
          "base_uri": "https://localhost:8080/",
          "height": 310
        },
        "id": "22577db3",
        "outputId": "8d1d8003-8281-4f04-e6c5-3a5cd267b7bb"
      },
      "outputs": [
        {
          "output_type": "stream",
          "name": "stdout",
          "text": [
            "Digit = 9\n"
          ]
        },
        {
          "output_type": "display_data",
          "data": {
            "text/plain": [
              "<Figure size 300x300 with 1 Axes>"
            ],
            "image/png": "[encoded data removed]"
          },
          "metadata": {}
        }
      ],
      "source": [
        "kernel_2 = np.array([[1, 1, 1], [1, -8, 1], [1, 1, 1]])\n",
        "\n",
        "display_kernel_action(img_num, kernel_2)"
      ]
    },
    {
      "cell_type": "code",
      "source": [
        "kernel_2 = np.array([[1, 1, 1], [1, -8, 1], [1, 1, 1]])\n",
        "\n",
        "display_kernel_action(1234, kernel_2)"
      ],
      "metadata": {
        "colab": {
          "base_uri": "https://localhost:8080/",
          "height": 310
        },
        "id": "MkUJNhdX0ZZS",
        "outputId": "f6e279c7-0642-481d-84dd-50bf938c2e8b"
      },
      "id": "MkUJNhdX0ZZS",
      "execution_count": null,
      "outputs": [
        {
          "output_type": "stream",
          "name": "stdout",
          "text": [
            "Digit = 3\n"
          ]
        },
        {
          "output_type": "display_data",
          "data": {
            "text/plain": [
              "<Figure size 300x300 with 1 Axes>"
            ],
            "image/png": "[encoded data removed]"
          },
          "metadata": {}
        }
      ]
    },
    {
      "cell_type": "code",
      "execution_count": null,
      "id": "c3cdec3a",
      "metadata": {
        "colab": {
          "base_uri": "https://localhost:8080/",
          "height": 310
        },
        "id": "c3cdec3a",
        "outputId": "165fac31-f579-4528-e1d3-33e7648efc80"
      },
      "outputs": [
        {
          "output_type": "stream",
          "name": "stdout",
          "text": [
            "Digit = 9\n"
          ]
        },
        {
          "output_type": "display_data",
          "data": {
            "text/plain": [
              "<Figure size 300x300 with 1 Axes>"
            ],
            "image/png": "[encoded data removed]"
          },
          "metadata": {}
        }
      ],
      "source": [
        "kernel_3 = np.array([[-1, -1, -1], [0, 0, 0], [1, 1, 1]])\n",
        "\n",
        "display_kernel_action(img_num, kernel_3)"
      ]
    },
    {
      "cell_type": "code",
      "source": [
        "kernel_3 = np.array([[-1, -1, -1], [0, 0, 0], [1, 1, 1]])\n",
        "\n",
        "display_kernel_action(2, kernel_3)"
      ],
      "metadata": {
        "colab": {
          "base_uri": "https://localhost:8080/",
          "height": 310
        },
        "id": "ci4IYYuC0gpp",
        "outputId": "8cf1b05b-0841-40d4-bd6f-3800b06ea700"
      },
      "id": "ci4IYYuC0gpp",
      "execution_count": null,
      "outputs": [
        {
          "output_type": "stream",
          "name": "stdout",
          "text": [
            "Digit = 4\n"
          ]
        },
        {
          "output_type": "display_data",
          "data": {
            "text/plain": [
              "<Figure size 300x300 with 1 Axes>"
            ],
            "image/png": "[encoded data removed]"
          },
          "metadata": {}
        }
      ]
    },
    {
      "cell_type": "code",
      "execution_count": null,
      "id": "d891a53f",
      "metadata": {
        "colab": {
          "base_uri": "https://localhost:8080/",
          "height": 310
        },
        "id": "d891a53f",
        "outputId": "695fea02-d367-40d5-d1d3-15b59863ba25"
      },
      "outputs": [
        {
          "output_type": "stream",
          "name": "stdout",
          "text": [
            "Digit = 9\n"
          ]
        },
        {
          "output_type": "display_data",
          "data": {
            "text/plain": [
              "<Figure size 300x300 with 1 Axes>"
            ],
            "image/png": "[encoded data removed]"
          },
          "metadata": {}
        }
      ],
      "source": [
        "kernel_4 = np.array([[-1, 0, 1], [-1, 0, 1], [-1, 0, 1]])\n",
        "\n",
        "display_kernel_action(img_num, kernel_4)"
      ]
    },
    {
      "cell_type": "code",
      "execution_count": null,
      "id": "11be1f7b",
      "metadata": {
        "colab": {
          "base_uri": "https://localhost:8080/",
          "height": 310
        },
        "id": "11be1f7b",
        "outputId": "173be91a-6658-46df-81a7-d706c585daa5"
      },
      "outputs": [
        {
          "output_type": "stream",
          "name": "stdout",
          "text": [
            "Digit = 9\n"
          ]
        },
        {
          "output_type": "display_data",
          "data": {
            "text/plain": [
              "<Figure size 300x300 with 1 Axes>"
            ],
            "image/png": "[encoded data removed]"
          },
          "metadata": {}
        }
      ],
      "source": [
        "kernel_5 = np.array([[0, -1, 0], [-1, 5, -1], [0, -1, 0]])\n",
        "\n",
        "display_kernel_action(img_num, kernel_5)"
      ]
    },
    {
      "cell_type": "code",
      "execution_count": null,
      "id": "1feaf990",
      "metadata": {
        "colab": {
          "base_uri": "https://localhost:8080/",
          "height": 310
        },
        "id": "1feaf990",
        "outputId": "686dd8f4-70a7-4e89-9d78-1cc5e51ccc2c"
      },
      "outputs": [
        {
          "output_type": "stream",
          "name": "stdout",
          "text": [
            "Digit = 9\n"
          ]
        },
        {
          "output_type": "display_data",
          "data": {
            "text/plain": [
              "<Figure size 300x300 with 1 Axes>"
            ],
            "image/png": "[encoded data removed]"
          },
          "metadata": {}
        }
      ],
      "source": [
        "kernel_6 = np.array([[1, 2, 1], [2, 4, 2], [1, 2, 1]])/16\n",
        "\n",
        "display_kernel_action(img_num, kernel_6)"
      ]
    },
    {
      "cell_type": "code",
      "source": [],
      "metadata": {
        "id": "DFghxsg62P0R"
      },
      "id": "DFghxsg62P0R",
      "execution_count": null,
      "outputs": []
    }
  ],
  "metadata": {
    "kernelspec": {
      "display_name": "Python 3",
      "language": "python",
      "name": "python3"
    },
    "language_info": {
      "codemirror_mode": {
        "name": "ipython",
        "version": 3
      },
      "file_extension": ".py",
      "mimetype": "text/x-python",
      "name": "python",
      "nbconvert_exporter": "python",
      "pygments_lexer": "ipython3",
      "version": "3.9.1"
    },
    "colab": {
      "provenance": [],
      "include_colab_link": true
    }
  },
  "nbformat": 4,
  "nbformat_minor": 5
}