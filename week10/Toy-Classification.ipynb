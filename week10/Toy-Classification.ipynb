{
 "cells": [
  {
   "cell_type": "markdown",
   "id": "c47ac430",
   "metadata": {},
   "source": [
    "# $\\color{ForestGreen}{\\text{A Toy Dataset for Classification}}$"
   ]
  },
  {
   "cell_type": "code",
   "execution_count": 1,
   "id": "990754cb",
   "metadata": {},
   "outputs": [],
   "source": [
    "# Importing basic libraries\n",
    "\n",
    "import numpy as np\n",
    "import pandas as pd\n",
    "import matplotlib.pyplot as plt\n",
    "%matplotlib inline\n",
    "import seaborn as sns"
   ]
  },
  {
   "cell_type": "code",
   "execution_count": 2,
   "id": "fb8aa8d0",
   "metadata": {},
   "outputs": [],
   "source": [
    "# Constructing a dataset consisting 1000 samples with 10 features and 3 classes for the target \n",
    "\n",
    "from sklearn.datasets import make_classification\n",
    "\n",
    "X, y = make_classification(n_samples=1000, n_features=10, n_informative=4, n_redundant=0, n_classes=3, \n",
    "                            random_state=3, shuffle=True)"
   ]
  },
  {
   "cell_type": "code",
   "execution_count": 3,
   "id": "34ebe0f6",
   "metadata": {},
   "outputs": [],
   "source": [
    "# Breaking the data into train and test subsets\n",
    "\n",
    "from sklearn.model_selection import train_test_split\n",
    "\n",
    "X_train, X_test, y_train, y_test = train_test_split(X, y, test_size=0.25, random_state=3)"
   ]
  },
  {
   "cell_type": "markdown",
   "id": "f78bb38a",
   "metadata": {},
   "source": [
    "## $\\color{ForestGreen}{\\text{Decision Tree Classifier}}$"
   ]
  },
  {
   "cell_type": "code",
   "execution_count": 4,
   "id": "0db2e40d",
   "metadata": {},
   "outputs": [
    {
     "data": {
      "text/plain": [
       "DecisionTreeClassifier()"
      ]
     },
     "execution_count": 4,
     "metadata": {},
     "output_type": "execute_result"
    }
   ],
   "source": [
    "# Constructing tree classifier with no specified hyperparameters\n",
    "\n",
    "from sklearn import tree \n",
    "\n",
    "tr_clf = tree.DecisionTreeClassifier()\n",
    "tr_clf.fit(X_train, y_train)"
   ]
  },
  {
   "cell_type": "code",
   "execution_count": 5,
   "id": "7aa5f8f1",
   "metadata": {},
   "outputs": [],
   "source": [
    "# Finding the predictions of tree classifier for train and test subsets\n",
    "\n",
    "train_y_pred = tr_clf.predict(X_train)\n",
    "test_y_pred = tr_clf.predict(X_test)"
   ]
  },
  {
   "cell_type": "code",
   "execution_count": 6,
   "id": "70c649b9",
   "metadata": {},
   "outputs": [
    {
     "name": "stdout",
     "output_type": "stream",
     "text": [
      "Decision Tree Train Classification Report: \n",
      "\n",
      "               precision    recall  f1-score   support\n",
      "\n",
      "           0       1.00      1.00      1.00       258\n",
      "           1       1.00      1.00      1.00       246\n",
      "           2       1.00      1.00      1.00       246\n",
      "\n",
      "    accuracy                           1.00       750\n",
      "   macro avg       1.00      1.00      1.00       750\n",
      "weighted avg       1.00      1.00      1.00       750\n",
      " \n",
      "\n",
      "\n",
      "Decision Tree Test Classification Report: \n",
      "\n",
      "               precision    recall  f1-score   support\n",
      "\n",
      "           0       0.69      0.79      0.73        77\n",
      "           1       0.78      0.70      0.74        87\n",
      "           2       0.80      0.77      0.78        86\n",
      "\n",
      "    accuracy                           0.75       250\n",
      "   macro avg       0.75      0.75      0.75       250\n",
      "weighted avg       0.76      0.75      0.75       250\n",
      "\n"
     ]
    }
   ],
   "source": [
    "from sklearn import metrics\n",
    "from sklearn.metrics import confusion_matrix, classification_report\n",
    "\n",
    "train_score = metrics.accuracy_score(y_train, train_y_pred)   # Compute train accuracy\n",
    "test_score = metrics.accuracy_score(y_test, test_y_pred)      # Compute test accuracy\n",
    "train_report = classification_report(y_train, train_y_pred)   # Generate classification report for train data\n",
    "test_report = classification_report(y_test, test_y_pred)      # Generate classification report for test data\n",
    "\n",
    "print('Decision Tree Train Classification Report: \\n\\n', train_report,'\\n\\n')\n",
    "print('Decision Tree Test Classification Report: \\n\\n', test_report)"
   ]
  },
  {
   "cell_type": "markdown",
   "id": "4229bf5c",
   "metadata": {},
   "source": [
    "## $\\color{ForestGreen}{\\text{Bagged Decision Trees Classifier}}$"
   ]
  },
  {
   "cell_type": "code",
   "execution_count": 7,
   "id": "58da6c0a",
   "metadata": {},
   "outputs": [
    {
     "data": {
      "text/plain": [
       "BaggingClassifier(base_estimator=DecisionTreeClassifier(), n_estimators=18,\n",
       "                  random_state=3)"
      ]
     },
     "execution_count": 7,
     "metadata": {},
     "output_type": "execute_result"
    }
   ],
   "source": [
    "# Constructing a bagged-tree classifier\n",
    "\n",
    "from sklearn.ensemble import BaggingClassifier\n",
    "\n",
    "bag_clf = BaggingClassifier(base_estimator=tree.DecisionTreeClassifier(), n_estimators=18, random_state=3)\n",
    "bag_clf.fit(X_train, y_train)"
   ]
  },
  {
   "cell_type": "code",
   "execution_count": 8,
   "id": "6edddeda",
   "metadata": {},
   "outputs": [],
   "source": [
    "# Finding the predictions of the bagged-tree classifier for train and test subsets\n",
    "\n",
    "train_y_pred = bag_clf.predict(X_train)\n",
    "test_y_pred = bag_clf.predict(X_test)"
   ]
  },
  {
   "cell_type": "code",
   "execution_count": 9,
   "id": "4935f52f",
   "metadata": {},
   "outputs": [
    {
     "name": "stdout",
     "output_type": "stream",
     "text": [
      "Bagged Trees Classifier Train Classification Report: \n",
      "\n",
      "               precision    recall  f1-score   support\n",
      "\n",
      "           0       1.00      1.00      1.00       258\n",
      "           1       1.00      1.00      1.00       246\n",
      "           2       1.00      1.00      1.00       246\n",
      "\n",
      "    accuracy                           1.00       750\n",
      "   macro avg       1.00      1.00      1.00       750\n",
      "weighted avg       1.00      1.00      1.00       750\n",
      " \n",
      "\n",
      "\n",
      "Bagged Trees Classifier Test Classification Report: \n",
      "\n",
      "               precision    recall  f1-score   support\n",
      "\n",
      "           0       0.80      0.91      0.85        77\n",
      "           1       0.86      0.72      0.79        87\n",
      "           2       0.88      0.92      0.90        86\n",
      "\n",
      "    accuracy                           0.85       250\n",
      "   macro avg       0.85      0.85      0.85       250\n",
      "weighted avg       0.85      0.85      0.85       250\n",
      "\n"
     ]
    }
   ],
   "source": [
    "train_score = metrics.accuracy_score(y_train, train_y_pred)   # Compute train accuracy\n",
    "test_score = metrics.accuracy_score(y_test, test_y_pred)      # Compute test accuracy\n",
    "train_report = classification_report(y_train, train_y_pred)   # Generate classification report for train data\n",
    "test_report = classification_report(y_test, test_y_pred)      # Generate classification report for test data\n",
    "\n",
    "print('Bagged Trees Classifier Train Classification Report: \\n\\n', train_report,'\\n\\n')\n",
    "print('Bagged Trees Classifier Test Classification Report: \\n\\n', test_report)"
   ]
  },
  {
   "cell_type": "markdown",
   "id": "f6115321",
   "metadata": {},
   "source": [
    "## $\\color{ForestGreen}{\\text{Random Forest Classifier}}$"
   ]
  },
  {
   "cell_type": "code",
   "execution_count": 10,
   "id": "9d00cf1d",
   "metadata": {},
   "outputs": [
    {
     "data": {
      "text/plain": [
       "RandomForestClassifier(max_depth=2, random_state=3)"
      ]
     },
     "execution_count": 10,
     "metadata": {},
     "output_type": "execute_result"
    }
   ],
   "source": [
    "# Constructing a random forest classifier\n",
    "\n",
    "from sklearn.ensemble import RandomForestClassifier\n",
    "\n",
    "rf_clf = RandomForestClassifier(max_depth=2, random_state=3)\n",
    "rf_clf.fit(X_train, y_train)"
   ]
  },
  {
   "cell_type": "code",
   "execution_count": 11,
   "id": "13b0b5f7",
   "metadata": {},
   "outputs": [],
   "source": [
    "# Finding the predictions of random forest classifier for train and test subsets\n",
    "\n",
    "train_y_pred = rf_clf.predict(X_train)\n",
    "test_y_pred = rf_clf.predict(X_test)"
   ]
  },
  {
   "cell_type": "code",
   "execution_count": 12,
   "id": "7e7657b3",
   "metadata": {},
   "outputs": [
    {
     "name": "stdout",
     "output_type": "stream",
     "text": [
      "Random Forest Classifier Train Classification Report: \n",
      "\n",
      "               precision    recall  f1-score   support\n",
      "\n",
      "           0       0.73      0.91      0.81       258\n",
      "           1       0.86      0.50      0.63       246\n",
      "           2       0.73      0.84      0.78       246\n",
      "\n",
      "    accuracy                           0.75       750\n",
      "   macro avg       0.77      0.75      0.74       750\n",
      "weighted avg       0.77      0.75      0.74       750\n",
      " \n",
      "\n",
      "\n",
      "Random Forest Classifier Test Classification Report: \n",
      "\n",
      "               precision    recall  f1-score   support\n",
      "\n",
      "           0       0.62      0.90      0.73        77\n",
      "           1       0.79      0.39      0.52        87\n",
      "           2       0.71      0.78      0.74        86\n",
      "\n",
      "    accuracy                           0.68       250\n",
      "   macro avg       0.70      0.69      0.66       250\n",
      "weighted avg       0.71      0.68      0.66       250\n",
      "\n"
     ]
    }
   ],
   "source": [
    "train_score = metrics.accuracy_score(y_train, train_y_pred)   # Compute train accuracy\n",
    "test_score = metrics.accuracy_score(y_test, test_y_pred)      # Compute test accuracy\n",
    "train_report = classification_report(y_train, train_y_pred)   # Generate classification report for train data\n",
    "test_report = classification_report(y_test, test_y_pred)      # Generate classification report for test data\n",
    "\n",
    "print('Random Forest Classifier Train Classification Report: \\n\\n', train_report,'\\n\\n')\n",
    "print('Random Forest Classifier Test Classification Report: \\n\\n', test_report)"
   ]
  },
  {
   "cell_type": "code",
   "execution_count": 13,
   "id": "2bb5ecb4",
   "metadata": {},
   "outputs": [
    {
     "data": {
      "text/plain": [
       "RandomForestClassifier(max_depth=6, max_leaf_nodes=8, n_estimators=3000,\n",
       "                       random_state=3)"
      ]
     },
     "execution_count": 13,
     "metadata": {},
     "output_type": "execute_result"
    }
   ],
   "source": [
    "# Constructing a new random forest classifier\n",
    "\n",
    "rf_clf = RandomForestClassifier(n_estimators=3000, max_depth=6, max_leaf_nodes=8, random_state=3)\n",
    "rf_clf.fit(X_train, y_train)"
   ]
  },
  {
   "cell_type": "code",
   "execution_count": 14,
   "id": "0a420f9e",
   "metadata": {},
   "outputs": [],
   "source": [
    "# Finding the predictions of the new random forest classifier for train and test subsets\n",
    "\n",
    "train_y_pred = rf_clf.predict(X_train)\n",
    "test_y_pred = rf_clf.predict(X_test)"
   ]
  },
  {
   "cell_type": "code",
   "execution_count": 15,
   "id": "c9fe9b06",
   "metadata": {},
   "outputs": [
    {
     "name": "stdout",
     "output_type": "stream",
     "text": [
      "Random Forest Classifier Train Classification Report: \n",
      "\n",
      "               precision    recall  f1-score   support\n",
      "\n",
      "           0       0.82      0.89      0.85       258\n",
      "           1       0.87      0.61      0.72       246\n",
      "           2       0.76      0.91      0.83       246\n",
      "\n",
      "    accuracy                           0.81       750\n",
      "   macro avg       0.82      0.81      0.80       750\n",
      "weighted avg       0.82      0.81      0.80       750\n",
      " \n",
      "\n",
      "\n",
      "Random Forest Classifier Test Classification Report: \n",
      "\n",
      "               precision    recall  f1-score   support\n",
      "\n",
      "           0       0.74      0.88      0.80        77\n",
      "           1       0.84      0.54      0.66        87\n",
      "           2       0.74      0.87      0.80        86\n",
      "\n",
      "    accuracy                           0.76       250\n",
      "   macro avg       0.77      0.77      0.75       250\n",
      "weighted avg       0.77      0.76      0.75       250\n",
      "\n"
     ]
    }
   ],
   "source": [
    "train_score = metrics.accuracy_score(y_train, train_y_pred)   # Compute train accuracy\n",
    "test_score = metrics.accuracy_score(y_test, test_y_pred)      # Compute test accuracy\n",
    "train_report = classification_report(y_train, train_y_pred)   # Generate classification report for train data\n",
    "test_report = classification_report(y_test, test_y_pred)      # Generate classification report for test data\n",
    "\n",
    "print('Random Forest Classifier Train Classification Report: \\n\\n', train_report,'\\n\\n')\n",
    "print('Random Forest Classifier Test Classification Report: \\n\\n', test_report)"
   ]
  },
  {
   "cell_type": "code",
   "execution_count": 16,
   "id": "65f00eef",
   "metadata": {},
   "outputs": [
    {
     "data": {
      "image/png": "[encoded data removed]",
      "text/plain": [
       "<Figure size 504x504 with 1 Axes>"
      ]
     },
     "metadata": {
      "needs_background": "light"
     },
     "output_type": "display_data"
    }
   ],
   "source": [
    "# Calculating the feature importance\n",
    "\n",
    "feature_importance = rf_clf.feature_importances_\n",
    "feature_importance = 100.0*(feature_importance/np.sum(feature_importance))\n",
    "\n",
    "# Displaying the relative feature importance by a horizontal bar chart \n",
    "\n",
    "sorted_idx = np.argsort(feature_importance)\n",
    "pos=np.arange(sorted_idx.shape[0])+0.5\n",
    "plt.figure(figsize=(7, 7))\n",
    "\n",
    "plt.title(\"Feature Importance\")\n",
    "plt.xlabel('Relative Importance')\n",
    "plt.barh(pos, feature_importance[sorted_idx], color='crimson', align=\"center\")\n",
    "plt.yticks(pos, np.array(['x_%d' %(i+1) for i in range(10)])[sorted_idx])\n",
    "plt.show()"
   ]
  },
  {
   "cell_type": "markdown",
   "id": "4a4e91e3",
   "metadata": {},
   "source": [
    "## $\\color{ForestGreen}{\\text{Bagged SVC Classifier}}$"
   ]
  },
  {
   "cell_type": "code",
   "execution_count": 17,
   "id": "1fb57701",
   "metadata": {},
   "outputs": [
    {
     "data": {
      "text/plain": [
       "SVC()"
      ]
     },
     "execution_count": 17,
     "metadata": {},
     "output_type": "execute_result"
    }
   ],
   "source": [
    "# We start by training an SVC\n",
    "\n",
    "from sklearn.svm import SVC\n",
    "\n",
    "svc_clf = SVC()\n",
    "svc_clf.fit(X_train, y_train)"
   ]
  },
  {
   "cell_type": "code",
   "execution_count": 18,
   "id": "05a796e8",
   "metadata": {},
   "outputs": [],
   "source": [
    "# Finding the predictions of SVC classifier for train and test subsets\n",
    "\n",
    "train_y_pred = svc_clf.predict(X_train)\n",
    "test_y_pred = svc_clf.predict(X_test)"
   ]
  },
  {
   "cell_type": "code",
   "execution_count": 19,
   "id": "712d4d66",
   "metadata": {},
   "outputs": [
    {
     "name": "stdout",
     "output_type": "stream",
     "text": [
      "SVC Classifier Train Classification Report: \n",
      "\n",
      "               precision    recall  f1-score   support\n",
      "\n",
      "           0       0.91      0.86      0.88       258\n",
      "           1       0.90      0.87      0.89       246\n",
      "           2       0.91      0.99      0.95       246\n",
      "\n",
      "    accuracy                           0.91       750\n",
      "   macro avg       0.91      0.91      0.91       750\n",
      "weighted avg       0.91      0.91      0.91       750\n",
      " \n",
      "\n",
      "\n",
      "SVC Classifier Test Classification Report: \n",
      "\n",
      "               precision    recall  f1-score   support\n",
      "\n",
      "           0       0.81      0.84      0.83        77\n",
      "           1       0.90      0.74      0.81        87\n",
      "           2       0.84      0.97      0.90        86\n",
      "\n",
      "    accuracy                           0.85       250\n",
      "   macro avg       0.85      0.85      0.85       250\n",
      "weighted avg       0.85      0.85      0.85       250\n",
      "\n"
     ]
    }
   ],
   "source": [
    "train_score = metrics.accuracy_score(y_train, train_y_pred)   # Compute train accuracy\n",
    "test_score = metrics.accuracy_score(y_test, test_y_pred)      # Compute test accuracy\n",
    "train_report = classification_report(y_train, train_y_pred)   # Generate classification report for train data\n",
    "test_report = classification_report(y_test, test_y_pred)      # Generate classification report for test data\n",
    "\n",
    "print('SVC Classifier Train Classification Report: \\n\\n', train_report,'\\n\\n')\n",
    "print('SVC Classifier Test Classification Report: \\n\\n', test_report)"
   ]
  },
  {
   "cell_type": "code",
   "execution_count": 20,
   "id": "9c5c3868",
   "metadata": {},
   "outputs": [
    {
     "data": {
      "text/plain": [
       "BaggingClassifier(base_estimator=SVC(), n_estimators=30, random_state=3)"
      ]
     },
     "execution_count": 20,
     "metadata": {},
     "output_type": "execute_result"
    }
   ],
   "source": [
    "# Constructing a bagged-SVC classifier\n",
    "\n",
    "bag_clf = BaggingClassifier(base_estimator=SVC(), n_estimators=30, random_state=3)\n",
    "bag_clf.fit(X_train, y_train)"
   ]
  },
  {
   "cell_type": "code",
   "execution_count": 21,
   "id": "8cf26ee5",
   "metadata": {},
   "outputs": [],
   "source": [
    "# Finding the predictions of the bagged-SVC classifier for train and test subsets\n",
    "\n",
    "train_y_pred = bag_clf.predict(X_train)\n",
    "test_y_pred = bag_clf.predict(X_test)"
   ]
  },
  {
   "cell_type": "code",
   "execution_count": 22,
   "id": "d35a16a1",
   "metadata": {},
   "outputs": [
    {
     "name": "stdout",
     "output_type": "stream",
     "text": [
      "Bagged SVC Classifier Train Classification Report: \n",
      "\n",
      "               precision    recall  f1-score   support\n",
      "\n",
      "           0       0.89      0.86      0.88       258\n",
      "           1       0.89      0.86      0.88       246\n",
      "           2       0.91      0.98      0.94       246\n",
      "\n",
      "    accuracy                           0.90       750\n",
      "   macro avg       0.90      0.90      0.90       750\n",
      "weighted avg       0.90      0.90      0.90       750\n",
      " \n",
      "\n",
      "\n",
      "Bagged SVC Classifier Test Classification Report: \n",
      "\n",
      "               precision    recall  f1-score   support\n",
      "\n",
      "           0       0.80      0.84      0.82        77\n",
      "           1       0.90      0.71      0.79        87\n",
      "           2       0.83      0.97      0.89        86\n",
      "\n",
      "    accuracy                           0.84       250\n",
      "   macro avg       0.84      0.84      0.84       250\n",
      "weighted avg       0.85      0.84      0.84       250\n",
      "\n"
     ]
    }
   ],
   "source": [
    "train_score = metrics.accuracy_score(y_train, train_y_pred)   # Compute train accuracy\n",
    "test_score = metrics.accuracy_score(y_test, test_y_pred)      # Compute test accuracy\n",
    "train_report = classification_report(y_train, train_y_pred)   # Generate classification report for train data\n",
    "test_report = classification_report(y_test, test_y_pred)      # Generate classification report for test data\n",
    "\n",
    "print('Bagged SVC Classifier Train Classification Report: \\n\\n', train_report,'\\n\\n')\n",
    "print('Bagged SVC Classifier Test Classification Report: \\n\\n', test_report)"
   ]
  },
  {
   "cell_type": "markdown",
   "id": "73f9b806",
   "metadata": {},
   "source": [
    "## $\\color{ForestGreen}{\\text{AdaBoost Classifier}}$"
   ]
  },
  {
   "cell_type": "code",
   "execution_count": 23,
   "id": "4cb659b4",
   "metadata": {},
   "outputs": [
    {
     "data": {
      "text/plain": [
       "AdaBoostClassifier(base_estimator=DecisionTreeClassifier(max_leaf_nodes=10),\n",
       "                   learning_rate=1.5, n_estimators=500, random_state=0)"
      ]
     },
     "execution_count": 23,
     "metadata": {},
     "output_type": "execute_result"
    }
   ],
   "source": [
    "# Importing AdaBoostClassifier from ensemble module\n",
    "\n",
    "from sklearn.ensemble import AdaBoostClassifier\n",
    "\n",
    "# Instantiating the AdaBoostClassifier with 500 sequential trees\n",
    "\n",
    "adab_clf = AdaBoostClassifier(base_estimator=tree.DecisionTreeClassifier(max_leaf_nodes=10), \n",
    "                              n_estimators=500, learning_rate=1.5, random_state=0) \n",
    "adab_clf.fit(X_train, y_train)   # Fitting the train data"
   ]
  },
  {
   "cell_type": "code",
   "execution_count": 24,
   "id": "0b48de88",
   "metadata": {},
   "outputs": [],
   "source": [
    "# Finding the predictions of the adaboost classifier for train and test subsets\n",
    "\n",
    "train_y_pred = adab_clf.predict(X_train)\n",
    "test_y_pred = adab_clf.predict(X_test)"
   ]
  },
  {
   "cell_type": "code",
   "execution_count": 25,
   "id": "e0dec295",
   "metadata": {},
   "outputs": [
    {
     "name": "stdout",
     "output_type": "stream",
     "text": [
      "AdaBoost Classifier Train Classification Report: \n",
      "\n",
      "               precision    recall  f1-score   support\n",
      "\n",
      "           0       0.99      0.96      0.98       258\n",
      "           1       0.93      0.98      0.96       246\n",
      "           2       0.99      0.97      0.98       246\n",
      "\n",
      "    accuracy                           0.97       750\n",
      "   macro avg       0.97      0.97      0.97       750\n",
      "weighted avg       0.97      0.97      0.97       750\n",
      " \n",
      "\n",
      "\n",
      "AdaBoost Classifier Test Classification Report: \n",
      "\n",
      "               precision    recall  f1-score   support\n",
      "\n",
      "           0       0.78      0.79      0.79        77\n",
      "           1       0.77      0.68      0.72        87\n",
      "           2       0.81      0.90      0.85        86\n",
      "\n",
      "    accuracy                           0.79       250\n",
      "   macro avg       0.79      0.79      0.79       250\n",
      "weighted avg       0.79      0.79      0.79       250\n",
      "\n"
     ]
    }
   ],
   "source": [
    "train_score = metrics.accuracy_score(y_train, train_y_pred)   # Compute train accuracy\n",
    "test_score = metrics.accuracy_score(y_test, test_y_pred)      # Compute test accuracy\n",
    "train_report = classification_report(y_train, train_y_pred)   # Generate classification report for train data\n",
    "test_report = classification_report(y_test, test_y_pred)      # Generate classification report for test data\n",
    "\n",
    "print('AdaBoost Classifier Train Classification Report: \\n\\n', train_report,'\\n\\n')\n",
    "print('AdaBoost Classifier Test Classification Report: \\n\\n', test_report)"
   ]
  },
  {
   "cell_type": "code",
   "execution_count": null,
   "id": "115e7e54",
   "metadata": {},
   "outputs": [],
   "source": []
  }
 ],
 "metadata": {
  "kernelspec": {
   "display_name": "Python 3",
   "language": "python",
   "name": "python3"
  },
  "language_info": {
   "codemirror_mode": {
    "name": "ipython",
    "version": 3
   },
   "file_extension": ".py",
   "mimetype": "text/x-python",
   "name": "python",
   "nbconvert_exporter": "python",
   "pygments_lexer": "ipython3",
   "version": "3.9.1"
  }
 },
 "nbformat": 4,
 "nbformat_minor": 5
}
