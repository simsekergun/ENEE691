{
 "cells": [
  {
   "cell_type": "markdown",
   "id": "f589ae1d",
   "metadata": {},
   "source": [
    "# $\\color{ForestGreen}{\\text{A Toy Dataset for Regression}}$"
   ]
  },
  {
   "cell_type": "code",
   "execution_count": 1,
   "id": "2b4c0663",
   "metadata": {},
   "outputs": [],
   "source": [
    "# Importing basic libraries\n",
    "\n",
    "import numpy as np\n",
    "import pandas as pd\n",
    "import matplotlib.pyplot as plt\n",
    "%matplotlib inline\n",
    "import seaborn as sns"
   ]
  },
  {
   "cell_type": "code",
   "execution_count": 2,
   "id": "bc95d568",
   "metadata": {},
   "outputs": [],
   "source": [
    "# Constructing a dataset consisting 10000 samples with 20 features and a target in R^8 \n",
    "\n",
    "from sklearn.datasets import make_regression\n",
    "\n",
    "X, y = make_regression(n_samples=10000, n_features=20, n_informative=5, n_targets=8, \n",
    "                       random_state=3, shuffle=True)"
   ]
  },
  {
   "cell_type": "code",
   "execution_count": 3,
   "id": "ab868a38",
   "metadata": {},
   "outputs": [],
   "source": [
    "# Breaking the data into train and test subsets\n",
    "\n",
    "from sklearn.model_selection import train_test_split\n",
    "\n",
    "X_train, X_test, y_train, y_test = train_test_split(X, y, test_size=0.25, random_state=3)"
   ]
  },
  {
   "cell_type": "markdown",
   "id": "441b0d2f",
   "metadata": {},
   "source": [
    "## $\\color{ForestGreen}{\\text{Decision Tree Regressor}}$"
   ]
  },
  {
   "cell_type": "code",
   "execution_count": 4,
   "id": "fa41b1ca",
   "metadata": {},
   "outputs": [
    {
     "data": {
      "text/plain": [
       "DecisionTreeRegressor()"
      ]
     },
     "execution_count": 4,
     "metadata": {},
     "output_type": "execute_result"
    }
   ],
   "source": [
    "# Constructing a tree regressor with no specified hyperparameters\n",
    "\n",
    "from sklearn import tree \n",
    "\n",
    "tr_reg = tree.DecisionTreeRegressor()\n",
    "tr_reg.fit(X_train, y_train)"
   ]
  },
  {
   "cell_type": "code",
   "execution_count": 5,
   "id": "5ecad46e",
   "metadata": {},
   "outputs": [],
   "source": [
    "# Finding the predictions of the tree regressor for train and test subsets\n",
    "\n",
    "train_y_pred = tr_reg.predict(X_train)\n",
    "test_y_pred = tr_reg.predict(X_test)"
   ]
  },
  {
   "cell_type": "code",
   "execution_count": 6,
   "id": "7d1cd505",
   "metadata": {},
   "outputs": [
    {
     "name": "stdout",
     "output_type": "stream",
     "text": [
      "R^2 score for train dataset =  1.0 \n",
      "\n",
      "R^2 score for test dataset =  0.8054 \n",
      "\n"
     ]
    }
   ],
   "source": [
    "r2_train_score = tr_reg.score(X_train, y_train)   # Calculating R^2 score for train\n",
    "r2_test_score = tr_reg.score(X_test, y_test)      # Calculating R^2 score for test\n",
    "\n",
    "print('R^2 score for train dataset = ', round(r2_train_score, 4), '\\n')\n",
    "print('R^2 score for test dataset = ', round(r2_test_score, 4), '\\n')"
   ]
  },
  {
   "cell_type": "markdown",
   "id": "cf244f85",
   "metadata": {},
   "source": [
    "## $\\color{ForestGreen}{\\text{Bagged Decision Trees Regressor}}$"
   ]
  },
  {
   "cell_type": "code",
   "execution_count": 7,
   "id": "05a7a823",
   "metadata": {},
   "outputs": [
    {
     "data": {
      "text/plain": [
       "BaggingRegressor(base_estimator=DecisionTreeRegressor(), n_estimators=100,\n",
       "                 random_state=3)"
      ]
     },
     "execution_count": 7,
     "metadata": {},
     "output_type": "execute_result"
    }
   ],
   "source": [
    "# Importing BaggingRegressor from ensemble module\n",
    "\n",
    "from sklearn.ensemble import BaggingRegressor\n",
    "\n",
    "# Instantiating the bagged-tree regressor\n",
    "bag_reg = BaggingRegressor(base_estimator=tree.DecisionTreeRegressor(), n_estimators=100, random_state=3)\n",
    "bag_reg.fit(X_train, y_train)  # Fitting the train data"
   ]
  },
  {
   "cell_type": "code",
   "execution_count": 8,
   "id": "8d71a47c",
   "metadata": {},
   "outputs": [],
   "source": [
    "# Finding the predictions of bagged-tree regressor for train and test subsets\n",
    "\n",
    "train_y_pred = bag_reg.predict(X_train)\n",
    "test_y_pred = bag_reg.predict(X_test)"
   ]
  },
  {
   "cell_type": "code",
   "execution_count": 9,
   "id": "1a57c0d7",
   "metadata": {},
   "outputs": [
    {
     "name": "stdout",
     "output_type": "stream",
     "text": [
      "R^2 score for train dataset =  0.9919 \n",
      "\n",
      "R^2 score for test dataset =  0.9476 \n",
      "\n"
     ]
    }
   ],
   "source": [
    "r2_train_score = bag_reg.score(X_train, y_train)   # Calculating R^2 score for train\n",
    "r2_test_score = bag_reg.score(X_test, y_test)      # Calculating R^2 score for test\n",
    "\n",
    "print('R^2 score for train dataset = ', round(r2_train_score, 4), '\\n')\n",
    "print('R^2 score for test dataset = ', round(r2_test_score, 4), '\\n')"
   ]
  },
  {
   "cell_type": "markdown",
   "id": "15cb358f",
   "metadata": {},
   "source": [
    "## $\\color{ForestGreen}{\\text{Random Forest Regressor}}$"
   ]
  },
  {
   "cell_type": "code",
   "execution_count": 10,
   "id": "2cfb4c10",
   "metadata": {},
   "outputs": [
    {
     "data": {
      "text/plain": [
       "RandomForestRegressor(n_estimators=1000, random_state=3)"
      ]
     },
     "execution_count": 10,
     "metadata": {},
     "output_type": "execute_result"
    }
   ],
   "source": [
    "# Constructing a random forest regressor\n",
    "\n",
    "from sklearn.ensemble import RandomForestRegressor\n",
    "\n",
    "rf_reg = RandomForestRegressor(n_estimators=1000, random_state=3)  # Instantiating the forest\n",
    "rf_reg.fit(X_train, y_train)     "
   ]
  },
  {
   "cell_type": "code",
   "execution_count": 11,
   "id": "b80360c0",
   "metadata": {},
   "outputs": [],
   "source": [
    "# Finding the predictions of the random forest regressor for train and test subsets\n",
    "\n",
    "train_y_pred = rf_reg.predict(X_train)\n",
    "test_y_pred = rf_reg.predict(X_test)"
   ]
  },
  {
   "cell_type": "code",
   "execution_count": 12,
   "id": "a95e9f13",
   "metadata": {},
   "outputs": [
    {
     "name": "stdout",
     "output_type": "stream",
     "text": [
      "R^2 score for train dataset =  0.9927 \n",
      "\n",
      "R^2 score for test dataset =  0.949 \n",
      "\n"
     ]
    }
   ],
   "source": [
    "r2_train_score = rf_reg.score(X_train, y_train)   # Calculating R^2 score for train\n",
    "r2_test_score = rf_reg.score(X_test, y_test)      # Calculating R^2 score for test\n",
    "\n",
    "print('R^2 score for train dataset = ', round(r2_train_score, 4), '\\n')\n",
    "print('R^2 score for test dataset = ', round(r2_test_score, 4), '\\n')"
   ]
  },
  {
   "cell_type": "code",
   "execution_count": 13,
   "id": "4bb2901d",
   "metadata": {},
   "outputs": [
    {
     "data": {
      "image/png": "[encoded data removed]",
      "text/plain": [
       "<Figure size 504x720 with 1 Axes>"
      ]
     },
     "metadata": {
      "needs_background": "light"
     },
     "output_type": "display_data"
    }
   ],
   "source": [
    "# Calculating the feature importance\n",
    "\n",
    "feature_importance = rf_reg.feature_importances_\n",
    "feature_importance = 100.0*(feature_importance/np.sum(feature_importance))\n",
    "\n",
    "# Displaying the relative feature importance by a horizontal bar chart \n",
    "\n",
    "sorted_idx = np.argsort(feature_importance)\n",
    "pos=np.arange(sorted_idx.shape[0])+0.5\n",
    "plt.figure(figsize=(7, 10))\n",
    "\n",
    "plt.title(\"Feature Importance\")\n",
    "plt.xlabel('Relative Importance')\n",
    "plt.barh(pos, feature_importance[sorted_idx], color='crimson', align=\"center\")\n",
    "plt.yticks(pos, np.array(['x_%d' %(i+1) for i in range(20)])[sorted_idx])\n",
    "plt.show()"
   ]
  },
  {
   "cell_type": "code",
   "execution_count": null,
   "id": "7ade8cae",
   "metadata": {},
   "outputs": [],
   "source": []
  }
 ],
 "metadata": {
  "kernelspec": {
   "display_name": "Python 3",
   "language": "python",
   "name": "python3"
  },
  "language_info": {
   "codemirror_mode": {
    "name": "ipython",
    "version": 3
   },
   "file_extension": ".py",
   "mimetype": "text/x-python",
   "name": "python",
   "nbconvert_exporter": "python",
   "pygments_lexer": "ipython3",
   "version": "3.9.1"
  }
 },
 "nbformat": 4,
 "nbformat_minor": 5
}
