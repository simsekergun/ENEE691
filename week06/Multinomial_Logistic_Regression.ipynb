{
  "cells": [
    {
      "cell_type": "markdown",
      "metadata": {
        "id": "view-in-github",
        "colab_type": "text"
      },
      "source": [
        "<a href=\"https://colab.research.google.com/github/simsekergun/ENEE691/blob/main/week06/Multinomial_Logistic_Regression.ipynb\" target=\"_parent\"><img src=\"https://colab.research.google.com/assets/colab-badge.svg\" alt=\"Open In Colab\"/></a>"
      ]
    },
    {
      "cell_type": "markdown",
      "metadata": {
        "id": "ghYdQjj0-Wiw"
      },
      "source": [
        "# $\\color{ForestGreen}{\\text{An Example of Multinomial Logistic Regression}}$\n",
        "\n",
        "The **MNIST database** (for further information visit http://yann.lecun.com/exdb/mnist/) consists of $70000$ images of handwritten digits. The digits have been size-normalized and centered in a fixed-size image. Each image has been fitted into a $28\\times 28=784$ pixel box. $\\textsf{scikit-learn}$ library is automatically equipped with the MNIST dataset through $\\textsf{fetch_openml}$. In this classification problem, we treat the $784$ pixel inputs of each image as features and the target variable is the actual digit the image represents, with $10$ distinct classes ($0$, $1$, $2$, $3$, $4$, $5$, $6$, $7$, $8$, $9$).\n",
        "\n",
        "To implement this classification problem, we put a cap on the number of images we take from MNIST dataset because including all $70000$ images requires a long computation time."
      ]
    },
    {
      "cell_type": "code",
      "execution_count": 1,
      "metadata": {
        "id": "0gRIywF9-Wiy"
      },
      "outputs": [],
      "source": [
        "# Importing the libraries that will be used in this notebook\n",
        "import numpy as np\n",
        "import pandas as pd\n",
        "import matplotlib.pyplot as plt\n",
        "%matplotlib inline\n",
        "import seaborn as sns\n",
        "from sklearn.model_selection import train_test_split\n",
        "from sklearn.linear_model import LogisticRegression   # Importing Logistic Regression from sklearn\n",
        "import timeit\n",
        "from sklearn import metrics    # Importing 'metrics' from sklearn\n",
        "from sklearn.metrics import confusion_matrix, classification_report"
      ]
    },
    {
      "cell_type": "code",
      "execution_count": 2,
      "metadata": {
        "colab": {
          "base_uri": "https://localhost:8080/"
        },
        "id": "MsUk24ax-Wiy",
        "outputId": "773538d3-3c55-4918-b172-10670d620cee"
      },
      "outputs": [
        {
          "output_type": "stream",
          "name": "stderr",
          "text": [
            "/usr/local/lib/python3.8/dist-packages/sklearn/datasets/_openml.py:932: FutureWarning: The default value of `parser` will change from `'liac-arff'` to `'auto'` in 1.4. You can set `parser='auto'` to silence this warning. Therefore, an `ImportError` will be raised from 1.4 if the dataset is dense and pandas is not installed. Note that the pandas parser may return different data types. See the Notes Section in fetch_openml's API doc for details.\n",
            "  warn(\n"
          ]
        },
        {
          "output_type": "execute_result",
          "data": {
            "text/plain": [
              "(70000, 784)"
            ]
          },
          "metadata": {},
          "execution_count": 2
        }
      ],
      "source": [
        "from sklearn.datasets import fetch_openml   # Importing 'fetch_openml' from sklearn\n",
        "# Downloading features and target from MNIST dataset\n",
        "X, y = fetch_openml('mnist_784', version=1, return_X_y=True, as_frame=False)   \n",
        "\n",
        "X.shape  # Shape of features as numpy array"
      ]
    },
    {
      "cell_type": "code",
      "execution_count": 3,
      "metadata": {
        "colab": {
          "base_uri": "https://localhost:8080/"
        },
        "id": "gLUmvnvw-Wiz",
        "outputId": "6901e728-15ae-4a1f-8e07-2f906af81072"
      },
      "outputs": [
        {
          "output_type": "execute_result",
          "data": {
            "text/plain": [
              "array([5, 0, 4, ..., 4, 5, 6])"
            ]
          },
          "metadata": {},
          "execution_count": 3
        }
      ],
      "source": [
        "# Convert classes from strings to integers \n",
        "y = np.array([int(a) for a in y])\n",
        "\n",
        "y"
      ]
    },
    {
      "cell_type": "code",
      "execution_count": 4,
      "metadata": {
        "id": "gYhnsUoA-Wiz"
      },
      "outputs": [],
      "source": [
        "# Constructing the images of MNIST \n",
        "def digit_image(sample):\n",
        "    image = X[sample].reshape(28, 28)  # Reshape the feature 'X' as 28*28 arrays\n",
        "    fig = plt.figure\n",
        "    plt.imshow(image, cmap='gray_r')\n",
        "    plt.show()\n",
        "    digit = 'Digit Class is: %s' %(y[sample])\n",
        "    return print(digit)"
      ]
    },
    {
      "cell_type": "code",
      "execution_count": 5,
      "metadata": {
        "colab": {
          "base_uri": "https://localhost:8080/",
          "height": 282
        },
        "id": "wP_k3POh-Wiz",
        "outputId": "ea4bea00-af22-4187-c819-adb67084aa15"
      },
      "outputs": [
        {
          "output_type": "display_data",
          "data": {
            "text/plain": [
              "<Figure size 432x288 with 1 Axes>"
            ],
            "image/png": "[encoded data removed]"
          },
          "metadata": {
            "needs_background": "light"
          }
        },
        {
          "output_type": "stream",
          "name": "stdout",
          "text": [
            "Digit Class is: 9\n"
          ]
        }
      ],
      "source": [
        "# Presenting the image of the sample\n",
        "\n",
        "digit_image(932)"
      ]
    },
    {
      "cell_type": "code",
      "execution_count": 6,
      "metadata": {
        "colab": {
          "base_uri": "https://localhost:8080/"
        },
        "id": "5sM-QK4o-Wiz",
        "outputId": "9bf7dc98-13c2-43f5-84dd-de6e59d63a5d"
      },
      "outputs": [
        {
          "output_type": "stream",
          "name": "stdout",
          "text": [
            "The number of digit 0 in the subset is: 1001\n",
            "The number of digit 1 in the subset is: 1127\n",
            "The number of digit 2 in the subset is: 991\n",
            "The number of digit 3 in the subset is: 1032\n",
            "The number of digit 4 in the subset is: 980\n",
            "The number of digit 5 in the subset is: 863\n",
            "The number of digit 6 in the subset is: 1014\n",
            "The number of digit 7 in the subset is: 1070\n",
            "The number of digit 8 in the subset is: 944\n",
            "The number of digit 9 in the subset is: 978\n",
            "Total number of instances in the subset:  10000\n"
          ]
        }
      ],
      "source": [
        "# Let's see how digits are distributed in the first 10000 MNIST images\n",
        "count = 0\n",
        "for j in range(10):\n",
        "    z = [1 if a==j else 0 for a in y[:10000]]\n",
        "    count += sum(z)\n",
        "    print('The number of digit %d in the subset is: %d' %(j, sum(z)))\n",
        "print('Total number of instances in the subset: ', count)"
      ]
    },
    {
      "cell_type": "code",
      "execution_count": 7,
      "metadata": {
        "id": "V-DdkKPS-Wi0"
      },
      "outputs": [],
      "source": [
        "# Dividing the features and the target variable into the train and test subsets \n",
        "cap = 10000\n",
        "\n",
        "XX = X[:cap]\n",
        "yy = y[:cap]\n",
        "\n",
        "X_train, X_test, y_train, y_test = train_test_split(XX, yy, test_size=0.3, random_state=5)"
      ]
    },
    {
      "cell_type": "code",
      "execution_count": 8,
      "metadata": {
        "colab": {
          "base_uri": "https://localhost:8080/"
        },
        "id": "1KS6bDTP-Wi0",
        "outputId": "2c9e82c0-e978-4091-9474-021f4d31fa21"
      },
      "outputs": [
        {
          "output_type": "stream",
          "name": "stderr",
          "text": [
            "/usr/local/lib/python3.8/dist-packages/sklearn/linear_model/_logistic.py:1173: FutureWarning: `penalty='none'`has been deprecated in 1.2 and will be removed in 1.4. To keep the past behaviour, set `penalty=None`.\n",
            "  warnings.warn(\n"
          ]
        },
        {
          "output_type": "stream",
          "name": "stdout",
          "text": [
            "Training time: 5.147924705999998 sec\n"
          ]
        }
      ],
      "source": [
        "logreg = LogisticRegression(penalty = 'none', max_iter = 10000) # Instantiating logistic regression \n",
        "\n",
        "start = timeit.default_timer()\n",
        "logreg.fit(X_train, y_train)  # Fitting the train data to 'logreg'\n",
        "stop = timeit.default_timer()\n",
        "\n",
        "print('Training time: %s sec' %(stop-start))"
      ]
    },
    {
      "cell_type": "code",
      "execution_count": 9,
      "metadata": {
        "colab": {
          "base_uri": "https://localhost:8080/"
        },
        "id": "mpz-shrm-Wi0",
        "outputId": "8619f785-b783-442f-a304-a3d31935984d"
      },
      "outputs": [
        {
          "output_type": "stream",
          "name": "stdout",
          "text": [
            "Train predictions for probabilities:\n",
            "\n",
            " [[1.69507179e-293 0.00000000e+000 6.92715283e-250 1.00000000e+000\n",
            "  3.89164019e-228 1.05624564e-138 0.00000000e+000 9.73070693e-136\n",
            "  5.04841746e-095 1.06575696e-202]\n",
            " [1.44817077e-266 8.61401449e-016 1.41692955e-228 4.03225260e-047\n",
            "  1.17044334e-090 2.79039857e-017 1.08540454e-043 2.40609970e-321\n",
            "  1.00000000e+000 1.23004171e-159]\n",
            " [0.00000000e+000 1.00000000e+000 8.55305282e-147 9.89932334e-176\n",
            "  2.23806783e-118 0.00000000e+000 7.89016382e-294 4.73977397e-256\n",
            "  8.50554093e-180 2.06794985e-151]] \n",
            "\n",
            "Test predictions for probabilities:\n",
            "\n",
            " [[0.00000000e+000 0.00000000e+000 0.00000000e+000 8.24930375e-189\n",
            "  1.85335396e-226 2.69037302e-278 0.00000000e+000 1.00000000e+000\n",
            "  1.55517135e-198 9.71626423e-169]\n",
            " [4.42221585e-300 0.00000000e+000 4.26449128e-196 0.00000000e+000\n",
            "  1.00000000e+000 5.03281134e-250 1.77681124e-216 1.01711547e-202\n",
            "  4.85116914e-226 3.53569150e-093]\n",
            " [0.00000000e+000 1.00000000e+000 1.45427424e-120 5.04469082e-098\n",
            "  2.68454185e-251 2.15308593e-104 6.69567965e-188 4.63740590e-285\n",
            "  6.23595472e-084 8.01150566e-179]]\n"
          ]
        }
      ],
      "source": [
        "# Predicted class for the test subset through logistic regression \n",
        "\n",
        "y_train_pred_prob = logreg.predict_proba(X_train)  # Calculating probabilities of the two classes in train subset\n",
        "y_test_pred_prob = logreg.predict_proba(X_test)    # Calculating probabilities of the two classes in test subset\n",
        "\n",
        "# Presenting the probabilities for the 1st 10 instances in train subset\n",
        "\n",
        "print('Train predictions for probabilities:\\n\\n', y_train_pred_prob[:3],'\\n')\n",
        "\n",
        "# Presenting the probabilities for the 1st 10 instances in test subset\n",
        "\n",
        "print('Test predictions for probabilities:\\n\\n', y_test_pred_prob[:3])"
      ]
    },
    {
      "cell_type": "code",
      "execution_count": 10,
      "metadata": {
        "colab": {
          "base_uri": "https://localhost:8080/"
        },
        "id": "YyZC_ZP3-Wi0",
        "outputId": "1f500951-8181-43d4-92c4-d61695ab7df5"
      },
      "outputs": [
        {
          "output_type": "stream",
          "name": "stdout",
          "text": [
            "Predicted class for train:  [3 8 1 8 9 1 4 7 3 3] \n",
            "\n",
            "Predicted class for train:  [7 4 1 2 8 6 1 9 2 4]\n"
          ]
        }
      ],
      "source": [
        "y_train_pred = y_train_pred_prob.argmax(axis=1)  # Finding the predicted class for train predictions\n",
        "y_test_pred = y_test_pred_prob.argmax(axis=1)  # Finding the predicted class for test predictions\n",
        "\n",
        "# Presenting the predicted classes for the 1st 10 instances of train\n",
        "print('Predicted class for train: ', y_train_pred[:10],'\\n')     \n",
        "\n",
        "# Presenting the predicted classes for the 1st 10 instances of test\n",
        "print('Predicted class for train: ', y_test_pred[:10]) "
      ]
    },
    {
      "cell_type": "code",
      "execution_count": 11,
      "metadata": {
        "colab": {
          "base_uri": "https://localhost:8080/"
        },
        "id": "LCmfDdUt-Wi0",
        "outputId": "18bca237-30b7-487f-ee1a-3cee260f60e2"
      },
      "outputs": [
        {
          "output_type": "stream",
          "name": "stdout",
          "text": [
            "Train accuracy score of the model is  1.0 \n",
            "\n",
            "Test accuracy score of the model is  0.86833\n"
          ]
        }
      ],
      "source": [
        "# Calculating the train and test accuracy scores of the model\n",
        "train_score = metrics.accuracy_score(y_train, y_train_pred) # train accuracy\n",
        "\n",
        "test_score = metrics.accuracy_score(y_test, y_test_pred)    # test accuracy\n",
        "\n",
        "print('Train accuracy score of the model is ', round(train_score, 5),'\\n')\n",
        "print('Test accuracy score of the model is ', round(test_score, 5))"
      ]
    },
    {
      "cell_type": "code",
      "execution_count": 12,
      "metadata": {
        "colab": {
          "base_uri": "https://localhost:8080/"
        },
        "id": "K8tqU9Sr-Wi0",
        "outputId": "e29243b5-64ce-4fc4-8ada-b4e9f755ff5c"
      },
      "outputs": [
        {
          "output_type": "stream",
          "name": "stdout",
          "text": [
            "Training time: 7.436060021000003 sec\n"
          ]
        }
      ],
      "source": [
        "# Instantiating logistic regression with 'L2' regularization\n",
        "logreg_pen = LogisticRegression(penalty = 'l2', max_iter = 10000, C=10e-7) # Including a strong L2 penalty\n",
        "\n",
        "start = timeit.default_timer()\n",
        "logreg_pen.fit(X_train, y_train)  # Fitting the train data to 'logreg'\n",
        "stop = timeit.default_timer()\n",
        "\n",
        "print('Training time: %s sec' %(stop-start))"
      ]
    },
    {
      "cell_type": "code",
      "execution_count": 13,
      "metadata": {
        "id": "PXpIZCqt-Wi1"
      },
      "outputs": [],
      "source": [
        "# Finding the predicted class for the train and test subsets\n",
        "\n",
        "y_train_pred = logreg_pen.predict_proba(X_train).argmax(axis=1) \n",
        "y_test_pred = logreg_pen.predict_proba(X_test).argmax(axis=1) "
      ]
    },
    {
      "cell_type": "code",
      "execution_count": 14,
      "metadata": {
        "colab": {
          "base_uri": "https://localhost:8080/"
        },
        "id": "-jvQxGgW-Wi1",
        "outputId": "a7e199f6-88ed-4a90-cee3-d93dc57ee140"
      },
      "outputs": [
        {
          "output_type": "stream",
          "name": "stdout",
          "text": [
            "Train accuracy score of the model is  0.93686 \n",
            "\n",
            "Test accuracy score of the model is  0.91833\n"
          ]
        }
      ],
      "source": [
        "train_score = metrics.accuracy_score(y_train, y_train_pred) # train accuracy\n",
        "\n",
        "test_score = metrics.accuracy_score(y_test, y_test_pred)    # test accuracy\n",
        "\n",
        "print('Train accuracy score of the model is ', round(train_score, 5),'\\n')\n",
        "print('Test accuracy score of the model is ', round(test_score, 5))"
      ]
    },
    {
      "cell_type": "code",
      "execution_count": 15,
      "metadata": {
        "colab": {
          "base_uri": "https://localhost:8080/",
          "height": 910
        },
        "id": "uw40R3f1-Wi1",
        "outputId": "c879d983-0484-41fb-f80a-0f4fb1dd8d68"
      },
      "outputs": [
        {
          "output_type": "display_data",
          "data": {
            "text/plain": [
              "<Figure size 720x720 with 2 Axes>"
            ],
            "image/png": "[encoded data removed]"
          },
          "metadata": {
            "needs_background": "light"
          }
        },
        {
          "output_type": "stream",
          "name": "stdout",
          "text": [
            "Classification Report for the Train Subset: \n",
            "\n",
            "               precision    recall  f1-score   support\n",
            "\n",
            "           0       0.96      0.99      0.98       691\n",
            "           1       0.94      0.98      0.96       788\n",
            "           2       0.93      0.91      0.92       702\n",
            "           3       0.94      0.91      0.92       713\n",
            "           4       0.94      0.95      0.94       694\n",
            "           5       0.92      0.89      0.91       615\n",
            "           6       0.96      0.97      0.96       717\n",
            "           7       0.94      0.94      0.94       746\n",
            "           8       0.91      0.91      0.91       666\n",
            "           9       0.91      0.92      0.92       668\n",
            "\n",
            "    accuracy                           0.94      7000\n",
            "   macro avg       0.94      0.94      0.94      7000\n",
            "weighted avg       0.94      0.94      0.94      7000\n",
            "\n"
          ]
        }
      ],
      "source": [
        "# Computing the confusion matrix for the train subset\n",
        "train_c_matrix = confusion_matrix(y_train, y_train_pred)  # Compute the train confusion matrix\n",
        "\n",
        "plt.figure(figsize=(10,10))\n",
        "sns.heatmap(train_c_matrix, annot=True, fmt=\".1f\", linewidths=.5, square = True, cmap = 'Pastel1');\n",
        "plt.ylabel('Actual label');\n",
        "plt.xlabel('Predicted label');\n",
        "all_sample_title = 'Train Accuracy: {0}'.format(round(train_score, 4))\n",
        "plt.title(all_sample_title, size = 15);\n",
        "plt.show()\n",
        "\n",
        "# Print the train classification report\n",
        "\n",
        "print('Classification Report for the Train Subset: \\n\\n', classification_report(y_train, y_train_pred))"
      ]
    },
    {
      "cell_type": "code",
      "execution_count": 16,
      "metadata": {
        "colab": {
          "base_uri": "https://localhost:8080/",
          "height": 910
        },
        "id": "NCYOVxt9-Wi1",
        "outputId": "1f1583db-faec-4eca-fcd0-24a5d1c8f741"
      },
      "outputs": [
        {
          "output_type": "display_data",
          "data": {
            "text/plain": [
              "<Figure size 720x720 with 2 Axes>"
            ],
            "image/png": "[encoded data removed]"
          },
          "metadata": {
            "needs_background": "light"
          }
        },
        {
          "output_type": "stream",
          "name": "stdout",
          "text": [
            "Classification Report for the Test Subset: \n",
            "\n",
            "               precision    recall  f1-score   support\n",
            "\n",
            "           0       0.97      0.97      0.97       310\n",
            "           1       0.94      0.96      0.95       339\n",
            "           2       0.91      0.90      0.91       289\n",
            "           3       0.93      0.90      0.91       319\n",
            "           4       0.91      0.93      0.92       286\n",
            "           5       0.86      0.90      0.88       248\n",
            "           6       0.90      0.94      0.92       297\n",
            "           7       0.93      0.93      0.93       324\n",
            "           8       0.92      0.85      0.88       278\n",
            "           9       0.90      0.89      0.90       310\n",
            "\n",
            "    accuracy                           0.92      3000\n",
            "   macro avg       0.92      0.92      0.92      3000\n",
            "weighted avg       0.92      0.92      0.92      3000\n",
            "\n"
          ]
        }
      ],
      "source": [
        "# Computing the confusion matrix for the test subset\n",
        "\n",
        "test_c_matrix = confusion_matrix(y_test, y_test_pred)  # Compute the test confusion matrix\n",
        "\n",
        "plt.figure(figsize=(10,10))\n",
        "sns.heatmap(test_c_matrix, annot=True, fmt=\".1f\", linewidths=.5, square = True, cmap = 'Pastel1');\n",
        "plt.ylabel('Actual label');\n",
        "plt.xlabel('Predicted label');\n",
        "all_sample_title = 'Test Accuracy: {0}'.format(round(test_score, 4))\n",
        "plt.title(all_sample_title, size = 15);\n",
        "plt.show()\n",
        "\n",
        "# Print the train classification report\n",
        "\n",
        "print('Classification Report for the Test Subset: \\n\\n', classification_report(y_test, y_test_pred))"
      ]
    }
  ],
  "metadata": {
    "kernelspec": {
      "display_name": "Python 3 (ipykernel)",
      "language": "python",
      "name": "python3"
    },
    "language_info": {
      "codemirror_mode": {
        "name": "ipython",
        "version": 3
      },
      "file_extension": ".py",
      "mimetype": "text/x-python",
      "name": "python",
      "nbconvert_exporter": "python",
      "pygments_lexer": "ipython3",
      "version": "3.9.15"
    },
    "colab": {
      "provenance": [],
      "include_colab_link": true
    }
  },
  "nbformat": 4,
  "nbformat_minor": 0
}