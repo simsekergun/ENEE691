{
  "cells": [
    {
      "cell_type": "markdown",
      "metadata": {
        "id": "view-in-github",
        "colab_type": "text"
      },
      "source": [
        "<a href=\"https://colab.research.google.com/github/simsekergun/ENEE691/blob/main/week06/BinaryLogisticRegressionExample.ipynb\" target=\"_parent\"><img src=\"https://colab.research.google.com/assets/colab-badge.svg\" alt=\"Open In Colab\"/></a>"
      ]
    },
    {
      "cell_type": "code",
      "execution_count": null,
      "id": "250973e4-10c5-4e7b-8332-4c4da893fdbc",
      "metadata": {
        "id": "250973e4-10c5-4e7b-8332-4c4da893fdbc"
      },
      "outputs": [],
      "source": [
        "# Import the functions/methods \n",
        "import matplotlib.pyplot as plt\n",
        "import numpy as np\n",
        "import pandas as pd\n",
        "import seaborn as sns\n",
        "from sklearn.linear_model import LogisticRegression\n",
        "from sklearn.model_selection import train_test_split\n",
        "from sklearn.metrics import roc_curve, auc   \n",
        "from sklearn.metrics import confusion_matrix, classification_report\n",
        "from sklearn.metrics import accuracy_score"
      ]
    },
    {
      "cell_type": "code",
      "execution_count": null,
      "id": "1cb66158-1204-4a5f-ab1e-363139c1302e",
      "metadata": {
        "id": "1cb66158-1204-4a5f-ab1e-363139c1302e",
        "outputId": "c93334d1-2b3f-4f81-eff3-3b2f8f787c09"
      },
      "outputs": [
        {
          "data": {
            "text/html": [
              "<div>\n",
              "<style scoped>\n",
              "    .dataframe tbody tr th:only-of-type {\n",
              "        vertical-align: middle;\n",
              "    }\n",
              "\n",
              "    .dataframe tbody tr th {\n",
              "        vertical-align: top;\n",
              "    }\n",
              "\n",
              "    .dataframe thead th {\n",
              "        text-align: right;\n",
              "    }\n",
              "</style>\n",
              "<table border=\"1\" class=\"dataframe\">\n",
              "  <thead>\n",
              "    <tr style=\"text-align: right;\">\n",
              "      <th></th>\n",
              "      <th>0.957</th>\n",
              "      <th>0.656</th>\n",
              "      <th>0.277</th>\n",
              "      <th>1.348</th>\n",
              "      <th>1.1969</th>\n",
              "      <th>1.1969.1</th>\n",
              "      <th>0.37416</th>\n",
              "      <th>1.1969.2</th>\n",
              "      <th>1.1969.3</th>\n",
              "      <th>0</th>\n",
              "    </tr>\n",
              "  </thead>\n",
              "  <tbody>\n",
              "    <tr>\n",
              "      <th>708</th>\n",
              "      <td>1.000</td>\n",
              "      <td>0.983</td>\n",
              "      <td>0.8915</td>\n",
              "      <td>0.80842</td>\n",
              "      <td>1.33300</td>\n",
              "      <td>0.10000</td>\n",
              "      <td>1.4385</td>\n",
              "      <td>1.33300</td>\n",
              "      <td>0.10000</td>\n",
              "      <td>1</td>\n",
              "    </tr>\n",
              "    <tr>\n",
              "      <th>942</th>\n",
              "      <td>1.000</td>\n",
              "      <td>0.986</td>\n",
              "      <td>0.8860</td>\n",
              "      <td>0.80501</td>\n",
              "      <td>1.33800</td>\n",
              "      <td>0.10000</td>\n",
              "      <td>1.4541</td>\n",
              "      <td>1.33800</td>\n",
              "      <td>0.10000</td>\n",
              "      <td>1</td>\n",
              "    </tr>\n",
              "    <tr>\n",
              "      <th>607</th>\n",
              "      <td>1.000</td>\n",
              "      <td>0.374</td>\n",
              "      <td>0.4395</td>\n",
              "      <td>0.10000</td>\n",
              "      <td>0.56389</td>\n",
              "      <td>0.79897</td>\n",
              "      <td>1.6276</td>\n",
              "      <td>0.56389</td>\n",
              "      <td>0.79897</td>\n",
              "      <td>0</td>\n",
              "    </tr>\n",
              "    <tr>\n",
              "      <th>734</th>\n",
              "      <td>0.968</td>\n",
              "      <td>0.950</td>\n",
              "      <td>0.6360</td>\n",
              "      <td>0.87597</td>\n",
              "      <td>1.36010</td>\n",
              "      <td>0.25534</td>\n",
              "      <td>2.3304</td>\n",
              "      <td>1.36010</td>\n",
              "      <td>0.25534</td>\n",
              "      <td>0</td>\n",
              "    </tr>\n",
              "    <tr>\n",
              "      <th>336</th>\n",
              "      <td>1.000</td>\n",
              "      <td>0.055</td>\n",
              "      <td>1.0000</td>\n",
              "      <td>2.10000</td>\n",
              "      <td>0.36951</td>\n",
              "      <td>0.10000</td>\n",
              "      <td>0.1000</td>\n",
              "      <td>0.36951</td>\n",
              "      <td>0.10000</td>\n",
              "      <td>0</td>\n",
              "    </tr>\n",
              "    <tr>\n",
              "      <th>941</th>\n",
              "      <td>1.000</td>\n",
              "      <td>0.989</td>\n",
              "      <td>0.8715</td>\n",
              "      <td>0.80243</td>\n",
              "      <td>1.33550</td>\n",
              "      <td>0.10000</td>\n",
              "      <td>1.4802</td>\n",
              "      <td>1.33550</td>\n",
              "      <td>0.10000</td>\n",
              "      <td>0</td>\n",
              "    </tr>\n",
              "    <tr>\n",
              "      <th>871</th>\n",
              "      <td>1.000</td>\n",
              "      <td>0.989</td>\n",
              "      <td>0.8730</td>\n",
              "      <td>0.80243</td>\n",
              "      <td>1.33550</td>\n",
              "      <td>0.10000</td>\n",
              "      <td>1.4802</td>\n",
              "      <td>1.33550</td>\n",
              "      <td>0.10000</td>\n",
              "      <td>0</td>\n",
              "    </tr>\n",
              "    <tr>\n",
              "      <th>946</th>\n",
              "      <td>0.072</td>\n",
              "      <td>0.691</td>\n",
              "      <td>0.8220</td>\n",
              "      <td>0.47475</td>\n",
              "      <td>4.43040</td>\n",
              "      <td>0.47475</td>\n",
              "      <td>1.5997</td>\n",
              "      <td>4.43040</td>\n",
              "      <td>0.47475</td>\n",
              "      <td>0</td>\n",
              "    </tr>\n",
              "    <tr>\n",
              "      <th>732</th>\n",
              "      <td>1.000</td>\n",
              "      <td>0.993</td>\n",
              "      <td>0.8550</td>\n",
              "      <td>0.78753</td>\n",
              "      <td>1.26730</td>\n",
              "      <td>0.10000</td>\n",
              "      <td>1.4560</td>\n",
              "      <td>1.26730</td>\n",
              "      <td>0.10000</td>\n",
              "      <td>0</td>\n",
              "    </tr>\n",
              "    <tr>\n",
              "      <th>337</th>\n",
              "      <td>0.880</td>\n",
              "      <td>0.063</td>\n",
              "      <td>0.8565</td>\n",
              "      <td>1.97560</td>\n",
              "      <td>1.10430</td>\n",
              "      <td>0.10000</td>\n",
              "      <td>0.1000</td>\n",
              "      <td>1.10430</td>\n",
              "      <td>0.10000</td>\n",
              "      <td>0</td>\n",
              "    </tr>\n",
              "  </tbody>\n",
              "</table>\n",
              "</div>"
            ],
            "text/plain": [
              "     0.957  0.656   0.277    1.348   1.1969  1.1969.1  0.37416  1.1969.2  \\\n",
              "708  1.000  0.983  0.8915  0.80842  1.33300   0.10000   1.4385   1.33300   \n",
              "942  1.000  0.986  0.8860  0.80501  1.33800   0.10000   1.4541   1.33800   \n",
              "607  1.000  0.374  0.4395  0.10000  0.56389   0.79897   1.6276   0.56389   \n",
              "734  0.968  0.950  0.6360  0.87597  1.36010   0.25534   2.3304   1.36010   \n",
              "336  1.000  0.055  1.0000  2.10000  0.36951   0.10000   0.1000   0.36951   \n",
              "941  1.000  0.989  0.8715  0.80243  1.33550   0.10000   1.4802   1.33550   \n",
              "871  1.000  0.989  0.8730  0.80243  1.33550   0.10000   1.4802   1.33550   \n",
              "946  0.072  0.691  0.8220  0.47475  4.43040   0.47475   1.5997   4.43040   \n",
              "732  1.000  0.993  0.8550  0.78753  1.26730   0.10000   1.4560   1.26730   \n",
              "337  0.880  0.063  0.8565  1.97560  1.10430   0.10000   0.1000   1.10430   \n",
              "\n",
              "     1.1969.3  0  \n",
              "708   0.10000  1  \n",
              "942   0.10000  1  \n",
              "607   0.79897  0  \n",
              "734   0.25534  0  \n",
              "336   0.10000  0  \n",
              "941   0.10000  0  \n",
              "871   0.10000  0  \n",
              "946   0.47475  0  \n",
              "732   0.10000  0  \n",
              "337   0.10000  0  "
            ]
          },
          "execution_count": 2,
          "metadata": {},
          "output_type": "execute_result"
        }
      ],
      "source": [
        "ds = \"https://raw.githubusercontent.com/simsekergun/ENEE691/main/week06/regression_data.csv\"\n",
        "df = pd.read_csv(ds)\n",
        "df.sample(10)"
      ]
    },
    {
      "cell_type": "code",
      "execution_count": null,
      "id": "dce9a1a5-32e6-4eeb-8146-3d025887c387",
      "metadata": {
        "id": "dce9a1a5-32e6-4eeb-8146-3d025887c387",
        "outputId": "05f6d59b-4e0b-4f28-d807-b84eba9f1fed"
      },
      "outputs": [
        {
          "data": {
            "text/plain": [
              "(1046, 10)"
            ]
          },
          "execution_count": 3,
          "metadata": {},
          "output_type": "execute_result"
        }
      ],
      "source": [
        "df.shape"
      ]
    },
    {
      "cell_type": "code",
      "execution_count": null,
      "id": "86ef2f8f-638d-4dd7-9c13-3d171666f4e3",
      "metadata": {
        "id": "86ef2f8f-638d-4dd7-9c13-3d171666f4e3",
        "outputId": "760ae63f-e88d-4f74-cb27-5593f50c3996"
      },
      "outputs": [
        {
          "data": {
            "image/png": "[encoded data removed]",
            "text/plain": [
              "<Figure size 640x480 with 2 Axes>"
            ]
          },
          "metadata": {},
          "output_type": "display_data"
        }
      ],
      "source": [
        "cm = np.corrcoef(df.values.T)     # Calculate Pearson correlation\n",
        "hm = sns.heatmap((cm))\n",
        "plt.show()"
      ]
    },
    {
      "cell_type": "code",
      "execution_count": null,
      "id": "92b6f704-1667-4153-bffe-90d8052743f3",
      "metadata": {
        "id": "92b6f704-1667-4153-bffe-90d8052743f3"
      },
      "outputs": [],
      "source": [
        "X = df[df.columns[0:8]].to_numpy()    # features (independent variables)\n",
        "y = df[df.columns[9]].to_numpy()      # target (dependent variable)"
      ]
    },
    {
      "cell_type": "code",
      "execution_count": null,
      "id": "2fb12d4a-d14a-4e58-926b-8ea5c9263c68",
      "metadata": {
        "id": "2fb12d4a-d14a-4e58-926b-8ea5c9263c68"
      },
      "outputs": [],
      "source": [
        "# Dividing the features and the target variable into the train and test subsets \n",
        "X_train, X_test, y_train, y_test = train_test_split(X, y, test_size=0.3, random_state=14, stratify=y)"
      ]
    },
    {
      "cell_type": "code",
      "execution_count": null,
      "id": "16951e59-b1e7-4b4a-8452-45b65d5a02be",
      "metadata": {
        "id": "16951e59-b1e7-4b4a-8452-45b65d5a02be",
        "outputId": "d747f4b8-2270-48dc-972b-58c53b5505b4"
      },
      "outputs": [
        {
          "name": "stdout",
          "output_type": "stream",
          "text": [
            "[669 377]\n",
            "[468 264]\n",
            "[201 113]\n"
          ]
        }
      ],
      "source": [
        "# Checking the distribution of the train and test categories for the target variable \n",
        "print(np.bincount(y))\n",
        "print(np.bincount(y_train))\n",
        "print(np.bincount(y_test))"
      ]
    },
    {
      "cell_type": "markdown",
      "id": "74d3ff51-a470-49a7-86cf-3d46758bce13",
      "metadata": {
        "id": "74d3ff51-a470-49a7-86cf-3d46758bce13"
      },
      "source": [
        "Unfortunately, this is not a well-balanced dataset. Number of 0's (669) is much larger than number of 1's (377). We'll learn with how to deal this with these kinds of datasets later. For the moment, just forget about the potential issues and proceed"
      ]
    },
    {
      "cell_type": "code",
      "execution_count": null,
      "id": "d22a390c-409c-401c-b492-339082a60c7f",
      "metadata": {
        "id": "d22a390c-409c-401c-b492-339082a60c7f",
        "outputId": "730b7286-4ad2-4fc8-f23b-6fc0e4376f25"
      },
      "outputs": [
        {
          "data": {
            "text/plain": [
              "LogisticRegression(max_iter=1000, penalty='none')"
            ]
          },
          "execution_count": 8,
          "metadata": {},
          "output_type": "execute_result"
        }
      ],
      "source": [
        "logreg = LogisticRegression(penalty = 'none', max_iter = 1000) # Instantiating logistic regression \n",
        "logreg.fit(X_train, y_train)  # Fitting the train data to 'logreg'"
      ]
    },
    {
      "cell_type": "markdown",
      "id": "64c4be70-5630-45bb-b455-23c2932827a0",
      "metadata": {
        "id": "64c4be70-5630-45bb-b455-23c2932827a0"
      },
      "source": [
        "Note that we could define a penalty factor similar to what we did last week (regularization), but that' not the focus of today's lecture."
      ]
    },
    {
      "cell_type": "code",
      "execution_count": null,
      "id": "2020b323-2c5a-4aed-9d14-06df4830c98f",
      "metadata": {
        "id": "2020b323-2c5a-4aed-9d14-06df4830c98f",
        "outputId": "55530334-0dc2-46ea-cc29-1f93bb18c2d1"
      },
      "outputs": [
        {
          "name": "stdout",
          "output_type": "stream",
          "text": [
            "Train predictions for probabilities:\n",
            "\n",
            " [[4.22056620e-003 9.95779434e-001]\n",
            " [2.04104179e-001 7.95895821e-001]\n",
            " [1.00000000e+000 5.52134679e-091]\n",
            " [1.00000000e+000 2.53002483e-169]\n",
            " [1.00000000e+000 2.72813146e-075]] \n",
            "\n",
            "Test predictions for probabilities:\n",
            "\n",
            " [[1.00000000e+00 9.02586745e-44]\n",
            " [1.53345912e-01 8.46654088e-01]\n",
            " [9.79753401e-01 2.02465985e-02]\n",
            " [1.52205057e-01 8.47794943e-01]\n",
            " [1.00000000e+00 0.00000000e+00]]\n"
          ]
        }
      ],
      "source": [
        "# Predicted class for the test subset through logistic regression \n",
        "\n",
        "y_train_pred_prob = logreg.predict_proba(X_train)  # Calculating probabilities of the two classes in train subset\n",
        "y_test_pred_prob = logreg.predict_proba(X_test)    # Calculating probabilities of the two classes in test subset\n",
        "\n",
        "# Presenting the probabilities for the 1st 5 instances in train subset\n",
        "print('Train predictions for probabilities:\\n\\n', y_train_pred_prob[:5],'\\n')\n",
        "\n",
        "# Presenting the probabilities for the 1st 5 instances in test subset\n",
        "print('Test predictions for probabilities:\\n\\n', y_test_pred_prob[:5])"
      ]
    },
    {
      "cell_type": "code",
      "execution_count": null,
      "id": "56570109-0bd0-4cc3-a0d2-3895c9177dd4",
      "metadata": {
        "id": "56570109-0bd0-4cc3-a0d2-3895c9177dd4",
        "outputId": "041dd75f-718c-4a29-b0f1-0a8c6d19bd8b"
      },
      "outputs": [
        {
          "name": "stdout",
          "output_type": "stream",
          "text": [
            "Predicted class for train:  [1 1 0 0 0 0 0 0 0 0] \n",
            "\n",
            "Predicted class for train:  [1 1 1 1 0 0 0 0 0 0]\n"
          ]
        }
      ],
      "source": [
        "y_train_pred = y_train_pred_prob.argmax(axis=1)  # Finding the predicted class for train predictions\n",
        "y_test_pred = y_test_pred_prob.argmax(axis=1)  # Finding the predicted class for test predictions\n",
        "\n",
        "# Presenting the predicted classes for the 1st 10 instances of train\n",
        "print('Predicted class for train: ', y_train_pred[:10],'\\n')     \n",
        "\n",
        "# Presenting the predicted classes for the last 10 instances of test\n",
        "print('Predicted class for train: ', y_test_pred[-10:])"
      ]
    },
    {
      "cell_type": "code",
      "execution_count": null,
      "id": "afbaf07c-de27-40d9-aba0-07a82e3016ec",
      "metadata": {
        "id": "afbaf07c-de27-40d9-aba0-07a82e3016ec",
        "outputId": "14dbfad5-c47f-45be-fc4d-7587d9c094a8"
      },
      "outputs": [
        {
          "name": "stdout",
          "output_type": "stream",
          "text": [
            "Train accuracy score of the model is  0.90984 \n",
            "\n",
            "Test accuracy score of the model is  0.91083\n"
          ]
        }
      ],
      "source": [
        "# Calculating the train and test accuracy scores of the model\n",
        "train_score = accuracy_score(y_train, y_train_pred) # train accuracy\n",
        "test_score = accuracy_score(y_test, y_test_pred)    # test accuracy\n",
        "\n",
        "print('Train accuracy score of the model is ', round(train_score, 5),'\\n')\n",
        "print('Test accuracy score of the model is ', round(test_score, 5))"
      ]
    },
    {
      "cell_type": "code",
      "execution_count": null,
      "id": "b28e1b0f-65aa-474b-9f8d-a9c925369a77",
      "metadata": {
        "id": "b28e1b0f-65aa-474b-9f8d-a9c925369a77",
        "outputId": "3b1e79f7-9f2f-4d06-f641-4fca2645612d"
      },
      "outputs": [
        {
          "data": {
            "image/png": "[encoded data removed]",
            "text/plain": [
              "<Figure size 400x400 with 2 Axes>"
            ]
          },
          "metadata": {},
          "output_type": "display_data"
        },
        {
          "name": "stdout",
          "output_type": "stream",
          "text": [
            "Classification Report for the Train Subset: \n",
            "\n",
            "               precision    recall  f1-score   support\n",
            "\n",
            "           0       0.96      0.90      0.93       468\n",
            "           1       0.83      0.94      0.88       264\n",
            "\n",
            "    accuracy                           0.91       732\n",
            "   macro avg       0.90      0.92      0.90       732\n",
            "weighted avg       0.92      0.91      0.91       732\n",
            "\n"
          ]
        }
      ],
      "source": [
        "# Computing the confusion matrix for the train subset\n",
        "train_c_matrix = confusion_matrix(y_train, y_train_pred)  # Compute the train confusion matrix\n",
        "\n",
        "plt.figure(figsize=(4,4))\n",
        "sns.heatmap(train_c_matrix, annot=True, fmt=\".0f\", linewidths=.5, square = True, cmap = 'Pastel1');\n",
        "plt.ylabel('Actual label');\n",
        "plt.xlabel('Predicted label');\n",
        "all_sample_title = 'Train Accuracy: {0}'.format(round(train_score, 4))\n",
        "plt.title(all_sample_title, size = 15);\n",
        "plt.show()\n",
        "\n",
        "# Print the train classification report\n",
        "\n",
        "print('Classification Report for the Train Subset: \\n\\n', classification_report(y_train, y_train_pred))"
      ]
    },
    {
      "cell_type": "markdown",
      "id": "427c65b9-6ad2-4afd-9d6a-df50f1f328e0",
      "metadata": {
        "id": "427c65b9-6ad2-4afd-9d6a-df50f1f328e0"
      },
      "source": [
        "Above, in the last column, support is the number of samples of the true response that lie in that class. \n",
        "\n",
        "Note that our F1[p] is lower than F1[n], as expected."
      ]
    },
    {
      "cell_type": "code",
      "execution_count": null,
      "id": "35ea3100-c9dd-4560-9e8f-07da8354d0e4",
      "metadata": {
        "id": "35ea3100-c9dd-4560-9e8f-07da8354d0e4",
        "outputId": "635bbad0-715c-470b-ef4f-ec2091cecd15"
      },
      "outputs": [
        {
          "data": {
            "image/png": "[encoded data removed]",
            "text/plain": [
              "<Figure size 400x400 with 2 Axes>"
            ]
          },
          "metadata": {},
          "output_type": "display_data"
        },
        {
          "name": "stdout",
          "output_type": "stream",
          "text": [
            "Classification Report for the Test Subset: \n",
            "\n",
            "               precision    recall  f1-score   support\n",
            "\n",
            "           0       0.92      0.95      0.93       201\n",
            "           1       0.90      0.85      0.87       113\n",
            "\n",
            "    accuracy                           0.91       314\n",
            "   macro avg       0.91      0.90      0.90       314\n",
            "weighted avg       0.91      0.91      0.91       314\n",
            "\n"
          ]
        }
      ],
      "source": [
        "# Computing the confusion matrix for the test subset\n",
        "\n",
        "test_c_matrix = confusion_matrix(y_test, y_test_pred)  # Compute the test confusion matrix\n",
        "\n",
        "plt.figure(figsize=(4,4))\n",
        "sns.heatmap(test_c_matrix, annot=True, fmt=\".0f\", linewidths=.5, square = True, cmap = 'Pastel1');\n",
        "plt.ylabel('Actual label');\n",
        "plt.xlabel('Predicted label');\n",
        "all_sample_title = 'Test Accuracy: {0}'.format(round(test_score, 4))\n",
        "plt.title(all_sample_title, size = 15);\n",
        "plt.show()\n",
        "\n",
        "# Print the train classification report\n",
        "\n",
        "print('Classification Report for the Test Subset: \\n\\n', classification_report(y_test, y_test_pred))"
      ]
    },
    {
      "cell_type": "code",
      "execution_count": null,
      "id": "69cc74cb-5ff2-4c1d-9c84-fe220561cd62",
      "metadata": {
        "id": "69cc74cb-5ff2-4c1d-9c84-fe220561cd62",
        "outputId": "d1707519-434d-4381-95f9-7b7328d9479d"
      },
      "outputs": [
        {
          "data": {
            "image/png": "[encoded data removed]",
            "text/plain": [
              "<Figure size 800x600 with 1 Axes>"
            ]
          },
          "metadata": {},
          "output_type": "display_data"
        }
      ],
      "source": [
        "# Plotting the ROC curve for the test subset\n",
        "fpr, tpr, thresholds = roc_curve(y_test_pred, y_test)  # Computing ROC for the test subset\n",
        "auc(fpr, tpr)                                          # Computing AUC for the test subset \n",
        "\n",
        "plt.figure(figsize=(8, 6))\n",
        "plt.plot(fpr, tpr, color='red', label='Logistic Regression (AUC: %.2f)' % auc(fpr, tpr))\n",
        "plt.plot([0, 1], [0, 1], color='blue', linestyle='--')\n",
        "plt.xlim([-0.1, 1.1])\n",
        "plt.ylim([-0.1, 1.1])\n",
        "plt.title('ROC Curve for the Test Subset')\n",
        "plt.xlabel('False Positive Rate (FPR)')\n",
        "plt.ylabel('True Positive Rate (TPR)')\n",
        "plt.legend()\n",
        "plt.show()"
      ]
    },
    {
      "cell_type": "code",
      "execution_count": null,
      "id": "0518f1d7-966b-49c7-b773-677f84bd4fe3",
      "metadata": {
        "id": "0518f1d7-966b-49c7-b773-677f84bd4fe3"
      },
      "outputs": [],
      "source": []
    }
  ],
  "metadata": {
    "kernelspec": {
      "display_name": "Python 3 (ipykernel)",
      "language": "python",
      "name": "python3"
    },
    "language_info": {
      "codemirror_mode": {
        "name": "ipython",
        "version": 3
      },
      "file_extension": ".py",
      "mimetype": "text/x-python",
      "name": "python",
      "nbconvert_exporter": "python",
      "pygments_lexer": "ipython3",
      "version": "3.9.15"
    },
    "colab": {
      "provenance": [],
      "include_colab_link": true
    }
  },
  "nbformat": 4,
  "nbformat_minor": 5
}