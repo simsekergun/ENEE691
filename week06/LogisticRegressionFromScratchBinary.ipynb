{
  "cells": [
    {
      "cell_type": "markdown",
      "metadata": {
        "id": "view-in-github",
        "colab_type": "text"
      },
      "source": [
        "<a href=\"https://colab.research.google.com/github/simsekergun/ENEE691/blob/main/week06/LogisticRegressionFromScratchBinary.ipynb\" target=\"_parent\"><img src=\"https://colab.research.google.com/assets/colab-badge.svg\" alt=\"Open In Colab\"/></a>"
      ]
    },
    {
      "cell_type": "code",
      "execution_count": null,
      "id": "ac8910e5-3996-4c4a-ae5e-d72a89645089",
      "metadata": {
        "id": "ac8910e5-3996-4c4a-ae5e-d72a89645089"
      },
      "outputs": [],
      "source": [
        "# Import the functions/methods \n",
        "import matplotlib.pyplot as plt\n",
        "import numpy as np\n",
        "import pandas as pd\n",
        "import seaborn as sns\n",
        "from sklearn.linear_model import LogisticRegression\n",
        "from sklearn.model_selection import train_test_split\n",
        "from sklearn.metrics import roc_curve, auc   \n",
        "from sklearn.metrics import confusion_matrix, classification_report\n",
        "from sklearn.metrics import accuracy_score"
      ]
    },
    {
      "cell_type": "code",
      "execution_count": null,
      "id": "a2683a3f-6a57-493c-8afe-94c9319aeae5",
      "metadata": {
        "id": "a2683a3f-6a57-493c-8afe-94c9319aeae5",
        "outputId": "a6055d9f-fa0f-4963-84fb-ba7202d16f7a"
      },
      "outputs": [
        {
          "data": {
            "text/plain": [
              "(25551, 3)"
            ]
          },
          "execution_count": 2,
          "metadata": {},
          "output_type": "execute_result"
        }
      ],
      "source": [
        "ds = 'https://raw.githubusercontent.com/simsekergun/ENEE691/main/week06/binary_dataset.csv'\n",
        "df=pd.read_csv(ds,header=None)     # Reading the csv source file as a dataframe\n",
        "df.shape"
      ]
    },
    {
      "cell_type": "code",
      "execution_count": null,
      "id": "8b0a0bc0-6984-4ba7-b9cd-15695d9e8cac",
      "metadata": {
        "id": "8b0a0bc0-6984-4ba7-b9cd-15695d9e8cac",
        "outputId": "b20e1e56-844c-479b-b76d-407b701ecc48"
      },
      "outputs": [
        {
          "data": {
            "text/html": [
              "<div>\n",
              "<style scoped>\n",
              "    .dataframe tbody tr th:only-of-type {\n",
              "        vertical-align: middle;\n",
              "    }\n",
              "\n",
              "    .dataframe tbody tr th {\n",
              "        vertical-align: top;\n",
              "    }\n",
              "\n",
              "    .dataframe thead th {\n",
              "        text-align: right;\n",
              "    }\n",
              "</style>\n",
              "<table border=\"1\" class=\"dataframe\">\n",
              "  <thead>\n",
              "    <tr style=\"text-align: right;\">\n",
              "      <th></th>\n",
              "      <th>0</th>\n",
              "      <th>1</th>\n",
              "      <th>2</th>\n",
              "    </tr>\n",
              "  </thead>\n",
              "  <tbody>\n",
              "    <tr>\n",
              "      <th>10689</th>\n",
              "      <td>69</td>\n",
              "      <td>43</td>\n",
              "      <td>0</td>\n",
              "    </tr>\n",
              "    <tr>\n",
              "      <th>856</th>\n",
              "      <td>53</td>\n",
              "      <td>38</td>\n",
              "      <td>0</td>\n",
              "    </tr>\n",
              "    <tr>\n",
              "      <th>13741</th>\n",
              "      <td>83</td>\n",
              "      <td>55</td>\n",
              "      <td>0</td>\n",
              "    </tr>\n",
              "    <tr>\n",
              "      <th>1120</th>\n",
              "      <td>53</td>\n",
              "      <td>42</td>\n",
              "      <td>1</td>\n",
              "    </tr>\n",
              "    <tr>\n",
              "      <th>17176</th>\n",
              "      <td>53</td>\n",
              "      <td>44</td>\n",
              "      <td>1</td>\n",
              "    </tr>\n",
              "  </tbody>\n",
              "</table>\n",
              "</div>"
            ],
            "text/plain": [
              "        0   1  2\n",
              "10689  69  43  0\n",
              "856    53  38  0\n",
              "13741  83  55  0\n",
              "1120   53  42  1\n",
              "17176  53  44  1"
            ]
          },
          "execution_count": 3,
          "metadata": {},
          "output_type": "execute_result"
        }
      ],
      "source": [
        "df.sample(5)     # A sample of 5 random rows of 'df'"
      ]
    },
    {
      "cell_type": "code",
      "execution_count": null,
      "id": "0fbaa37b-8065-4ab6-9d84-c0f5b6360dd9",
      "metadata": {
        "id": "0fbaa37b-8065-4ab6-9d84-c0f5b6360dd9"
      },
      "outputs": [],
      "source": [
        "X = df.iloc[:,[0,1]].to_numpy()\n",
        "y = df.iloc[:,2].to_numpy()"
      ]
    },
    {
      "cell_type": "code",
      "execution_count": null,
      "id": "2804295f-29d5-478a-a6b2-f8fbf5b4b766",
      "metadata": {
        "id": "2804295f-29d5-478a-a6b2-f8fbf5b4b766",
        "outputId": "c32ed102-d409-41b5-b944-809dd846c6b0"
      },
      "outputs": [
        {
          "data": {
            "text/plain": [
              "((25551, 2), (25551,))"
            ]
          },
          "execution_count": 5,
          "metadata": {},
          "output_type": "execute_result"
        }
      ],
      "source": [
        "X.shape, y.shape"
      ]
    },
    {
      "cell_type": "code",
      "execution_count": null,
      "id": "48f936f0-64af-4dd8-8ae5-13afea6fa148",
      "metadata": {
        "id": "48f936f0-64af-4dd8-8ae5-13afea6fa148"
      },
      "outputs": [],
      "source": [
        "# Dividing the features and the target variable into the train and test subsets \n",
        "X_train, X_test, y_train, y_test = train_test_split(X, y, test_size=0.3, random_state=14, stratify=y)"
      ]
    },
    {
      "cell_type": "code",
      "execution_count": null,
      "id": "acb577b1-4d3c-45da-b71f-77140ada633e",
      "metadata": {
        "id": "acb577b1-4d3c-45da-b71f-77140ada633e"
      },
      "outputs": [],
      "source": [
        "def sigmoid(z):\n",
        "    return 1.0/(1 + np.exp(-z))"
      ]
    },
    {
      "cell_type": "code",
      "execution_count": null,
      "id": "14d58189-7064-4321-9e44-b3fee814c27b",
      "metadata": {
        "id": "14d58189-7064-4321-9e44-b3fee814c27b"
      },
      "outputs": [],
      "source": [
        "def loss(y, y_hat):\n",
        "    loss = -np.mean(y*(np.log(y_hat)) - (1-y)*np.log(1-y_hat))\n",
        "    return loss"
      ]
    },
    {
      "cell_type": "code",
      "execution_count": null,
      "id": "9e7cc85b-f473-4ff7-9dec-48617e8c925f",
      "metadata": {
        "id": "9e7cc85b-f473-4ff7-9dec-48617e8c925f"
      },
      "outputs": [],
      "source": [
        "def gradients(X, y, y_hat):    \n",
        "    # X --> Input.\n",
        "    # y --> true/target value.\n",
        "    # y_hat --> hypothesis/predictions.\n",
        "    # w --> weights (parameter).\n",
        "    # b --> bias (parameter).\n",
        "    \n",
        "    # m-> number of training examples.\n",
        "    m = X.shape[0]\n",
        "    \n",
        "    # Gradient of loss w.r.t weights.\n",
        "    dw = (1/m)*np.dot(X.T, (y_hat - y))\n",
        "    \n",
        "    # Gradient of loss w.r.t bias.\n",
        "    db = (1/m)*np.sum((y_hat - y)) \n",
        "    \n",
        "    return dw, db"
      ]
    },
    {
      "cell_type": "code",
      "execution_count": null,
      "id": "a462b044-a216-4d51-88f5-e2b921565752",
      "metadata": {
        "id": "a462b044-a216-4d51-88f5-e2b921565752"
      },
      "outputs": [],
      "source": [
        "def normalize(X):\n",
        "    \n",
        "    # X --> Input.\n",
        "    \n",
        "    # m-> number of training examples\n",
        "    # n-> number of features \n",
        "    m, n = X.shape\n",
        "    \n",
        "    # Normalizing all the n features of X.\n",
        "    for i in range(n):\n",
        "        X = (X - X.mean(axis=0))/X.std(axis=0)\n",
        "        \n",
        "    return X"
      ]
    },
    {
      "cell_type": "code",
      "execution_count": null,
      "id": "5f403aee-7b8e-4f82-8b13-555094916e4e",
      "metadata": {
        "id": "5f403aee-7b8e-4f82-8b13-555094916e4e"
      },
      "outputs": [],
      "source": [
        "def train(X, y, bs, epochs, lr):\n",
        "    # X --> Input.\n",
        "    # y --> true/target value.\n",
        "    # bs --> Batch Size.\n",
        "    # epochs --> Number of iterations.\n",
        "    # lr --> Learning rate.\n",
        "        \n",
        "    # m-> number of training examples\n",
        "    # n-> number of features \n",
        "    m, n = X.shape\n",
        "    \n",
        "    # Initializing weights and bias to zeros.\n",
        "    w = np.zeros((n,1))\n",
        "    b = 0\n",
        "    \n",
        "    # Reshaping y.\n",
        "    y = y.reshape(m,1)\n",
        "    \n",
        "    # Normalizing the inputs.\n",
        "    x = normalize(X)\n",
        "    \n",
        "    # Empty list to store losses.\n",
        "    losses = []\n",
        "    \n",
        "    # Training loop.\n",
        "    for epoch in range(epochs):\n",
        "        for i in range((m-1)//bs + 1):\n",
        "            \n",
        "            # Defining batches. SGD.\n",
        "            start_i = i*bs\n",
        "            end_i = start_i + bs\n",
        "            xb = X[start_i:end_i]\n",
        "            yb = y[start_i:end_i]\n",
        "            \n",
        "            # Calculating hypothesis/prediction.\n",
        "            y_hat = sigmoid(np.dot(xb, w) + b)\n",
        "            \n",
        "            # Getting the gradients of loss w.r.t parameters.\n",
        "            dw, db = gradients(xb, yb, y_hat)\n",
        "            \n",
        "            # Updating the parameters.\n",
        "            w -= lr*dw\n",
        "            b -= lr*db\n",
        "        \n",
        "        # Calculating loss and appending it in the list.\n",
        "        l = loss(y, sigmoid(np.dot(X, w) + b))\n",
        "        losses.append(l)\n",
        "        \n",
        "    # returning weights, bias and losses(List).\n",
        "    return w, b, losses"
      ]
    },
    {
      "cell_type": "code",
      "execution_count": null,
      "id": "379cc9cf-b8d6-4d7b-a179-7363b13369e6",
      "metadata": {
        "id": "379cc9cf-b8d6-4d7b-a179-7363b13369e6"
      },
      "outputs": [],
      "source": [
        "def predict_proba(X):    \n",
        "    # Normalizing the inputs.\n",
        "    x = normalize(X)\n",
        "    \n",
        "    # Calculating presictions/y_hat.\n",
        "    preds = sigmoid(np.dot(X, w) + b)\n",
        "    \n",
        "    return np.array(preds)"
      ]
    },
    {
      "cell_type": "code",
      "execution_count": null,
      "id": "2cd0c1c7-71fb-44e9-adef-bb41a601c1d3",
      "metadata": {
        "id": "2cd0c1c7-71fb-44e9-adef-bb41a601c1d3"
      },
      "outputs": [],
      "source": [
        "def predict(X, threshold=0.5):\n",
        "    \n",
        "    # X --> Input.\n",
        "    \n",
        "    # Normalizing the inputs.\n",
        "    x = normalize(X)\n",
        "    \n",
        "    # Calculating presictions/y_hat.\n",
        "    preds = sigmoid(np.dot(X, w) + b)\n",
        "    \n",
        "    # Empty List to store predictions.\n",
        "    pred_class = []\n",
        "    # if y_hat >= threshold --> round up to 1\n",
        "    # if y_hat < threshold --> round up to 1\n",
        "    pred_class = [1 if i > threshold else 0 for i in preds]\n",
        "    \n",
        "    return np.array(pred_class)"
      ]
    },
    {
      "cell_type": "code",
      "execution_count": null,
      "id": "266e6d79-fb40-46d8-8a3f-6f22a998fb4e",
      "metadata": {
        "id": "266e6d79-fb40-46d8-8a3f-6f22a998fb4e",
        "outputId": "2547b4c0-438e-440d-8fd1-9aabf909ae98"
      },
      "outputs": [
        {
          "name": "stderr",
          "output_type": "stream",
          "text": [
            "/var/folders/8v/47292w0n755f9bzvcfz0hb700000gp/T/ipykernel_99804/4240560205.py:2: RuntimeWarning: divide by zero encountered in log\n",
            "  loss = -np.mean(y*(np.log(y_hat)) - (1-y)*np.log(1-y_hat))\n",
            "/var/folders/8v/47292w0n755f9bzvcfz0hb700000gp/T/ipykernel_99804/4240560205.py:2: RuntimeWarning: invalid value encountered in multiply\n",
            "  loss = -np.mean(y*(np.log(y_hat)) - (1-y)*np.log(1-y_hat))\n"
          ]
        }
      ],
      "source": [
        "# Training \n",
        "w, b, l = train(X_train, y_train, bs=100, epochs=10000, lr=0.01)"
      ]
    },
    {
      "cell_type": "code",
      "execution_count": null,
      "id": "6312f913-fcd8-4d10-8422-dceb453f3c38",
      "metadata": {
        "id": "6312f913-fcd8-4d10-8422-dceb453f3c38"
      },
      "outputs": [],
      "source": [
        "def accuracy(y, y_hat):\n",
        "    accuracy = np.sum(y == y_hat) / len(y)\n",
        "    return accuracy"
      ]
    },
    {
      "cell_type": "code",
      "execution_count": null,
      "id": "f15638c2-bc11-4622-a9cd-c0edef50fae8",
      "metadata": {
        "id": "f15638c2-bc11-4622-a9cd-c0edef50fae8"
      },
      "outputs": [],
      "source": [
        "def get_metrics(y, y_hat):\n",
        "    cm1 = confusion_matrix(y, y_hat)\n",
        "    total1=sum(sum(cm1))\n",
        "    Accuracy = (cm1[0,0]+cm1[1,1])/total1\n",
        "    Specificity = cm1[0,0]/(cm1[0,0]+cm1[0,1])\n",
        "    Sensitivity = cm1[1,1]/(cm1[1,0]+cm1[1,1])\n",
        "    return Accuracy, Sensitivity, Specificity"
      ]
    },
    {
      "cell_type": "code",
      "execution_count": null,
      "id": "59d4eb5c-c331-4ee9-ab25-9bc00769d41f",
      "metadata": {
        "id": "59d4eb5c-c331-4ee9-ab25-9bc00769d41f"
      },
      "outputs": [],
      "source": [
        "y_hat=predict(X_train, threshold=0.5)"
      ]
    },
    {
      "cell_type": "code",
      "execution_count": null,
      "id": "45d199d4-e8f3-4839-9f09-d30ccc42f40a",
      "metadata": {
        "id": "45d199d4-e8f3-4839-9f09-d30ccc42f40a",
        "outputId": "26775b90-4072-4d5a-8e76-1dbd851f6b09"
      },
      "outputs": [
        {
          "data": {
            "text/plain": [
              "(0.72552418227565, 0.5216251638269986, 0.8772306192101414)"
            ]
          },
          "execution_count": 18,
          "metadata": {},
          "output_type": "execute_result"
        }
      ],
      "source": [
        "# check whether get_metrics works or not\n",
        "get_metrics(y_train, y_hat)"
      ]
    },
    {
      "cell_type": "code",
      "execution_count": null,
      "id": "f78af3af-e704-49a6-94ec-5d97a052e6ff",
      "metadata": {
        "id": "f78af3af-e704-49a6-94ec-5d97a052e6ff",
        "outputId": "1c3bf8a9-3bb1-45dd-c34d-763ad372ce00"
      },
      "outputs": [
        {
          "data": {
            "text/plain": [
              "(0.7204539525176102, 0.499388379204893, 0.8848953594176524)"
            ]
          },
          "execution_count": 28,
          "metadata": {},
          "output_type": "execute_result"
        }
      ],
      "source": [
        "# check whether get_metrics works or not with a different threshold\n",
        "y_hat=predict(X_test, threshold=0.6)\n",
        "get_metrics(y_test, y_hat)"
      ]
    },
    {
      "cell_type": "code",
      "execution_count": null,
      "id": "a8a488d4-a43e-46a2-9e89-e917164b056a",
      "metadata": {
        "id": "a8a488d4-a43e-46a2-9e89-e917164b056a"
      },
      "outputs": [],
      "source": [
        "# let's define a function to plot the ROC\n",
        "def true_false_positive(y_hat, y_test):\n",
        "    true_positive = np.equal(y_hat, 1) & np.equal(y_test, 1)\n",
        "    true_negative = np.equal(y_hat, 0) & np.equal(y_test, 0)\n",
        "    false_positive = np.equal(y_hat, 1) & np.equal(y_test, 0)\n",
        "    false_negative = np.equal(y_hat, 0) & np.equal(y_test, 1)\n",
        "\n",
        "    tpr = true_positive.sum() / (true_positive.sum() + false_negative.sum())\n",
        "    fpr = false_positive.sum() / (false_positive.sum() + true_negative.sum())\n",
        "\n",
        "    return tpr, fpr"
      ]
    },
    {
      "cell_type": "code",
      "execution_count": null,
      "id": "f5ed00e3-0f4f-427c-a7e6-789387ca2d07",
      "metadata": {
        "id": "f5ed00e3-0f4f-427c-a7e6-789387ca2d07",
        "outputId": "1245868c-5444-47c2-fc73-4729754ba161"
      },
      "outputs": [
        {
          "data": {
            "text/plain": [
              "Text(0, 0.5, 'FPR')"
            ]
          },
          "execution_count": 32,
          "metadata": {},
          "output_type": "execute_result"
        },
        {
          "data": {
            "image/png": "[encoded data removed]",
            "text/plain": [
              "<Figure size 640x480 with 1 Axes>"
            ]
          },
          "metadata": {},
          "output_type": "display_data"
        }
      ],
      "source": [
        "nn = 9;\n",
        "aa = np.zeros(nn)\n",
        "bb = np.zeros(nn)\n",
        "for k in range(nn):\n",
        "    y_hat=predict(X_test, threshold=(k+0.5)*0.1)\n",
        "    aa[k], bb[k] = true_false_positive(y_hat, y_test)\n",
        "plt.scatter(bb,aa)\n",
        "plt.plot([0, 1],[0, 1])\n",
        "plt.xlabel('FNR')\n",
        "plt.ylabel('FPR')"
      ]
    },
    {
      "cell_type": "code",
      "execution_count": null,
      "id": "a3ca3283-3304-43b8-8570-4cc21b31891e",
      "metadata": {
        "id": "a3ca3283-3304-43b8-8570-4cc21b31891e",
        "outputId": "2d3686cd-78d4-4b88-ee8a-ac96ed0f5a37"
      },
      "outputs": [
        {
          "data": {
            "text/plain": [
              "Text(0, 0.5, 'Feauture-2')"
            ]
          },
          "execution_count": 33,
          "metadata": {},
          "output_type": "execute_result"
        },
        {
          "data": {
            "image/png": "[encoded data removed]",
            "text/plain": [
              "<Figure size 640x480 with 1 Axes>"
            ]
          },
          "metadata": {},
          "output_type": "display_data"
        }
      ],
      "source": [
        "true_positive = np.equal(y_hat, 1) & np.equal(y_test, 1)\n",
        "true_negative = np.equal(y_hat, 0) & np.equal(y_test, 0)\n",
        "false_positive = np.equal(y_hat, 1) & np.equal(y_test, 0)\n",
        "false_negative = np.equal(y_hat, 0) & np.equal(y_test, 1)\n",
        "\n",
        "plt.scatter(X_test[true_positive,0],X_test[true_positive,1],color='r',label='TP')\n",
        "plt.scatter(X_test[true_negative,0],X_test[true_negative,1],color='b',label='TN')\n",
        "plt.scatter(X_test[false_positive,0],X_test[false_positive,1],color='y', alpha=0.5,label='FP')\n",
        "plt.scatter(X_test[false_negative,0],X_test[false_negative,1],color='g', alpha=0/.5,label='FN')\n",
        "plt.legend()\n",
        "plt.xlabel('Feauture-1')\n",
        "plt.ylabel('Feauture-2')"
      ]
    },
    {
      "cell_type": "code",
      "execution_count": null,
      "id": "82494f0f-f0de-4da9-9912-815860a43a57",
      "metadata": {
        "id": "82494f0f-f0de-4da9-9912-815860a43a57"
      },
      "outputs": [],
      "source": []
    }
  ],
  "metadata": {
    "kernelspec": {
      "display_name": "Python 3 (ipykernel)",
      "language": "python",
      "name": "python3"
    },
    "language_info": {
      "codemirror_mode": {
        "name": "ipython",
        "version": 3
      },
      "file_extension": ".py",
      "mimetype": "text/x-python",
      "name": "python",
      "nbconvert_exporter": "python",
      "pygments_lexer": "ipython3",
      "version": "3.9.15"
    },
    "colab": {
      "provenance": [],
      "include_colab_link": true
    }
  },
  "nbformat": 4,
  "nbformat_minor": 5
}